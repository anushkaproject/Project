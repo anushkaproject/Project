{
  "nbformat": 4,
  "nbformat_minor": 0,
  "metadata": {
    "kernelspec": {
      "display_name": "Python 3",
      "language": "python",
      "name": "python3"
    },
    "language_info": {
      "codemirror_mode": {
        "name": "ipython",
        "version": 3
      },
      "file_extension": ".py",
      "mimetype": "text/x-python",
      "name": "python",
      "nbconvert_exporter": "python",
      "pygments_lexer": "ipython3",
      "version": "3.7.4"
    },
    "colab": {
      "name": "caravan-insurance.ipynb",
      "provenance": [],
      "collapsed_sections": []
    }
  },
  "cells": [
    {
      "cell_type": "code",
      "metadata": {
        "id": "CHJskX00V0RR"
      },
      "source": [
        "import pandas as pd\n",
        "import matplotlib.pyplot as plt\n",
        "import seaborn as sns\n",
        "import numpy as np\n",
        "import lightgbm as lgb\n",
        "import optuna\n",
        "from optuna.visualization import plot_contour\n",
        "from optuna.visualization import plot_edf\n",
        "from optuna.visualization import plot_intermediate_values\n",
        "from optuna.visualization import plot_optimization_history\n",
        "from optuna.visualization import plot_parallel_coordinate\n",
        "from optuna.visualization import plot_param_importances\n",
        "from optuna.visualization import plot_slice\n",
        "import sklearn.metrics\n",
        "\n",
        "SEED = 42\n",
        "\n",
        "np.random.seed(SEED)\n"
      ],
      "execution_count": null,
      "outputs": []
    },
    {
      "cell_type": "code",
      "metadata": {
        "colab": {
          "base_uri": "https://localhost:8080/"
        },
        "id": "MKX-BIZyphOg",
        "outputId": "ac5be36e-5f2c-4a20-e208-adf74baee845"
      },
      "source": [
        "!pip install optuna"
      ],
      "execution_count": null,
      "outputs": [
        {
          "output_type": "stream",
          "text": [
            "Collecting optuna\n",
            "  Downloading optuna-2.9.1-py3-none-any.whl (302 kB)\n",
            "\u001b[K     |████████████████████████████████| 302 kB 8.2 MB/s \n",
            "\u001b[?25hCollecting alembic\n",
            "  Downloading alembic-1.6.5-py2.py3-none-any.whl (164 kB)\n",
            "\u001b[K     |████████████████████████████████| 164 kB 71.6 MB/s \n",
            "\u001b[?25hCollecting colorlog\n",
            "  Downloading colorlog-5.0.1-py2.py3-none-any.whl (10 kB)\n",
            "Collecting cliff\n",
            "  Downloading cliff-3.8.0-py3-none-any.whl (80 kB)\n",
            "\u001b[K     |████████████████████████████████| 80 kB 10.4 MB/s \n",
            "\u001b[?25hCollecting cmaes>=0.8.2\n",
            "  Downloading cmaes-0.8.2-py3-none-any.whl (15 kB)\n",
            "Requirement already satisfied: sqlalchemy>=1.1.0 in /usr/local/lib/python3.7/dist-packages (from optuna) (1.4.20)\n",
            "Requirement already satisfied: scipy!=1.4.0 in /usr/local/lib/python3.7/dist-packages (from optuna) (1.4.1)\n",
            "Requirement already satisfied: packaging>=20.0 in /usr/local/lib/python3.7/dist-packages (from optuna) (21.0)\n",
            "Requirement already satisfied: PyYAML in /usr/local/lib/python3.7/dist-packages (from optuna) (3.13)\n",
            "Requirement already satisfied: numpy in /usr/local/lib/python3.7/dist-packages (from optuna) (1.19.5)\n",
            "Requirement already satisfied: tqdm in /usr/local/lib/python3.7/dist-packages (from optuna) (4.41.1)\n",
            "Requirement already satisfied: pyparsing>=2.0.2 in /usr/local/lib/python3.7/dist-packages (from packaging>=20.0->optuna) (2.4.7)\n",
            "Requirement already satisfied: greenlet!=0.4.17 in /usr/local/lib/python3.7/dist-packages (from sqlalchemy>=1.1.0->optuna) (1.1.0)\n",
            "Requirement already satisfied: importlib-metadata in /usr/local/lib/python3.7/dist-packages (from sqlalchemy>=1.1.0->optuna) (4.6.1)\n",
            "Requirement already satisfied: python-dateutil in /usr/local/lib/python3.7/dist-packages (from alembic->optuna) (2.8.1)\n",
            "Collecting python-editor>=0.3\n",
            "  Downloading python_editor-1.0.4-py3-none-any.whl (4.9 kB)\n",
            "Collecting Mako\n",
            "  Downloading Mako-1.1.4-py2.py3-none-any.whl (75 kB)\n",
            "\u001b[K     |████████████████████████████████| 75 kB 5.1 MB/s \n",
            "\u001b[?25hRequirement already satisfied: PrettyTable>=0.7.2 in /usr/local/lib/python3.7/dist-packages (from cliff->optuna) (2.1.0)\n",
            "Collecting cmd2>=1.0.0\n",
            "  Downloading cmd2-2.1.2-py3-none-any.whl (141 kB)\n",
            "\u001b[K     |████████████████████████████████| 141 kB 72.0 MB/s \n",
            "\u001b[?25hCollecting stevedore>=2.0.1\n",
            "  Downloading stevedore-3.3.0-py3-none-any.whl (49 kB)\n",
            "\u001b[K     |████████████████████████████████| 49 kB 6.8 MB/s \n",
            "\u001b[?25hCollecting pbr!=2.1.0,>=2.0.0\n",
            "  Downloading pbr-5.6.0-py2.py3-none-any.whl (111 kB)\n",
            "\u001b[K     |████████████████████████████████| 111 kB 78.1 MB/s \n",
            "\u001b[?25hRequirement already satisfied: wcwidth>=0.1.7 in /usr/local/lib/python3.7/dist-packages (from cmd2>=1.0.0->cliff->optuna) (0.2.5)\n",
            "Collecting colorama>=0.3.7\n",
            "  Downloading colorama-0.4.4-py2.py3-none-any.whl (16 kB)\n",
            "Collecting pyperclip>=1.6\n",
            "  Downloading pyperclip-1.8.2.tar.gz (20 kB)\n",
            "Requirement already satisfied: attrs>=16.3.0 in /usr/local/lib/python3.7/dist-packages (from cmd2>=1.0.0->cliff->optuna) (21.2.0)\n",
            "Requirement already satisfied: typing-extensions in /usr/local/lib/python3.7/dist-packages (from cmd2>=1.0.0->cliff->optuna) (3.7.4.3)\n",
            "Requirement already satisfied: zipp>=0.5 in /usr/local/lib/python3.7/dist-packages (from importlib-metadata->sqlalchemy>=1.1.0->optuna) (3.5.0)\n",
            "Requirement already satisfied: MarkupSafe>=0.9.2 in /usr/local/lib/python3.7/dist-packages (from Mako->alembic->optuna) (2.0.1)\n",
            "Requirement already satisfied: six>=1.5 in /usr/local/lib/python3.7/dist-packages (from python-dateutil->alembic->optuna) (1.15.0)\n",
            "Building wheels for collected packages: pyperclip\n",
            "  Building wheel for pyperclip (setup.py) ... \u001b[?25l\u001b[?25hdone\n",
            "  Created wheel for pyperclip: filename=pyperclip-1.8.2-py3-none-any.whl size=11137 sha256=82dec8a23bc7395669fc4705d85da541033d285c97950f3fe9b4656d9dda3bdf\n",
            "  Stored in directory: /root/.cache/pip/wheels/9f/18/84/8f69f8b08169c7bae2dde6bd7daf0c19fca8c8e500ee620a28\n",
            "Successfully built pyperclip\n",
            "Installing collected packages: pyperclip, pbr, colorama, stevedore, python-editor, Mako, cmd2, colorlog, cmaes, cliff, alembic, optuna\n",
            "Successfully installed Mako-1.1.4 alembic-1.6.5 cliff-3.8.0 cmaes-0.8.2 cmd2-2.1.2 colorama-0.4.4 colorlog-5.0.1 optuna-2.9.1 pbr-5.6.0 pyperclip-1.8.2 python-editor-1.0.4 stevedore-3.3.0\n"
          ],
          "name": "stdout"
        }
      ]
    },
    {
      "cell_type": "code",
      "metadata": {
        "colab": {
          "base_uri": "https://localhost:8080/"
        },
        "id": "_I4IlmZ3pK2Q",
        "outputId": "35e76247-94b5-48c5-baf5-45eaece4a4d7"
      },
      "source": [
        "!pip install geopandas\n"
      ],
      "execution_count": null,
      "outputs": [
        {
          "output_type": "stream",
          "text": [
            "Collecting geopandas\n",
            "  Downloading geopandas-0.9.0-py2.py3-none-any.whl (994 kB)\n",
            "\u001b[K     |████████████████████████████████| 994 kB 7.1 MB/s \n",
            "\u001b[?25hCollecting pyproj>=2.2.0\n",
            "  Downloading pyproj-3.1.0-cp37-cp37m-manylinux2010_x86_64.whl (6.6 MB)\n",
            "\u001b[K     |████████████████████████████████| 6.6 MB 71.6 MB/s \n",
            "\u001b[?25hRequirement already satisfied: pandas>=0.24.0 in /usr/local/lib/python3.7/dist-packages (from geopandas) (1.1.5)\n",
            "Collecting fiona>=1.8\n",
            "  Downloading Fiona-1.8.20-cp37-cp37m-manylinux1_x86_64.whl (15.4 MB)\n",
            "\u001b[K     |████████████████████████████████| 15.4 MB 37 kB/s \n",
            "\u001b[?25hRequirement already satisfied: shapely>=1.6 in /usr/local/lib/python3.7/dist-packages (from geopandas) (1.7.1)\n",
            "Requirement already satisfied: setuptools in /usr/local/lib/python3.7/dist-packages (from fiona>=1.8->geopandas) (57.2.0)\n",
            "Requirement already satisfied: click>=4.0 in /usr/local/lib/python3.7/dist-packages (from fiona>=1.8->geopandas) (7.1.2)\n",
            "Requirement already satisfied: six>=1.7 in /usr/local/lib/python3.7/dist-packages (from fiona>=1.8->geopandas) (1.15.0)\n",
            "Requirement already satisfied: attrs>=17 in /usr/local/lib/python3.7/dist-packages (from fiona>=1.8->geopandas) (21.2.0)\n",
            "Collecting munch\n",
            "  Downloading munch-2.5.0-py2.py3-none-any.whl (10 kB)\n",
            "Requirement already satisfied: certifi in /usr/local/lib/python3.7/dist-packages (from fiona>=1.8->geopandas) (2021.5.30)\n",
            "Collecting click-plugins>=1.0\n",
            "  Downloading click_plugins-1.1.1-py2.py3-none-any.whl (7.5 kB)\n",
            "Collecting cligj>=0.5\n",
            "  Downloading cligj-0.7.2-py3-none-any.whl (7.1 kB)\n",
            "Requirement already satisfied: python-dateutil>=2.7.3 in /usr/local/lib/python3.7/dist-packages (from pandas>=0.24.0->geopandas) (2.8.1)\n",
            "Requirement already satisfied: pytz>=2017.2 in /usr/local/lib/python3.7/dist-packages (from pandas>=0.24.0->geopandas) (2018.9)\n",
            "Requirement already satisfied: numpy>=1.15.4 in /usr/local/lib/python3.7/dist-packages (from pandas>=0.24.0->geopandas) (1.19.5)\n",
            "Installing collected packages: munch, cligj, click-plugins, pyproj, fiona, geopandas\n",
            "Successfully installed click-plugins-1.1.1 cligj-0.7.2 fiona-1.8.20 geopandas-0.9.0 munch-2.5.0 pyproj-3.1.0\n"
          ],
          "name": "stdout"
        }
      ]
    },
    {
      "cell_type": "code",
      "metadata": {
        "colab": {
          "base_uri": "https://localhost:8080/"
        },
        "id": "tTHr0ilipz6o",
        "outputId": "b7a4c59e-d60a-41bb-b5ec-eb407d9f3261"
      },
      "source": [
        "from google.colab import drive\n",
        "drive.mount('/content/drive')"
      ],
      "execution_count": null,
      "outputs": [
        {
          "output_type": "stream",
          "text": [
            "Mounted at /content/drive\n"
          ],
          "name": "stdout"
        }
      ]
    },
    {
      "cell_type": "code",
      "metadata": {
        "id": "yuGVfbYUV0RZ"
      },
      "source": [
        "df=pd.read_csv(\"/content/drive/MyDrive/Colab Notebooks/DNLP Class/caravan-insurance-challenge.csv\")\n",
        "    \n",
        "train=df[:5822]\n",
        "test=df[5822:]\n",
        "    \n",
        "train_x=train.drop(columns=['ORIGIN','CARAVAN'],axis=1)\n",
        "train_y=train['CARAVAN']\n",
        "test_x=test.drop(columns=['ORIGIN','CARAVAN'],axis=1)\n",
        "test_y=test['CARAVAN']\n"
      ],
      "execution_count": null,
      "outputs": []
    },
    {
      "cell_type": "code",
      "metadata": {
        "id": "9lM8OwaRV0Rb"
      },
      "source": [
        "fit_params={\"early_stopping_rounds\":10, \n",
        "            \"eval_metric\" : 'auc', \n",
        "            \"eval_set\" : [(test_x,test_y)],\n",
        "            'eval_names': ['valid'],\n",
        "            'verbose': 100,\n",
        "            'feature_name': 'auto', \n",
        "            'categorical_feature': 'auto' \n",
        "           }"
      ],
      "execution_count": null,
      "outputs": []
    },
    {
      "cell_type": "code",
      "metadata": {
        "colab": {
          "base_uri": "https://localhost:8080/",
          "height": 437
        },
        "id": "G0qtDyIgqotg",
        "outputId": "f0174ff8-3469-4705-a071-30ee1a06cfce"
      },
      "source": [
        "df"
      ],
      "execution_count": null,
      "outputs": [
        {
          "output_type": "execute_result",
          "data": {
            "text/html": [
              "<div>\n",
              "<style scoped>\n",
              "    .dataframe tbody tr th:only-of-type {\n",
              "        vertical-align: middle;\n",
              "    }\n",
              "\n",
              "    .dataframe tbody tr th {\n",
              "        vertical-align: top;\n",
              "    }\n",
              "\n",
              "    .dataframe thead th {\n",
              "        text-align: right;\n",
              "    }\n",
              "</style>\n",
              "<table border=\"1\" class=\"dataframe\">\n",
              "  <thead>\n",
              "    <tr style=\"text-align: right;\">\n",
              "      <th></th>\n",
              "      <th>ORIGIN</th>\n",
              "      <th>MOSTYPE</th>\n",
              "      <th>MAANTHUI</th>\n",
              "      <th>MGEMOMV</th>\n",
              "      <th>MGEMLEEF</th>\n",
              "      <th>MOSHOOFD</th>\n",
              "      <th>MGODRK</th>\n",
              "      <th>MGODPR</th>\n",
              "      <th>MGODOV</th>\n",
              "      <th>MGODGE</th>\n",
              "      <th>MRELGE</th>\n",
              "      <th>MRELSA</th>\n",
              "      <th>MRELOV</th>\n",
              "      <th>MFALLEEN</th>\n",
              "      <th>MFGEKIND</th>\n",
              "      <th>MFWEKIND</th>\n",
              "      <th>MOPLHOOG</th>\n",
              "      <th>MOPLMIDD</th>\n",
              "      <th>MOPLLAAG</th>\n",
              "      <th>MBERHOOG</th>\n",
              "      <th>MBERZELF</th>\n",
              "      <th>MBERBOER</th>\n",
              "      <th>MBERMIDD</th>\n",
              "      <th>MBERARBG</th>\n",
              "      <th>MBERARBO</th>\n",
              "      <th>MSKA</th>\n",
              "      <th>MSKB1</th>\n",
              "      <th>MSKB2</th>\n",
              "      <th>MSKC</th>\n",
              "      <th>MSKD</th>\n",
              "      <th>MHHUUR</th>\n",
              "      <th>MHKOOP</th>\n",
              "      <th>MAUT1</th>\n",
              "      <th>MAUT2</th>\n",
              "      <th>MAUT0</th>\n",
              "      <th>MZFONDS</th>\n",
              "      <th>MZPART</th>\n",
              "      <th>MINKM30</th>\n",
              "      <th>MINK3045</th>\n",
              "      <th>MINK4575</th>\n",
              "      <th>...</th>\n",
              "      <th>PPERSAUT</th>\n",
              "      <th>PBESAUT</th>\n",
              "      <th>PMOTSCO</th>\n",
              "      <th>PVRAAUT</th>\n",
              "      <th>PAANHANG</th>\n",
              "      <th>PTRACTOR</th>\n",
              "      <th>PWERKT</th>\n",
              "      <th>PBROM</th>\n",
              "      <th>PLEVEN</th>\n",
              "      <th>PPERSONG</th>\n",
              "      <th>PGEZONG</th>\n",
              "      <th>PWAOREG</th>\n",
              "      <th>PBRAND</th>\n",
              "      <th>PZEILPL</th>\n",
              "      <th>PPLEZIER</th>\n",
              "      <th>PFIETS</th>\n",
              "      <th>PINBOED</th>\n",
              "      <th>PBYSTAND</th>\n",
              "      <th>AWAPART</th>\n",
              "      <th>AWABEDR</th>\n",
              "      <th>AWALAND</th>\n",
              "      <th>APERSAUT</th>\n",
              "      <th>ABESAUT</th>\n",
              "      <th>AMOTSCO</th>\n",
              "      <th>AVRAAUT</th>\n",
              "      <th>AAANHANG</th>\n",
              "      <th>ATRACTOR</th>\n",
              "      <th>AWERKT</th>\n",
              "      <th>ABROM</th>\n",
              "      <th>ALEVEN</th>\n",
              "      <th>APERSONG</th>\n",
              "      <th>AGEZONG</th>\n",
              "      <th>AWAOREG</th>\n",
              "      <th>ABRAND</th>\n",
              "      <th>AZEILPL</th>\n",
              "      <th>APLEZIER</th>\n",
              "      <th>AFIETS</th>\n",
              "      <th>AINBOED</th>\n",
              "      <th>ABYSTAND</th>\n",
              "      <th>CARAVAN</th>\n",
              "    </tr>\n",
              "  </thead>\n",
              "  <tbody>\n",
              "    <tr>\n",
              "      <th>0</th>\n",
              "      <td>train</td>\n",
              "      <td>33</td>\n",
              "      <td>1</td>\n",
              "      <td>3</td>\n",
              "      <td>2</td>\n",
              "      <td>8</td>\n",
              "      <td>0</td>\n",
              "      <td>5</td>\n",
              "      <td>1</td>\n",
              "      <td>3</td>\n",
              "      <td>7</td>\n",
              "      <td>0</td>\n",
              "      <td>2</td>\n",
              "      <td>1</td>\n",
              "      <td>2</td>\n",
              "      <td>6</td>\n",
              "      <td>1</td>\n",
              "      <td>2</td>\n",
              "      <td>7</td>\n",
              "      <td>1</td>\n",
              "      <td>0</td>\n",
              "      <td>1</td>\n",
              "      <td>2</td>\n",
              "      <td>5</td>\n",
              "      <td>2</td>\n",
              "      <td>1</td>\n",
              "      <td>1</td>\n",
              "      <td>2</td>\n",
              "      <td>6</td>\n",
              "      <td>1</td>\n",
              "      <td>1</td>\n",
              "      <td>8</td>\n",
              "      <td>8</td>\n",
              "      <td>0</td>\n",
              "      <td>1</td>\n",
              "      <td>8</td>\n",
              "      <td>1</td>\n",
              "      <td>0</td>\n",
              "      <td>4</td>\n",
              "      <td>5</td>\n",
              "      <td>...</td>\n",
              "      <td>6</td>\n",
              "      <td>0</td>\n",
              "      <td>0</td>\n",
              "      <td>0</td>\n",
              "      <td>0</td>\n",
              "      <td>0</td>\n",
              "      <td>0</td>\n",
              "      <td>0</td>\n",
              "      <td>0</td>\n",
              "      <td>0</td>\n",
              "      <td>0</td>\n",
              "      <td>0</td>\n",
              "      <td>5</td>\n",
              "      <td>0</td>\n",
              "      <td>0</td>\n",
              "      <td>0</td>\n",
              "      <td>0</td>\n",
              "      <td>0</td>\n",
              "      <td>0</td>\n",
              "      <td>0</td>\n",
              "      <td>0</td>\n",
              "      <td>1</td>\n",
              "      <td>0</td>\n",
              "      <td>0</td>\n",
              "      <td>0</td>\n",
              "      <td>0</td>\n",
              "      <td>0</td>\n",
              "      <td>0</td>\n",
              "      <td>0</td>\n",
              "      <td>0</td>\n",
              "      <td>0</td>\n",
              "      <td>0</td>\n",
              "      <td>0</td>\n",
              "      <td>1</td>\n",
              "      <td>0</td>\n",
              "      <td>0</td>\n",
              "      <td>0</td>\n",
              "      <td>0</td>\n",
              "      <td>0</td>\n",
              "      <td>0</td>\n",
              "    </tr>\n",
              "    <tr>\n",
              "      <th>1</th>\n",
              "      <td>train</td>\n",
              "      <td>37</td>\n",
              "      <td>1</td>\n",
              "      <td>2</td>\n",
              "      <td>2</td>\n",
              "      <td>8</td>\n",
              "      <td>1</td>\n",
              "      <td>4</td>\n",
              "      <td>1</td>\n",
              "      <td>4</td>\n",
              "      <td>6</td>\n",
              "      <td>2</td>\n",
              "      <td>2</td>\n",
              "      <td>0</td>\n",
              "      <td>4</td>\n",
              "      <td>5</td>\n",
              "      <td>0</td>\n",
              "      <td>5</td>\n",
              "      <td>4</td>\n",
              "      <td>0</td>\n",
              "      <td>0</td>\n",
              "      <td>0</td>\n",
              "      <td>5</td>\n",
              "      <td>0</td>\n",
              "      <td>4</td>\n",
              "      <td>0</td>\n",
              "      <td>2</td>\n",
              "      <td>3</td>\n",
              "      <td>5</td>\n",
              "      <td>0</td>\n",
              "      <td>2</td>\n",
              "      <td>7</td>\n",
              "      <td>7</td>\n",
              "      <td>1</td>\n",
              "      <td>2</td>\n",
              "      <td>6</td>\n",
              "      <td>3</td>\n",
              "      <td>2</td>\n",
              "      <td>0</td>\n",
              "      <td>5</td>\n",
              "      <td>...</td>\n",
              "      <td>0</td>\n",
              "      <td>0</td>\n",
              "      <td>0</td>\n",
              "      <td>0</td>\n",
              "      <td>0</td>\n",
              "      <td>0</td>\n",
              "      <td>0</td>\n",
              "      <td>0</td>\n",
              "      <td>0</td>\n",
              "      <td>0</td>\n",
              "      <td>0</td>\n",
              "      <td>0</td>\n",
              "      <td>2</td>\n",
              "      <td>0</td>\n",
              "      <td>0</td>\n",
              "      <td>0</td>\n",
              "      <td>0</td>\n",
              "      <td>0</td>\n",
              "      <td>2</td>\n",
              "      <td>0</td>\n",
              "      <td>0</td>\n",
              "      <td>0</td>\n",
              "      <td>0</td>\n",
              "      <td>0</td>\n",
              "      <td>0</td>\n",
              "      <td>0</td>\n",
              "      <td>0</td>\n",
              "      <td>0</td>\n",
              "      <td>0</td>\n",
              "      <td>0</td>\n",
              "      <td>0</td>\n",
              "      <td>0</td>\n",
              "      <td>0</td>\n",
              "      <td>1</td>\n",
              "      <td>0</td>\n",
              "      <td>0</td>\n",
              "      <td>0</td>\n",
              "      <td>0</td>\n",
              "      <td>0</td>\n",
              "      <td>0</td>\n",
              "    </tr>\n",
              "    <tr>\n",
              "      <th>2</th>\n",
              "      <td>train</td>\n",
              "      <td>37</td>\n",
              "      <td>1</td>\n",
              "      <td>2</td>\n",
              "      <td>2</td>\n",
              "      <td>8</td>\n",
              "      <td>0</td>\n",
              "      <td>4</td>\n",
              "      <td>2</td>\n",
              "      <td>4</td>\n",
              "      <td>3</td>\n",
              "      <td>2</td>\n",
              "      <td>4</td>\n",
              "      <td>4</td>\n",
              "      <td>4</td>\n",
              "      <td>2</td>\n",
              "      <td>0</td>\n",
              "      <td>5</td>\n",
              "      <td>4</td>\n",
              "      <td>0</td>\n",
              "      <td>0</td>\n",
              "      <td>0</td>\n",
              "      <td>7</td>\n",
              "      <td>0</td>\n",
              "      <td>2</td>\n",
              "      <td>0</td>\n",
              "      <td>5</td>\n",
              "      <td>0</td>\n",
              "      <td>4</td>\n",
              "      <td>0</td>\n",
              "      <td>7</td>\n",
              "      <td>2</td>\n",
              "      <td>7</td>\n",
              "      <td>0</td>\n",
              "      <td>2</td>\n",
              "      <td>9</td>\n",
              "      <td>0</td>\n",
              "      <td>4</td>\n",
              "      <td>5</td>\n",
              "      <td>0</td>\n",
              "      <td>...</td>\n",
              "      <td>6</td>\n",
              "      <td>0</td>\n",
              "      <td>0</td>\n",
              "      <td>0</td>\n",
              "      <td>0</td>\n",
              "      <td>0</td>\n",
              "      <td>0</td>\n",
              "      <td>0</td>\n",
              "      <td>0</td>\n",
              "      <td>0</td>\n",
              "      <td>0</td>\n",
              "      <td>0</td>\n",
              "      <td>2</td>\n",
              "      <td>0</td>\n",
              "      <td>0</td>\n",
              "      <td>0</td>\n",
              "      <td>0</td>\n",
              "      <td>0</td>\n",
              "      <td>1</td>\n",
              "      <td>0</td>\n",
              "      <td>0</td>\n",
              "      <td>1</td>\n",
              "      <td>0</td>\n",
              "      <td>0</td>\n",
              "      <td>0</td>\n",
              "      <td>0</td>\n",
              "      <td>0</td>\n",
              "      <td>0</td>\n",
              "      <td>0</td>\n",
              "      <td>0</td>\n",
              "      <td>0</td>\n",
              "      <td>0</td>\n",
              "      <td>0</td>\n",
              "      <td>1</td>\n",
              "      <td>0</td>\n",
              "      <td>0</td>\n",
              "      <td>0</td>\n",
              "      <td>0</td>\n",
              "      <td>0</td>\n",
              "      <td>0</td>\n",
              "    </tr>\n",
              "    <tr>\n",
              "      <th>3</th>\n",
              "      <td>train</td>\n",
              "      <td>9</td>\n",
              "      <td>1</td>\n",
              "      <td>3</td>\n",
              "      <td>3</td>\n",
              "      <td>3</td>\n",
              "      <td>2</td>\n",
              "      <td>3</td>\n",
              "      <td>2</td>\n",
              "      <td>4</td>\n",
              "      <td>5</td>\n",
              "      <td>2</td>\n",
              "      <td>2</td>\n",
              "      <td>2</td>\n",
              "      <td>3</td>\n",
              "      <td>4</td>\n",
              "      <td>3</td>\n",
              "      <td>4</td>\n",
              "      <td>2</td>\n",
              "      <td>4</td>\n",
              "      <td>0</td>\n",
              "      <td>0</td>\n",
              "      <td>3</td>\n",
              "      <td>1</td>\n",
              "      <td>2</td>\n",
              "      <td>3</td>\n",
              "      <td>2</td>\n",
              "      <td>1</td>\n",
              "      <td>4</td>\n",
              "      <td>0</td>\n",
              "      <td>5</td>\n",
              "      <td>4</td>\n",
              "      <td>9</td>\n",
              "      <td>0</td>\n",
              "      <td>0</td>\n",
              "      <td>7</td>\n",
              "      <td>2</td>\n",
              "      <td>1</td>\n",
              "      <td>5</td>\n",
              "      <td>3</td>\n",
              "      <td>...</td>\n",
              "      <td>6</td>\n",
              "      <td>0</td>\n",
              "      <td>0</td>\n",
              "      <td>0</td>\n",
              "      <td>0</td>\n",
              "      <td>0</td>\n",
              "      <td>0</td>\n",
              "      <td>0</td>\n",
              "      <td>0</td>\n",
              "      <td>0</td>\n",
              "      <td>0</td>\n",
              "      <td>0</td>\n",
              "      <td>2</td>\n",
              "      <td>0</td>\n",
              "      <td>0</td>\n",
              "      <td>0</td>\n",
              "      <td>0</td>\n",
              "      <td>0</td>\n",
              "      <td>0</td>\n",
              "      <td>0</td>\n",
              "      <td>0</td>\n",
              "      <td>1</td>\n",
              "      <td>0</td>\n",
              "      <td>0</td>\n",
              "      <td>0</td>\n",
              "      <td>0</td>\n",
              "      <td>0</td>\n",
              "      <td>0</td>\n",
              "      <td>0</td>\n",
              "      <td>0</td>\n",
              "      <td>0</td>\n",
              "      <td>0</td>\n",
              "      <td>0</td>\n",
              "      <td>1</td>\n",
              "      <td>0</td>\n",
              "      <td>0</td>\n",
              "      <td>0</td>\n",
              "      <td>0</td>\n",
              "      <td>0</td>\n",
              "      <td>0</td>\n",
              "    </tr>\n",
              "    <tr>\n",
              "      <th>4</th>\n",
              "      <td>train</td>\n",
              "      <td>40</td>\n",
              "      <td>1</td>\n",
              "      <td>4</td>\n",
              "      <td>2</td>\n",
              "      <td>10</td>\n",
              "      <td>1</td>\n",
              "      <td>4</td>\n",
              "      <td>1</td>\n",
              "      <td>4</td>\n",
              "      <td>7</td>\n",
              "      <td>1</td>\n",
              "      <td>2</td>\n",
              "      <td>2</td>\n",
              "      <td>4</td>\n",
              "      <td>4</td>\n",
              "      <td>5</td>\n",
              "      <td>4</td>\n",
              "      <td>0</td>\n",
              "      <td>0</td>\n",
              "      <td>5</td>\n",
              "      <td>4</td>\n",
              "      <td>0</td>\n",
              "      <td>0</td>\n",
              "      <td>0</td>\n",
              "      <td>9</td>\n",
              "      <td>0</td>\n",
              "      <td>0</td>\n",
              "      <td>0</td>\n",
              "      <td>0</td>\n",
              "      <td>4</td>\n",
              "      <td>5</td>\n",
              "      <td>6</td>\n",
              "      <td>2</td>\n",
              "      <td>1</td>\n",
              "      <td>5</td>\n",
              "      <td>4</td>\n",
              "      <td>0</td>\n",
              "      <td>0</td>\n",
              "      <td>9</td>\n",
              "      <td>...</td>\n",
              "      <td>0</td>\n",
              "      <td>0</td>\n",
              "      <td>0</td>\n",
              "      <td>0</td>\n",
              "      <td>0</td>\n",
              "      <td>0</td>\n",
              "      <td>0</td>\n",
              "      <td>0</td>\n",
              "      <td>0</td>\n",
              "      <td>0</td>\n",
              "      <td>0</td>\n",
              "      <td>0</td>\n",
              "      <td>6</td>\n",
              "      <td>0</td>\n",
              "      <td>0</td>\n",
              "      <td>0</td>\n",
              "      <td>0</td>\n",
              "      <td>0</td>\n",
              "      <td>0</td>\n",
              "      <td>0</td>\n",
              "      <td>0</td>\n",
              "      <td>0</td>\n",
              "      <td>0</td>\n",
              "      <td>0</td>\n",
              "      <td>0</td>\n",
              "      <td>0</td>\n",
              "      <td>0</td>\n",
              "      <td>0</td>\n",
              "      <td>0</td>\n",
              "      <td>0</td>\n",
              "      <td>0</td>\n",
              "      <td>0</td>\n",
              "      <td>0</td>\n",
              "      <td>1</td>\n",
              "      <td>0</td>\n",
              "      <td>0</td>\n",
              "      <td>0</td>\n",
              "      <td>0</td>\n",
              "      <td>0</td>\n",
              "      <td>0</td>\n",
              "    </tr>\n",
              "    <tr>\n",
              "      <th>...</th>\n",
              "      <td>...</td>\n",
              "      <td>...</td>\n",
              "      <td>...</td>\n",
              "      <td>...</td>\n",
              "      <td>...</td>\n",
              "      <td>...</td>\n",
              "      <td>...</td>\n",
              "      <td>...</td>\n",
              "      <td>...</td>\n",
              "      <td>...</td>\n",
              "      <td>...</td>\n",
              "      <td>...</td>\n",
              "      <td>...</td>\n",
              "      <td>...</td>\n",
              "      <td>...</td>\n",
              "      <td>...</td>\n",
              "      <td>...</td>\n",
              "      <td>...</td>\n",
              "      <td>...</td>\n",
              "      <td>...</td>\n",
              "      <td>...</td>\n",
              "      <td>...</td>\n",
              "      <td>...</td>\n",
              "      <td>...</td>\n",
              "      <td>...</td>\n",
              "      <td>...</td>\n",
              "      <td>...</td>\n",
              "      <td>...</td>\n",
              "      <td>...</td>\n",
              "      <td>...</td>\n",
              "      <td>...</td>\n",
              "      <td>...</td>\n",
              "      <td>...</td>\n",
              "      <td>...</td>\n",
              "      <td>...</td>\n",
              "      <td>...</td>\n",
              "      <td>...</td>\n",
              "      <td>...</td>\n",
              "      <td>...</td>\n",
              "      <td>...</td>\n",
              "      <td>...</td>\n",
              "      <td>...</td>\n",
              "      <td>...</td>\n",
              "      <td>...</td>\n",
              "      <td>...</td>\n",
              "      <td>...</td>\n",
              "      <td>...</td>\n",
              "      <td>...</td>\n",
              "      <td>...</td>\n",
              "      <td>...</td>\n",
              "      <td>...</td>\n",
              "      <td>...</td>\n",
              "      <td>...</td>\n",
              "      <td>...</td>\n",
              "      <td>...</td>\n",
              "      <td>...</td>\n",
              "      <td>...</td>\n",
              "      <td>...</td>\n",
              "      <td>...</td>\n",
              "      <td>...</td>\n",
              "      <td>...</td>\n",
              "      <td>...</td>\n",
              "      <td>...</td>\n",
              "      <td>...</td>\n",
              "      <td>...</td>\n",
              "      <td>...</td>\n",
              "      <td>...</td>\n",
              "      <td>...</td>\n",
              "      <td>...</td>\n",
              "      <td>...</td>\n",
              "      <td>...</td>\n",
              "      <td>...</td>\n",
              "      <td>...</td>\n",
              "      <td>...</td>\n",
              "      <td>...</td>\n",
              "      <td>...</td>\n",
              "      <td>...</td>\n",
              "      <td>...</td>\n",
              "      <td>...</td>\n",
              "      <td>...</td>\n",
              "      <td>...</td>\n",
              "    </tr>\n",
              "    <tr>\n",
              "      <th>9817</th>\n",
              "      <td>test</td>\n",
              "      <td>33</td>\n",
              "      <td>1</td>\n",
              "      <td>2</td>\n",
              "      <td>4</td>\n",
              "      <td>8</td>\n",
              "      <td>0</td>\n",
              "      <td>7</td>\n",
              "      <td>2</td>\n",
              "      <td>0</td>\n",
              "      <td>5</td>\n",
              "      <td>2</td>\n",
              "      <td>2</td>\n",
              "      <td>2</td>\n",
              "      <td>6</td>\n",
              "      <td>2</td>\n",
              "      <td>0</td>\n",
              "      <td>3</td>\n",
              "      <td>6</td>\n",
              "      <td>5</td>\n",
              "      <td>0</td>\n",
              "      <td>0</td>\n",
              "      <td>1</td>\n",
              "      <td>0</td>\n",
              "      <td>4</td>\n",
              "      <td>2</td>\n",
              "      <td>0</td>\n",
              "      <td>2</td>\n",
              "      <td>4</td>\n",
              "      <td>2</td>\n",
              "      <td>4</td>\n",
              "      <td>5</td>\n",
              "      <td>4</td>\n",
              "      <td>4</td>\n",
              "      <td>2</td>\n",
              "      <td>3</td>\n",
              "      <td>6</td>\n",
              "      <td>3</td>\n",
              "      <td>6</td>\n",
              "      <td>0</td>\n",
              "      <td>...</td>\n",
              "      <td>6</td>\n",
              "      <td>0</td>\n",
              "      <td>0</td>\n",
              "      <td>0</td>\n",
              "      <td>0</td>\n",
              "      <td>0</td>\n",
              "      <td>0</td>\n",
              "      <td>0</td>\n",
              "      <td>0</td>\n",
              "      <td>0</td>\n",
              "      <td>0</td>\n",
              "      <td>0</td>\n",
              "      <td>3</td>\n",
              "      <td>0</td>\n",
              "      <td>0</td>\n",
              "      <td>0</td>\n",
              "      <td>0</td>\n",
              "      <td>0</td>\n",
              "      <td>1</td>\n",
              "      <td>0</td>\n",
              "      <td>0</td>\n",
              "      <td>1</td>\n",
              "      <td>0</td>\n",
              "      <td>0</td>\n",
              "      <td>0</td>\n",
              "      <td>0</td>\n",
              "      <td>0</td>\n",
              "      <td>0</td>\n",
              "      <td>0</td>\n",
              "      <td>0</td>\n",
              "      <td>0</td>\n",
              "      <td>0</td>\n",
              "      <td>0</td>\n",
              "      <td>1</td>\n",
              "      <td>0</td>\n",
              "      <td>0</td>\n",
              "      <td>0</td>\n",
              "      <td>0</td>\n",
              "      <td>0</td>\n",
              "      <td>0</td>\n",
              "    </tr>\n",
              "    <tr>\n",
              "      <th>9818</th>\n",
              "      <td>test</td>\n",
              "      <td>24</td>\n",
              "      <td>1</td>\n",
              "      <td>2</td>\n",
              "      <td>3</td>\n",
              "      <td>5</td>\n",
              "      <td>1</td>\n",
              "      <td>5</td>\n",
              "      <td>1</td>\n",
              "      <td>3</td>\n",
              "      <td>4</td>\n",
              "      <td>2</td>\n",
              "      <td>4</td>\n",
              "      <td>4</td>\n",
              "      <td>4</td>\n",
              "      <td>2</td>\n",
              "      <td>2</td>\n",
              "      <td>4</td>\n",
              "      <td>4</td>\n",
              "      <td>2</td>\n",
              "      <td>0</td>\n",
              "      <td>0</td>\n",
              "      <td>3</td>\n",
              "      <td>3</td>\n",
              "      <td>3</td>\n",
              "      <td>1</td>\n",
              "      <td>1</td>\n",
              "      <td>2</td>\n",
              "      <td>5</td>\n",
              "      <td>1</td>\n",
              "      <td>7</td>\n",
              "      <td>2</td>\n",
              "      <td>6</td>\n",
              "      <td>0</td>\n",
              "      <td>3</td>\n",
              "      <td>7</td>\n",
              "      <td>2</td>\n",
              "      <td>3</td>\n",
              "      <td>3</td>\n",
              "      <td>2</td>\n",
              "      <td>...</td>\n",
              "      <td>6</td>\n",
              "      <td>0</td>\n",
              "      <td>0</td>\n",
              "      <td>0</td>\n",
              "      <td>0</td>\n",
              "      <td>0</td>\n",
              "      <td>0</td>\n",
              "      <td>0</td>\n",
              "      <td>6</td>\n",
              "      <td>0</td>\n",
              "      <td>0</td>\n",
              "      <td>0</td>\n",
              "      <td>4</td>\n",
              "      <td>0</td>\n",
              "      <td>0</td>\n",
              "      <td>0</td>\n",
              "      <td>0</td>\n",
              "      <td>0</td>\n",
              "      <td>0</td>\n",
              "      <td>0</td>\n",
              "      <td>0</td>\n",
              "      <td>1</td>\n",
              "      <td>0</td>\n",
              "      <td>0</td>\n",
              "      <td>0</td>\n",
              "      <td>0</td>\n",
              "      <td>0</td>\n",
              "      <td>0</td>\n",
              "      <td>0</td>\n",
              "      <td>1</td>\n",
              "      <td>0</td>\n",
              "      <td>0</td>\n",
              "      <td>0</td>\n",
              "      <td>1</td>\n",
              "      <td>0</td>\n",
              "      <td>0</td>\n",
              "      <td>0</td>\n",
              "      <td>0</td>\n",
              "      <td>0</td>\n",
              "      <td>1</td>\n",
              "    </tr>\n",
              "    <tr>\n",
              "      <th>9819</th>\n",
              "      <td>test</td>\n",
              "      <td>36</td>\n",
              "      <td>1</td>\n",
              "      <td>2</td>\n",
              "      <td>3</td>\n",
              "      <td>8</td>\n",
              "      <td>1</td>\n",
              "      <td>5</td>\n",
              "      <td>1</td>\n",
              "      <td>3</td>\n",
              "      <td>7</td>\n",
              "      <td>0</td>\n",
              "      <td>2</td>\n",
              "      <td>2</td>\n",
              "      <td>5</td>\n",
              "      <td>3</td>\n",
              "      <td>2</td>\n",
              "      <td>3</td>\n",
              "      <td>4</td>\n",
              "      <td>2</td>\n",
              "      <td>0</td>\n",
              "      <td>0</td>\n",
              "      <td>3</td>\n",
              "      <td>4</td>\n",
              "      <td>2</td>\n",
              "      <td>1</td>\n",
              "      <td>1</td>\n",
              "      <td>3</td>\n",
              "      <td>5</td>\n",
              "      <td>0</td>\n",
              "      <td>7</td>\n",
              "      <td>2</td>\n",
              "      <td>6</td>\n",
              "      <td>1</td>\n",
              "      <td>2</td>\n",
              "      <td>6</td>\n",
              "      <td>3</td>\n",
              "      <td>2</td>\n",
              "      <td>5</td>\n",
              "      <td>3</td>\n",
              "      <td>...</td>\n",
              "      <td>6</td>\n",
              "      <td>0</td>\n",
              "      <td>0</td>\n",
              "      <td>0</td>\n",
              "      <td>0</td>\n",
              "      <td>0</td>\n",
              "      <td>0</td>\n",
              "      <td>0</td>\n",
              "      <td>0</td>\n",
              "      <td>0</td>\n",
              "      <td>0</td>\n",
              "      <td>0</td>\n",
              "      <td>3</td>\n",
              "      <td>0</td>\n",
              "      <td>0</td>\n",
              "      <td>0</td>\n",
              "      <td>1</td>\n",
              "      <td>0</td>\n",
              "      <td>0</td>\n",
              "      <td>0</td>\n",
              "      <td>0</td>\n",
              "      <td>1</td>\n",
              "      <td>0</td>\n",
              "      <td>0</td>\n",
              "      <td>0</td>\n",
              "      <td>0</td>\n",
              "      <td>0</td>\n",
              "      <td>0</td>\n",
              "      <td>0</td>\n",
              "      <td>0</td>\n",
              "      <td>0</td>\n",
              "      <td>0</td>\n",
              "      <td>0</td>\n",
              "      <td>1</td>\n",
              "      <td>0</td>\n",
              "      <td>0</td>\n",
              "      <td>0</td>\n",
              "      <td>1</td>\n",
              "      <td>0</td>\n",
              "      <td>0</td>\n",
              "    </tr>\n",
              "    <tr>\n",
              "      <th>9820</th>\n",
              "      <td>test</td>\n",
              "      <td>33</td>\n",
              "      <td>1</td>\n",
              "      <td>3</td>\n",
              "      <td>3</td>\n",
              "      <td>8</td>\n",
              "      <td>1</td>\n",
              "      <td>4</td>\n",
              "      <td>2</td>\n",
              "      <td>3</td>\n",
              "      <td>7</td>\n",
              "      <td>1</td>\n",
              "      <td>2</td>\n",
              "      <td>2</td>\n",
              "      <td>3</td>\n",
              "      <td>4</td>\n",
              "      <td>1</td>\n",
              "      <td>3</td>\n",
              "      <td>5</td>\n",
              "      <td>1</td>\n",
              "      <td>1</td>\n",
              "      <td>1</td>\n",
              "      <td>2</td>\n",
              "      <td>3</td>\n",
              "      <td>3</td>\n",
              "      <td>2</td>\n",
              "      <td>2</td>\n",
              "      <td>2</td>\n",
              "      <td>4</td>\n",
              "      <td>1</td>\n",
              "      <td>4</td>\n",
              "      <td>5</td>\n",
              "      <td>6</td>\n",
              "      <td>2</td>\n",
              "      <td>2</td>\n",
              "      <td>7</td>\n",
              "      <td>2</td>\n",
              "      <td>1</td>\n",
              "      <td>4</td>\n",
              "      <td>4</td>\n",
              "      <td>...</td>\n",
              "      <td>6</td>\n",
              "      <td>0</td>\n",
              "      <td>0</td>\n",
              "      <td>0</td>\n",
              "      <td>0</td>\n",
              "      <td>0</td>\n",
              "      <td>0</td>\n",
              "      <td>0</td>\n",
              "      <td>0</td>\n",
              "      <td>0</td>\n",
              "      <td>0</td>\n",
              "      <td>0</td>\n",
              "      <td>0</td>\n",
              "      <td>0</td>\n",
              "      <td>0</td>\n",
              "      <td>0</td>\n",
              "      <td>0</td>\n",
              "      <td>0</td>\n",
              "      <td>0</td>\n",
              "      <td>0</td>\n",
              "      <td>0</td>\n",
              "      <td>1</td>\n",
              "      <td>0</td>\n",
              "      <td>0</td>\n",
              "      <td>0</td>\n",
              "      <td>0</td>\n",
              "      <td>0</td>\n",
              "      <td>0</td>\n",
              "      <td>0</td>\n",
              "      <td>0</td>\n",
              "      <td>0</td>\n",
              "      <td>0</td>\n",
              "      <td>0</td>\n",
              "      <td>0</td>\n",
              "      <td>0</td>\n",
              "      <td>0</td>\n",
              "      <td>0</td>\n",
              "      <td>0</td>\n",
              "      <td>0</td>\n",
              "      <td>0</td>\n",
              "    </tr>\n",
              "    <tr>\n",
              "      <th>9821</th>\n",
              "      <td>test</td>\n",
              "      <td>8</td>\n",
              "      <td>1</td>\n",
              "      <td>2</td>\n",
              "      <td>3</td>\n",
              "      <td>2</td>\n",
              "      <td>4</td>\n",
              "      <td>3</td>\n",
              "      <td>0</td>\n",
              "      <td>3</td>\n",
              "      <td>5</td>\n",
              "      <td>2</td>\n",
              "      <td>2</td>\n",
              "      <td>0</td>\n",
              "      <td>6</td>\n",
              "      <td>3</td>\n",
              "      <td>8</td>\n",
              "      <td>0</td>\n",
              "      <td>1</td>\n",
              "      <td>8</td>\n",
              "      <td>0</td>\n",
              "      <td>0</td>\n",
              "      <td>0</td>\n",
              "      <td>0</td>\n",
              "      <td>1</td>\n",
              "      <td>4</td>\n",
              "      <td>0</td>\n",
              "      <td>5</td>\n",
              "      <td>1</td>\n",
              "      <td>0</td>\n",
              "      <td>2</td>\n",
              "      <td>7</td>\n",
              "      <td>9</td>\n",
              "      <td>0</td>\n",
              "      <td>0</td>\n",
              "      <td>2</td>\n",
              "      <td>7</td>\n",
              "      <td>0</td>\n",
              "      <td>0</td>\n",
              "      <td>7</td>\n",
              "      <td>...</td>\n",
              "      <td>0</td>\n",
              "      <td>0</td>\n",
              "      <td>0</td>\n",
              "      <td>0</td>\n",
              "      <td>0</td>\n",
              "      <td>0</td>\n",
              "      <td>0</td>\n",
              "      <td>0</td>\n",
              "      <td>0</td>\n",
              "      <td>0</td>\n",
              "      <td>0</td>\n",
              "      <td>0</td>\n",
              "      <td>4</td>\n",
              "      <td>0</td>\n",
              "      <td>0</td>\n",
              "      <td>0</td>\n",
              "      <td>0</td>\n",
              "      <td>0</td>\n",
              "      <td>1</td>\n",
              "      <td>0</td>\n",
              "      <td>0</td>\n",
              "      <td>0</td>\n",
              "      <td>0</td>\n",
              "      <td>0</td>\n",
              "      <td>0</td>\n",
              "      <td>0</td>\n",
              "      <td>0</td>\n",
              "      <td>0</td>\n",
              "      <td>0</td>\n",
              "      <td>0</td>\n",
              "      <td>0</td>\n",
              "      <td>0</td>\n",
              "      <td>0</td>\n",
              "      <td>1</td>\n",
              "      <td>0</td>\n",
              "      <td>0</td>\n",
              "      <td>0</td>\n",
              "      <td>0</td>\n",
              "      <td>0</td>\n",
              "      <td>0</td>\n",
              "    </tr>\n",
              "  </tbody>\n",
              "</table>\n",
              "<p>9822 rows × 87 columns</p>\n",
              "</div>"
            ],
            "text/plain": [
              "     ORIGIN  MOSTYPE  MAANTHUI  MGEMOMV  ...  AFIETS  AINBOED  ABYSTAND  CARAVAN\n",
              "0     train       33         1        3  ...       0        0         0        0\n",
              "1     train       37         1        2  ...       0        0         0        0\n",
              "2     train       37         1        2  ...       0        0         0        0\n",
              "3     train        9         1        3  ...       0        0         0        0\n",
              "4     train       40         1        4  ...       0        0         0        0\n",
              "...     ...      ...       ...      ...  ...     ...      ...       ...      ...\n",
              "9817   test       33         1        2  ...       0        0         0        0\n",
              "9818   test       24         1        2  ...       0        0         0        1\n",
              "9819   test       36         1        2  ...       0        1         0        0\n",
              "9820   test       33         1        3  ...       0        0         0        0\n",
              "9821   test        8         1        2  ...       0        0         0        0\n",
              "\n",
              "[9822 rows x 87 columns]"
            ]
          },
          "metadata": {
            "tags": []
          },
          "execution_count": 19
        }
      ]
    },
    {
      "cell_type": "code",
      "metadata": {
        "id": "L13rmYi5V0Rc"
      },
      "source": [
        "clf = lgb.LGBMClassifier(num_leaves= 15, max_depth=-1, \n",
        "                         random_state=314, \n",
        "                         silent=True, \n",
        "                         metric='None', \n",
        "                         n_jobs=4, \n",
        "                         n_estimators=1000,\n",
        "                         colsample_bytree=0.9,\n",
        "                         subsample=0.9,\n",
        "                         learning_rate=0.1)\n"
      ],
      "execution_count": null,
      "outputs": []
    },
    {
      "cell_type": "code",
      "metadata": {
        "id": "gigydAoVV0Rc",
        "colab": {
          "base_uri": "https://localhost:8080/"
        },
        "outputId": "291a4530-717d-4dc6-a0fd-34509bbf8a5f"
      },
      "source": [
        "clf.fit(train_x, train_y, **fit_params)\n"
      ],
      "execution_count": null,
      "outputs": [
        {
          "output_type": "stream",
          "text": [
            "Training until validation scores don't improve for 10 rounds.\n",
            "Early stopping, best iteration is:\n",
            "[34]\tvalid's auc: 0.732925\n"
          ],
          "name": "stdout"
        },
        {
          "output_type": "execute_result",
          "data": {
            "text/plain": [
              "LGBMClassifier(boosting_type='gbdt', class_weight=None, colsample_bytree=0.9,\n",
              "               importance_type='split', learning_rate=0.1, max_depth=-1,\n",
              "               metric='None', min_child_samples=20, min_child_weight=0.001,\n",
              "               min_split_gain=0.0, n_estimators=1000, n_jobs=4, num_leaves=15,\n",
              "               objective=None, random_state=314, reg_alpha=0.0, reg_lambda=0.0,\n",
              "               silent=True, subsample=0.9, subsample_for_bin=200000,\n",
              "               subsample_freq=0)"
            ]
          },
          "metadata": {
            "tags": []
          },
          "execution_count": 22
        }
      ]
    },
    {
      "cell_type": "code",
      "metadata": {
        "id": "nX2HLYSeV0Re",
        "colab": {
          "base_uri": "https://localhost:8080/",
          "height": 252
        },
        "outputId": "418a7008-8655-400f-f63c-b5aa5c0c9b52"
      },
      "source": [
        "train_x.head()"
      ],
      "execution_count": null,
      "outputs": [
        {
          "output_type": "execute_result",
          "data": {
            "text/html": [
              "<div>\n",
              "<style scoped>\n",
              "    .dataframe tbody tr th:only-of-type {\n",
              "        vertical-align: middle;\n",
              "    }\n",
              "\n",
              "    .dataframe tbody tr th {\n",
              "        vertical-align: top;\n",
              "    }\n",
              "\n",
              "    .dataframe thead th {\n",
              "        text-align: right;\n",
              "    }\n",
              "</style>\n",
              "<table border=\"1\" class=\"dataframe\">\n",
              "  <thead>\n",
              "    <tr style=\"text-align: right;\">\n",
              "      <th></th>\n",
              "      <th>MOSTYPE</th>\n",
              "      <th>MAANTHUI</th>\n",
              "      <th>MGEMOMV</th>\n",
              "      <th>MGEMLEEF</th>\n",
              "      <th>MOSHOOFD</th>\n",
              "      <th>MGODRK</th>\n",
              "      <th>MGODPR</th>\n",
              "      <th>MGODOV</th>\n",
              "      <th>MGODGE</th>\n",
              "      <th>MRELGE</th>\n",
              "      <th>MRELSA</th>\n",
              "      <th>MRELOV</th>\n",
              "      <th>MFALLEEN</th>\n",
              "      <th>MFGEKIND</th>\n",
              "      <th>MFWEKIND</th>\n",
              "      <th>MOPLHOOG</th>\n",
              "      <th>MOPLMIDD</th>\n",
              "      <th>MOPLLAAG</th>\n",
              "      <th>MBERHOOG</th>\n",
              "      <th>MBERZELF</th>\n",
              "      <th>MBERBOER</th>\n",
              "      <th>MBERMIDD</th>\n",
              "      <th>MBERARBG</th>\n",
              "      <th>MBERARBO</th>\n",
              "      <th>MSKA</th>\n",
              "      <th>MSKB1</th>\n",
              "      <th>MSKB2</th>\n",
              "      <th>MSKC</th>\n",
              "      <th>MSKD</th>\n",
              "      <th>MHHUUR</th>\n",
              "      <th>MHKOOP</th>\n",
              "      <th>MAUT1</th>\n",
              "      <th>MAUT2</th>\n",
              "      <th>MAUT0</th>\n",
              "      <th>MZFONDS</th>\n",
              "      <th>MZPART</th>\n",
              "      <th>MINKM30</th>\n",
              "      <th>MINK3045</th>\n",
              "      <th>MINK4575</th>\n",
              "      <th>MINK7512</th>\n",
              "      <th>...</th>\n",
              "      <th>PWALAND</th>\n",
              "      <th>PPERSAUT</th>\n",
              "      <th>PBESAUT</th>\n",
              "      <th>PMOTSCO</th>\n",
              "      <th>PVRAAUT</th>\n",
              "      <th>PAANHANG</th>\n",
              "      <th>PTRACTOR</th>\n",
              "      <th>PWERKT</th>\n",
              "      <th>PBROM</th>\n",
              "      <th>PLEVEN</th>\n",
              "      <th>PPERSONG</th>\n",
              "      <th>PGEZONG</th>\n",
              "      <th>PWAOREG</th>\n",
              "      <th>PBRAND</th>\n",
              "      <th>PZEILPL</th>\n",
              "      <th>PPLEZIER</th>\n",
              "      <th>PFIETS</th>\n",
              "      <th>PINBOED</th>\n",
              "      <th>PBYSTAND</th>\n",
              "      <th>AWAPART</th>\n",
              "      <th>AWABEDR</th>\n",
              "      <th>AWALAND</th>\n",
              "      <th>APERSAUT</th>\n",
              "      <th>ABESAUT</th>\n",
              "      <th>AMOTSCO</th>\n",
              "      <th>AVRAAUT</th>\n",
              "      <th>AAANHANG</th>\n",
              "      <th>ATRACTOR</th>\n",
              "      <th>AWERKT</th>\n",
              "      <th>ABROM</th>\n",
              "      <th>ALEVEN</th>\n",
              "      <th>APERSONG</th>\n",
              "      <th>AGEZONG</th>\n",
              "      <th>AWAOREG</th>\n",
              "      <th>ABRAND</th>\n",
              "      <th>AZEILPL</th>\n",
              "      <th>APLEZIER</th>\n",
              "      <th>AFIETS</th>\n",
              "      <th>AINBOED</th>\n",
              "      <th>ABYSTAND</th>\n",
              "    </tr>\n",
              "  </thead>\n",
              "  <tbody>\n",
              "    <tr>\n",
              "      <th>0</th>\n",
              "      <td>33</td>\n",
              "      <td>1</td>\n",
              "      <td>3</td>\n",
              "      <td>2</td>\n",
              "      <td>8</td>\n",
              "      <td>0</td>\n",
              "      <td>5</td>\n",
              "      <td>1</td>\n",
              "      <td>3</td>\n",
              "      <td>7</td>\n",
              "      <td>0</td>\n",
              "      <td>2</td>\n",
              "      <td>1</td>\n",
              "      <td>2</td>\n",
              "      <td>6</td>\n",
              "      <td>1</td>\n",
              "      <td>2</td>\n",
              "      <td>7</td>\n",
              "      <td>1</td>\n",
              "      <td>0</td>\n",
              "      <td>1</td>\n",
              "      <td>2</td>\n",
              "      <td>5</td>\n",
              "      <td>2</td>\n",
              "      <td>1</td>\n",
              "      <td>1</td>\n",
              "      <td>2</td>\n",
              "      <td>6</td>\n",
              "      <td>1</td>\n",
              "      <td>1</td>\n",
              "      <td>8</td>\n",
              "      <td>8</td>\n",
              "      <td>0</td>\n",
              "      <td>1</td>\n",
              "      <td>8</td>\n",
              "      <td>1</td>\n",
              "      <td>0</td>\n",
              "      <td>4</td>\n",
              "      <td>5</td>\n",
              "      <td>0</td>\n",
              "      <td>...</td>\n",
              "      <td>0</td>\n",
              "      <td>6</td>\n",
              "      <td>0</td>\n",
              "      <td>0</td>\n",
              "      <td>0</td>\n",
              "      <td>0</td>\n",
              "      <td>0</td>\n",
              "      <td>0</td>\n",
              "      <td>0</td>\n",
              "      <td>0</td>\n",
              "      <td>0</td>\n",
              "      <td>0</td>\n",
              "      <td>0</td>\n",
              "      <td>5</td>\n",
              "      <td>0</td>\n",
              "      <td>0</td>\n",
              "      <td>0</td>\n",
              "      <td>0</td>\n",
              "      <td>0</td>\n",
              "      <td>0</td>\n",
              "      <td>0</td>\n",
              "      <td>0</td>\n",
              "      <td>1</td>\n",
              "      <td>0</td>\n",
              "      <td>0</td>\n",
              "      <td>0</td>\n",
              "      <td>0</td>\n",
              "      <td>0</td>\n",
              "      <td>0</td>\n",
              "      <td>0</td>\n",
              "      <td>0</td>\n",
              "      <td>0</td>\n",
              "      <td>0</td>\n",
              "      <td>0</td>\n",
              "      <td>1</td>\n",
              "      <td>0</td>\n",
              "      <td>0</td>\n",
              "      <td>0</td>\n",
              "      <td>0</td>\n",
              "      <td>0</td>\n",
              "    </tr>\n",
              "    <tr>\n",
              "      <th>1</th>\n",
              "      <td>37</td>\n",
              "      <td>1</td>\n",
              "      <td>2</td>\n",
              "      <td>2</td>\n",
              "      <td>8</td>\n",
              "      <td>1</td>\n",
              "      <td>4</td>\n",
              "      <td>1</td>\n",
              "      <td>4</td>\n",
              "      <td>6</td>\n",
              "      <td>2</td>\n",
              "      <td>2</td>\n",
              "      <td>0</td>\n",
              "      <td>4</td>\n",
              "      <td>5</td>\n",
              "      <td>0</td>\n",
              "      <td>5</td>\n",
              "      <td>4</td>\n",
              "      <td>0</td>\n",
              "      <td>0</td>\n",
              "      <td>0</td>\n",
              "      <td>5</td>\n",
              "      <td>0</td>\n",
              "      <td>4</td>\n",
              "      <td>0</td>\n",
              "      <td>2</td>\n",
              "      <td>3</td>\n",
              "      <td>5</td>\n",
              "      <td>0</td>\n",
              "      <td>2</td>\n",
              "      <td>7</td>\n",
              "      <td>7</td>\n",
              "      <td>1</td>\n",
              "      <td>2</td>\n",
              "      <td>6</td>\n",
              "      <td>3</td>\n",
              "      <td>2</td>\n",
              "      <td>0</td>\n",
              "      <td>5</td>\n",
              "      <td>2</td>\n",
              "      <td>...</td>\n",
              "      <td>0</td>\n",
              "      <td>0</td>\n",
              "      <td>0</td>\n",
              "      <td>0</td>\n",
              "      <td>0</td>\n",
              "      <td>0</td>\n",
              "      <td>0</td>\n",
              "      <td>0</td>\n",
              "      <td>0</td>\n",
              "      <td>0</td>\n",
              "      <td>0</td>\n",
              "      <td>0</td>\n",
              "      <td>0</td>\n",
              "      <td>2</td>\n",
              "      <td>0</td>\n",
              "      <td>0</td>\n",
              "      <td>0</td>\n",
              "      <td>0</td>\n",
              "      <td>0</td>\n",
              "      <td>2</td>\n",
              "      <td>0</td>\n",
              "      <td>0</td>\n",
              "      <td>0</td>\n",
              "      <td>0</td>\n",
              "      <td>0</td>\n",
              "      <td>0</td>\n",
              "      <td>0</td>\n",
              "      <td>0</td>\n",
              "      <td>0</td>\n",
              "      <td>0</td>\n",
              "      <td>0</td>\n",
              "      <td>0</td>\n",
              "      <td>0</td>\n",
              "      <td>0</td>\n",
              "      <td>1</td>\n",
              "      <td>0</td>\n",
              "      <td>0</td>\n",
              "      <td>0</td>\n",
              "      <td>0</td>\n",
              "      <td>0</td>\n",
              "    </tr>\n",
              "    <tr>\n",
              "      <th>2</th>\n",
              "      <td>37</td>\n",
              "      <td>1</td>\n",
              "      <td>2</td>\n",
              "      <td>2</td>\n",
              "      <td>8</td>\n",
              "      <td>0</td>\n",
              "      <td>4</td>\n",
              "      <td>2</td>\n",
              "      <td>4</td>\n",
              "      <td>3</td>\n",
              "      <td>2</td>\n",
              "      <td>4</td>\n",
              "      <td>4</td>\n",
              "      <td>4</td>\n",
              "      <td>2</td>\n",
              "      <td>0</td>\n",
              "      <td>5</td>\n",
              "      <td>4</td>\n",
              "      <td>0</td>\n",
              "      <td>0</td>\n",
              "      <td>0</td>\n",
              "      <td>7</td>\n",
              "      <td>0</td>\n",
              "      <td>2</td>\n",
              "      <td>0</td>\n",
              "      <td>5</td>\n",
              "      <td>0</td>\n",
              "      <td>4</td>\n",
              "      <td>0</td>\n",
              "      <td>7</td>\n",
              "      <td>2</td>\n",
              "      <td>7</td>\n",
              "      <td>0</td>\n",
              "      <td>2</td>\n",
              "      <td>9</td>\n",
              "      <td>0</td>\n",
              "      <td>4</td>\n",
              "      <td>5</td>\n",
              "      <td>0</td>\n",
              "      <td>0</td>\n",
              "      <td>...</td>\n",
              "      <td>0</td>\n",
              "      <td>6</td>\n",
              "      <td>0</td>\n",
              "      <td>0</td>\n",
              "      <td>0</td>\n",
              "      <td>0</td>\n",
              "      <td>0</td>\n",
              "      <td>0</td>\n",
              "      <td>0</td>\n",
              "      <td>0</td>\n",
              "      <td>0</td>\n",
              "      <td>0</td>\n",
              "      <td>0</td>\n",
              "      <td>2</td>\n",
              "      <td>0</td>\n",
              "      <td>0</td>\n",
              "      <td>0</td>\n",
              "      <td>0</td>\n",
              "      <td>0</td>\n",
              "      <td>1</td>\n",
              "      <td>0</td>\n",
              "      <td>0</td>\n",
              "      <td>1</td>\n",
              "      <td>0</td>\n",
              "      <td>0</td>\n",
              "      <td>0</td>\n",
              "      <td>0</td>\n",
              "      <td>0</td>\n",
              "      <td>0</td>\n",
              "      <td>0</td>\n",
              "      <td>0</td>\n",
              "      <td>0</td>\n",
              "      <td>0</td>\n",
              "      <td>0</td>\n",
              "      <td>1</td>\n",
              "      <td>0</td>\n",
              "      <td>0</td>\n",
              "      <td>0</td>\n",
              "      <td>0</td>\n",
              "      <td>0</td>\n",
              "    </tr>\n",
              "    <tr>\n",
              "      <th>3</th>\n",
              "      <td>9</td>\n",
              "      <td>1</td>\n",
              "      <td>3</td>\n",
              "      <td>3</td>\n",
              "      <td>3</td>\n",
              "      <td>2</td>\n",
              "      <td>3</td>\n",
              "      <td>2</td>\n",
              "      <td>4</td>\n",
              "      <td>5</td>\n",
              "      <td>2</td>\n",
              "      <td>2</td>\n",
              "      <td>2</td>\n",
              "      <td>3</td>\n",
              "      <td>4</td>\n",
              "      <td>3</td>\n",
              "      <td>4</td>\n",
              "      <td>2</td>\n",
              "      <td>4</td>\n",
              "      <td>0</td>\n",
              "      <td>0</td>\n",
              "      <td>3</td>\n",
              "      <td>1</td>\n",
              "      <td>2</td>\n",
              "      <td>3</td>\n",
              "      <td>2</td>\n",
              "      <td>1</td>\n",
              "      <td>4</td>\n",
              "      <td>0</td>\n",
              "      <td>5</td>\n",
              "      <td>4</td>\n",
              "      <td>9</td>\n",
              "      <td>0</td>\n",
              "      <td>0</td>\n",
              "      <td>7</td>\n",
              "      <td>2</td>\n",
              "      <td>1</td>\n",
              "      <td>5</td>\n",
              "      <td>3</td>\n",
              "      <td>0</td>\n",
              "      <td>...</td>\n",
              "      <td>0</td>\n",
              "      <td>6</td>\n",
              "      <td>0</td>\n",
              "      <td>0</td>\n",
              "      <td>0</td>\n",
              "      <td>0</td>\n",
              "      <td>0</td>\n",
              "      <td>0</td>\n",
              "      <td>0</td>\n",
              "      <td>0</td>\n",
              "      <td>0</td>\n",
              "      <td>0</td>\n",
              "      <td>0</td>\n",
              "      <td>2</td>\n",
              "      <td>0</td>\n",
              "      <td>0</td>\n",
              "      <td>0</td>\n",
              "      <td>0</td>\n",
              "      <td>0</td>\n",
              "      <td>0</td>\n",
              "      <td>0</td>\n",
              "      <td>0</td>\n",
              "      <td>1</td>\n",
              "      <td>0</td>\n",
              "      <td>0</td>\n",
              "      <td>0</td>\n",
              "      <td>0</td>\n",
              "      <td>0</td>\n",
              "      <td>0</td>\n",
              "      <td>0</td>\n",
              "      <td>0</td>\n",
              "      <td>0</td>\n",
              "      <td>0</td>\n",
              "      <td>0</td>\n",
              "      <td>1</td>\n",
              "      <td>0</td>\n",
              "      <td>0</td>\n",
              "      <td>0</td>\n",
              "      <td>0</td>\n",
              "      <td>0</td>\n",
              "    </tr>\n",
              "    <tr>\n",
              "      <th>4</th>\n",
              "      <td>40</td>\n",
              "      <td>1</td>\n",
              "      <td>4</td>\n",
              "      <td>2</td>\n",
              "      <td>10</td>\n",
              "      <td>1</td>\n",
              "      <td>4</td>\n",
              "      <td>1</td>\n",
              "      <td>4</td>\n",
              "      <td>7</td>\n",
              "      <td>1</td>\n",
              "      <td>2</td>\n",
              "      <td>2</td>\n",
              "      <td>4</td>\n",
              "      <td>4</td>\n",
              "      <td>5</td>\n",
              "      <td>4</td>\n",
              "      <td>0</td>\n",
              "      <td>0</td>\n",
              "      <td>5</td>\n",
              "      <td>4</td>\n",
              "      <td>0</td>\n",
              "      <td>0</td>\n",
              "      <td>0</td>\n",
              "      <td>9</td>\n",
              "      <td>0</td>\n",
              "      <td>0</td>\n",
              "      <td>0</td>\n",
              "      <td>0</td>\n",
              "      <td>4</td>\n",
              "      <td>5</td>\n",
              "      <td>6</td>\n",
              "      <td>2</td>\n",
              "      <td>1</td>\n",
              "      <td>5</td>\n",
              "      <td>4</td>\n",
              "      <td>0</td>\n",
              "      <td>0</td>\n",
              "      <td>9</td>\n",
              "      <td>0</td>\n",
              "      <td>...</td>\n",
              "      <td>0</td>\n",
              "      <td>0</td>\n",
              "      <td>0</td>\n",
              "      <td>0</td>\n",
              "      <td>0</td>\n",
              "      <td>0</td>\n",
              "      <td>0</td>\n",
              "      <td>0</td>\n",
              "      <td>0</td>\n",
              "      <td>0</td>\n",
              "      <td>0</td>\n",
              "      <td>0</td>\n",
              "      <td>0</td>\n",
              "      <td>6</td>\n",
              "      <td>0</td>\n",
              "      <td>0</td>\n",
              "      <td>0</td>\n",
              "      <td>0</td>\n",
              "      <td>0</td>\n",
              "      <td>0</td>\n",
              "      <td>0</td>\n",
              "      <td>0</td>\n",
              "      <td>0</td>\n",
              "      <td>0</td>\n",
              "      <td>0</td>\n",
              "      <td>0</td>\n",
              "      <td>0</td>\n",
              "      <td>0</td>\n",
              "      <td>0</td>\n",
              "      <td>0</td>\n",
              "      <td>0</td>\n",
              "      <td>0</td>\n",
              "      <td>0</td>\n",
              "      <td>0</td>\n",
              "      <td>1</td>\n",
              "      <td>0</td>\n",
              "      <td>0</td>\n",
              "      <td>0</td>\n",
              "      <td>0</td>\n",
              "      <td>0</td>\n",
              "    </tr>\n",
              "  </tbody>\n",
              "</table>\n",
              "<p>5 rows × 85 columns</p>\n",
              "</div>"
            ],
            "text/plain": [
              "   MOSTYPE  MAANTHUI  MGEMOMV  MGEMLEEF  ...  APLEZIER  AFIETS  AINBOED  ABYSTAND\n",
              "0       33         1        3         2  ...         0       0        0         0\n",
              "1       37         1        2         2  ...         0       0        0         0\n",
              "2       37         1        2         2  ...         0       0        0         0\n",
              "3        9         1        3         3  ...         0       0        0         0\n",
              "4       40         1        4         2  ...         0       0        0         0\n",
              "\n",
              "[5 rows x 85 columns]"
            ]
          },
          "metadata": {
            "tags": []
          },
          "execution_count": 23
        }
      ]
    },
    {
      "cell_type": "markdown",
      "metadata": {
        "id": "xswDi6CzV0Re"
      },
      "source": [
        "# Prediction"
      ]
    },
    {
      "cell_type": "markdown",
      "metadata": {
        "id": "tSOrRXqtV0Rf"
      },
      "source": [
        "the parameter of the function clf.predict(which is in below cell) are  \n",
        "\n",
        "\n",
        "MOSTYPE', 'MAANTHUI', 'MGEMOMV', 'MGEMLEEF', 'MOSHOOFD', 'MGODRK',\n",
        "       'MGODPR', 'MGODOV', 'MGODGE', 'MRELGE', 'MRELSA', 'MRELOV', 'MFALLEEN',\n",
        "       'MFGEKIND', 'MFWEKIND', 'MOPLHOOG', 'MOPLMIDD', 'MOPLLAAG', 'MBERHOOG',\n",
        "       'MBERZELF', 'MBERBOER', 'MBERMIDD', 'MBERARBG', 'MBERARBO', 'MSKA',\n",
        "       'MSKB1', 'MSKB2', 'MSKC', 'MSKD', 'MHHUUR', 'MHKOOP', 'MAUT1', 'MAUT2',\n",
        "       'MAUT0', 'MZFONDS', 'MZPART', 'MINKM30', 'MINK3045', 'MINK4575',\n",
        "       'MINK7512', 'MINK123M', 'MINKGEM', 'MKOOPKLA', 'PWAPART', 'PWABEDR',\n",
        "       'PWALAND', 'PPERSAUT', 'PBESAUT', 'PMOTSCO', 'PVRAAUT', 'PAANHANG',\n",
        "       'PTRACTOR', 'PWERKT', 'PBROM', 'PLEVEN', 'PPERSONG', 'PGEZONG',\n",
        "       'PWAOREG', 'PBRAND', 'PZEILPL', 'PPLEZIER', 'PFIETS', 'PINBOED',\n",
        "       'PBYSTAND', 'AWAPART', 'AWABEDR', 'AWALAND', 'APERSAUT', 'ABESAUT',\n",
        "       'AMOTSCO', 'AVRAAUT', 'AAANHANG', 'ATRACTOR', 'AWERKT', 'ABROM',\n",
        "       'ALEVEN', 'APERSONG', 'AGEZONG', 'AWAOREG', 'ABRAND', 'AZEILPL',\n",
        "       'APLEZIER', 'AFIETS', 'AINBOED', 'ABYSTAND'\n",
        "       \n",
        "       \n",
        "       \n",
        " so we will change these values to get the prediction wo is interested in buying  caravan-insurance policy.\n",
        " we will get the output in 1,0(one,zero) form 1 means person is interested and 0 measns not interested and the most effected variable are MOSTYPE', 'MAANTHUI', 'MGEMOMV' ,'MRELSA', 'MRELOV', 'MFALLEEN',MBERBOER , 'MHHUUR', 'MHKOOP' "
      ]
    },
    {
      "cell_type": "code",
      "metadata": {
        "id": "_0SMx-uIV0Rg"
      },
      "source": [
        "preds = clf.predict([[\n",
        "12,1,7,3,9,8,9,0,1,8,9,6,8,6,5,0,8,6,1,8,1,9,1,6,9,1,\n",
        "2,9,1,9,7,7,0,8,2,2,0,1,5,8,0,4,1,2,0,0,0,0,0,0,0,0,0,\n",
        "0,0,0,0,0,4,0,0,0,2,0,1,0,0,0,0,0,0,0,0,0,0,2,0,0,0,1,\n",
        "0,0,0,1,0\n",
        "]])\n"
      ],
      "execution_count": null,
      "outputs": []
    },
    {
      "cell_type": "code",
      "metadata": {
        "id": "YavLjzERV0Rh",
        "colab": {
          "base_uri": "https://localhost:8080/"
        },
        "outputId": "17e7980b-b403-4e24-8b37-7fb385939356"
      },
      "source": [
        "preds"
      ],
      "execution_count": null,
      "outputs": [
        {
          "output_type": "execute_result",
          "data": {
            "text/plain": [
              "array([0])"
            ]
          },
          "metadata": {
            "tags": []
          },
          "execution_count": 25
        }
      ]
    },
    {
      "cell_type": "code",
      "metadata": {
        "id": "RKqz8DZUV0Rj"
      },
      "source": [
        "def objective(trial):\n",
        "    df=pd.read_csv(\"/content/drive/MyDrive/Colab Notebooks/DNLP Class/caravan-insurance-challenge.csv\")\n",
        "    \n",
        "    train=df[:5822]\n",
        "    test=df[5822:]\n",
        "    \n",
        "    train_x=train.drop(columns=['ORIGIN','CARAVAN'],axis=1)\n",
        "    train_y=train['CARAVAN']\n",
        "    test_x=test.drop(columns=['ORIGIN','CARAVAN'],axis=1)\n",
        "    test_y=test['CARAVAN']\n",
        "    \n",
        "    dtrain = lgb.Dataset(train_x,\n",
        "                      label=train_y,\n",
        "                      categorical_feature = [0,1]\n",
        "                      )\n",
        "    dval = lgb.Dataset(\n",
        "                     test_x,\n",
        "                     label=test_y,\n",
        "                     categorical_feature = [0,1]\n",
        "                    )\n",
        "    params_fixed = {                           \n",
        "                    \"objective\": \"binary\",\n",
        "                 \"metric\": \"binary_logloss\",\n",
        "                 \"verbosity\": -1,\n",
        "                 \"boosting_type\": \"gbdt\",\n",
        "\n",
        "                \"bagging_fraction\": trial.suggest_float(\"bagging_fraction\", 0.4, 1.0),\n",
        "                \"bagging_freq\": trial.suggest_int(\"bagging_freq\", 1, 7),\n",
        "                \"min_child_samples\": trial.suggest_int(\"min_child_samples\", 5, 100),\n",
        "\n",
        "                }\n",
        "    \n",
        "    model = lgb.train(\n",
        "                   params_fixed,               \n",
        "                   dtrain,                     \n",
        "                   valid_sets=[dtrain, dval],  \n",
        "                   verbose_eval=100,\n",
        "                   early_stopping_rounds=100,\n",
        "                   categorical_feature = [0,1] \n",
        "                  )\n",
        "    preds = model.predict(test_x)\n",
        "    \n",
        "    pred_labels = np.rint(preds)\n",
        "    accuracy = sklearn.metrics.accuracy_score(test_y, pred_labels)\n",
        "\n",
        "    return accuracy\n"
      ],
      "execution_count": null,
      "outputs": []
    },
    {
      "cell_type": "code",
      "metadata": {
        "id": "DBwD-5d3V0Ro",
        "colab": {
          "base_uri": "https://localhost:8080/"
        },
        "outputId": "25bf4996-ee61-4f47-9836-99d1028082a6"
      },
      "source": [
        "study = optuna.create_study(\n",
        "    direction=\"maximize\",\n",
        "    sampler=optuna.samplers.TPESampler(seed=SEED),\n",
        "    pruner=optuna.pruners.MedianPruner(n_warmup_steps=10),\n",
        ")\n",
        "study.optimize(objective,n_trials=100)\n"
      ],
      "execution_count": null,
      "outputs": [
        {
          "output_type": "stream",
          "text": [
            "\u001b[32m[I 2021-08-12 18:46:25,182]\u001b[0m A new study created in memory with name: no-name-b4805815-89c0-442e-87bc-9372dde87406\u001b[0m\n",
            "/usr/local/lib/python3.7/dist-packages/lightgbm/basic.py:762: UserWarning:\n",
            "\n",
            "categorical_feature in param dict is overridden.\n",
            "\n"
          ],
          "name": "stderr"
        },
        {
          "output_type": "stream",
          "text": [
            "Training until validation scores don't improve for 100 rounds.\n"
          ],
          "name": "stdout"
        },
        {
          "output_type": "stream",
          "text": [
            "\u001b[32m[I 2021-08-12 18:46:26,079]\u001b[0m Trial 0 finished with value: 0.9355 and parameters: {'bagging_fraction': 0.6247240713084175, 'bagging_freq': 7, 'min_child_samples': 75}. Best is trial 0 with value: 0.9355.\u001b[0m\n"
          ],
          "name": "stderr"
        },
        {
          "output_type": "stream",
          "text": [
            "[100]\ttraining's binary_logloss: 0.103315\tvalid_1's binary_logloss: 0.240987\n",
            "Did not meet early stopping. Best iteration is:\n",
            "[100]\ttraining's binary_logloss: 0.103315\tvalid_1's binary_logloss: 0.240987\n",
            "Training until validation scores don't improve for 100 rounds.\n"
          ],
          "name": "stdout"
        },
        {
          "output_type": "stream",
          "text": [
            "/usr/local/lib/python3.7/dist-packages/lightgbm/basic.py:762: UserWarning:\n",
            "\n",
            "categorical_feature in param dict is overridden.\n",
            "\n",
            "\u001b[32m[I 2021-08-12 18:46:27,052]\u001b[0m Trial 1 finished with value: 0.93225 and parameters: {'bagging_fraction': 0.759195090518222, 'bagging_freq': 2, 'min_child_samples': 19}. Best is trial 0 with value: 0.9355.\u001b[0m\n"
          ],
          "name": "stderr"
        },
        {
          "output_type": "stream",
          "text": [
            "[100]\ttraining's binary_logloss: 0.0714026\tvalid_1's binary_logloss: 0.2398\n",
            "Did not meet early stopping. Best iteration is:\n",
            "[100]\ttraining's binary_logloss: 0.0714026\tvalid_1's binary_logloss: 0.2398\n",
            "Training until validation scores don't improve for 100 rounds.\n"
          ],
          "name": "stdout"
        },
        {
          "output_type": "stream",
          "text": [
            "/usr/local/lib/python3.7/dist-packages/lightgbm/basic.py:762: UserWarning:\n",
            "\n",
            "categorical_feature in param dict is overridden.\n",
            "\n",
            "\u001b[32m[I 2021-08-12 18:46:27,826]\u001b[0m Trial 2 finished with value: 0.9325 and parameters: {'bagging_fraction': 0.4348501673009197, 'bagging_freq': 7, 'min_child_samples': 62}. Best is trial 0 with value: 0.9355.\u001b[0m\n"
          ],
          "name": "stderr"
        },
        {
          "output_type": "stream",
          "text": [
            "[100]\ttraining's binary_logloss: 0.117997\tvalid_1's binary_logloss: 0.238049\n",
            "Did not meet early stopping. Best iteration is:\n",
            "[100]\ttraining's binary_logloss: 0.117997\tvalid_1's binary_logloss: 0.238049\n",
            "Training until validation scores don't improve for 100 rounds.\n"
          ],
          "name": "stdout"
        },
        {
          "output_type": "stream",
          "text": [
            "/usr/local/lib/python3.7/dist-packages/lightgbm/basic.py:762: UserWarning:\n",
            "\n",
            "categorical_feature in param dict is overridden.\n",
            "\n",
            "\u001b[32m[I 2021-08-12 18:46:28,730]\u001b[0m Trial 3 finished with value: 0.93725 and parameters: {'bagging_fraction': 0.8248435466776274, 'bagging_freq': 1, 'min_child_samples': 98}. Best is trial 3 with value: 0.93725.\u001b[0m\n"
          ],
          "name": "stderr"
        },
        {
          "output_type": "stream",
          "text": [
            "[100]\ttraining's binary_logloss: 0.092841\tvalid_1's binary_logloss: 0.232757\n",
            "Did not meet early stopping. Best iteration is:\n",
            "[100]\ttraining's binary_logloss: 0.092841\tvalid_1's binary_logloss: 0.232757\n",
            "Training until validation scores don't improve for 100 rounds.\n"
          ],
          "name": "stdout"
        },
        {
          "output_type": "stream",
          "text": [
            "/usr/local/lib/python3.7/dist-packages/lightgbm/basic.py:762: UserWarning:\n",
            "\n",
            "categorical_feature in param dict is overridden.\n",
            "\n",
            "\u001b[32m[I 2021-08-12 18:46:29,726]\u001b[0m Trial 4 finished with value: 0.9335 and parameters: {'bagging_fraction': 0.899465584480253, 'bagging_freq': 2, 'min_child_samples': 22}. Best is trial 3 with value: 0.93725.\u001b[0m\n"
          ],
          "name": "stderr"
        },
        {
          "output_type": "stream",
          "text": [
            "[100]\ttraining's binary_logloss: 0.0725138\tvalid_1's binary_logloss: 0.238939\n",
            "Did not meet early stopping. Best iteration is:\n",
            "[100]\ttraining's binary_logloss: 0.0725138\tvalid_1's binary_logloss: 0.238939\n",
            "Training until validation scores don't improve for 100 rounds.\n"
          ],
          "name": "stdout"
        },
        {
          "output_type": "stream",
          "text": [
            "/usr/local/lib/python3.7/dist-packages/lightgbm/basic.py:762: UserWarning:\n",
            "\n",
            "categorical_feature in param dict is overridden.\n",
            "\n",
            "\u001b[32m[I 2021-08-12 18:46:30,581]\u001b[0m Trial 5 finished with value: 0.93525 and parameters: {'bagging_fraction': 0.5100427059120604, 'bagging_freq': 3, 'min_child_samples': 55}. Best is trial 3 with value: 0.93725.\u001b[0m\n"
          ],
          "name": "stderr"
        },
        {
          "output_type": "stream",
          "text": [
            "[100]\ttraining's binary_logloss: 0.099196\tvalid_1's binary_logloss: 0.23627\n",
            "Did not meet early stopping. Best iteration is:\n",
            "[100]\ttraining's binary_logloss: 0.099196\tvalid_1's binary_logloss: 0.23627\n",
            "Training until validation scores don't improve for 100 rounds.\n"
          ],
          "name": "stdout"
        },
        {
          "output_type": "stream",
          "text": [
            "/usr/local/lib/python3.7/dist-packages/lightgbm/basic.py:762: UserWarning:\n",
            "\n",
            "categorical_feature in param dict is overridden.\n",
            "\n",
            "\u001b[32m[I 2021-08-12 18:46:31,451]\u001b[0m Trial 6 finished with value: 0.93475 and parameters: {'bagging_fraction': 0.6591670111852694, 'bagging_freq': 3, 'min_child_samples': 63}. Best is trial 3 with value: 0.93725.\u001b[0m\n"
          ],
          "name": "stderr"
        },
        {
          "output_type": "stream",
          "text": [
            "[100]\ttraining's binary_logloss: 0.092565\tvalid_1's binary_logloss: 0.237212\n",
            "Did not meet early stopping. Best iteration is:\n",
            "[100]\ttraining's binary_logloss: 0.092565\tvalid_1's binary_logloss: 0.237212\n",
            "Training until validation scores don't improve for 100 rounds.\n"
          ],
          "name": "stdout"
        },
        {
          "output_type": "stream",
          "text": [
            "/usr/local/lib/python3.7/dist-packages/lightgbm/basic.py:762: UserWarning:\n",
            "\n",
            "categorical_feature in param dict is overridden.\n",
            "\n",
            "\u001b[32m[I 2021-08-12 18:46:32,302]\u001b[0m Trial 7 finished with value: 0.933 and parameters: {'bagging_fraction': 0.4836963163912251, 'bagging_freq': 3, 'min_child_samples': 40}. Best is trial 3 with value: 0.93725.\u001b[0m\n"
          ],
          "name": "stderr"
        },
        {
          "output_type": "stream",
          "text": [
            "[100]\ttraining's binary_logloss: 0.0943508\tvalid_1's binary_logloss: 0.247529\n",
            "Did not meet early stopping. Best iteration is:\n",
            "[100]\ttraining's binary_logloss: 0.0943508\tvalid_1's binary_logloss: 0.247529\n",
            "Training until validation scores don't improve for 100 rounds.\n"
          ],
          "name": "stdout"
        },
        {
          "output_type": "stream",
          "text": [
            "/usr/local/lib/python3.7/dist-packages/lightgbm/basic.py:762: UserWarning:\n",
            "\n",
            "categorical_feature in param dict is overridden.\n",
            "\n",
            "\u001b[32m[I 2021-08-12 18:46:33,207]\u001b[0m Trial 8 finished with value: 0.933 and parameters: {'bagging_fraction': 0.6736419905302216, 'bagging_freq': 6, 'min_child_samples': 24}. Best is trial 3 with value: 0.93725.\u001b[0m\n"
          ],
          "name": "stderr"
        },
        {
          "output_type": "stream",
          "text": [
            "[100]\ttraining's binary_logloss: 0.0774954\tvalid_1's binary_logloss: 0.245327\n",
            "Did not meet early stopping. Best iteration is:\n",
            "[100]\ttraining's binary_logloss: 0.0774954\tvalid_1's binary_logloss: 0.245327\n",
            "Training until validation scores don't improve for 100 rounds.\n"
          ],
          "name": "stdout"
        },
        {
          "output_type": "stream",
          "text": [
            "/usr/local/lib/python3.7/dist-packages/lightgbm/basic.py:762: UserWarning:\n",
            "\n",
            "categorical_feature in param dict is overridden.\n",
            "\n",
            "\u001b[32m[I 2021-08-12 18:46:34,122]\u001b[0m Trial 9 finished with value: 0.93325 and parameters: {'bagging_fraction': 0.708540663048167, 'bagging_freq': 5, 'min_child_samples': 9}. Best is trial 3 with value: 0.93725.\u001b[0m\n"
          ],
          "name": "stderr"
        },
        {
          "output_type": "stream",
          "text": [
            "[100]\ttraining's binary_logloss: 0.0705985\tvalid_1's binary_logloss: 0.244664\n",
            "Did not meet early stopping. Best iteration is:\n",
            "[100]\ttraining's binary_logloss: 0.0705985\tvalid_1's binary_logloss: 0.244664\n",
            "Training until validation scores don't improve for 100 rounds.\n"
          ],
          "name": "stdout"
        },
        {
          "output_type": "stream",
          "text": [
            "/usr/local/lib/python3.7/dist-packages/lightgbm/basic.py:762: UserWarning:\n",
            "\n",
            "categorical_feature in param dict is overridden.\n",
            "\n",
            "\u001b[32m[I 2021-08-12 18:46:35,047]\u001b[0m Trial 10 finished with value: 0.9365 and parameters: {'bagging_fraction': 0.9807628179319392, 'bagging_freq': 1, 'min_child_samples': 98}. Best is trial 3 with value: 0.93725.\u001b[0m\n"
          ],
          "name": "stderr"
        },
        {
          "output_type": "stream",
          "text": [
            "[100]\ttraining's binary_logloss: 0.0863152\tvalid_1's binary_logloss: 0.233646\n",
            "Did not meet early stopping. Best iteration is:\n",
            "[100]\ttraining's binary_logloss: 0.0863152\tvalid_1's binary_logloss: 0.233646\n",
            "Training until validation scores don't improve for 100 rounds.\n"
          ],
          "name": "stdout"
        },
        {
          "output_type": "stream",
          "text": [
            "/usr/local/lib/python3.7/dist-packages/lightgbm/basic.py:762: UserWarning:\n",
            "\n",
            "categorical_feature in param dict is overridden.\n",
            "\n",
            "\u001b[32m[I 2021-08-12 18:46:35,971]\u001b[0m Trial 11 finished with value: 0.937 and parameters: {'bagging_fraction': 0.960677975271797, 'bagging_freq': 1, 'min_child_samples': 94}. Best is trial 3 with value: 0.93725.\u001b[0m\n"
          ],
          "name": "stderr"
        },
        {
          "output_type": "stream",
          "text": [
            "[100]\ttraining's binary_logloss: 0.0858006\tvalid_1's binary_logloss: 0.234839\n",
            "Did not meet early stopping. Best iteration is:\n",
            "[100]\ttraining's binary_logloss: 0.0858006\tvalid_1's binary_logloss: 0.234839\n",
            "Training until validation scores don't improve for 100 rounds.\n"
          ],
          "name": "stdout"
        },
        {
          "output_type": "stream",
          "text": [
            "/usr/local/lib/python3.7/dist-packages/lightgbm/basic.py:762: UserWarning:\n",
            "\n",
            "categorical_feature in param dict is overridden.\n",
            "\n",
            "\u001b[32m[I 2021-08-12 18:46:36,859]\u001b[0m Trial 12 finished with value: 0.935 and parameters: {'bagging_fraction': 0.8422233433705593, 'bagging_freq': 1, 'min_child_samples': 99}. Best is trial 3 with value: 0.93725.\u001b[0m\n"
          ],
          "name": "stderr"
        },
        {
          "output_type": "stream",
          "text": [
            "[100]\ttraining's binary_logloss: 0.0927022\tvalid_1's binary_logloss: 0.232753\n",
            "Did not meet early stopping. Best iteration is:\n",
            "[100]\ttraining's binary_logloss: 0.0927022\tvalid_1's binary_logloss: 0.232753\n",
            "Training until validation scores don't improve for 100 rounds.\n"
          ],
          "name": "stdout"
        },
        {
          "output_type": "stream",
          "text": [
            "/usr/local/lib/python3.7/dist-packages/lightgbm/basic.py:762: UserWarning:\n",
            "\n",
            "categorical_feature in param dict is overridden.\n",
            "\n",
            "\u001b[32m[I 2021-08-12 18:46:37,786]\u001b[0m Trial 13 finished with value: 0.93575 and parameters: {'bagging_fraction': 0.9983507036605508, 'bagging_freq': 1, 'min_child_samples': 84}. Best is trial 3 with value: 0.93725.\u001b[0m\n"
          ],
          "name": "stderr"
        },
        {
          "output_type": "stream",
          "text": [
            "[100]\ttraining's binary_logloss: 0.0842913\tvalid_1's binary_logloss: 0.232053\n",
            "Did not meet early stopping. Best iteration is:\n",
            "[100]\ttraining's binary_logloss: 0.0842913\tvalid_1's binary_logloss: 0.232053\n",
            "Training until validation scores don't improve for 100 rounds.\n"
          ],
          "name": "stdout"
        },
        {
          "output_type": "stream",
          "text": [
            "/usr/local/lib/python3.7/dist-packages/lightgbm/basic.py:762: UserWarning:\n",
            "\n",
            "categorical_feature in param dict is overridden.\n",
            "\n",
            "\u001b[32m[I 2021-08-12 18:46:38,709]\u001b[0m Trial 14 finished with value: 0.93475 and parameters: {'bagging_fraction': 0.8446383804415064, 'bagging_freq': 4, 'min_child_samples': 82}. Best is trial 3 with value: 0.93725.\u001b[0m\n"
          ],
          "name": "stderr"
        },
        {
          "output_type": "stream",
          "text": [
            "[100]\ttraining's binary_logloss: 0.0891919\tvalid_1's binary_logloss: 0.236128\n",
            "Did not meet early stopping. Best iteration is:\n",
            "[100]\ttraining's binary_logloss: 0.0891919\tvalid_1's binary_logloss: 0.236128\n",
            "Training until validation scores don't improve for 100 rounds.\n"
          ],
          "name": "stdout"
        },
        {
          "output_type": "stream",
          "text": [
            "/usr/local/lib/python3.7/dist-packages/lightgbm/basic.py:762: UserWarning:\n",
            "\n",
            "categorical_feature in param dict is overridden.\n",
            "\n",
            "\u001b[32m[I 2021-08-12 18:46:39,670]\u001b[0m Trial 15 finished with value: 0.93625 and parameters: {'bagging_fraction': 0.9125594092958378, 'bagging_freq': 2, 'min_child_samples': 86}. Best is trial 3 with value: 0.93725.\u001b[0m\n"
          ],
          "name": "stderr"
        },
        {
          "output_type": "stream",
          "text": [
            "[100]\ttraining's binary_logloss: 0.0857357\tvalid_1's binary_logloss: 0.238221\n",
            "Did not meet early stopping. Best iteration is:\n",
            "[100]\ttraining's binary_logloss: 0.0857357\tvalid_1's binary_logloss: 0.238221\n",
            "Training until validation scores don't improve for 100 rounds.\n"
          ],
          "name": "stdout"
        },
        {
          "output_type": "stream",
          "text": [
            "/usr/local/lib/python3.7/dist-packages/lightgbm/basic.py:762: UserWarning:\n",
            "\n",
            "categorical_feature in param dict is overridden.\n",
            "\n",
            "\u001b[32m[I 2021-08-12 18:46:40,584]\u001b[0m Trial 16 finished with value: 0.9355 and parameters: {'bagging_fraction': 0.775690618497564, 'bagging_freq': 4, 'min_child_samples': 71}. Best is trial 3 with value: 0.93725.\u001b[0m\n"
          ],
          "name": "stderr"
        },
        {
          "output_type": "stream",
          "text": [
            "[100]\ttraining's binary_logloss: 0.0885486\tvalid_1's binary_logloss: 0.241605\n",
            "Did not meet early stopping. Best iteration is:\n",
            "[100]\ttraining's binary_logloss: 0.0885486\tvalid_1's binary_logloss: 0.241605\n",
            "Training until validation scores don't improve for 100 rounds.\n"
          ],
          "name": "stdout"
        },
        {
          "output_type": "stream",
          "text": [
            "/usr/local/lib/python3.7/dist-packages/lightgbm/basic.py:762: UserWarning:\n",
            "\n",
            "categorical_feature in param dict is overridden.\n",
            "\n",
            "\u001b[32m[I 2021-08-12 18:46:41,539]\u001b[0m Trial 17 finished with value: 0.9345 and parameters: {'bagging_fraction': 0.9178361842790465, 'bagging_freq': 1, 'min_child_samples': 41}. Best is trial 3 with value: 0.93725.\u001b[0m\n"
          ],
          "name": "stderr"
        },
        {
          "output_type": "stream",
          "text": [
            "[100]\ttraining's binary_logloss: 0.0766623\tvalid_1's binary_logloss: 0.243834\n",
            "Did not meet early stopping. Best iteration is:\n",
            "[100]\ttraining's binary_logloss: 0.0766623\tvalid_1's binary_logloss: 0.243834\n",
            "Training until validation scores don't improve for 100 rounds.\n"
          ],
          "name": "stdout"
        },
        {
          "output_type": "stream",
          "text": [
            "/usr/local/lib/python3.7/dist-packages/lightgbm/basic.py:762: UserWarning:\n",
            "\n",
            "categorical_feature in param dict is overridden.\n",
            "\n",
            "\u001b[32m[I 2021-08-12 18:46:42,451]\u001b[0m Trial 18 finished with value: 0.93775 and parameters: {'bagging_fraction': 0.8206975572362558, 'bagging_freq': 2, 'min_child_samples': 90}. Best is trial 18 with value: 0.93775.\u001b[0m\n"
          ],
          "name": "stderr"
        },
        {
          "output_type": "stream",
          "text": [
            "[100]\ttraining's binary_logloss: 0.0903777\tvalid_1's binary_logloss: 0.234963\n",
            "Did not meet early stopping. Best iteration is:\n",
            "[100]\ttraining's binary_logloss: 0.0903777\tvalid_1's binary_logloss: 0.234963\n",
            "Training until validation scores don't improve for 100 rounds.\n"
          ],
          "name": "stdout"
        },
        {
          "output_type": "stream",
          "text": [
            "/usr/local/lib/python3.7/dist-packages/lightgbm/basic.py:762: UserWarning:\n",
            "\n",
            "categorical_feature in param dict is overridden.\n",
            "\n",
            "\u001b[32m[I 2021-08-12 18:46:43,248]\u001b[0m Trial 19 finished with value: 0.9365 and parameters: {'bagging_fraction': 0.5949474017149876, 'bagging_freq': 2, 'min_child_samples': 91}. Best is trial 18 with value: 0.93775.\u001b[0m\n"
          ],
          "name": "stderr"
        },
        {
          "output_type": "stream",
          "text": [
            "[100]\ttraining's binary_logloss: 0.111034\tvalid_1's binary_logloss: 0.227989\n",
            "Did not meet early stopping. Best iteration is:\n",
            "[100]\ttraining's binary_logloss: 0.111034\tvalid_1's binary_logloss: 0.227989\n",
            "Training until validation scores don't improve for 100 rounds.\n"
          ],
          "name": "stdout"
        },
        {
          "output_type": "stream",
          "text": [
            "/usr/local/lib/python3.7/dist-packages/lightgbm/basic.py:762: UserWarning:\n",
            "\n",
            "categorical_feature in param dict is overridden.\n",
            "\n",
            "\u001b[32m[I 2021-08-12 18:46:44,185]\u001b[0m Trial 20 finished with value: 0.934 and parameters: {'bagging_fraction': 0.8170972500642734, 'bagging_freq': 4, 'min_child_samples': 77}. Best is trial 18 with value: 0.93775.\u001b[0m\n"
          ],
          "name": "stderr"
        },
        {
          "output_type": "stream",
          "text": [
            "[100]\ttraining's binary_logloss: 0.0881133\tvalid_1's binary_logloss: 0.238179\n",
            "Did not meet early stopping. Best iteration is:\n",
            "[100]\ttraining's binary_logloss: 0.0881133\tvalid_1's binary_logloss: 0.238179\n",
            "Training until validation scores don't improve for 100 rounds.\n"
          ],
          "name": "stdout"
        },
        {
          "output_type": "stream",
          "text": [
            "/usr/local/lib/python3.7/dist-packages/lightgbm/basic.py:762: UserWarning:\n",
            "\n",
            "categorical_feature in param dict is overridden.\n",
            "\n",
            "\u001b[32m[I 2021-08-12 18:46:45,047]\u001b[0m Trial 21 finished with value: 0.9375 and parameters: {'bagging_fraction': 0.7581724747076644, 'bagging_freq': 1, 'min_child_samples': 92}. Best is trial 18 with value: 0.93775.\u001b[0m\n"
          ],
          "name": "stderr"
        },
        {
          "output_type": "stream",
          "text": [
            "[100]\ttraining's binary_logloss: 0.0940955\tvalid_1's binary_logloss: 0.233069\n",
            "Did not meet early stopping. Best iteration is:\n",
            "[100]\ttraining's binary_logloss: 0.0940955\tvalid_1's binary_logloss: 0.233069\n",
            "Training until validation scores don't improve for 100 rounds.\n"
          ],
          "name": "stdout"
        },
        {
          "output_type": "stream",
          "text": [
            "/usr/local/lib/python3.7/dist-packages/lightgbm/basic.py:762: UserWarning:\n",
            "\n",
            "categorical_feature in param dict is overridden.\n",
            "\n",
            "\u001b[32m[I 2021-08-12 18:46:45,941]\u001b[0m Trial 22 finished with value: 0.93775 and parameters: {'bagging_fraction': 0.7594072998875797, 'bagging_freq': 2, 'min_child_samples': 100}. Best is trial 18 with value: 0.93775.\u001b[0m\n"
          ],
          "name": "stderr"
        },
        {
          "output_type": "stream",
          "text": [
            "[100]\ttraining's binary_logloss: 0.099029\tvalid_1's binary_logloss: 0.230603\n",
            "Did not meet early stopping. Best iteration is:\n",
            "[100]\ttraining's binary_logloss: 0.099029\tvalid_1's binary_logloss: 0.230603\n",
            "Training until validation scores don't improve for 100 rounds.\n"
          ],
          "name": "stdout"
        },
        {
          "output_type": "stream",
          "text": [
            "/usr/local/lib/python3.7/dist-packages/lightgbm/basic.py:762: UserWarning:\n",
            "\n",
            "categorical_feature in param dict is overridden.\n",
            "\n",
            "\u001b[32m[I 2021-08-12 18:46:46,837]\u001b[0m Trial 23 finished with value: 0.937 and parameters: {'bagging_fraction': 0.7302929284103302, 'bagging_freq': 2, 'min_child_samples': 88}. Best is trial 18 with value: 0.93775.\u001b[0m\n"
          ],
          "name": "stderr"
        },
        {
          "output_type": "stream",
          "text": [
            "[100]\ttraining's binary_logloss: 0.0960794\tvalid_1's binary_logloss: 0.234936\n",
            "Did not meet early stopping. Best iteration is:\n",
            "[100]\ttraining's binary_logloss: 0.0960794\tvalid_1's binary_logloss: 0.234936\n",
            "Training until validation scores don't improve for 100 rounds.\n"
          ],
          "name": "stdout"
        },
        {
          "output_type": "stream",
          "text": [
            "/usr/local/lib/python3.7/dist-packages/lightgbm/basic.py:762: UserWarning:\n",
            "\n",
            "categorical_feature in param dict is overridden.\n",
            "\n",
            "\u001b[32m[I 2021-08-12 18:46:47,749]\u001b[0m Trial 24 finished with value: 0.9355 and parameters: {'bagging_fraction': 0.768445119552756, 'bagging_freq': 3, 'min_child_samples': 72}. Best is trial 18 with value: 0.93775.\u001b[0m\n"
          ],
          "name": "stderr"
        },
        {
          "output_type": "stream",
          "text": [
            "[100]\ttraining's binary_logloss: 0.0899956\tvalid_1's binary_logloss: 0.239304\n",
            "Did not meet early stopping. Best iteration is:\n",
            "[100]\ttraining's binary_logloss: 0.0899956\tvalid_1's binary_logloss: 0.239304\n",
            "Training until validation scores don't improve for 100 rounds.\n"
          ],
          "name": "stdout"
        },
        {
          "output_type": "stream",
          "text": [
            "/usr/local/lib/python3.7/dist-packages/lightgbm/basic.py:762: UserWarning:\n",
            "\n",
            "categorical_feature in param dict is overridden.\n",
            "\n",
            "\u001b[32m[I 2021-08-12 18:46:48,521]\u001b[0m Trial 25 finished with value: 0.93575 and parameters: {'bagging_fraction': 0.5525806341350226, 'bagging_freq': 2, 'min_child_samples': 91}. Best is trial 18 with value: 0.93775.\u001b[0m\n"
          ],
          "name": "stderr"
        },
        {
          "output_type": "stream",
          "text": [
            "[100]\ttraining's binary_logloss: 0.11408\tvalid_1's binary_logloss: 0.22931\n",
            "Did not meet early stopping. Best iteration is:\n",
            "[100]\ttraining's binary_logloss: 0.11408\tvalid_1's binary_logloss: 0.22931\n",
            "Training until validation scores don't improve for 100 rounds.\n"
          ],
          "name": "stdout"
        },
        {
          "output_type": "stream",
          "text": [
            "/usr/local/lib/python3.7/dist-packages/lightgbm/basic.py:762: UserWarning:\n",
            "\n",
            "categorical_feature in param dict is overridden.\n",
            "\n",
            "\u001b[32m[I 2021-08-12 18:46:49,458]\u001b[0m Trial 26 finished with value: 0.93475 and parameters: {'bagging_fraction': 0.7874214437524669, 'bagging_freq': 3, 'min_child_samples': 80}. Best is trial 18 with value: 0.93775.\u001b[0m\n"
          ],
          "name": "stderr"
        },
        {
          "output_type": "stream",
          "text": [
            "[100]\ttraining's binary_logloss: 0.0916856\tvalid_1's binary_logloss: 0.238606\n",
            "Did not meet early stopping. Best iteration is:\n",
            "[100]\ttraining's binary_logloss: 0.0916856\tvalid_1's binary_logloss: 0.238606\n",
            "Training until validation scores don't improve for 100 rounds.\n"
          ],
          "name": "stdout"
        },
        {
          "output_type": "stream",
          "text": [
            "/usr/local/lib/python3.7/dist-packages/lightgbm/basic.py:762: UserWarning:\n",
            "\n",
            "categorical_feature in param dict is overridden.\n",
            "\n",
            "\u001b[32m[I 2021-08-12 18:46:50,396]\u001b[0m Trial 27 finished with value: 0.93375 and parameters: {'bagging_fraction': 0.8808910194331233, 'bagging_freq': 5, 'min_child_samples': 66}. Best is trial 18 with value: 0.93775.\u001b[0m\n"
          ],
          "name": "stderr"
        },
        {
          "output_type": "stream",
          "text": [
            "[100]\ttraining's binary_logloss: 0.0844653\tvalid_1's binary_logloss: 0.242037\n",
            "Did not meet early stopping. Best iteration is:\n",
            "[100]\ttraining's binary_logloss: 0.0844653\tvalid_1's binary_logloss: 0.242037\n",
            "Training until validation scores don't improve for 100 rounds.\n"
          ],
          "name": "stdout"
        },
        {
          "output_type": "stream",
          "text": [
            "/usr/local/lib/python3.7/dist-packages/lightgbm/basic.py:762: UserWarning:\n",
            "\n",
            "categorical_feature in param dict is overridden.\n",
            "\n",
            "\u001b[32m[I 2021-08-12 18:46:51,276]\u001b[0m Trial 28 finished with value: 0.9375 and parameters: {'bagging_fraction': 0.7226779700453105, 'bagging_freq': 2, 'min_child_samples': 100}. Best is trial 18 with value: 0.93775.\u001b[0m\n"
          ],
          "name": "stderr"
        },
        {
          "output_type": "stream",
          "text": [
            "[100]\ttraining's binary_logloss: 0.102679\tvalid_1's binary_logloss: 0.22991\n",
            "Did not meet early stopping. Best iteration is:\n",
            "[100]\ttraining's binary_logloss: 0.102679\tvalid_1's binary_logloss: 0.22991\n",
            "Training until validation scores don't improve for 100 rounds.\n"
          ],
          "name": "stdout"
        },
        {
          "output_type": "stream",
          "text": [
            "/usr/local/lib/python3.7/dist-packages/lightgbm/basic.py:762: UserWarning:\n",
            "\n",
            "categorical_feature in param dict is overridden.\n",
            "\n",
            "\u001b[32m[I 2021-08-12 18:46:52,119]\u001b[0m Trial 29 finished with value: 0.939 and parameters: {'bagging_fraction': 0.6256175105627158, 'bagging_freq': 4, 'min_child_samples': 99}. Best is trial 29 with value: 0.939.\u001b[0m\n"
          ],
          "name": "stderr"
        },
        {
          "output_type": "stream",
          "text": [
            "[100]\ttraining's binary_logloss: 0.113115\tvalid_1's binary_logloss: 0.22745\n",
            "Did not meet early stopping. Best iteration is:\n",
            "[100]\ttraining's binary_logloss: 0.113115\tvalid_1's binary_logloss: 0.22745\n",
            "Training until validation scores don't improve for 100 rounds.\n"
          ],
          "name": "stdout"
        },
        {
          "output_type": "stream",
          "text": [
            "/usr/local/lib/python3.7/dist-packages/lightgbm/basic.py:762: UserWarning:\n",
            "\n",
            "categorical_feature in param dict is overridden.\n",
            "\n",
            "\u001b[32m[I 2021-08-12 18:46:52,973]\u001b[0m Trial 30 finished with value: 0.935 and parameters: {'bagging_fraction': 0.5864136518187979, 'bagging_freq': 5, 'min_child_samples': 39}. Best is trial 29 with value: 0.939.\u001b[0m\n"
          ],
          "name": "stderr"
        },
        {
          "output_type": "stream",
          "text": [
            "[100]\ttraining's binary_logloss: 0.0912101\tvalid_1's binary_logloss: 0.242433\n",
            "Did not meet early stopping. Best iteration is:\n",
            "[100]\ttraining's binary_logloss: 0.0912101\tvalid_1's binary_logloss: 0.242433\n",
            "Training until validation scores don't improve for 100 rounds.\n"
          ],
          "name": "stdout"
        },
        {
          "output_type": "stream",
          "text": [
            "/usr/local/lib/python3.7/dist-packages/lightgbm/basic.py:762: UserWarning:\n",
            "\n",
            "categorical_feature in param dict is overridden.\n",
            "\n",
            "\u001b[32m[I 2021-08-12 18:46:53,777]\u001b[0m Trial 31 finished with value: 0.9365 and parameters: {'bagging_fraction': 0.6531198005202535, 'bagging_freq': 4, 'min_child_samples': 99}. Best is trial 29 with value: 0.939.\u001b[0m\n"
          ],
          "name": "stderr"
        },
        {
          "output_type": "stream",
          "text": [
            "[100]\ttraining's binary_logloss: 0.108877\tvalid_1's binary_logloss: 0.226886\n",
            "Did not meet early stopping. Best iteration is:\n",
            "[100]\ttraining's binary_logloss: 0.108877\tvalid_1's binary_logloss: 0.226886\n",
            "Training until validation scores don't improve for 100 rounds.\n"
          ],
          "name": "stdout"
        },
        {
          "output_type": "stream",
          "text": [
            "/usr/local/lib/python3.7/dist-packages/lightgbm/basic.py:762: UserWarning:\n",
            "\n",
            "categorical_feature in param dict is overridden.\n",
            "\n",
            "\u001b[32m[I 2021-08-12 18:46:54,635]\u001b[0m Trial 32 finished with value: 0.9375 and parameters: {'bagging_fraction': 0.707160735206391, 'bagging_freq': 2, 'min_child_samples': 100}. Best is trial 29 with value: 0.939.\u001b[0m\n"
          ],
          "name": "stderr"
        },
        {
          "output_type": "stream",
          "text": [
            "[100]\ttraining's binary_logloss: 0.103811\tvalid_1's binary_logloss: 0.230045\n",
            "Did not meet early stopping. Best iteration is:\n",
            "[100]\ttraining's binary_logloss: 0.103811\tvalid_1's binary_logloss: 0.230045\n",
            "Training until validation scores don't improve for 100 rounds.\n"
          ],
          "name": "stdout"
        },
        {
          "output_type": "stream",
          "text": [
            "/usr/local/lib/python3.7/dist-packages/lightgbm/basic.py:762: UserWarning:\n",
            "\n",
            "categorical_feature in param dict is overridden.\n",
            "\n",
            "\u001b[32m[I 2021-08-12 18:46:55,466]\u001b[0m Trial 33 finished with value: 0.9355 and parameters: {'bagging_fraction': 0.6206540823369198, 'bagging_freq': 7, 'min_child_samples': 86}. Best is trial 29 with value: 0.939.\u001b[0m\n"
          ],
          "name": "stderr"
        },
        {
          "output_type": "stream",
          "text": [
            "[100]\ttraining's binary_logloss: 0.108858\tvalid_1's binary_logloss: 0.235286\n",
            "Did not meet early stopping. Best iteration is:\n",
            "[100]\ttraining's binary_logloss: 0.108858\tvalid_1's binary_logloss: 0.235286\n",
            "Training until validation scores don't improve for 100 rounds.\n"
          ],
          "name": "stdout"
        },
        {
          "output_type": "stream",
          "text": [
            "/usr/local/lib/python3.7/dist-packages/lightgbm/basic.py:762: UserWarning:\n",
            "\n",
            "categorical_feature in param dict is overridden.\n",
            "\n",
            "\u001b[32m[I 2021-08-12 18:46:56,355]\u001b[0m Trial 34 finished with value: 0.93575 and parameters: {'bagging_fraction': 0.7468904831376453, 'bagging_freq': 6, 'min_child_samples': 93}. Best is trial 29 with value: 0.939.\u001b[0m\n"
          ],
          "name": "stderr"
        },
        {
          "output_type": "stream",
          "text": [
            "[100]\ttraining's binary_logloss: 0.0986605\tvalid_1's binary_logloss: 0.231757\n",
            "Did not meet early stopping. Best iteration is:\n",
            "[100]\ttraining's binary_logloss: 0.0986605\tvalid_1's binary_logloss: 0.231757\n",
            "Training until validation scores don't improve for 100 rounds.\n"
          ],
          "name": "stdout"
        },
        {
          "output_type": "stream",
          "text": [
            "/usr/local/lib/python3.7/dist-packages/lightgbm/basic.py:762: UserWarning:\n",
            "\n",
            "categorical_feature in param dict is overridden.\n",
            "\n",
            "\u001b[32m[I 2021-08-12 18:46:57,259]\u001b[0m Trial 35 finished with value: 0.93625 and parameters: {'bagging_fraction': 0.6759917253247111, 'bagging_freq': 2, 'min_child_samples': 77}. Best is trial 29 with value: 0.939.\u001b[0m\n"
          ],
          "name": "stderr"
        },
        {
          "output_type": "stream",
          "text": [
            "[100]\ttraining's binary_logloss: 0.0959601\tvalid_1's binary_logloss: 0.234385\n",
            "Did not meet early stopping. Best iteration is:\n",
            "[100]\ttraining's binary_logloss: 0.0959601\tvalid_1's binary_logloss: 0.234385\n",
            "Training until validation scores don't improve for 100 rounds.\n"
          ],
          "name": "stdout"
        },
        {
          "output_type": "stream",
          "text": [
            "/usr/local/lib/python3.7/dist-packages/lightgbm/basic.py:762: UserWarning:\n",
            "\n",
            "categorical_feature in param dict is overridden.\n",
            "\n",
            "\u001b[32m[I 2021-08-12 18:46:58,145]\u001b[0m Trial 36 finished with value: 0.93625 and parameters: {'bagging_fraction': 0.797235866448676, 'bagging_freq': 1, 'min_child_samples': 94}. Best is trial 29 with value: 0.939.\u001b[0m\n"
          ],
          "name": "stderr"
        },
        {
          "output_type": "stream",
          "text": [
            "[100]\ttraining's binary_logloss: 0.0925508\tvalid_1's binary_logloss: 0.231261\n",
            "Did not meet early stopping. Best iteration is:\n",
            "[100]\ttraining's binary_logloss: 0.0925508\tvalid_1's binary_logloss: 0.231261\n",
            "Training until validation scores don't improve for 100 rounds.\n"
          ],
          "name": "stdout"
        },
        {
          "output_type": "stream",
          "text": [
            "/usr/local/lib/python3.7/dist-packages/lightgbm/basic.py:762: UserWarning:\n",
            "\n",
            "categorical_feature in param dict is overridden.\n",
            "\n",
            "\u001b[32m[I 2021-08-12 18:46:59,036]\u001b[0m Trial 37 finished with value: 0.93575 and parameters: {'bagging_fraction': 0.7048223908411229, 'bagging_freq': 3, 'min_child_samples': 87}. Best is trial 29 with value: 0.939.\u001b[0m\n"
          ],
          "name": "stderr"
        },
        {
          "output_type": "stream",
          "text": [
            "[100]\ttraining's binary_logloss: 0.0982891\tvalid_1's binary_logloss: 0.236597\n",
            "Did not meet early stopping. Best iteration is:\n",
            "[100]\ttraining's binary_logloss: 0.0982891\tvalid_1's binary_logloss: 0.236597\n",
            "Training until validation scores don't improve for 100 rounds.\n"
          ],
          "name": "stdout"
        },
        {
          "output_type": "stream",
          "text": [
            "/usr/local/lib/python3.7/dist-packages/lightgbm/basic.py:762: UserWarning:\n",
            "\n",
            "categorical_feature in param dict is overridden.\n",
            "\n",
            "\u001b[32m[I 2021-08-12 18:46:59,949]\u001b[0m Trial 38 finished with value: 0.9345 and parameters: {'bagging_fraction': 0.8588865372089907, 'bagging_freq': 1, 'min_child_samples': 54}. Best is trial 29 with value: 0.939.\u001b[0m\n"
          ],
          "name": "stderr"
        },
        {
          "output_type": "stream",
          "text": [
            "[100]\ttraining's binary_logloss: 0.0817421\tvalid_1's binary_logloss: 0.240315\n",
            "Did not meet early stopping. Best iteration is:\n",
            "[100]\ttraining's binary_logloss: 0.0817421\tvalid_1's binary_logloss: 0.240315\n",
            "Training until validation scores don't improve for 100 rounds.\n"
          ],
          "name": "stdout"
        },
        {
          "output_type": "stream",
          "text": [
            "/usr/local/lib/python3.7/dist-packages/lightgbm/basic.py:762: UserWarning:\n",
            "\n",
            "categorical_feature in param dict is overridden.\n",
            "\n",
            "\u001b[32m[I 2021-08-12 18:47:00,841]\u001b[0m Trial 39 finished with value: 0.93525 and parameters: {'bagging_fraction': 0.6353156437613183, 'bagging_freq': 3, 'min_child_samples': 70}. Best is trial 29 with value: 0.939.\u001b[0m\n"
          ],
          "name": "stderr"
        },
        {
          "output_type": "stream",
          "text": [
            "[100]\ttraining's binary_logloss: 0.0952952\tvalid_1's binary_logloss: 0.236862\n",
            "Did not meet early stopping. Best iteration is:\n",
            "[100]\ttraining's binary_logloss: 0.0952952\tvalid_1's binary_logloss: 0.236862\n",
            "Training until validation scores don't improve for 100 rounds.\n"
          ],
          "name": "stdout"
        },
        {
          "output_type": "stream",
          "text": [
            "/usr/local/lib/python3.7/dist-packages/lightgbm/basic.py:762: UserWarning:\n",
            "\n",
            "categorical_feature in param dict is overridden.\n",
            "\n",
            "\u001b[32m[I 2021-08-12 18:47:01,561]\u001b[0m Trial 40 finished with value: 0.93925 and parameters: {'bagging_fraction': 0.45123122138221866, 'bagging_freq': 2, 'min_child_samples': 80}. Best is trial 40 with value: 0.93925.\u001b[0m\n"
          ],
          "name": "stderr"
        },
        {
          "output_type": "stream",
          "text": [
            "[100]\ttraining's binary_logloss: 0.121612\tvalid_1's binary_logloss: 0.223016\n",
            "Did not meet early stopping. Best iteration is:\n",
            "[100]\ttraining's binary_logloss: 0.121612\tvalid_1's binary_logloss: 0.223016\n",
            "Training until validation scores don't improve for 100 rounds.\n"
          ],
          "name": "stdout"
        },
        {
          "output_type": "stream",
          "text": [
            "/usr/local/lib/python3.7/dist-packages/lightgbm/basic.py:762: UserWarning:\n",
            "\n",
            "categorical_feature in param dict is overridden.\n",
            "\n",
            "\u001b[32m[I 2021-08-12 18:47:02,188]\u001b[0m Trial 41 finished with value: 0.93875 and parameters: {'bagging_fraction': 0.4056633015111988, 'bagging_freq': 2, 'min_child_samples': 95}. Best is trial 40 with value: 0.93925.\u001b[0m\n"
          ],
          "name": "stderr"
        },
        {
          "output_type": "stream",
          "text": [
            "[100]\ttraining's binary_logloss: 0.138218\tvalid_1's binary_logloss: 0.218328\n",
            "Did not meet early stopping. Best iteration is:\n",
            "[100]\ttraining's binary_logloss: 0.138218\tvalid_1's binary_logloss: 0.218328\n",
            "Training until validation scores don't improve for 100 rounds.\n"
          ],
          "name": "stdout"
        },
        {
          "output_type": "stream",
          "text": [
            "/usr/local/lib/python3.7/dist-packages/lightgbm/basic.py:762: UserWarning:\n",
            "\n",
            "categorical_feature in param dict is overridden.\n",
            "\n",
            "\u001b[32m[I 2021-08-12 18:47:02,899]\u001b[0m Trial 42 finished with value: 0.939 and parameters: {'bagging_fraction': 0.41915517137521824, 'bagging_freq': 2, 'min_child_samples': 81}. Best is trial 40 with value: 0.93925.\u001b[0m\n"
          ],
          "name": "stderr"
        },
        {
          "output_type": "stream",
          "text": [
            "[100]\ttraining's binary_logloss: 0.128263\tvalid_1's binary_logloss: 0.223609\n",
            "Did not meet early stopping. Best iteration is:\n",
            "[100]\ttraining's binary_logloss: 0.128263\tvalid_1's binary_logloss: 0.223609\n",
            "Training until validation scores don't improve for 100 rounds.\n"
          ],
          "name": "stdout"
        },
        {
          "output_type": "stream",
          "text": [
            "/usr/local/lib/python3.7/dist-packages/lightgbm/basic.py:762: UserWarning:\n",
            "\n",
            "categorical_feature in param dict is overridden.\n",
            "\n",
            "\u001b[32m[I 2021-08-12 18:47:03,558]\u001b[0m Trial 43 finished with value: 0.9395 and parameters: {'bagging_fraction': 0.4000774973218806, 'bagging_freq': 3, 'min_child_samples': 80}. Best is trial 43 with value: 0.9395.\u001b[0m\n"
          ],
          "name": "stderr"
        },
        {
          "output_type": "stream",
          "text": [
            "[100]\ttraining's binary_logloss: 0.132401\tvalid_1's binary_logloss: 0.221337\n",
            "Did not meet early stopping. Best iteration is:\n",
            "[100]\ttraining's binary_logloss: 0.132401\tvalid_1's binary_logloss: 0.221337\n",
            "Training until validation scores don't improve for 100 rounds.\n"
          ],
          "name": "stdout"
        },
        {
          "output_type": "stream",
          "text": [
            "/usr/local/lib/python3.7/dist-packages/lightgbm/basic.py:762: UserWarning:\n",
            "\n",
            "categorical_feature in param dict is overridden.\n",
            "\n",
            "\u001b[32m[I 2021-08-12 18:47:04,261]\u001b[0m Trial 44 finished with value: 0.938 and parameters: {'bagging_fraction': 0.4293732660534338, 'bagging_freq': 3, 'min_child_samples': 81}. Best is trial 43 with value: 0.9395.\u001b[0m\n"
          ],
          "name": "stderr"
        },
        {
          "output_type": "stream",
          "text": [
            "[100]\ttraining's binary_logloss: 0.127098\tvalid_1's binary_logloss: 0.225923\n",
            "Did not meet early stopping. Best iteration is:\n",
            "[100]\ttraining's binary_logloss: 0.127098\tvalid_1's binary_logloss: 0.225923\n",
            "Training until validation scores don't improve for 100 rounds.\n"
          ],
          "name": "stdout"
        },
        {
          "output_type": "stream",
          "text": [
            "/usr/local/lib/python3.7/dist-packages/lightgbm/basic.py:762: UserWarning:\n",
            "\n",
            "categorical_feature in param dict is overridden.\n",
            "\n",
            "\u001b[32m[I 2021-08-12 18:47:05,037]\u001b[0m Trial 45 finished with value: 0.93625 and parameters: {'bagging_fraction': 0.4015527763783517, 'bagging_freq': 3, 'min_child_samples': 59}. Best is trial 43 with value: 0.9395.\u001b[0m\n"
          ],
          "name": "stderr"
        },
        {
          "output_type": "stream",
          "text": [
            "[100]\ttraining's binary_logloss: 0.116966\tvalid_1's binary_logloss: 0.236619\n",
            "Did not meet early stopping. Best iteration is:\n",
            "[100]\ttraining's binary_logloss: 0.116966\tvalid_1's binary_logloss: 0.236619\n",
            "Training until validation scores don't improve for 100 rounds.\n"
          ],
          "name": "stdout"
        },
        {
          "output_type": "stream",
          "text": [
            "/usr/local/lib/python3.7/dist-packages/lightgbm/basic.py:762: UserWarning:\n",
            "\n",
            "categorical_feature in param dict is overridden.\n",
            "\n",
            "\u001b[32m[I 2021-08-12 18:47:05,868]\u001b[0m Trial 46 finished with value: 0.93575 and parameters: {'bagging_fraction': 0.48262801903648145, 'bagging_freq': 4, 'min_child_samples': 46}. Best is trial 43 with value: 0.9395.\u001b[0m\n"
          ],
          "name": "stderr"
        },
        {
          "output_type": "stream",
          "text": [
            "[100]\ttraining's binary_logloss: 0.0961182\tvalid_1's binary_logloss: 0.247075\n",
            "Did not meet early stopping. Best iteration is:\n",
            "[100]\ttraining's binary_logloss: 0.0961182\tvalid_1's binary_logloss: 0.247075\n",
            "Training until validation scores don't improve for 100 rounds.\n"
          ],
          "name": "stdout"
        },
        {
          "output_type": "stream",
          "text": [
            "/usr/local/lib/python3.7/dist-packages/lightgbm/basic.py:762: UserWarning:\n",
            "\n",
            "categorical_feature in param dict is overridden.\n",
            "\n",
            "\u001b[32m[I 2021-08-12 18:47:06,612]\u001b[0m Trial 47 finished with value: 0.938 and parameters: {'bagging_fraction': 0.47123694446547, 'bagging_freq': 3, 'min_child_samples': 74}. Best is trial 43 with value: 0.9395.\u001b[0m\n"
          ],
          "name": "stderr"
        },
        {
          "output_type": "stream",
          "text": [
            "[100]\ttraining's binary_logloss: 0.117254\tvalid_1's binary_logloss: 0.225667\n",
            "Did not meet early stopping. Best iteration is:\n",
            "[100]\ttraining's binary_logloss: 0.117254\tvalid_1's binary_logloss: 0.225667\n",
            "Training until validation scores don't improve for 100 rounds.\n"
          ],
          "name": "stdout"
        },
        {
          "output_type": "stream",
          "text": [
            "/usr/local/lib/python3.7/dist-packages/lightgbm/basic.py:762: UserWarning:\n",
            "\n",
            "categorical_feature in param dict is overridden.\n",
            "\n",
            "\u001b[32m[I 2021-08-12 18:47:07,460]\u001b[0m Trial 48 finished with value: 0.93575 and parameters: {'bagging_fraction': 0.5229311845645565, 'bagging_freq': 4, 'min_child_samples': 68}. Best is trial 43 with value: 0.9395.\u001b[0m\n"
          ],
          "name": "stderr"
        },
        {
          "output_type": "stream",
          "text": [
            "[100]\ttraining's binary_logloss: 0.106422\tvalid_1's binary_logloss: 0.236222\n",
            "Did not meet early stopping. Best iteration is:\n",
            "[100]\ttraining's binary_logloss: 0.106422\tvalid_1's binary_logloss: 0.236222\n",
            "Training until validation scores don't improve for 100 rounds.\n"
          ],
          "name": "stdout"
        },
        {
          "output_type": "stream",
          "text": [
            "/usr/local/lib/python3.7/dist-packages/lightgbm/basic.py:762: UserWarning:\n",
            "\n",
            "categorical_feature in param dict is overridden.\n",
            "\n",
            "\u001b[32m[I 2021-08-12 18:47:08,179]\u001b[0m Trial 49 finished with value: 0.9365 and parameters: {'bagging_fraction': 0.44172392506353964, 'bagging_freq': 3, 'min_child_samples': 79}. Best is trial 43 with value: 0.9395.\u001b[0m\n"
          ],
          "name": "stderr"
        },
        {
          "output_type": "stream",
          "text": [
            "[100]\ttraining's binary_logloss: 0.123001\tvalid_1's binary_logloss: 0.224305\n",
            "Did not meet early stopping. Best iteration is:\n",
            "[100]\ttraining's binary_logloss: 0.123001\tvalid_1's binary_logloss: 0.224305\n",
            "Training until validation scores don't improve for 100 rounds.\n"
          ],
          "name": "stdout"
        },
        {
          "output_type": "stream",
          "text": [
            "/usr/local/lib/python3.7/dist-packages/lightgbm/basic.py:762: UserWarning:\n",
            "\n",
            "categorical_feature in param dict is overridden.\n",
            "\n",
            "\u001b[32m[I 2021-08-12 18:47:08,792]\u001b[0m Trial 50 finished with value: 0.9395 and parameters: {'bagging_fraction': 0.40181832048203064, 'bagging_freq': 2, 'min_child_samples': 95}. Best is trial 43 with value: 0.9395.\u001b[0m\n"
          ],
          "name": "stderr"
        },
        {
          "output_type": "stream",
          "text": [
            "[100]\ttraining's binary_logloss: 0.137548\tvalid_1's binary_logloss: 0.220602\n",
            "Did not meet early stopping. Best iteration is:\n",
            "[100]\ttraining's binary_logloss: 0.137548\tvalid_1's binary_logloss: 0.220602\n",
            "Training until validation scores don't improve for 100 rounds.\n"
          ],
          "name": "stdout"
        },
        {
          "output_type": "stream",
          "text": [
            "/usr/local/lib/python3.7/dist-packages/lightgbm/basic.py:762: UserWarning:\n",
            "\n",
            "categorical_feature in param dict is overridden.\n",
            "\n",
            "\u001b[32m[I 2021-08-12 18:47:09,437]\u001b[0m Trial 51 finished with value: 0.94 and parameters: {'bagging_fraction': 0.40066717587619527, 'bagging_freq': 2, 'min_child_samples': 95}. Best is trial 51 with value: 0.94.\u001b[0m\n"
          ],
          "name": "stderr"
        },
        {
          "output_type": "stream",
          "text": [
            "[100]\ttraining's binary_logloss: 0.138918\tvalid_1's binary_logloss: 0.220331\n",
            "Did not meet early stopping. Best iteration is:\n",
            "[100]\ttraining's binary_logloss: 0.138918\tvalid_1's binary_logloss: 0.220331\n",
            "Training until validation scores don't improve for 100 rounds.\n"
          ],
          "name": "stdout"
        },
        {
          "output_type": "stream",
          "text": [
            "/usr/local/lib/python3.7/dist-packages/lightgbm/basic.py:762: UserWarning:\n",
            "\n",
            "categorical_feature in param dict is overridden.\n",
            "\n",
            "\u001b[32m[I 2021-08-12 18:47:10,155]\u001b[0m Trial 52 finished with value: 0.939 and parameters: {'bagging_fraction': 0.4530266136118103, 'bagging_freq': 2, 'min_child_samples': 84}. Best is trial 51 with value: 0.94.\u001b[0m\n"
          ],
          "name": "stderr"
        },
        {
          "output_type": "stream",
          "text": [
            "[100]\ttraining's binary_logloss: 0.124068\tvalid_1's binary_logloss: 0.224284\n",
            "Did not meet early stopping. Best iteration is:\n",
            "[100]\ttraining's binary_logloss: 0.124068\tvalid_1's binary_logloss: 0.224284\n",
            "Training until validation scores don't improve for 100 rounds.\n"
          ],
          "name": "stdout"
        },
        {
          "output_type": "stream",
          "text": [
            "/usr/local/lib/python3.7/dist-packages/lightgbm/basic.py:762: UserWarning:\n",
            "\n",
            "categorical_feature in param dict is overridden.\n",
            "\n",
            "\u001b[32m[I 2021-08-12 18:47:10,861]\u001b[0m Trial 53 finished with value: 0.93875 and parameters: {'bagging_fraction': 0.5093727715032971, 'bagging_freq': 2, 'min_child_samples': 96}. Best is trial 51 with value: 0.94.\u001b[0m\n"
          ],
          "name": "stderr"
        },
        {
          "output_type": "stream",
          "text": [
            "[100]\ttraining's binary_logloss: 0.123842\tvalid_1's binary_logloss: 0.225369\n",
            "Did not meet early stopping. Best iteration is:\n",
            "[100]\ttraining's binary_logloss: 0.123842\tvalid_1's binary_logloss: 0.225369\n",
            "Training until validation scores don't improve for 100 rounds.\n"
          ],
          "name": "stdout"
        },
        {
          "output_type": "stream",
          "text": [
            "/usr/local/lib/python3.7/dist-packages/lightgbm/basic.py:762: UserWarning:\n",
            "\n",
            "categorical_feature in param dict is overridden.\n",
            "\n",
            "\u001b[32m[I 2021-08-12 18:47:11,557]\u001b[0m Trial 54 finished with value: 0.93675 and parameters: {'bagging_fraction': 0.4549071807361478, 'bagging_freq': 3, 'min_child_samples': 84}. Best is trial 51 with value: 0.94.\u001b[0m\n"
          ],
          "name": "stderr"
        },
        {
          "output_type": "stream",
          "text": [
            "[100]\ttraining's binary_logloss: 0.125121\tvalid_1's binary_logloss: 0.226441\n",
            "Did not meet early stopping. Best iteration is:\n",
            "[100]\ttraining's binary_logloss: 0.125121\tvalid_1's binary_logloss: 0.226441\n",
            "Training until validation scores don't improve for 100 rounds.\n"
          ],
          "name": "stdout"
        },
        {
          "output_type": "stream",
          "text": [
            "/usr/local/lib/python3.7/dist-packages/lightgbm/basic.py:762: UserWarning:\n",
            "\n",
            "categorical_feature in param dict is overridden.\n",
            "\n",
            "\u001b[32m[I 2021-08-12 18:47:12,362]\u001b[0m Trial 55 finished with value: 0.937 and parameters: {'bagging_fraction': 0.42524114368317734, 'bagging_freq': 1, 'min_child_samples': 62}. Best is trial 51 with value: 0.94.\u001b[0m\n"
          ],
          "name": "stderr"
        },
        {
          "output_type": "stream",
          "text": [
            "[100]\ttraining's binary_logloss: 0.112121\tvalid_1's binary_logloss: 0.230267\n",
            "Did not meet early stopping. Best iteration is:\n",
            "[100]\ttraining's binary_logloss: 0.112121\tvalid_1's binary_logloss: 0.230267\n",
            "Training until validation scores don't improve for 100 rounds.\n"
          ],
          "name": "stdout"
        },
        {
          "output_type": "stream",
          "text": [
            "/usr/local/lib/python3.7/dist-packages/lightgbm/basic.py:762: UserWarning:\n",
            "\n",
            "categorical_feature in param dict is overridden.\n",
            "\n",
            "\u001b[32m[I 2021-08-12 18:47:13,187]\u001b[0m Trial 56 finished with value: 0.93675 and parameters: {'bagging_fraction': 0.46291374167590627, 'bagging_freq': 2, 'min_child_samples': 75}. Best is trial 51 with value: 0.94.\u001b[0m\n"
          ],
          "name": "stderr"
        },
        {
          "output_type": "stream",
          "text": [
            "[100]\ttraining's binary_logloss: 0.117452\tvalid_1's binary_logloss: 0.226317\n",
            "Did not meet early stopping. Best iteration is:\n",
            "[100]\ttraining's binary_logloss: 0.117452\tvalid_1's binary_logloss: 0.226317\n",
            "Training until validation scores don't improve for 100 rounds.\n"
          ],
          "name": "stdout"
        },
        {
          "output_type": "stream",
          "text": [
            "/usr/local/lib/python3.7/dist-packages/lightgbm/basic.py:762: UserWarning:\n",
            "\n",
            "categorical_feature in param dict is overridden.\n",
            "\n",
            "\u001b[32m[I 2021-08-12 18:47:13,897]\u001b[0m Trial 57 finished with value: 0.93825 and parameters: {'bagging_fraction': 0.49609282229327883, 'bagging_freq': 3, 'min_child_samples': 89}. Best is trial 51 with value: 0.94.\u001b[0m\n"
          ],
          "name": "stderr"
        },
        {
          "output_type": "stream",
          "text": [
            "[100]\ttraining's binary_logloss: 0.122582\tvalid_1's binary_logloss: 0.225968\n",
            "Did not meet early stopping. Best iteration is:\n",
            "[100]\ttraining's binary_logloss: 0.122582\tvalid_1's binary_logloss: 0.225968\n",
            "Training until validation scores don't improve for 100 rounds.\n"
          ],
          "name": "stdout"
        },
        {
          "output_type": "stream",
          "text": [
            "/usr/local/lib/python3.7/dist-packages/lightgbm/basic.py:762: UserWarning:\n",
            "\n",
            "categorical_feature in param dict is overridden.\n",
            "\n",
            "\u001b[32m[I 2021-08-12 18:47:14,584]\u001b[0m Trial 58 finished with value: 0.93825 and parameters: {'bagging_fraction': 0.41562259652876826, 'bagging_freq': 2, 'min_child_samples': 83}. Best is trial 51 with value: 0.94.\u001b[0m\n"
          ],
          "name": "stderr"
        },
        {
          "output_type": "stream",
          "text": [
            "[100]\ttraining's binary_logloss: 0.131215\tvalid_1's binary_logloss: 0.221423\n",
            "Did not meet early stopping. Best iteration is:\n",
            "[100]\ttraining's binary_logloss: 0.131215\tvalid_1's binary_logloss: 0.221423\n",
            "Training until validation scores don't improve for 100 rounds.\n"
          ],
          "name": "stdout"
        },
        {
          "output_type": "stream",
          "text": [
            "/usr/local/lib/python3.7/dist-packages/lightgbm/basic.py:762: UserWarning:\n",
            "\n",
            "categorical_feature in param dict is overridden.\n",
            "\n",
            "\u001b[32m[I 2021-08-12 18:47:15,313]\u001b[0m Trial 59 finished with value: 0.937 and parameters: {'bagging_fraction': 0.5338831855703494, 'bagging_freq': 4, 'min_child_samples': 96}. Best is trial 51 with value: 0.94.\u001b[0m\n"
          ],
          "name": "stderr"
        },
        {
          "output_type": "stream",
          "text": [
            "[100]\ttraining's binary_logloss: 0.122448\tvalid_1's binary_logloss: 0.224368\n",
            "Did not meet early stopping. Best iteration is:\n",
            "[100]\ttraining's binary_logloss: 0.122448\tvalid_1's binary_logloss: 0.224368\n",
            "Training until validation scores don't improve for 100 rounds.\n"
          ],
          "name": "stdout"
        },
        {
          "output_type": "stream",
          "text": [
            "/usr/local/lib/python3.7/dist-packages/lightgbm/basic.py:762: UserWarning:\n",
            "\n",
            "categorical_feature in param dict is overridden.\n",
            "\n",
            "\u001b[32m[I 2021-08-12 18:47:16,009]\u001b[0m Trial 60 finished with value: 0.938 and parameters: {'bagging_fraction': 0.4328649123947902, 'bagging_freq': 5, 'min_child_samples': 78}. Best is trial 51 with value: 0.94.\u001b[0m\n"
          ],
          "name": "stderr"
        },
        {
          "output_type": "stream",
          "text": [
            "[100]\ttraining's binary_logloss: 0.12594\tvalid_1's binary_logloss: 0.228233\n",
            "Did not meet early stopping. Best iteration is:\n",
            "[100]\ttraining's binary_logloss: 0.12594\tvalid_1's binary_logloss: 0.228233\n",
            "Training until validation scores don't improve for 100 rounds.\n"
          ],
          "name": "stdout"
        },
        {
          "output_type": "stream",
          "text": [
            "/usr/local/lib/python3.7/dist-packages/lightgbm/basic.py:762: UserWarning:\n",
            "\n",
            "categorical_feature in param dict is overridden.\n",
            "\n",
            "\u001b[32m[I 2021-08-12 18:47:16,698]\u001b[0m Trial 61 finished with value: 0.9385 and parameters: {'bagging_fraction': 0.44790414151721303, 'bagging_freq': 2, 'min_child_samples': 85}. Best is trial 51 with value: 0.94.\u001b[0m\n"
          ],
          "name": "stderr"
        },
        {
          "output_type": "stream",
          "text": [
            "[100]\ttraining's binary_logloss: 0.124883\tvalid_1's binary_logloss: 0.224703\n",
            "Did not meet early stopping. Best iteration is:\n",
            "[100]\ttraining's binary_logloss: 0.124883\tvalid_1's binary_logloss: 0.224703\n",
            "Training until validation scores don't improve for 100 rounds.\n"
          ],
          "name": "stdout"
        },
        {
          "output_type": "stream",
          "text": [
            "/usr/local/lib/python3.7/dist-packages/lightgbm/basic.py:762: UserWarning:\n",
            "\n",
            "categorical_feature in param dict is overridden.\n",
            "\n",
            "\u001b[32m[I 2021-08-12 18:47:17,338]\u001b[0m Trial 62 finished with value: 0.94 and parameters: {'bagging_fraction': 0.4019269589243799, 'bagging_freq': 2, 'min_child_samples': 91}. Best is trial 51 with value: 0.94.\u001b[0m\n"
          ],
          "name": "stderr"
        },
        {
          "output_type": "stream",
          "text": [
            "[100]\ttraining's binary_logloss: 0.134958\tvalid_1's binary_logloss: 0.220144\n",
            "Did not meet early stopping. Best iteration is:\n",
            "[100]\ttraining's binary_logloss: 0.134958\tvalid_1's binary_logloss: 0.220144\n",
            "Training until validation scores don't improve for 100 rounds.\n"
          ],
          "name": "stdout"
        },
        {
          "output_type": "stream",
          "text": [
            "/usr/local/lib/python3.7/dist-packages/lightgbm/basic.py:762: UserWarning:\n",
            "\n",
            "categorical_feature in param dict is overridden.\n",
            "\n",
            "\u001b[32m[I 2021-08-12 18:47:18,080]\u001b[0m Trial 63 finished with value: 0.93875 and parameters: {'bagging_fraction': 0.47842738282353237, 'bagging_freq': 1, 'min_child_samples': 89}. Best is trial 51 with value: 0.94.\u001b[0m\n"
          ],
          "name": "stderr"
        },
        {
          "output_type": "stream",
          "text": [
            "[100]\ttraining's binary_logloss: 0.121022\tvalid_1's binary_logloss: 0.221344\n",
            "Did not meet early stopping. Best iteration is:\n",
            "[100]\ttraining's binary_logloss: 0.121022\tvalid_1's binary_logloss: 0.221344\n",
            "Training until validation scores don't improve for 100 rounds.\n"
          ],
          "name": "stdout"
        },
        {
          "output_type": "stream",
          "text": [
            "/usr/local/lib/python3.7/dist-packages/lightgbm/basic.py:762: UserWarning:\n",
            "\n",
            "categorical_feature in param dict is overridden.\n",
            "\n",
            "\u001b[32m[I 2021-08-12 18:47:18,907]\u001b[0m Trial 64 finished with value: 0.9355 and parameters: {'bagging_fraction': 0.40178532006156076, 'bagging_freq': 2, 'min_child_samples': 31}. Best is trial 51 with value: 0.94.\u001b[0m\n"
          ],
          "name": "stderr"
        },
        {
          "output_type": "stream",
          "text": [
            "[100]\ttraining's binary_logloss: 0.095735\tvalid_1's binary_logloss: 0.242775\n",
            "Did not meet early stopping. Best iteration is:\n",
            "[100]\ttraining's binary_logloss: 0.095735\tvalid_1's binary_logloss: 0.242775\n",
            "Training until validation scores don't improve for 100 rounds.\n"
          ],
          "name": "stdout"
        },
        {
          "output_type": "stream",
          "text": [
            "/usr/local/lib/python3.7/dist-packages/lightgbm/basic.py:762: UserWarning:\n",
            "\n",
            "categorical_feature in param dict is overridden.\n",
            "\n",
            "\u001b[32m[I 2021-08-12 18:47:19,604]\u001b[0m Trial 65 finished with value: 0.93925 and parameters: {'bagging_fraction': 0.4489030823413096, 'bagging_freq': 2, 'min_child_samples': 92}. Best is trial 51 with value: 0.94.\u001b[0m\n"
          ],
          "name": "stderr"
        },
        {
          "output_type": "stream",
          "text": [
            "[100]\ttraining's binary_logloss: 0.128385\tvalid_1's binary_logloss: 0.223418\n",
            "Did not meet early stopping. Best iteration is:\n",
            "[100]\ttraining's binary_logloss: 0.128385\tvalid_1's binary_logloss: 0.223418\n",
            "Training until validation scores don't improve for 100 rounds.\n"
          ],
          "name": "stdout"
        },
        {
          "output_type": "stream",
          "text": [
            "/usr/local/lib/python3.7/dist-packages/lightgbm/basic.py:762: UserWarning:\n",
            "\n",
            "categorical_feature in param dict is overridden.\n",
            "\n",
            "\u001b[32m[I 2021-08-12 18:47:20,503]\u001b[0m Trial 66 finished with value: 0.93125 and parameters: {'bagging_fraction': 0.4543460978506155, 'bagging_freq': 2, 'min_child_samples': 11}. Best is trial 51 with value: 0.94.\u001b[0m\n"
          ],
          "name": "stderr"
        },
        {
          "output_type": "stream",
          "text": [
            "[100]\ttraining's binary_logloss: 0.0762724\tvalid_1's binary_logloss: 0.253229\n",
            "Did not meet early stopping. Best iteration is:\n",
            "[100]\ttraining's binary_logloss: 0.0762724\tvalid_1's binary_logloss: 0.253229\n",
            "Training until validation scores don't improve for 100 rounds.\n"
          ],
          "name": "stdout"
        },
        {
          "output_type": "stream",
          "text": [
            "/usr/local/lib/python3.7/dist-packages/lightgbm/basic.py:762: UserWarning:\n",
            "\n",
            "categorical_feature in param dict is overridden.\n",
            "\n",
            "\u001b[32m[I 2021-08-12 18:47:21,252]\u001b[0m Trial 67 finished with value: 0.937 and parameters: {'bagging_fraction': 0.4994180641705174, 'bagging_freq': 1, 'min_child_samples': 92}. Best is trial 51 with value: 0.94.\u001b[0m\n"
          ],
          "name": "stderr"
        },
        {
          "output_type": "stream",
          "text": [
            "[100]\ttraining's binary_logloss: 0.120452\tvalid_1's binary_logloss: 0.222792\n",
            "Did not meet early stopping. Best iteration is:\n",
            "[100]\ttraining's binary_logloss: 0.120452\tvalid_1's binary_logloss: 0.222792\n",
            "Training until validation scores don't improve for 100 rounds.\n"
          ],
          "name": "stdout"
        },
        {
          "output_type": "stream",
          "text": [
            "/usr/local/lib/python3.7/dist-packages/lightgbm/basic.py:762: UserWarning:\n",
            "\n",
            "categorical_feature in param dict is overridden.\n",
            "\n",
            "\u001b[32m[I 2021-08-12 18:47:21,992]\u001b[0m Trial 68 finished with value: 0.938 and parameters: {'bagging_fraction': 0.5624720513745817, 'bagging_freq': 3, 'min_child_samples': 97}. Best is trial 51 with value: 0.94.\u001b[0m\n"
          ],
          "name": "stderr"
        },
        {
          "output_type": "stream",
          "text": [
            "[100]\ttraining's binary_logloss: 0.117473\tvalid_1's binary_logloss: 0.226037\n",
            "Did not meet early stopping. Best iteration is:\n",
            "[100]\ttraining's binary_logloss: 0.117473\tvalid_1's binary_logloss: 0.226037\n",
            "Training until validation scores don't improve for 100 rounds.\n"
          ],
          "name": "stdout"
        },
        {
          "output_type": "stream",
          "text": [
            "/usr/local/lib/python3.7/dist-packages/lightgbm/basic.py:762: UserWarning:\n",
            "\n",
            "categorical_feature in param dict is overridden.\n",
            "\n",
            "\u001b[32m[I 2021-08-12 18:47:22,674]\u001b[0m Trial 69 finished with value: 0.93775 and parameters: {'bagging_fraction': 0.4163197042642292, 'bagging_freq': 2, 'min_child_samples': 81}. Best is trial 51 with value: 0.94.\u001b[0m\n"
          ],
          "name": "stderr"
        },
        {
          "output_type": "stream",
          "text": [
            "[100]\ttraining's binary_logloss: 0.127773\tvalid_1's binary_logloss: 0.226902\n",
            "Did not meet early stopping. Best iteration is:\n",
            "[100]\ttraining's binary_logloss: 0.127773\tvalid_1's binary_logloss: 0.226902\n",
            "Training until validation scores don't improve for 100 rounds.\n"
          ],
          "name": "stdout"
        },
        {
          "output_type": "stream",
          "text": [
            "/usr/local/lib/python3.7/dist-packages/lightgbm/basic.py:762: UserWarning:\n",
            "\n",
            "categorical_feature in param dict is overridden.\n",
            "\n",
            "\u001b[32m[I 2021-08-12 18:47:23,373]\u001b[0m Trial 70 finished with value: 0.939 and parameters: {'bagging_fraction': 0.42954288072489816, 'bagging_freq': 1, 'min_child_samples': 89}. Best is trial 51 with value: 0.94.\u001b[0m\n"
          ],
          "name": "stderr"
        },
        {
          "output_type": "stream",
          "text": [
            "[100]\ttraining's binary_logloss: 0.129443\tvalid_1's binary_logloss: 0.220795\n",
            "Did not meet early stopping. Best iteration is:\n",
            "[100]\ttraining's binary_logloss: 0.129443\tvalid_1's binary_logloss: 0.220795\n",
            "Training until validation scores don't improve for 100 rounds.\n"
          ],
          "name": "stdout"
        },
        {
          "output_type": "stream",
          "text": [
            "/usr/local/lib/python3.7/dist-packages/lightgbm/basic.py:762: UserWarning:\n",
            "\n",
            "categorical_feature in param dict is overridden.\n",
            "\n",
            "\u001b[32m[I 2021-08-12 18:47:24,027]\u001b[0m Trial 71 finished with value: 0.93875 and parameters: {'bagging_fraction': 0.41576471603269877, 'bagging_freq': 2, 'min_child_samples': 93}. Best is trial 51 with value: 0.94.\u001b[0m\n"
          ],
          "name": "stderr"
        },
        {
          "output_type": "stream",
          "text": [
            "[100]\ttraining's binary_logloss: 0.134728\tvalid_1's binary_logloss: 0.222805\n",
            "Did not meet early stopping. Best iteration is:\n",
            "[100]\ttraining's binary_logloss: 0.134728\tvalid_1's binary_logloss: 0.222805\n",
            "Training until validation scores don't improve for 100 rounds.\n"
          ],
          "name": "stdout"
        },
        {
          "output_type": "stream",
          "text": [
            "/usr/local/lib/python3.7/dist-packages/lightgbm/basic.py:762: UserWarning:\n",
            "\n",
            "categorical_feature in param dict is overridden.\n",
            "\n",
            "\u001b[32m[I 2021-08-12 18:47:24,738]\u001b[0m Trial 72 finished with value: 0.937 and parameters: {'bagging_fraction': 0.4365442388228655, 'bagging_freq': 1, 'min_child_samples': 88}. Best is trial 51 with value: 0.94.\u001b[0m\n"
          ],
          "name": "stderr"
        },
        {
          "output_type": "stream",
          "text": [
            "[100]\ttraining's binary_logloss: 0.127445\tvalid_1's binary_logloss: 0.223813\n",
            "Did not meet early stopping. Best iteration is:\n",
            "[100]\ttraining's binary_logloss: 0.127445\tvalid_1's binary_logloss: 0.223813\n",
            "Training until validation scores don't improve for 100 rounds.\n"
          ],
          "name": "stdout"
        },
        {
          "output_type": "stream",
          "text": [
            "/usr/local/lib/python3.7/dist-packages/lightgbm/basic.py:762: UserWarning:\n",
            "\n",
            "categorical_feature in param dict is overridden.\n",
            "\n",
            "\u001b[32m[I 2021-08-12 18:47:25,464]\u001b[0m Trial 73 finished with value: 0.9385 and parameters: {'bagging_fraction': 0.4645087968035611, 'bagging_freq': 1, 'min_child_samples': 91}. Best is trial 51 with value: 0.94.\u001b[0m\n"
          ],
          "name": "stderr"
        },
        {
          "output_type": "stream",
          "text": [
            "[100]\ttraining's binary_logloss: 0.124649\tvalid_1's binary_logloss: 0.221552\n",
            "Did not meet early stopping. Best iteration is:\n",
            "[100]\ttraining's binary_logloss: 0.124649\tvalid_1's binary_logloss: 0.221552\n",
            "Training until validation scores don't improve for 100 rounds.\n"
          ],
          "name": "stdout"
        },
        {
          "output_type": "stream",
          "text": [
            "/usr/local/lib/python3.7/dist-packages/lightgbm/basic.py:762: UserWarning:\n",
            "\n",
            "categorical_feature in param dict is overridden.\n",
            "\n",
            "\u001b[32m[I 2021-08-12 18:47:26,178]\u001b[0m Trial 74 finished with value: 0.93875 and parameters: {'bagging_fraction': 0.4261400002146887, 'bagging_freq': 1, 'min_child_samples': 86}. Best is trial 51 with value: 0.94.\u001b[0m\n"
          ],
          "name": "stderr"
        },
        {
          "output_type": "stream",
          "text": [
            "[100]\ttraining's binary_logloss: 0.128479\tvalid_1's binary_logloss: 0.220933\n",
            "Did not meet early stopping. Best iteration is:\n",
            "[100]\ttraining's binary_logloss: 0.128479\tvalid_1's binary_logloss: 0.220933\n",
            "Training until validation scores don't improve for 100 rounds.\n"
          ],
          "name": "stdout"
        },
        {
          "output_type": "stream",
          "text": [
            "/usr/local/lib/python3.7/dist-packages/lightgbm/basic.py:762: UserWarning:\n",
            "\n",
            "categorical_feature in param dict is overridden.\n",
            "\n",
            "\u001b[32m[I 2021-08-12 18:47:26,846]\u001b[0m Trial 75 finished with value: 0.93975 and parameters: {'bagging_fraction': 0.44997140754015397, 'bagging_freq': 2, 'min_child_samples': 97}. Best is trial 51 with value: 0.94.\u001b[0m\n"
          ],
          "name": "stderr"
        },
        {
          "output_type": "stream",
          "text": [
            "[100]\ttraining's binary_logloss: 0.131411\tvalid_1's binary_logloss: 0.22127\n",
            "Did not meet early stopping. Best iteration is:\n",
            "[100]\ttraining's binary_logloss: 0.131411\tvalid_1's binary_logloss: 0.22127\n",
            "Training until validation scores don't improve for 100 rounds.\n"
          ],
          "name": "stdout"
        },
        {
          "output_type": "stream",
          "text": [
            "/usr/local/lib/python3.7/dist-packages/lightgbm/basic.py:762: UserWarning:\n",
            "\n",
            "categorical_feature in param dict is overridden.\n",
            "\n",
            "\u001b[32m[I 2021-08-12 18:47:27,559]\u001b[0m Trial 76 finished with value: 0.93875 and parameters: {'bagging_fraction': 0.4903720770043949, 'bagging_freq': 2, 'min_child_samples': 96}. Best is trial 51 with value: 0.94.\u001b[0m\n"
          ],
          "name": "stderr"
        },
        {
          "output_type": "stream",
          "text": [
            "[100]\ttraining's binary_logloss: 0.125771\tvalid_1's binary_logloss: 0.222111\n",
            "Did not meet early stopping. Best iteration is:\n",
            "[100]\ttraining's binary_logloss: 0.125771\tvalid_1's binary_logloss: 0.222111\n",
            "Training until validation scores don't improve for 100 rounds.\n"
          ],
          "name": "stdout"
        },
        {
          "output_type": "stream",
          "text": [
            "/usr/local/lib/python3.7/dist-packages/lightgbm/basic.py:762: UserWarning:\n",
            "\n",
            "categorical_feature in param dict is overridden.\n",
            "\n",
            "\u001b[32m[I 2021-08-12 18:47:28,203]\u001b[0m Trial 77 finished with value: 0.94 and parameters: {'bagging_fraction': 0.4023581225843636, 'bagging_freq': 2, 'min_child_samples': 93}. Best is trial 51 with value: 0.94.\u001b[0m\n"
          ],
          "name": "stderr"
        },
        {
          "output_type": "stream",
          "text": [
            "[100]\ttraining's binary_logloss: 0.135198\tvalid_1's binary_logloss: 0.221414\n",
            "Did not meet early stopping. Best iteration is:\n",
            "[100]\ttraining's binary_logloss: 0.135198\tvalid_1's binary_logloss: 0.221414\n",
            "Training until validation scores don't improve for 100 rounds.\n"
          ],
          "name": "stdout"
        },
        {
          "output_type": "stream",
          "text": [
            "/usr/local/lib/python3.7/dist-packages/lightgbm/basic.py:762: UserWarning:\n",
            "\n",
            "categorical_feature in param dict is overridden.\n",
            "\n",
            "\u001b[32m[I 2021-08-12 18:47:28,820]\u001b[0m Trial 78 finished with value: 0.93975 and parameters: {'bagging_fraction': 0.40115999271583924, 'bagging_freq': 2, 'min_child_samples': 93}. Best is trial 51 with value: 0.94.\u001b[0m\n"
          ],
          "name": "stderr"
        },
        {
          "output_type": "stream",
          "text": [
            "[100]\ttraining's binary_logloss: 0.13723\tvalid_1's binary_logloss: 0.22177\n",
            "Did not meet early stopping. Best iteration is:\n",
            "[100]\ttraining's binary_logloss: 0.13723\tvalid_1's binary_logloss: 0.22177\n",
            "Training until validation scores don't improve for 100 rounds.\n"
          ],
          "name": "stdout"
        },
        {
          "output_type": "stream",
          "text": [
            "/usr/local/lib/python3.7/dist-packages/lightgbm/basic.py:762: UserWarning:\n",
            "\n",
            "categorical_feature in param dict is overridden.\n",
            "\n",
            "\u001b[32m[I 2021-08-12 18:47:29,459]\u001b[0m Trial 79 finished with value: 0.93725 and parameters: {'bagging_fraction': 0.4046624758891292, 'bagging_freq': 2, 'min_child_samples': 94}. Best is trial 51 with value: 0.94.\u001b[0m\n"
          ],
          "name": "stderr"
        },
        {
          "output_type": "stream",
          "text": [
            "[100]\ttraining's binary_logloss: 0.137641\tvalid_1's binary_logloss: 0.220952\n",
            "Did not meet early stopping. Best iteration is:\n",
            "[100]\ttraining's binary_logloss: 0.137641\tvalid_1's binary_logloss: 0.220952\n",
            "Training until validation scores don't improve for 100 rounds.\n"
          ],
          "name": "stdout"
        },
        {
          "output_type": "stream",
          "text": [
            "/usr/local/lib/python3.7/dist-packages/lightgbm/basic.py:762: UserWarning:\n",
            "\n",
            "categorical_feature in param dict is overridden.\n",
            "\n",
            "\u001b[32m[I 2021-08-12 18:47:30,110]\u001b[0m Trial 80 finished with value: 0.9395 and parameters: {'bagging_fraction': 0.4699954262347528, 'bagging_freq': 3, 'min_child_samples': 97}. Best is trial 51 with value: 0.94.\u001b[0m\n"
          ],
          "name": "stderr"
        },
        {
          "output_type": "stream",
          "text": [
            "[100]\ttraining's binary_logloss: 0.129367\tvalid_1's binary_logloss: 0.220225\n",
            "Did not meet early stopping. Best iteration is:\n",
            "[100]\ttraining's binary_logloss: 0.129367\tvalid_1's binary_logloss: 0.220225\n",
            "Training until validation scores don't improve for 100 rounds.\n"
          ],
          "name": "stdout"
        },
        {
          "output_type": "stream",
          "text": [
            "/usr/local/lib/python3.7/dist-packages/lightgbm/basic.py:762: UserWarning:\n",
            "\n",
            "categorical_feature in param dict is overridden.\n",
            "\n",
            "\u001b[32m[I 2021-08-12 18:47:30,742]\u001b[0m Trial 81 finished with value: 0.9395 and parameters: {'bagging_fraction': 0.4008272847079046, 'bagging_freq': 2, 'min_child_samples': 98}. Best is trial 51 with value: 0.94.\u001b[0m\n"
          ],
          "name": "stderr"
        },
        {
          "output_type": "stream",
          "text": [
            "[100]\ttraining's binary_logloss: 0.137887\tvalid_1's binary_logloss: 0.222769\n",
            "Did not meet early stopping. Best iteration is:\n",
            "[100]\ttraining's binary_logloss: 0.137887\tvalid_1's binary_logloss: 0.222769\n",
            "Training until validation scores don't improve for 100 rounds.\n"
          ],
          "name": "stdout"
        },
        {
          "output_type": "stream",
          "text": [
            "/usr/local/lib/python3.7/dist-packages/lightgbm/basic.py:762: UserWarning:\n",
            "\n",
            "categorical_feature in param dict is overridden.\n",
            "\n",
            "\u001b[32m[I 2021-08-12 18:47:31,364]\u001b[0m Trial 82 finished with value: 0.93925 and parameters: {'bagging_fraction': 0.40359991362963166, 'bagging_freq': 3, 'min_child_samples': 97}. Best is trial 51 with value: 0.94.\u001b[0m\n"
          ],
          "name": "stderr"
        },
        {
          "output_type": "stream",
          "text": [
            "[100]\ttraining's binary_logloss: 0.138118\tvalid_1's binary_logloss: 0.220149\n",
            "Did not meet early stopping. Best iteration is:\n",
            "[100]\ttraining's binary_logloss: 0.138118\tvalid_1's binary_logloss: 0.220149\n",
            "Training until validation scores don't improve for 100 rounds.\n"
          ],
          "name": "stdout"
        },
        {
          "output_type": "stream",
          "text": [
            "/usr/local/lib/python3.7/dist-packages/lightgbm/basic.py:762: UserWarning:\n",
            "\n",
            "categorical_feature in param dict is overridden.\n",
            "\n",
            "\u001b[32m[I 2021-08-12 18:47:32,001]\u001b[0m Trial 83 finished with value: 0.93875 and parameters: {'bagging_fraction': 0.4393756421214726, 'bagging_freq': 3, 'min_child_samples': 100}. Best is trial 51 with value: 0.94.\u001b[0m\n"
          ],
          "name": "stderr"
        },
        {
          "output_type": "stream",
          "text": [
            "[100]\ttraining's binary_logloss: 0.136\tvalid_1's binary_logloss: 0.225043\n",
            "Did not meet early stopping. Best iteration is:\n",
            "[100]\ttraining's binary_logloss: 0.136\tvalid_1's binary_logloss: 0.225043\n",
            "Training until validation scores don't improve for 100 rounds.\n"
          ],
          "name": "stdout"
        },
        {
          "output_type": "stream",
          "text": [
            "/usr/local/lib/python3.7/dist-packages/lightgbm/basic.py:762: UserWarning:\n",
            "\n",
            "categorical_feature in param dict is overridden.\n",
            "\n",
            "\u001b[32m[I 2021-08-12 18:47:32,686]\u001b[0m Trial 84 finished with value: 0.9385 and parameters: {'bagging_fraction': 0.47177004581482623, 'bagging_freq': 2, 'min_child_samples': 98}. Best is trial 51 with value: 0.94.\u001b[0m\n"
          ],
          "name": "stderr"
        },
        {
          "output_type": "stream",
          "text": [
            "[100]\ttraining's binary_logloss: 0.128188\tvalid_1's binary_logloss: 0.223434\n",
            "Did not meet early stopping. Best iteration is:\n",
            "[100]\ttraining's binary_logloss: 0.128188\tvalid_1's binary_logloss: 0.223434\n",
            "Training until validation scores don't improve for 100 rounds.\n"
          ],
          "name": "stdout"
        },
        {
          "output_type": "stream",
          "text": [
            "/usr/local/lib/python3.7/dist-packages/lightgbm/basic.py:762: UserWarning:\n",
            "\n",
            "categorical_feature in param dict is overridden.\n",
            "\n",
            "\u001b[32m[I 2021-08-12 18:47:33,345]\u001b[0m Trial 85 finished with value: 0.93925 and parameters: {'bagging_fraction': 0.41600354348390817, 'bagging_freq': 2, 'min_child_samples': 94}. Best is trial 51 with value: 0.94.\u001b[0m\n"
          ],
          "name": "stderr"
        },
        {
          "output_type": "stream",
          "text": [
            "[100]\ttraining's binary_logloss: 0.135417\tvalid_1's binary_logloss: 0.22019\n",
            "Did not meet early stopping. Best iteration is:\n",
            "[100]\ttraining's binary_logloss: 0.135417\tvalid_1's binary_logloss: 0.22019\n",
            "Training until validation scores don't improve for 100 rounds.\n"
          ],
          "name": "stdout"
        },
        {
          "output_type": "stream",
          "text": [
            "/usr/local/lib/python3.7/dist-packages/lightgbm/basic.py:762: UserWarning:\n",
            "\n",
            "categorical_feature in param dict is overridden.\n",
            "\n",
            "\u001b[32m[I 2021-08-12 18:47:33,976]\u001b[0m Trial 86 finished with value: 0.94025 and parameters: {'bagging_fraction': 0.40302388956471835, 'bagging_freq': 3, 'min_child_samples': 90}. Best is trial 86 with value: 0.94025.\u001b[0m\n"
          ],
          "name": "stderr"
        },
        {
          "output_type": "stream",
          "text": [
            "[100]\ttraining's binary_logloss: 0.137368\tvalid_1's binary_logloss: 0.219796\n",
            "Did not meet early stopping. Best iteration is:\n",
            "[100]\ttraining's binary_logloss: 0.137368\tvalid_1's binary_logloss: 0.219796\n",
            "Training until validation scores don't improve for 100 rounds.\n"
          ],
          "name": "stdout"
        },
        {
          "output_type": "stream",
          "text": [
            "/usr/local/lib/python3.7/dist-packages/lightgbm/basic.py:762: UserWarning:\n",
            "\n",
            "categorical_feature in param dict is overridden.\n",
            "\n",
            "\u001b[32m[I 2021-08-12 18:47:34,683]\u001b[0m Trial 87 finished with value: 0.939 and parameters: {'bagging_fraction': 0.4327209401878501, 'bagging_freq': 2, 'min_child_samples': 91}. Best is trial 86 with value: 0.94025.\u001b[0m\n"
          ],
          "name": "stderr"
        },
        {
          "output_type": "stream",
          "text": [
            "[100]\ttraining's binary_logloss: 0.130626\tvalid_1's binary_logloss: 0.221121\n",
            "Did not meet early stopping. Best iteration is:\n",
            "[100]\ttraining's binary_logloss: 0.130626\tvalid_1's binary_logloss: 0.221121\n",
            "Training until validation scores don't improve for 100 rounds.\n"
          ],
          "name": "stdout"
        },
        {
          "output_type": "stream",
          "text": [
            "/usr/local/lib/python3.7/dist-packages/lightgbm/basic.py:762: UserWarning:\n",
            "\n",
            "categorical_feature in param dict is overridden.\n",
            "\n",
            "\u001b[32m[I 2021-08-12 18:47:35,344]\u001b[0m Trial 88 finished with value: 0.9375 and parameters: {'bagging_fraction': 0.4186103202505588, 'bagging_freq': 3, 'min_child_samples': 87}. Best is trial 86 with value: 0.94025.\u001b[0m\n"
          ],
          "name": "stderr"
        },
        {
          "output_type": "stream",
          "text": [
            "[100]\ttraining's binary_logloss: 0.132177\tvalid_1's binary_logloss: 0.226181\n",
            "Did not meet early stopping. Best iteration is:\n",
            "[100]\ttraining's binary_logloss: 0.132177\tvalid_1's binary_logloss: 0.226181\n",
            "Training until validation scores don't improve for 100 rounds.\n"
          ],
          "name": "stdout"
        },
        {
          "output_type": "stream",
          "text": [
            "/usr/local/lib/python3.7/dist-packages/lightgbm/basic.py:762: UserWarning:\n",
            "\n",
            "categorical_feature in param dict is overridden.\n",
            "\n",
            "\u001b[32m[I 2021-08-12 18:47:35,962]\u001b[0m Trial 89 finished with value: 0.93875 and parameters: {'bagging_fraction': 0.4082176322606516, 'bagging_freq': 2, 'min_child_samples': 94}. Best is trial 86 with value: 0.94025.\u001b[0m\n"
          ],
          "name": "stderr"
        },
        {
          "output_type": "stream",
          "text": [
            "[100]\ttraining's binary_logloss: 0.136105\tvalid_1's binary_logloss: 0.220067\n",
            "Did not meet early stopping. Best iteration is:\n",
            "[100]\ttraining's binary_logloss: 0.136105\tvalid_1's binary_logloss: 0.220067\n",
            "Training until validation scores don't improve for 100 rounds.\n"
          ],
          "name": "stdout"
        },
        {
          "output_type": "stream",
          "text": [
            "/usr/local/lib/python3.7/dist-packages/lightgbm/basic.py:762: UserWarning:\n",
            "\n",
            "categorical_feature in param dict is overridden.\n",
            "\n",
            "\u001b[32m[I 2021-08-12 18:47:36,621]\u001b[0m Trial 90 finished with value: 0.93925 and parameters: {'bagging_fraction': 0.44150908204429173, 'bagging_freq': 2, 'min_child_samples': 98}. Best is trial 86 with value: 0.94025.\u001b[0m\n"
          ],
          "name": "stderr"
        },
        {
          "output_type": "stream",
          "text": [
            "[100]\ttraining's binary_logloss: 0.132744\tvalid_1's binary_logloss: 0.218789\n",
            "Did not meet early stopping. Best iteration is:\n",
            "[100]\ttraining's binary_logloss: 0.132744\tvalid_1's binary_logloss: 0.218789\n",
            "Training until validation scores don't improve for 100 rounds.\n"
          ],
          "name": "stdout"
        },
        {
          "output_type": "stream",
          "text": [
            "/usr/local/lib/python3.7/dist-packages/lightgbm/basic.py:762: UserWarning:\n",
            "\n",
            "categorical_feature in param dict is overridden.\n",
            "\n",
            "\u001b[32m[I 2021-08-12 18:47:37,261]\u001b[0m Trial 91 finished with value: 0.93875 and parameters: {'bagging_fraction': 0.42256717819441736, 'bagging_freq': 3, 'min_child_samples': 100}. Best is trial 86 with value: 0.94025.\u001b[0m\n"
          ],
          "name": "stderr"
        },
        {
          "output_type": "stream",
          "text": [
            "[100]\ttraining's binary_logloss: 0.138733\tvalid_1's binary_logloss: 0.219908\n",
            "Did not meet early stopping. Best iteration is:\n",
            "[100]\ttraining's binary_logloss: 0.138733\tvalid_1's binary_logloss: 0.219908\n",
            "Training until validation scores don't improve for 100 rounds.\n"
          ],
          "name": "stdout"
        },
        {
          "output_type": "stream",
          "text": [
            "/usr/local/lib/python3.7/dist-packages/lightgbm/basic.py:762: UserWarning:\n",
            "\n",
            "categorical_feature in param dict is overridden.\n",
            "\n",
            "\u001b[32m[I 2021-08-12 18:47:37,884]\u001b[0m Trial 92 finished with value: 0.939 and parameters: {'bagging_fraction': 0.4007845592893188, 'bagging_freq': 3, 'min_child_samples': 90}. Best is trial 86 with value: 0.94025.\u001b[0m\n"
          ],
          "name": "stderr"
        },
        {
          "output_type": "stream",
          "text": [
            "[100]\ttraining's binary_logloss: 0.136304\tvalid_1's binary_logloss: 0.221236\n",
            "Did not meet early stopping. Best iteration is:\n",
            "[100]\ttraining's binary_logloss: 0.136304\tvalid_1's binary_logloss: 0.221236\n",
            "Training until validation scores don't improve for 100 rounds.\n"
          ],
          "name": "stdout"
        },
        {
          "output_type": "stream",
          "text": [
            "/usr/local/lib/python3.7/dist-packages/lightgbm/basic.py:762: UserWarning:\n",
            "\n",
            "categorical_feature in param dict is overridden.\n",
            "\n",
            "\u001b[32m[I 2021-08-12 18:47:38,568]\u001b[0m Trial 93 finished with value: 0.93925 and parameters: {'bagging_fraction': 0.4612490815645626, 'bagging_freq': 2, 'min_child_samples': 96}. Best is trial 86 with value: 0.94025.\u001b[0m\n"
          ],
          "name": "stderr"
        },
        {
          "output_type": "stream",
          "text": [
            "[100]\ttraining's binary_logloss: 0.129289\tvalid_1's binary_logloss: 0.220343\n",
            "Did not meet early stopping. Best iteration is:\n",
            "[100]\ttraining's binary_logloss: 0.129289\tvalid_1's binary_logloss: 0.220343\n",
            "Training until validation scores don't improve for 100 rounds.\n"
          ],
          "name": "stdout"
        },
        {
          "output_type": "stream",
          "text": [
            "/usr/local/lib/python3.7/dist-packages/lightgbm/basic.py:762: UserWarning:\n",
            "\n",
            "categorical_feature in param dict is overridden.\n",
            "\n",
            "\u001b[32m[I 2021-08-12 18:47:39,229]\u001b[0m Trial 94 finished with value: 0.939 and parameters: {'bagging_fraction': 0.44170317706416695, 'bagging_freq': 3, 'min_child_samples': 95}. Best is trial 86 with value: 0.94025.\u001b[0m\n"
          ],
          "name": "stderr"
        },
        {
          "output_type": "stream",
          "text": [
            "[100]\ttraining's binary_logloss: 0.132627\tvalid_1's binary_logloss: 0.222495\n",
            "Did not meet early stopping. Best iteration is:\n",
            "[100]\ttraining's binary_logloss: 0.132627\tvalid_1's binary_logloss: 0.222495\n",
            "Training until validation scores don't improve for 100 rounds.\n"
          ],
          "name": "stdout"
        },
        {
          "output_type": "stream",
          "text": [
            "/usr/local/lib/python3.7/dist-packages/lightgbm/basic.py:762: UserWarning:\n",
            "\n",
            "categorical_feature in param dict is overridden.\n",
            "\n",
            "\u001b[32m[I 2021-08-12 18:47:39,878]\u001b[0m Trial 95 finished with value: 0.94 and parameters: {'bagging_fraction': 0.4140155278963291, 'bagging_freq': 3, 'min_child_samples': 92}. Best is trial 86 with value: 0.94025.\u001b[0m\n"
          ],
          "name": "stderr"
        },
        {
          "output_type": "stream",
          "text": [
            "[100]\ttraining's binary_logloss: 0.135946\tvalid_1's binary_logloss: 0.225596\n",
            "Did not meet early stopping. Best iteration is:\n",
            "[100]\ttraining's binary_logloss: 0.135946\tvalid_1's binary_logloss: 0.225596\n",
            "Training until validation scores don't improve for 100 rounds.\n"
          ],
          "name": "stdout"
        },
        {
          "output_type": "stream",
          "text": [
            "/usr/local/lib/python3.7/dist-packages/lightgbm/basic.py:762: UserWarning:\n",
            "\n",
            "categorical_feature in param dict is overridden.\n",
            "\n",
            "\u001b[32m[I 2021-08-12 18:47:40,585]\u001b[0m Trial 96 finished with value: 0.93725 and parameters: {'bagging_fraction': 0.4703178014612557, 'bagging_freq': 3, 'min_child_samples': 88}. Best is trial 86 with value: 0.94025.\u001b[0m\n"
          ],
          "name": "stderr"
        },
        {
          "output_type": "stream",
          "text": [
            "[100]\ttraining's binary_logloss: 0.12499\tvalid_1's binary_logloss: 0.219217\n",
            "Did not meet early stopping. Best iteration is:\n",
            "[100]\ttraining's binary_logloss: 0.12499\tvalid_1's binary_logloss: 0.219217\n",
            "Training until validation scores don't improve for 100 rounds.\n"
          ],
          "name": "stdout"
        },
        {
          "output_type": "stream",
          "text": [
            "/usr/local/lib/python3.7/dist-packages/lightgbm/basic.py:762: UserWarning:\n",
            "\n",
            "categorical_feature in param dict is overridden.\n",
            "\n",
            "\u001b[32m[I 2021-08-12 18:47:41,302]\u001b[0m Trial 97 finished with value: 0.93625 and parameters: {'bagging_fraction': 0.4828269210119549, 'bagging_freq': 3, 'min_child_samples': 91}. Best is trial 86 with value: 0.94025.\u001b[0m\n"
          ],
          "name": "stderr"
        },
        {
          "output_type": "stream",
          "text": [
            "[100]\ttraining's binary_logloss: 0.123503\tvalid_1's binary_logloss: 0.22393\n",
            "Did not meet early stopping. Best iteration is:\n",
            "[100]\ttraining's binary_logloss: 0.123503\tvalid_1's binary_logloss: 0.22393\n",
            "Training until validation scores don't improve for 100 rounds.\n"
          ],
          "name": "stdout"
        },
        {
          "output_type": "stream",
          "text": [
            "/usr/local/lib/python3.7/dist-packages/lightgbm/basic.py:762: UserWarning:\n",
            "\n",
            "categorical_feature in param dict is overridden.\n",
            "\n",
            "\u001b[32m[I 2021-08-12 18:47:41,970]\u001b[0m Trial 98 finished with value: 0.937 and parameters: {'bagging_fraction': 0.42532467088835624, 'bagging_freq': 4, 'min_child_samples': 84}. Best is trial 86 with value: 0.94025.\u001b[0m\n"
          ],
          "name": "stderr"
        },
        {
          "output_type": "stream",
          "text": [
            "[100]\ttraining's binary_logloss: 0.128915\tvalid_1's binary_logloss: 0.226836\n",
            "Did not meet early stopping. Best iteration is:\n",
            "[100]\ttraining's binary_logloss: 0.128915\tvalid_1's binary_logloss: 0.226836\n",
            "Training until validation scores don't improve for 100 rounds.\n"
          ],
          "name": "stdout"
        },
        {
          "output_type": "stream",
          "text": [
            "/usr/local/lib/python3.7/dist-packages/lightgbm/basic.py:762: UserWarning:\n",
            "\n",
            "categorical_feature in param dict is overridden.\n",
            "\n",
            "\u001b[32m[I 2021-08-12 18:47:42,698]\u001b[0m Trial 99 finished with value: 0.9395 and parameters: {'bagging_fraction': 0.5130375588724106, 'bagging_freq': 3, 'min_child_samples': 93}. Best is trial 86 with value: 0.94025.\u001b[0m\n"
          ],
          "name": "stderr"
        },
        {
          "output_type": "stream",
          "text": [
            "[100]\ttraining's binary_logloss: 0.120875\tvalid_1's binary_logloss: 0.22275\n",
            "Did not meet early stopping. Best iteration is:\n",
            "[100]\ttraining's binary_logloss: 0.120875\tvalid_1's binary_logloss: 0.22275\n"
          ],
          "name": "stdout"
        }
      ]
    },
    {
      "cell_type": "code",
      "metadata": {
        "id": "798CheHHV0Rp",
        "colab": {
          "base_uri": "https://localhost:8080/",
          "height": 542
        },
        "outputId": "2fe7c32f-20ea-44cf-daa3-4d75743500e2"
      },
      "source": [
        "plot_optimization_history(study)\n"
      ],
      "execution_count": null,
      "outputs": [
        {
          "output_type": "display_data",
          "data": {
            "text/html": [
              "<html>\n",
              "<head><meta charset=\"utf-8\" /></head>\n",
              "<body>\n",
              "    <div>\n",
              "            <script src=\"https://cdnjs.cloudflare.com/ajax/libs/mathjax/2.7.5/MathJax.js?config=TeX-AMS-MML_SVG\"></script><script type=\"text/javascript\">if (window.MathJax) {MathJax.Hub.Config({SVG: {font: \"STIX-Web\"}});}</script>\n",
              "                <script type=\"text/javascript\">window.PlotlyConfig = {MathJaxConfig: 'local'};</script>\n",
              "        <script src=\"https://cdn.plot.ly/plotly-latest.min.js\"></script>    \n",
              "            <div id=\"bb215428-8d13-44e1-a5da-91952fea8483\" class=\"plotly-graph-div\" style=\"height:525px; width:100%;\"></div>\n",
              "            <script type=\"text/javascript\">\n",
              "                \n",
              "                    window.PLOTLYENV=window.PLOTLYENV || {};\n",
              "                    \n",
              "                if (document.getElementById(\"bb215428-8d13-44e1-a5da-91952fea8483\")) {\n",
              "                    Plotly.newPlot(\n",
              "                        'bb215428-8d13-44e1-a5da-91952fea8483',\n",
              "                        [{\"mode\": \"markers\", \"name\": \"Objective Value\", \"type\": \"scatter\", \"x\": [0, 1, 2, 3, 4, 5, 6, 7, 8, 9, 10, 11, 12, 13, 14, 15, 16, 17, 18, 19, 20, 21, 22, 23, 24, 25, 26, 27, 28, 29, 30, 31, 32, 33, 34, 35, 36, 37, 38, 39, 40, 41, 42, 43, 44, 45, 46, 47, 48, 49, 50, 51, 52, 53, 54, 55, 56, 57, 58, 59, 60, 61, 62, 63, 64, 65, 66, 67, 68, 69, 70, 71, 72, 73, 74, 75, 76, 77, 78, 79, 80, 81, 82, 83, 84, 85, 86, 87, 88, 89, 90, 91, 92, 93, 94, 95, 96, 97, 98, 99], \"y\": [0.9355, 0.93225, 0.9325, 0.93725, 0.9335, 0.93525, 0.93475, 0.933, 0.933, 0.93325, 0.9365, 0.937, 0.935, 0.93575, 0.93475, 0.93625, 0.9355, 0.9345, 0.93775, 0.9365, 0.934, 0.9375, 0.93775, 0.937, 0.9355, 0.93575, 0.93475, 0.93375, 0.9375, 0.939, 0.935, 0.9365, 0.9375, 0.9355, 0.93575, 0.93625, 0.93625, 0.93575, 0.9345, 0.93525, 0.93925, 0.93875, 0.939, 0.9395, 0.938, 0.93625, 0.93575, 0.938, 0.93575, 0.9365, 0.9395, 0.94, 0.939, 0.93875, 0.93675, 0.937, 0.93675, 0.93825, 0.93825, 0.937, 0.938, 0.9385, 0.94, 0.93875, 0.9355, 0.93925, 0.93125, 0.937, 0.938, 0.93775, 0.939, 0.93875, 0.937, 0.9385, 0.93875, 0.93975, 0.93875, 0.94, 0.93975, 0.93725, 0.9395, 0.9395, 0.93925, 0.93875, 0.9385, 0.93925, 0.94025, 0.939, 0.9375, 0.93875, 0.93925, 0.93875, 0.939, 0.93925, 0.939, 0.94, 0.93725, 0.93625, 0.937, 0.9395]}, {\"name\": \"Best Value\", \"type\": \"scatter\", \"x\": [0, 1, 2, 3, 4, 5, 6, 7, 8, 9, 10, 11, 12, 13, 14, 15, 16, 17, 18, 19, 20, 21, 22, 23, 24, 25, 26, 27, 28, 29, 30, 31, 32, 33, 34, 35, 36, 37, 38, 39, 40, 41, 42, 43, 44, 45, 46, 47, 48, 49, 50, 51, 52, 53, 54, 55, 56, 57, 58, 59, 60, 61, 62, 63, 64, 65, 66, 67, 68, 69, 70, 71, 72, 73, 74, 75, 76, 77, 78, 79, 80, 81, 82, 83, 84, 85, 86, 87, 88, 89, 90, 91, 92, 93, 94, 95, 96, 97, 98, 99], \"y\": [0.9355, 0.9355, 0.9355, 0.93725, 0.93725, 0.93725, 0.93725, 0.93725, 0.93725, 0.93725, 0.93725, 0.93725, 0.93725, 0.93725, 0.93725, 0.93725, 0.93725, 0.93725, 0.93775, 0.93775, 0.93775, 0.93775, 0.93775, 0.93775, 0.93775, 0.93775, 0.93775, 0.93775, 0.93775, 0.939, 0.939, 0.939, 0.939, 0.939, 0.939, 0.939, 0.939, 0.939, 0.939, 0.939, 0.93925, 0.93925, 0.93925, 0.9395, 0.9395, 0.9395, 0.9395, 0.9395, 0.9395, 0.9395, 0.9395, 0.94, 0.94, 0.94, 0.94, 0.94, 0.94, 0.94, 0.94, 0.94, 0.94, 0.94, 0.94, 0.94, 0.94, 0.94, 0.94, 0.94, 0.94, 0.94, 0.94, 0.94, 0.94, 0.94, 0.94, 0.94, 0.94, 0.94, 0.94, 0.94, 0.94, 0.94, 0.94, 0.94, 0.94, 0.94, 0.94025, 0.94025, 0.94025, 0.94025, 0.94025, 0.94025, 0.94025, 0.94025, 0.94025, 0.94025, 0.94025, 0.94025, 0.94025, 0.94025]}],\n",
              "                        {\"template\": {\"data\": {\"bar\": [{\"error_x\": {\"color\": \"#2a3f5f\"}, \"error_y\": {\"color\": \"#2a3f5f\"}, \"marker\": {\"line\": {\"color\": \"#E5ECF6\", \"width\": 0.5}}, \"type\": \"bar\"}], \"barpolar\": [{\"marker\": {\"line\": {\"color\": \"#E5ECF6\", \"width\": 0.5}}, \"type\": \"barpolar\"}], \"carpet\": [{\"aaxis\": {\"endlinecolor\": \"#2a3f5f\", \"gridcolor\": \"white\", \"linecolor\": \"white\", \"minorgridcolor\": \"white\", \"startlinecolor\": \"#2a3f5f\"}, \"baxis\": {\"endlinecolor\": \"#2a3f5f\", \"gridcolor\": \"white\", \"linecolor\": \"white\", \"minorgridcolor\": \"white\", \"startlinecolor\": \"#2a3f5f\"}, \"type\": \"carpet\"}], \"choropleth\": [{\"colorbar\": {\"outlinewidth\": 0, \"ticks\": \"\"}, \"type\": \"choropleth\"}], \"contour\": [{\"colorbar\": {\"outlinewidth\": 0, \"ticks\": \"\"}, \"colorscale\": [[0.0, \"#0d0887\"], [0.1111111111111111, \"#46039f\"], [0.2222222222222222, \"#7201a8\"], [0.3333333333333333, \"#9c179e\"], [0.4444444444444444, \"#bd3786\"], [0.5555555555555556, \"#d8576b\"], [0.6666666666666666, \"#ed7953\"], [0.7777777777777778, \"#fb9f3a\"], [0.8888888888888888, \"#fdca26\"], [1.0, \"#f0f921\"]], \"type\": \"contour\"}], \"contourcarpet\": [{\"colorbar\": {\"outlinewidth\": 0, \"ticks\": \"\"}, \"type\": \"contourcarpet\"}], \"heatmap\": [{\"colorbar\": {\"outlinewidth\": 0, \"ticks\": \"\"}, \"colorscale\": [[0.0, \"#0d0887\"], [0.1111111111111111, \"#46039f\"], [0.2222222222222222, \"#7201a8\"], [0.3333333333333333, \"#9c179e\"], [0.4444444444444444, \"#bd3786\"], [0.5555555555555556, \"#d8576b\"], [0.6666666666666666, \"#ed7953\"], [0.7777777777777778, \"#fb9f3a\"], [0.8888888888888888, \"#fdca26\"], [1.0, \"#f0f921\"]], \"type\": \"heatmap\"}], \"heatmapgl\": [{\"colorbar\": {\"outlinewidth\": 0, \"ticks\": \"\"}, \"colorscale\": [[0.0, \"#0d0887\"], [0.1111111111111111, \"#46039f\"], [0.2222222222222222, \"#7201a8\"], [0.3333333333333333, \"#9c179e\"], [0.4444444444444444, \"#bd3786\"], [0.5555555555555556, \"#d8576b\"], [0.6666666666666666, \"#ed7953\"], [0.7777777777777778, \"#fb9f3a\"], [0.8888888888888888, \"#fdca26\"], [1.0, \"#f0f921\"]], \"type\": \"heatmapgl\"}], \"histogram\": [{\"marker\": {\"colorbar\": {\"outlinewidth\": 0, \"ticks\": \"\"}}, \"type\": \"histogram\"}], \"histogram2d\": [{\"colorbar\": {\"outlinewidth\": 0, \"ticks\": \"\"}, \"colorscale\": [[0.0, \"#0d0887\"], [0.1111111111111111, \"#46039f\"], [0.2222222222222222, \"#7201a8\"], [0.3333333333333333, \"#9c179e\"], [0.4444444444444444, \"#bd3786\"], [0.5555555555555556, \"#d8576b\"], [0.6666666666666666, \"#ed7953\"], [0.7777777777777778, \"#fb9f3a\"], [0.8888888888888888, \"#fdca26\"], [1.0, \"#f0f921\"]], \"type\": \"histogram2d\"}], \"histogram2dcontour\": [{\"colorbar\": {\"outlinewidth\": 0, \"ticks\": \"\"}, \"colorscale\": [[0.0, \"#0d0887\"], [0.1111111111111111, \"#46039f\"], [0.2222222222222222, \"#7201a8\"], [0.3333333333333333, \"#9c179e\"], [0.4444444444444444, \"#bd3786\"], [0.5555555555555556, \"#d8576b\"], [0.6666666666666666, \"#ed7953\"], [0.7777777777777778, \"#fb9f3a\"], [0.8888888888888888, \"#fdca26\"], [1.0, \"#f0f921\"]], \"type\": \"histogram2dcontour\"}], \"mesh3d\": [{\"colorbar\": {\"outlinewidth\": 0, \"ticks\": \"\"}, \"type\": \"mesh3d\"}], \"parcoords\": [{\"line\": {\"colorbar\": {\"outlinewidth\": 0, \"ticks\": \"\"}}, \"type\": \"parcoords\"}], \"pie\": [{\"automargin\": true, \"type\": \"pie\"}], \"scatter\": [{\"marker\": {\"colorbar\": {\"outlinewidth\": 0, \"ticks\": \"\"}}, \"type\": \"scatter\"}], \"scatter3d\": [{\"line\": {\"colorbar\": {\"outlinewidth\": 0, \"ticks\": \"\"}}, \"marker\": {\"colorbar\": {\"outlinewidth\": 0, \"ticks\": \"\"}}, \"type\": \"scatter3d\"}], \"scattercarpet\": [{\"marker\": {\"colorbar\": {\"outlinewidth\": 0, \"ticks\": \"\"}}, \"type\": \"scattercarpet\"}], \"scattergeo\": [{\"marker\": {\"colorbar\": {\"outlinewidth\": 0, \"ticks\": \"\"}}, \"type\": \"scattergeo\"}], \"scattergl\": [{\"marker\": {\"colorbar\": {\"outlinewidth\": 0, \"ticks\": \"\"}}, \"type\": \"scattergl\"}], \"scattermapbox\": [{\"marker\": {\"colorbar\": {\"outlinewidth\": 0, \"ticks\": \"\"}}, \"type\": \"scattermapbox\"}], \"scatterpolar\": [{\"marker\": {\"colorbar\": {\"outlinewidth\": 0, \"ticks\": \"\"}}, \"type\": \"scatterpolar\"}], \"scatterpolargl\": [{\"marker\": {\"colorbar\": {\"outlinewidth\": 0, \"ticks\": \"\"}}, \"type\": \"scatterpolargl\"}], \"scatterternary\": [{\"marker\": {\"colorbar\": {\"outlinewidth\": 0, \"ticks\": \"\"}}, \"type\": \"scatterternary\"}], \"surface\": [{\"colorbar\": {\"outlinewidth\": 0, \"ticks\": \"\"}, \"colorscale\": [[0.0, \"#0d0887\"], [0.1111111111111111, \"#46039f\"], [0.2222222222222222, \"#7201a8\"], [0.3333333333333333, \"#9c179e\"], [0.4444444444444444, \"#bd3786\"], [0.5555555555555556, \"#d8576b\"], [0.6666666666666666, \"#ed7953\"], [0.7777777777777778, \"#fb9f3a\"], [0.8888888888888888, \"#fdca26\"], [1.0, \"#f0f921\"]], \"type\": \"surface\"}], \"table\": [{\"cells\": {\"fill\": {\"color\": \"#EBF0F8\"}, \"line\": {\"color\": \"white\"}}, \"header\": {\"fill\": {\"color\": \"#C8D4E3\"}, \"line\": {\"color\": \"white\"}}, \"type\": \"table\"}]}, \"layout\": {\"annotationdefaults\": {\"arrowcolor\": \"#2a3f5f\", \"arrowhead\": 0, \"arrowwidth\": 1}, \"coloraxis\": {\"colorbar\": {\"outlinewidth\": 0, \"ticks\": \"\"}}, \"colorscale\": {\"diverging\": [[0, \"#8e0152\"], [0.1, \"#c51b7d\"], [0.2, \"#de77ae\"], [0.3, \"#f1b6da\"], [0.4, \"#fde0ef\"], [0.5, \"#f7f7f7\"], [0.6, \"#e6f5d0\"], [0.7, \"#b8e186\"], [0.8, \"#7fbc41\"], [0.9, \"#4d9221\"], [1, \"#276419\"]], \"sequential\": [[0.0, \"#0d0887\"], [0.1111111111111111, \"#46039f\"], [0.2222222222222222, \"#7201a8\"], [0.3333333333333333, \"#9c179e\"], [0.4444444444444444, \"#bd3786\"], [0.5555555555555556, \"#d8576b\"], [0.6666666666666666, \"#ed7953\"], [0.7777777777777778, \"#fb9f3a\"], [0.8888888888888888, \"#fdca26\"], [1.0, \"#f0f921\"]], \"sequentialminus\": [[0.0, \"#0d0887\"], [0.1111111111111111, \"#46039f\"], [0.2222222222222222, \"#7201a8\"], [0.3333333333333333, \"#9c179e\"], [0.4444444444444444, \"#bd3786\"], [0.5555555555555556, \"#d8576b\"], [0.6666666666666666, \"#ed7953\"], [0.7777777777777778, \"#fb9f3a\"], [0.8888888888888888, \"#fdca26\"], [1.0, \"#f0f921\"]]}, \"colorway\": [\"#636efa\", \"#EF553B\", \"#00cc96\", \"#ab63fa\", \"#FFA15A\", \"#19d3f3\", \"#FF6692\", \"#B6E880\", \"#FF97FF\", \"#FECB52\"], \"font\": {\"color\": \"#2a3f5f\"}, \"geo\": {\"bgcolor\": \"white\", \"lakecolor\": \"white\", \"landcolor\": \"#E5ECF6\", \"showlakes\": true, \"showland\": true, \"subunitcolor\": \"white\"}, \"hoverlabel\": {\"align\": \"left\"}, \"hovermode\": \"closest\", \"mapbox\": {\"style\": \"light\"}, \"paper_bgcolor\": \"white\", \"plot_bgcolor\": \"#E5ECF6\", \"polar\": {\"angularaxis\": {\"gridcolor\": \"white\", \"linecolor\": \"white\", \"ticks\": \"\"}, \"bgcolor\": \"#E5ECF6\", \"radialaxis\": {\"gridcolor\": \"white\", \"linecolor\": \"white\", \"ticks\": \"\"}}, \"scene\": {\"xaxis\": {\"backgroundcolor\": \"#E5ECF6\", \"gridcolor\": \"white\", \"gridwidth\": 2, \"linecolor\": \"white\", \"showbackground\": true, \"ticks\": \"\", \"zerolinecolor\": \"white\"}, \"yaxis\": {\"backgroundcolor\": \"#E5ECF6\", \"gridcolor\": \"white\", \"gridwidth\": 2, \"linecolor\": \"white\", \"showbackground\": true, \"ticks\": \"\", \"zerolinecolor\": \"white\"}, \"zaxis\": {\"backgroundcolor\": \"#E5ECF6\", \"gridcolor\": \"white\", \"gridwidth\": 2, \"linecolor\": \"white\", \"showbackground\": true, \"ticks\": \"\", \"zerolinecolor\": \"white\"}}, \"shapedefaults\": {\"line\": {\"color\": \"#2a3f5f\"}}, \"ternary\": {\"aaxis\": {\"gridcolor\": \"white\", \"linecolor\": \"white\", \"ticks\": \"\"}, \"baxis\": {\"gridcolor\": \"white\", \"linecolor\": \"white\", \"ticks\": \"\"}, \"bgcolor\": \"#E5ECF6\", \"caxis\": {\"gridcolor\": \"white\", \"linecolor\": \"white\", \"ticks\": \"\"}}, \"title\": {\"x\": 0.05}, \"xaxis\": {\"automargin\": true, \"gridcolor\": \"white\", \"linecolor\": \"white\", \"ticks\": \"\", \"title\": {\"standoff\": 15}, \"zerolinecolor\": \"white\", \"zerolinewidth\": 2}, \"yaxis\": {\"automargin\": true, \"gridcolor\": \"white\", \"linecolor\": \"white\", \"ticks\": \"\", \"title\": {\"standoff\": 15}, \"zerolinecolor\": \"white\", \"zerolinewidth\": 2}}}, \"title\": {\"text\": \"Optimization History Plot\"}, \"xaxis\": {\"title\": {\"text\": \"#Trials\"}}, \"yaxis\": {\"title\": {\"text\": \"Objective Value\"}}},\n",
              "                        {\"responsive\": true}\n",
              "                    ).then(function(){\n",
              "                            \n",
              "var gd = document.getElementById('bb215428-8d13-44e1-a5da-91952fea8483');\n",
              "var x = new MutationObserver(function (mutations, observer) {{\n",
              "        var display = window.getComputedStyle(gd).display;\n",
              "        if (!display || display === 'none') {{\n",
              "            console.log([gd, 'removed!']);\n",
              "            Plotly.purge(gd);\n",
              "            observer.disconnect();\n",
              "        }}\n",
              "}});\n",
              "\n",
              "// Listen for the removal of the full notebook cells\n",
              "var notebookContainer = gd.closest('#notebook-container');\n",
              "if (notebookContainer) {{\n",
              "    x.observe(notebookContainer, {childList: true});\n",
              "}}\n",
              "\n",
              "// Listen for the clearing of the current output cell\n",
              "var outputEl = gd.closest('.output');\n",
              "if (outputEl) {{\n",
              "    x.observe(outputEl, {childList: true});\n",
              "}}\n",
              "\n",
              "                        })\n",
              "                };\n",
              "                \n",
              "            </script>\n",
              "        </div>\n",
              "</body>\n",
              "</html>"
            ]
          },
          "metadata": {
            "tags": []
          }
        }
      ]
    },
    {
      "cell_type": "code",
      "metadata": {
        "id": "fedmP8HRV0Rt",
        "colab": {
          "base_uri": "https://localhost:8080/",
          "height": 542
        },
        "outputId": "430f7262-64da-48f7-f36f-5ae5ee7b36bb"
      },
      "source": [
        "plot_parallel_coordinate(study)\n"
      ],
      "execution_count": null,
      "outputs": [
        {
          "output_type": "display_data",
          "data": {
            "text/html": [
              "<html>\n",
              "<head><meta charset=\"utf-8\" /></head>\n",
              "<body>\n",
              "    <div>\n",
              "            <script src=\"https://cdnjs.cloudflare.com/ajax/libs/mathjax/2.7.5/MathJax.js?config=TeX-AMS-MML_SVG\"></script><script type=\"text/javascript\">if (window.MathJax) {MathJax.Hub.Config({SVG: {font: \"STIX-Web\"}});}</script>\n",
              "                <script type=\"text/javascript\">window.PlotlyConfig = {MathJaxConfig: 'local'};</script>\n",
              "        <script src=\"https://cdn.plot.ly/plotly-latest.min.js\"></script>    \n",
              "            <div id=\"4e5eb6da-438e-4761-a5a5-e7076ddc3ce2\" class=\"plotly-graph-div\" style=\"height:525px; width:100%;\"></div>\n",
              "            <script type=\"text/javascript\">\n",
              "                \n",
              "                    window.PLOTLYENV=window.PLOTLYENV || {};\n",
              "                    \n",
              "                if (document.getElementById(\"4e5eb6da-438e-4761-a5a5-e7076ddc3ce2\")) {\n",
              "                    Plotly.newPlot(\n",
              "                        '4e5eb6da-438e-4761-a5a5-e7076ddc3ce2',\n",
              "                        [{\"dimensions\": [{\"label\": \"Objective Value\", \"range\": [0.93125, 0.94025], \"values\": [0.9355, 0.93225, 0.9325, 0.93725, 0.9335, 0.93525, 0.93475, 0.933, 0.933, 0.93325, 0.9365, 0.937, 0.935, 0.93575, 0.93475, 0.93625, 0.9355, 0.9345, 0.93775, 0.9365, 0.934, 0.9375, 0.93775, 0.937, 0.9355, 0.93575, 0.93475, 0.93375, 0.9375, 0.939, 0.935, 0.9365, 0.9375, 0.9355, 0.93575, 0.93625, 0.93625, 0.93575, 0.9345, 0.93525, 0.93925, 0.93875, 0.939, 0.9395, 0.938, 0.93625, 0.93575, 0.938, 0.93575, 0.9365, 0.9395, 0.94, 0.939, 0.93875, 0.93675, 0.937, 0.93675, 0.93825, 0.93825, 0.937, 0.938, 0.9385, 0.94, 0.93875, 0.9355, 0.93925, 0.93125, 0.937, 0.938, 0.93775, 0.939, 0.93875, 0.937, 0.9385, 0.93875, 0.93975, 0.93875, 0.94, 0.93975, 0.93725, 0.9395, 0.9395, 0.93925, 0.93875, 0.9385, 0.93925, 0.94025, 0.939, 0.9375, 0.93875, 0.93925, 0.93875, 0.939, 0.93925, 0.939, 0.94, 0.93725, 0.93625, 0.937, 0.9395]}, {\"label\": \"bagging_fraction\", \"range\": [0.4000774973218806, 0.9983507036605508], \"values\": [0.6247240713084175, 0.759195090518222, 0.4348501673009197, 0.8248435466776274, 0.899465584480253, 0.5100427059120604, 0.6591670111852694, 0.4836963163912251, 0.6736419905302216, 0.708540663048167, 0.9807628179319392, 0.960677975271797, 0.8422233433705593, 0.9983507036605508, 0.8446383804415064, 0.9125594092958378, 0.775690618497564, 0.9178361842790465, 0.8206975572362558, 0.5949474017149876, 0.8170972500642734, 0.7581724747076644, 0.7594072998875797, 0.7302929284103302, 0.768445119552756, 0.5525806341350226, 0.7874214437524669, 0.8808910194331233, 0.7226779700453105, 0.6256175105627158, 0.5864136518187979, 0.6531198005202535, 0.707160735206391, 0.6206540823369198, 0.7468904831376453, 0.6759917253247111, 0.797235866448676, 0.7048223908411229, 0.8588865372089907, 0.6353156437613183, 0.45123122138221866, 0.4056633015111988, 0.41915517137521824, 0.4000774973218806, 0.4293732660534338, 0.4015527763783517, 0.48262801903648145, 0.47123694446547, 0.5229311845645565, 0.44172392506353964, 0.40181832048203064, 0.40066717587619527, 0.4530266136118103, 0.5093727715032971, 0.4549071807361478, 0.42524114368317734, 0.46291374167590627, 0.49609282229327883, 0.41562259652876826, 0.5338831855703494, 0.4328649123947902, 0.44790414151721303, 0.4019269589243799, 0.47842738282353237, 0.40178532006156076, 0.4489030823413096, 0.4543460978506155, 0.4994180641705174, 0.5624720513745817, 0.4163197042642292, 0.42954288072489816, 0.41576471603269877, 0.4365442388228655, 0.4645087968035611, 0.4261400002146887, 0.44997140754015397, 0.4903720770043949, 0.4023581225843636, 0.40115999271583924, 0.4046624758891292, 0.4699954262347528, 0.4008272847079046, 0.40359991362963166, 0.4393756421214726, 0.47177004581482623, 0.41600354348390817, 0.40302388956471835, 0.4327209401878501, 0.4186103202505588, 0.4082176322606516, 0.44150908204429173, 0.42256717819441736, 0.4007845592893188, 0.4612490815645626, 0.44170317706416695, 0.4140155278963291, 0.4703178014612557, 0.4828269210119549, 0.42532467088835624, 0.5130375588724106]}, {\"label\": \"bagging_freq\", \"range\": [1, 7], \"values\": [7, 2, 7, 1, 2, 3, 3, 3, 6, 5, 1, 1, 1, 1, 4, 2, 4, 1, 2, 2, 4, 1, 2, 2, 3, 2, 3, 5, 2, 4, 5, 4, 2, 7, 6, 2, 1, 3, 1, 3, 2, 2, 2, 3, 3, 3, 4, 3, 4, 3, 2, 2, 2, 2, 3, 1, 2, 3, 2, 4, 5, 2, 2, 1, 2, 2, 2, 1, 3, 2, 1, 2, 1, 1, 1, 2, 2, 2, 2, 2, 3, 2, 3, 3, 2, 2, 3, 2, 3, 2, 2, 3, 3, 2, 3, 3, 3, 3, 4, 3]}, {\"label\": \"min_child_samples\", \"range\": [9, 100], \"values\": [75, 19, 62, 98, 22, 55, 63, 40, 24, 9, 98, 94, 99, 84, 82, 86, 71, 41, 90, 91, 77, 92, 100, 88, 72, 91, 80, 66, 100, 99, 39, 99, 100, 86, 93, 77, 94, 87, 54, 70, 80, 95, 81, 80, 81, 59, 46, 74, 68, 79, 95, 95, 84, 96, 84, 62, 75, 89, 83, 96, 78, 85, 91, 89, 31, 92, 11, 92, 97, 81, 89, 93, 88, 91, 86, 97, 96, 93, 93, 94, 97, 98, 97, 100, 98, 94, 90, 91, 87, 94, 98, 100, 90, 96, 95, 92, 88, 91, 84, 93]}], \"labelangle\": 30, \"labelside\": \"bottom\", \"line\": {\"color\": [0.9355, 0.93225, 0.9325, 0.93725, 0.9335, 0.93525, 0.93475, 0.933, 0.933, 0.93325, 0.9365, 0.937, 0.935, 0.93575, 0.93475, 0.93625, 0.9355, 0.9345, 0.93775, 0.9365, 0.934, 0.9375, 0.93775, 0.937, 0.9355, 0.93575, 0.93475, 0.93375, 0.9375, 0.939, 0.935, 0.9365, 0.9375, 0.9355, 0.93575, 0.93625, 0.93625, 0.93575, 0.9345, 0.93525, 0.93925, 0.93875, 0.939, 0.9395, 0.938, 0.93625, 0.93575, 0.938, 0.93575, 0.9365, 0.9395, 0.94, 0.939, 0.93875, 0.93675, 0.937, 0.93675, 0.93825, 0.93825, 0.937, 0.938, 0.9385, 0.94, 0.93875, 0.9355, 0.93925, 0.93125, 0.937, 0.938, 0.93775, 0.939, 0.93875, 0.937, 0.9385, 0.93875, 0.93975, 0.93875, 0.94, 0.93975, 0.93725, 0.9395, 0.9395, 0.93925, 0.93875, 0.9385, 0.93925, 0.94025, 0.939, 0.9375, 0.93875, 0.93925, 0.93875, 0.939, 0.93925, 0.939, 0.94, 0.93725, 0.93625, 0.937, 0.9395], \"colorbar\": {\"title\": {\"text\": \"Objective Value\"}}, \"colorscale\": [[0.0, \"rgb(247,251,255)\"], [0.125, \"rgb(222,235,247)\"], [0.25, \"rgb(198,219,239)\"], [0.375, \"rgb(158,202,225)\"], [0.5, \"rgb(107,174,214)\"], [0.625, \"rgb(66,146,198)\"], [0.75, \"rgb(33,113,181)\"], [0.875, \"rgb(8,81,156)\"], [1.0, \"rgb(8,48,107)\"]], \"reversescale\": false, \"showscale\": true}, \"type\": \"parcoords\"}],\n",
              "                        {\"template\": {\"data\": {\"bar\": [{\"error_x\": {\"color\": \"#2a3f5f\"}, \"error_y\": {\"color\": \"#2a3f5f\"}, \"marker\": {\"line\": {\"color\": \"#E5ECF6\", \"width\": 0.5}}, \"type\": \"bar\"}], \"barpolar\": [{\"marker\": {\"line\": {\"color\": \"#E5ECF6\", \"width\": 0.5}}, \"type\": \"barpolar\"}], \"carpet\": [{\"aaxis\": {\"endlinecolor\": \"#2a3f5f\", \"gridcolor\": \"white\", \"linecolor\": \"white\", \"minorgridcolor\": \"white\", \"startlinecolor\": \"#2a3f5f\"}, \"baxis\": {\"endlinecolor\": \"#2a3f5f\", \"gridcolor\": \"white\", \"linecolor\": \"white\", \"minorgridcolor\": \"white\", \"startlinecolor\": \"#2a3f5f\"}, \"type\": \"carpet\"}], \"choropleth\": [{\"colorbar\": {\"outlinewidth\": 0, \"ticks\": \"\"}, \"type\": \"choropleth\"}], \"contour\": [{\"colorbar\": {\"outlinewidth\": 0, \"ticks\": \"\"}, \"colorscale\": [[0.0, \"#0d0887\"], [0.1111111111111111, \"#46039f\"], [0.2222222222222222, \"#7201a8\"], [0.3333333333333333, \"#9c179e\"], [0.4444444444444444, \"#bd3786\"], [0.5555555555555556, \"#d8576b\"], [0.6666666666666666, \"#ed7953\"], [0.7777777777777778, \"#fb9f3a\"], [0.8888888888888888, \"#fdca26\"], [1.0, \"#f0f921\"]], \"type\": \"contour\"}], \"contourcarpet\": [{\"colorbar\": {\"outlinewidth\": 0, \"ticks\": \"\"}, \"type\": \"contourcarpet\"}], \"heatmap\": [{\"colorbar\": {\"outlinewidth\": 0, \"ticks\": \"\"}, \"colorscale\": [[0.0, \"#0d0887\"], [0.1111111111111111, \"#46039f\"], [0.2222222222222222, \"#7201a8\"], [0.3333333333333333, \"#9c179e\"], [0.4444444444444444, \"#bd3786\"], [0.5555555555555556, \"#d8576b\"], [0.6666666666666666, \"#ed7953\"], [0.7777777777777778, \"#fb9f3a\"], [0.8888888888888888, \"#fdca26\"], [1.0, \"#f0f921\"]], \"type\": \"heatmap\"}], \"heatmapgl\": [{\"colorbar\": {\"outlinewidth\": 0, \"ticks\": \"\"}, \"colorscale\": [[0.0, \"#0d0887\"], [0.1111111111111111, \"#46039f\"], [0.2222222222222222, \"#7201a8\"], [0.3333333333333333, \"#9c179e\"], [0.4444444444444444, \"#bd3786\"], [0.5555555555555556, \"#d8576b\"], [0.6666666666666666, \"#ed7953\"], [0.7777777777777778, \"#fb9f3a\"], [0.8888888888888888, \"#fdca26\"], [1.0, \"#f0f921\"]], \"type\": \"heatmapgl\"}], \"histogram\": [{\"marker\": {\"colorbar\": {\"outlinewidth\": 0, \"ticks\": \"\"}}, \"type\": \"histogram\"}], \"histogram2d\": [{\"colorbar\": {\"outlinewidth\": 0, \"ticks\": \"\"}, \"colorscale\": [[0.0, \"#0d0887\"], [0.1111111111111111, \"#46039f\"], [0.2222222222222222, \"#7201a8\"], [0.3333333333333333, \"#9c179e\"], [0.4444444444444444, \"#bd3786\"], [0.5555555555555556, \"#d8576b\"], [0.6666666666666666, \"#ed7953\"], [0.7777777777777778, \"#fb9f3a\"], [0.8888888888888888, \"#fdca26\"], [1.0, \"#f0f921\"]], \"type\": \"histogram2d\"}], \"histogram2dcontour\": [{\"colorbar\": {\"outlinewidth\": 0, \"ticks\": \"\"}, \"colorscale\": [[0.0, \"#0d0887\"], [0.1111111111111111, \"#46039f\"], [0.2222222222222222, \"#7201a8\"], [0.3333333333333333, \"#9c179e\"], [0.4444444444444444, \"#bd3786\"], [0.5555555555555556, \"#d8576b\"], [0.6666666666666666, \"#ed7953\"], [0.7777777777777778, \"#fb9f3a\"], [0.8888888888888888, \"#fdca26\"], [1.0, \"#f0f921\"]], \"type\": \"histogram2dcontour\"}], \"mesh3d\": [{\"colorbar\": {\"outlinewidth\": 0, \"ticks\": \"\"}, \"type\": \"mesh3d\"}], \"parcoords\": [{\"line\": {\"colorbar\": {\"outlinewidth\": 0, \"ticks\": \"\"}}, \"type\": \"parcoords\"}], \"pie\": [{\"automargin\": true, \"type\": \"pie\"}], \"scatter\": [{\"marker\": {\"colorbar\": {\"outlinewidth\": 0, \"ticks\": \"\"}}, \"type\": \"scatter\"}], \"scatter3d\": [{\"line\": {\"colorbar\": {\"outlinewidth\": 0, \"ticks\": \"\"}}, \"marker\": {\"colorbar\": {\"outlinewidth\": 0, \"ticks\": \"\"}}, \"type\": \"scatter3d\"}], \"scattercarpet\": [{\"marker\": {\"colorbar\": {\"outlinewidth\": 0, \"ticks\": \"\"}}, \"type\": \"scattercarpet\"}], \"scattergeo\": [{\"marker\": {\"colorbar\": {\"outlinewidth\": 0, \"ticks\": \"\"}}, \"type\": \"scattergeo\"}], \"scattergl\": [{\"marker\": {\"colorbar\": {\"outlinewidth\": 0, \"ticks\": \"\"}}, \"type\": \"scattergl\"}], \"scattermapbox\": [{\"marker\": {\"colorbar\": {\"outlinewidth\": 0, \"ticks\": \"\"}}, \"type\": \"scattermapbox\"}], \"scatterpolar\": [{\"marker\": {\"colorbar\": {\"outlinewidth\": 0, \"ticks\": \"\"}}, \"type\": \"scatterpolar\"}], \"scatterpolargl\": [{\"marker\": {\"colorbar\": {\"outlinewidth\": 0, \"ticks\": \"\"}}, \"type\": \"scatterpolargl\"}], \"scatterternary\": [{\"marker\": {\"colorbar\": {\"outlinewidth\": 0, \"ticks\": \"\"}}, \"type\": \"scatterternary\"}], \"surface\": [{\"colorbar\": {\"outlinewidth\": 0, \"ticks\": \"\"}, \"colorscale\": [[0.0, \"#0d0887\"], [0.1111111111111111, \"#46039f\"], [0.2222222222222222, \"#7201a8\"], [0.3333333333333333, \"#9c179e\"], [0.4444444444444444, \"#bd3786\"], [0.5555555555555556, \"#d8576b\"], [0.6666666666666666, \"#ed7953\"], [0.7777777777777778, \"#fb9f3a\"], [0.8888888888888888, \"#fdca26\"], [1.0, \"#f0f921\"]], \"type\": \"surface\"}], \"table\": [{\"cells\": {\"fill\": {\"color\": \"#EBF0F8\"}, \"line\": {\"color\": \"white\"}}, \"header\": {\"fill\": {\"color\": \"#C8D4E3\"}, \"line\": {\"color\": \"white\"}}, \"type\": \"table\"}]}, \"layout\": {\"annotationdefaults\": {\"arrowcolor\": \"#2a3f5f\", \"arrowhead\": 0, \"arrowwidth\": 1}, \"coloraxis\": {\"colorbar\": {\"outlinewidth\": 0, \"ticks\": \"\"}}, \"colorscale\": {\"diverging\": [[0, \"#8e0152\"], [0.1, \"#c51b7d\"], [0.2, \"#de77ae\"], [0.3, \"#f1b6da\"], [0.4, \"#fde0ef\"], [0.5, \"#f7f7f7\"], [0.6, \"#e6f5d0\"], [0.7, \"#b8e186\"], [0.8, \"#7fbc41\"], [0.9, \"#4d9221\"], [1, \"#276419\"]], \"sequential\": [[0.0, \"#0d0887\"], [0.1111111111111111, \"#46039f\"], [0.2222222222222222, \"#7201a8\"], [0.3333333333333333, \"#9c179e\"], [0.4444444444444444, \"#bd3786\"], [0.5555555555555556, \"#d8576b\"], [0.6666666666666666, \"#ed7953\"], [0.7777777777777778, \"#fb9f3a\"], [0.8888888888888888, \"#fdca26\"], [1.0, \"#f0f921\"]], \"sequentialminus\": [[0.0, \"#0d0887\"], [0.1111111111111111, \"#46039f\"], [0.2222222222222222, \"#7201a8\"], [0.3333333333333333, \"#9c179e\"], [0.4444444444444444, \"#bd3786\"], [0.5555555555555556, \"#d8576b\"], [0.6666666666666666, \"#ed7953\"], [0.7777777777777778, \"#fb9f3a\"], [0.8888888888888888, \"#fdca26\"], [1.0, \"#f0f921\"]]}, \"colorway\": [\"#636efa\", \"#EF553B\", \"#00cc96\", \"#ab63fa\", \"#FFA15A\", \"#19d3f3\", \"#FF6692\", \"#B6E880\", \"#FF97FF\", \"#FECB52\"], \"font\": {\"color\": \"#2a3f5f\"}, \"geo\": {\"bgcolor\": \"white\", \"lakecolor\": \"white\", \"landcolor\": \"#E5ECF6\", \"showlakes\": true, \"showland\": true, \"subunitcolor\": \"white\"}, \"hoverlabel\": {\"align\": \"left\"}, \"hovermode\": \"closest\", \"mapbox\": {\"style\": \"light\"}, \"paper_bgcolor\": \"white\", \"plot_bgcolor\": \"#E5ECF6\", \"polar\": {\"angularaxis\": {\"gridcolor\": \"white\", \"linecolor\": \"white\", \"ticks\": \"\"}, \"bgcolor\": \"#E5ECF6\", \"radialaxis\": {\"gridcolor\": \"white\", \"linecolor\": \"white\", \"ticks\": \"\"}}, \"scene\": {\"xaxis\": {\"backgroundcolor\": \"#E5ECF6\", \"gridcolor\": \"white\", \"gridwidth\": 2, \"linecolor\": \"white\", \"showbackground\": true, \"ticks\": \"\", \"zerolinecolor\": \"white\"}, \"yaxis\": {\"backgroundcolor\": \"#E5ECF6\", \"gridcolor\": \"white\", \"gridwidth\": 2, \"linecolor\": \"white\", \"showbackground\": true, \"ticks\": \"\", \"zerolinecolor\": \"white\"}, \"zaxis\": {\"backgroundcolor\": \"#E5ECF6\", \"gridcolor\": \"white\", \"gridwidth\": 2, \"linecolor\": \"white\", \"showbackground\": true, \"ticks\": \"\", \"zerolinecolor\": \"white\"}}, \"shapedefaults\": {\"line\": {\"color\": \"#2a3f5f\"}}, \"ternary\": {\"aaxis\": {\"gridcolor\": \"white\", \"linecolor\": \"white\", \"ticks\": \"\"}, \"baxis\": {\"gridcolor\": \"white\", \"linecolor\": \"white\", \"ticks\": \"\"}, \"bgcolor\": \"#E5ECF6\", \"caxis\": {\"gridcolor\": \"white\", \"linecolor\": \"white\", \"ticks\": \"\"}}, \"title\": {\"x\": 0.05}, \"xaxis\": {\"automargin\": true, \"gridcolor\": \"white\", \"linecolor\": \"white\", \"ticks\": \"\", \"title\": {\"standoff\": 15}, \"zerolinecolor\": \"white\", \"zerolinewidth\": 2}, \"yaxis\": {\"automargin\": true, \"gridcolor\": \"white\", \"linecolor\": \"white\", \"ticks\": \"\", \"title\": {\"standoff\": 15}, \"zerolinecolor\": \"white\", \"zerolinewidth\": 2}}}, \"title\": {\"text\": \"Parallel Coordinate Plot\"}},\n",
              "                        {\"responsive\": true}\n",
              "                    ).then(function(){\n",
              "                            \n",
              "var gd = document.getElementById('4e5eb6da-438e-4761-a5a5-e7076ddc3ce2');\n",
              "var x = new MutationObserver(function (mutations, observer) {{\n",
              "        var display = window.getComputedStyle(gd).display;\n",
              "        if (!display || display === 'none') {{\n",
              "            console.log([gd, 'removed!']);\n",
              "            Plotly.purge(gd);\n",
              "            observer.disconnect();\n",
              "        }}\n",
              "}});\n",
              "\n",
              "// Listen for the removal of the full notebook cells\n",
              "var notebookContainer = gd.closest('#notebook-container');\n",
              "if (notebookContainer) {{\n",
              "    x.observe(notebookContainer, {childList: true});\n",
              "}}\n",
              "\n",
              "// Listen for the clearing of the current output cell\n",
              "var outputEl = gd.closest('.output');\n",
              "if (outputEl) {{\n",
              "    x.observe(outputEl, {childList: true});\n",
              "}}\n",
              "\n",
              "                        })\n",
              "                };\n",
              "                \n",
              "            </script>\n",
              "        </div>\n",
              "</body>\n",
              "</html>"
            ]
          },
          "metadata": {
            "tags": []
          }
        }
      ]
    },
    {
      "cell_type": "code",
      "metadata": {
        "id": "9BhXD174V0Rt",
        "colab": {
          "base_uri": "https://localhost:8080/",
          "height": 542
        },
        "outputId": "0f478ff4-2700-452e-8ad6-cab2541bb920"
      },
      "source": [
        "plot_parallel_coordinate(study, params=[\"bagging_freq\", \"bagging_fraction\"])\n"
      ],
      "execution_count": null,
      "outputs": [
        {
          "output_type": "display_data",
          "data": {
            "text/html": [
              "<html>\n",
              "<head><meta charset=\"utf-8\" /></head>\n",
              "<body>\n",
              "    <div>\n",
              "            <script src=\"https://cdnjs.cloudflare.com/ajax/libs/mathjax/2.7.5/MathJax.js?config=TeX-AMS-MML_SVG\"></script><script type=\"text/javascript\">if (window.MathJax) {MathJax.Hub.Config({SVG: {font: \"STIX-Web\"}});}</script>\n",
              "                <script type=\"text/javascript\">window.PlotlyConfig = {MathJaxConfig: 'local'};</script>\n",
              "        <script src=\"https://cdn.plot.ly/plotly-latest.min.js\"></script>    \n",
              "            <div id=\"d4fc1192-1155-4206-86f3-5ec71bd735a4\" class=\"plotly-graph-div\" style=\"height:525px; width:100%;\"></div>\n",
              "            <script type=\"text/javascript\">\n",
              "                \n",
              "                    window.PLOTLYENV=window.PLOTLYENV || {};\n",
              "                    \n",
              "                if (document.getElementById(\"d4fc1192-1155-4206-86f3-5ec71bd735a4\")) {\n",
              "                    Plotly.newPlot(\n",
              "                        'd4fc1192-1155-4206-86f3-5ec71bd735a4',\n",
              "                        [{\"dimensions\": [{\"label\": \"Objective Value\", \"range\": [0.93125, 0.94025], \"values\": [0.9355, 0.93225, 0.9325, 0.93725, 0.9335, 0.93525, 0.93475, 0.933, 0.933, 0.93325, 0.9365, 0.937, 0.935, 0.93575, 0.93475, 0.93625, 0.9355, 0.9345, 0.93775, 0.9365, 0.934, 0.9375, 0.93775, 0.937, 0.9355, 0.93575, 0.93475, 0.93375, 0.9375, 0.939, 0.935, 0.9365, 0.9375, 0.9355, 0.93575, 0.93625, 0.93625, 0.93575, 0.9345, 0.93525, 0.93925, 0.93875, 0.939, 0.9395, 0.938, 0.93625, 0.93575, 0.938, 0.93575, 0.9365, 0.9395, 0.94, 0.939, 0.93875, 0.93675, 0.937, 0.93675, 0.93825, 0.93825, 0.937, 0.938, 0.9385, 0.94, 0.93875, 0.9355, 0.93925, 0.93125, 0.937, 0.938, 0.93775, 0.939, 0.93875, 0.937, 0.9385, 0.93875, 0.93975, 0.93875, 0.94, 0.93975, 0.93725, 0.9395, 0.9395, 0.93925, 0.93875, 0.9385, 0.93925, 0.94025, 0.939, 0.9375, 0.93875, 0.93925, 0.93875, 0.939, 0.93925, 0.939, 0.94, 0.93725, 0.93625, 0.937, 0.9395]}, {\"label\": \"bagging_fraction\", \"range\": [0.4000774973218806, 0.9983507036605508], \"values\": [0.6247240713084175, 0.759195090518222, 0.4348501673009197, 0.8248435466776274, 0.899465584480253, 0.5100427059120604, 0.6591670111852694, 0.4836963163912251, 0.6736419905302216, 0.708540663048167, 0.9807628179319392, 0.960677975271797, 0.8422233433705593, 0.9983507036605508, 0.8446383804415064, 0.9125594092958378, 0.775690618497564, 0.9178361842790465, 0.8206975572362558, 0.5949474017149876, 0.8170972500642734, 0.7581724747076644, 0.7594072998875797, 0.7302929284103302, 0.768445119552756, 0.5525806341350226, 0.7874214437524669, 0.8808910194331233, 0.7226779700453105, 0.6256175105627158, 0.5864136518187979, 0.6531198005202535, 0.707160735206391, 0.6206540823369198, 0.7468904831376453, 0.6759917253247111, 0.797235866448676, 0.7048223908411229, 0.8588865372089907, 0.6353156437613183, 0.45123122138221866, 0.4056633015111988, 0.41915517137521824, 0.4000774973218806, 0.4293732660534338, 0.4015527763783517, 0.48262801903648145, 0.47123694446547, 0.5229311845645565, 0.44172392506353964, 0.40181832048203064, 0.40066717587619527, 0.4530266136118103, 0.5093727715032971, 0.4549071807361478, 0.42524114368317734, 0.46291374167590627, 0.49609282229327883, 0.41562259652876826, 0.5338831855703494, 0.4328649123947902, 0.44790414151721303, 0.4019269589243799, 0.47842738282353237, 0.40178532006156076, 0.4489030823413096, 0.4543460978506155, 0.4994180641705174, 0.5624720513745817, 0.4163197042642292, 0.42954288072489816, 0.41576471603269877, 0.4365442388228655, 0.4645087968035611, 0.4261400002146887, 0.44997140754015397, 0.4903720770043949, 0.4023581225843636, 0.40115999271583924, 0.4046624758891292, 0.4699954262347528, 0.4008272847079046, 0.40359991362963166, 0.4393756421214726, 0.47177004581482623, 0.41600354348390817, 0.40302388956471835, 0.4327209401878501, 0.4186103202505588, 0.4082176322606516, 0.44150908204429173, 0.42256717819441736, 0.4007845592893188, 0.4612490815645626, 0.44170317706416695, 0.4140155278963291, 0.4703178014612557, 0.4828269210119549, 0.42532467088835624, 0.5130375588724106]}, {\"label\": \"bagging_freq\", \"range\": [1, 7], \"values\": [7, 2, 7, 1, 2, 3, 3, 3, 6, 5, 1, 1, 1, 1, 4, 2, 4, 1, 2, 2, 4, 1, 2, 2, 3, 2, 3, 5, 2, 4, 5, 4, 2, 7, 6, 2, 1, 3, 1, 3, 2, 2, 2, 3, 3, 3, 4, 3, 4, 3, 2, 2, 2, 2, 3, 1, 2, 3, 2, 4, 5, 2, 2, 1, 2, 2, 2, 1, 3, 2, 1, 2, 1, 1, 1, 2, 2, 2, 2, 2, 3, 2, 3, 3, 2, 2, 3, 2, 3, 2, 2, 3, 3, 2, 3, 3, 3, 3, 4, 3]}], \"labelangle\": 30, \"labelside\": \"bottom\", \"line\": {\"color\": [0.9355, 0.93225, 0.9325, 0.93725, 0.9335, 0.93525, 0.93475, 0.933, 0.933, 0.93325, 0.9365, 0.937, 0.935, 0.93575, 0.93475, 0.93625, 0.9355, 0.9345, 0.93775, 0.9365, 0.934, 0.9375, 0.93775, 0.937, 0.9355, 0.93575, 0.93475, 0.93375, 0.9375, 0.939, 0.935, 0.9365, 0.9375, 0.9355, 0.93575, 0.93625, 0.93625, 0.93575, 0.9345, 0.93525, 0.93925, 0.93875, 0.939, 0.9395, 0.938, 0.93625, 0.93575, 0.938, 0.93575, 0.9365, 0.9395, 0.94, 0.939, 0.93875, 0.93675, 0.937, 0.93675, 0.93825, 0.93825, 0.937, 0.938, 0.9385, 0.94, 0.93875, 0.9355, 0.93925, 0.93125, 0.937, 0.938, 0.93775, 0.939, 0.93875, 0.937, 0.9385, 0.93875, 0.93975, 0.93875, 0.94, 0.93975, 0.93725, 0.9395, 0.9395, 0.93925, 0.93875, 0.9385, 0.93925, 0.94025, 0.939, 0.9375, 0.93875, 0.93925, 0.93875, 0.939, 0.93925, 0.939, 0.94, 0.93725, 0.93625, 0.937, 0.9395], \"colorbar\": {\"title\": {\"text\": \"Objective Value\"}}, \"colorscale\": [[0.0, \"rgb(247,251,255)\"], [0.125, \"rgb(222,235,247)\"], [0.25, \"rgb(198,219,239)\"], [0.375, \"rgb(158,202,225)\"], [0.5, \"rgb(107,174,214)\"], [0.625, \"rgb(66,146,198)\"], [0.75, \"rgb(33,113,181)\"], [0.875, \"rgb(8,81,156)\"], [1.0, \"rgb(8,48,107)\"]], \"reversescale\": false, \"showscale\": true}, \"type\": \"parcoords\"}],\n",
              "                        {\"template\": {\"data\": {\"bar\": [{\"error_x\": {\"color\": \"#2a3f5f\"}, \"error_y\": {\"color\": \"#2a3f5f\"}, \"marker\": {\"line\": {\"color\": \"#E5ECF6\", \"width\": 0.5}}, \"type\": \"bar\"}], \"barpolar\": [{\"marker\": {\"line\": {\"color\": \"#E5ECF6\", \"width\": 0.5}}, \"type\": \"barpolar\"}], \"carpet\": [{\"aaxis\": {\"endlinecolor\": \"#2a3f5f\", \"gridcolor\": \"white\", \"linecolor\": \"white\", \"minorgridcolor\": \"white\", \"startlinecolor\": \"#2a3f5f\"}, \"baxis\": {\"endlinecolor\": \"#2a3f5f\", \"gridcolor\": \"white\", \"linecolor\": \"white\", \"minorgridcolor\": \"white\", \"startlinecolor\": \"#2a3f5f\"}, \"type\": \"carpet\"}], \"choropleth\": [{\"colorbar\": {\"outlinewidth\": 0, \"ticks\": \"\"}, \"type\": \"choropleth\"}], \"contour\": [{\"colorbar\": {\"outlinewidth\": 0, \"ticks\": \"\"}, \"colorscale\": [[0.0, \"#0d0887\"], [0.1111111111111111, \"#46039f\"], [0.2222222222222222, \"#7201a8\"], [0.3333333333333333, \"#9c179e\"], [0.4444444444444444, \"#bd3786\"], [0.5555555555555556, \"#d8576b\"], [0.6666666666666666, \"#ed7953\"], [0.7777777777777778, \"#fb9f3a\"], [0.8888888888888888, \"#fdca26\"], [1.0, \"#f0f921\"]], \"type\": \"contour\"}], \"contourcarpet\": [{\"colorbar\": {\"outlinewidth\": 0, \"ticks\": \"\"}, \"type\": \"contourcarpet\"}], \"heatmap\": [{\"colorbar\": {\"outlinewidth\": 0, \"ticks\": \"\"}, \"colorscale\": [[0.0, \"#0d0887\"], [0.1111111111111111, \"#46039f\"], [0.2222222222222222, \"#7201a8\"], [0.3333333333333333, \"#9c179e\"], [0.4444444444444444, \"#bd3786\"], [0.5555555555555556, \"#d8576b\"], [0.6666666666666666, \"#ed7953\"], [0.7777777777777778, \"#fb9f3a\"], [0.8888888888888888, \"#fdca26\"], [1.0, \"#f0f921\"]], \"type\": \"heatmap\"}], \"heatmapgl\": [{\"colorbar\": {\"outlinewidth\": 0, \"ticks\": \"\"}, \"colorscale\": [[0.0, \"#0d0887\"], [0.1111111111111111, \"#46039f\"], [0.2222222222222222, \"#7201a8\"], [0.3333333333333333, \"#9c179e\"], [0.4444444444444444, \"#bd3786\"], [0.5555555555555556, \"#d8576b\"], [0.6666666666666666, \"#ed7953\"], [0.7777777777777778, \"#fb9f3a\"], [0.8888888888888888, \"#fdca26\"], [1.0, \"#f0f921\"]], \"type\": \"heatmapgl\"}], \"histogram\": [{\"marker\": {\"colorbar\": {\"outlinewidth\": 0, \"ticks\": \"\"}}, \"type\": \"histogram\"}], \"histogram2d\": [{\"colorbar\": {\"outlinewidth\": 0, \"ticks\": \"\"}, \"colorscale\": [[0.0, \"#0d0887\"], [0.1111111111111111, \"#46039f\"], [0.2222222222222222, \"#7201a8\"], [0.3333333333333333, \"#9c179e\"], [0.4444444444444444, \"#bd3786\"], [0.5555555555555556, \"#d8576b\"], [0.6666666666666666, \"#ed7953\"], [0.7777777777777778, \"#fb9f3a\"], [0.8888888888888888, \"#fdca26\"], [1.0, \"#f0f921\"]], \"type\": \"histogram2d\"}], \"histogram2dcontour\": [{\"colorbar\": {\"outlinewidth\": 0, \"ticks\": \"\"}, \"colorscale\": [[0.0, \"#0d0887\"], [0.1111111111111111, \"#46039f\"], [0.2222222222222222, \"#7201a8\"], [0.3333333333333333, \"#9c179e\"], [0.4444444444444444, \"#bd3786\"], [0.5555555555555556, \"#d8576b\"], [0.6666666666666666, \"#ed7953\"], [0.7777777777777778, \"#fb9f3a\"], [0.8888888888888888, \"#fdca26\"], [1.0, \"#f0f921\"]], \"type\": \"histogram2dcontour\"}], \"mesh3d\": [{\"colorbar\": {\"outlinewidth\": 0, \"ticks\": \"\"}, \"type\": \"mesh3d\"}], \"parcoords\": [{\"line\": {\"colorbar\": {\"outlinewidth\": 0, \"ticks\": \"\"}}, \"type\": \"parcoords\"}], \"pie\": [{\"automargin\": true, \"type\": \"pie\"}], \"scatter\": [{\"marker\": {\"colorbar\": {\"outlinewidth\": 0, \"ticks\": \"\"}}, \"type\": \"scatter\"}], \"scatter3d\": [{\"line\": {\"colorbar\": {\"outlinewidth\": 0, \"ticks\": \"\"}}, \"marker\": {\"colorbar\": {\"outlinewidth\": 0, \"ticks\": \"\"}}, \"type\": \"scatter3d\"}], \"scattercarpet\": [{\"marker\": {\"colorbar\": {\"outlinewidth\": 0, \"ticks\": \"\"}}, \"type\": \"scattercarpet\"}], \"scattergeo\": [{\"marker\": {\"colorbar\": {\"outlinewidth\": 0, \"ticks\": \"\"}}, \"type\": \"scattergeo\"}], \"scattergl\": [{\"marker\": {\"colorbar\": {\"outlinewidth\": 0, \"ticks\": \"\"}}, \"type\": \"scattergl\"}], \"scattermapbox\": [{\"marker\": {\"colorbar\": {\"outlinewidth\": 0, \"ticks\": \"\"}}, \"type\": \"scattermapbox\"}], \"scatterpolar\": [{\"marker\": {\"colorbar\": {\"outlinewidth\": 0, \"ticks\": \"\"}}, \"type\": \"scatterpolar\"}], \"scatterpolargl\": [{\"marker\": {\"colorbar\": {\"outlinewidth\": 0, \"ticks\": \"\"}}, \"type\": \"scatterpolargl\"}], \"scatterternary\": [{\"marker\": {\"colorbar\": {\"outlinewidth\": 0, \"ticks\": \"\"}}, \"type\": \"scatterternary\"}], \"surface\": [{\"colorbar\": {\"outlinewidth\": 0, \"ticks\": \"\"}, \"colorscale\": [[0.0, \"#0d0887\"], [0.1111111111111111, \"#46039f\"], [0.2222222222222222, \"#7201a8\"], [0.3333333333333333, \"#9c179e\"], [0.4444444444444444, \"#bd3786\"], [0.5555555555555556, \"#d8576b\"], [0.6666666666666666, \"#ed7953\"], [0.7777777777777778, \"#fb9f3a\"], [0.8888888888888888, \"#fdca26\"], [1.0, \"#f0f921\"]], \"type\": \"surface\"}], \"table\": [{\"cells\": {\"fill\": {\"color\": \"#EBF0F8\"}, \"line\": {\"color\": \"white\"}}, \"header\": {\"fill\": {\"color\": \"#C8D4E3\"}, \"line\": {\"color\": \"white\"}}, \"type\": \"table\"}]}, \"layout\": {\"annotationdefaults\": {\"arrowcolor\": \"#2a3f5f\", \"arrowhead\": 0, \"arrowwidth\": 1}, \"coloraxis\": {\"colorbar\": {\"outlinewidth\": 0, \"ticks\": \"\"}}, \"colorscale\": {\"diverging\": [[0, \"#8e0152\"], [0.1, \"#c51b7d\"], [0.2, \"#de77ae\"], [0.3, \"#f1b6da\"], [0.4, \"#fde0ef\"], [0.5, \"#f7f7f7\"], [0.6, \"#e6f5d0\"], [0.7, \"#b8e186\"], [0.8, \"#7fbc41\"], [0.9, \"#4d9221\"], [1, \"#276419\"]], \"sequential\": [[0.0, \"#0d0887\"], [0.1111111111111111, \"#46039f\"], [0.2222222222222222, \"#7201a8\"], [0.3333333333333333, \"#9c179e\"], [0.4444444444444444, \"#bd3786\"], [0.5555555555555556, \"#d8576b\"], [0.6666666666666666, \"#ed7953\"], [0.7777777777777778, \"#fb9f3a\"], [0.8888888888888888, \"#fdca26\"], [1.0, \"#f0f921\"]], \"sequentialminus\": [[0.0, \"#0d0887\"], [0.1111111111111111, \"#46039f\"], [0.2222222222222222, \"#7201a8\"], [0.3333333333333333, \"#9c179e\"], [0.4444444444444444, \"#bd3786\"], [0.5555555555555556, \"#d8576b\"], [0.6666666666666666, \"#ed7953\"], [0.7777777777777778, \"#fb9f3a\"], [0.8888888888888888, \"#fdca26\"], [1.0, \"#f0f921\"]]}, \"colorway\": [\"#636efa\", \"#EF553B\", \"#00cc96\", \"#ab63fa\", \"#FFA15A\", \"#19d3f3\", \"#FF6692\", \"#B6E880\", \"#FF97FF\", \"#FECB52\"], \"font\": {\"color\": \"#2a3f5f\"}, \"geo\": {\"bgcolor\": \"white\", \"lakecolor\": \"white\", \"landcolor\": \"#E5ECF6\", \"showlakes\": true, \"showland\": true, \"subunitcolor\": \"white\"}, \"hoverlabel\": {\"align\": \"left\"}, \"hovermode\": \"closest\", \"mapbox\": {\"style\": \"light\"}, \"paper_bgcolor\": \"white\", \"plot_bgcolor\": \"#E5ECF6\", \"polar\": {\"angularaxis\": {\"gridcolor\": \"white\", \"linecolor\": \"white\", \"ticks\": \"\"}, \"bgcolor\": \"#E5ECF6\", \"radialaxis\": {\"gridcolor\": \"white\", \"linecolor\": \"white\", \"ticks\": \"\"}}, \"scene\": {\"xaxis\": {\"backgroundcolor\": \"#E5ECF6\", \"gridcolor\": \"white\", \"gridwidth\": 2, \"linecolor\": \"white\", \"showbackground\": true, \"ticks\": \"\", \"zerolinecolor\": \"white\"}, \"yaxis\": {\"backgroundcolor\": \"#E5ECF6\", \"gridcolor\": \"white\", \"gridwidth\": 2, \"linecolor\": \"white\", \"showbackground\": true, \"ticks\": \"\", \"zerolinecolor\": \"white\"}, \"zaxis\": {\"backgroundcolor\": \"#E5ECF6\", \"gridcolor\": \"white\", \"gridwidth\": 2, \"linecolor\": \"white\", \"showbackground\": true, \"ticks\": \"\", \"zerolinecolor\": \"white\"}}, \"shapedefaults\": {\"line\": {\"color\": \"#2a3f5f\"}}, \"ternary\": {\"aaxis\": {\"gridcolor\": \"white\", \"linecolor\": \"white\", \"ticks\": \"\"}, \"baxis\": {\"gridcolor\": \"white\", \"linecolor\": \"white\", \"ticks\": \"\"}, \"bgcolor\": \"#E5ECF6\", \"caxis\": {\"gridcolor\": \"white\", \"linecolor\": \"white\", \"ticks\": \"\"}}, \"title\": {\"x\": 0.05}, \"xaxis\": {\"automargin\": true, \"gridcolor\": \"white\", \"linecolor\": \"white\", \"ticks\": \"\", \"title\": {\"standoff\": 15}, \"zerolinecolor\": \"white\", \"zerolinewidth\": 2}, \"yaxis\": {\"automargin\": true, \"gridcolor\": \"white\", \"linecolor\": \"white\", \"ticks\": \"\", \"title\": {\"standoff\": 15}, \"zerolinecolor\": \"white\", \"zerolinewidth\": 2}}}, \"title\": {\"text\": \"Parallel Coordinate Plot\"}},\n",
              "                        {\"responsive\": true}\n",
              "                    ).then(function(){\n",
              "                            \n",
              "var gd = document.getElementById('d4fc1192-1155-4206-86f3-5ec71bd735a4');\n",
              "var x = new MutationObserver(function (mutations, observer) {{\n",
              "        var display = window.getComputedStyle(gd).display;\n",
              "        if (!display || display === 'none') {{\n",
              "            console.log([gd, 'removed!']);\n",
              "            Plotly.purge(gd);\n",
              "            observer.disconnect();\n",
              "        }}\n",
              "}});\n",
              "\n",
              "// Listen for the removal of the full notebook cells\n",
              "var notebookContainer = gd.closest('#notebook-container');\n",
              "if (notebookContainer) {{\n",
              "    x.observe(notebookContainer, {childList: true});\n",
              "}}\n",
              "\n",
              "// Listen for the clearing of the current output cell\n",
              "var outputEl = gd.closest('.output');\n",
              "if (outputEl) {{\n",
              "    x.observe(outputEl, {childList: true});\n",
              "}}\n",
              "\n",
              "                        })\n",
              "                };\n",
              "                \n",
              "            </script>\n",
              "        </div>\n",
              "</body>\n",
              "</html>"
            ]
          },
          "metadata": {
            "tags": []
          }
        }
      ]
    },
    {
      "cell_type": "code",
      "metadata": {
        "id": "GsUZQ4ReV0Rt",
        "colab": {
          "base_uri": "https://localhost:8080/",
          "height": 542
        },
        "outputId": "959b1858-7e7c-4996-be22-d442e90f3dac"
      },
      "source": [
        "plot_contour(study)\n"
      ],
      "execution_count": null,
      "outputs": [
        {
          "output_type": "display_data",
          "data": {
            "text/html": [
              "<html>\n",
              "<head><meta charset=\"utf-8\" /></head>\n",
              "<body>\n",
              "    <div>\n",
              "            <script src=\"https://cdnjs.cloudflare.com/ajax/libs/mathjax/2.7.5/MathJax.js?config=TeX-AMS-MML_SVG\"></script><script type=\"text/javascript\">if (window.MathJax) {MathJax.Hub.Config({SVG: {font: \"STIX-Web\"}});}</script>\n",
              "                <script type=\"text/javascript\">window.PlotlyConfig = {MathJaxConfig: 'local'};</script>\n",
              "        <script src=\"https://cdn.plot.ly/plotly-latest.min.js\"></script>    \n",
              "            <div id=\"b93a6f5b-1467-4b50-abee-5c4fd4dd8840\" class=\"plotly-graph-div\" style=\"height:525px; width:100%;\"></div>\n",
              "            <script type=\"text/javascript\">\n",
              "                \n",
              "                    window.PLOTLYENV=window.PLOTLYENV || {};\n",
              "                    \n",
              "                if (document.getElementById(\"b93a6f5b-1467-4b50-abee-5c4fd4dd8840\")) {\n",
              "                    Plotly.newPlot(\n",
              "                        'b93a6f5b-1467-4b50-abee-5c4fd4dd8840',\n",
              "                        [{\"type\": \"scatter\", \"xaxis\": \"x\", \"yaxis\": \"y\"}, {\"colorbar\": {\"title\": {\"text\": \"Objective Value\"}}, \"colorscale\": [[0, \"rgb(5,10,172)\"], [0.35, \"rgb(40,60,190)\"], [0.5, \"rgb(70,100,245)\"], [0.6, \"rgb(90,120,245)\"], [0.7, \"rgb(106,137,247)\"], [1, \"rgb(220,220,220)\"]], \"connectgaps\": true, \"contours\": {\"coloring\": \"heatmap\"}, \"hoverinfo\": \"none\", \"line\": {\"smoothing\": 1.3}, \"reversescale\": false, \"showscale\": true, \"type\": \"contour\", \"x\": [0.3701638370049471, 0.4000774973218806, 0.40066717587619527, 0.4007845592893188, 0.4008272847079046, 0.40115999271583924, 0.4015527763783517, 0.40178532006156076, 0.40181832048203064, 0.4019269589243799, 0.4023581225843636, 0.40302388956471835, 0.40359991362963166, 0.4046624758891292, 0.4056633015111988, 0.4082176322606516, 0.4140155278963291, 0.41562259652876826, 0.41576471603269877, 0.41600354348390817, 0.4163197042642292, 0.4186103202505588, 0.41915517137521824, 0.42256717819441736, 0.42524114368317734, 0.42532467088835624, 0.4261400002146887, 0.4293732660534338, 0.42954288072489816, 0.4327209401878501, 0.4328649123947902, 0.4348501673009197, 0.4365442388228655, 0.4393756421214726, 0.44150908204429173, 0.44170317706416695, 0.44172392506353964, 0.44790414151721303, 0.4489030823413096, 0.44997140754015397, 0.45123122138221866, 0.4530266136118103, 0.4543460978506155, 0.4549071807361478, 0.4612490815645626, 0.46291374167590627, 0.4645087968035611, 0.4699954262347528, 0.4703178014612557, 0.47123694446547, 0.47177004581482623, 0.47842738282353237, 0.48262801903648145, 0.4828269210119549, 0.4836963163912251, 0.4903720770043949, 0.49609282229327883, 0.4994180641705174, 0.5093727715032971, 0.5100427059120604, 0.5130375588724106, 0.5229311845645565, 0.5338831855703494, 0.5525806341350226, 0.5624720513745817, 0.5864136518187979, 0.5949474017149876, 0.6206540823369198, 0.6247240713084175, 0.6256175105627158, 0.6353156437613183, 0.6531198005202535, 0.6591670111852694, 0.6736419905302216, 0.6759917253247111, 0.7048223908411229, 0.707160735206391, 0.708540663048167, 0.7226779700453105, 0.7302929284103302, 0.7468904831376453, 0.7581724747076644, 0.759195090518222, 0.7594072998875797, 0.768445119552756, 0.775690618497564, 0.7874214437524669, 0.797235866448676, 0.8170972500642734, 0.8206975572362558, 0.8248435466776274, 0.8422233433705593, 0.8446383804415064, 0.8588865372089907, 0.8808910194331233, 0.899465584480253, 0.9125594092958378, 0.9178361842790465, 0.960677975271797, 0.9807628179319392, 0.9983507036605508, 1.0282643639774842], \"xaxis\": \"x4\", \"y\": [0.7, 1, 2, 3, 4, 5, 6, 7, 7.3], \"yaxis\": \"y4\", \"z\": [[null, null, null, null, null, null, null, null, null, null, null, null, null, null, null, null, null, null, null, null, null, null, null, null, null, null, null, null, null, null, null, null, null, null, null, null, null, null, null, null, null, null, null, null, null, null, null, null, null, null, null, null, null, null, null, null, null, null, null, null, null, null, null, null, null, null, null, null, null, null, null, null, null, null, null, null, null, null, null, null, null, null, null, null, null, null, null, null, null, null, null, null, null, null, null, null, null, null, null, null, null, null], [null, null, null, null, null, null, null, null, null, null, null, null, null, null, null, null, null, null, null, null, null, null, null, null, 0.937, null, 0.93875, null, 0.939, null, null, null, 0.937, null, null, null, null, null, null, null, null, null, null, null, null, null, 0.9385, null, null, null, null, 0.93875, null, null, null, null, null, 0.937, null, null, null, null, null, null, null, null, null, null, null, null, null, null, null, null, null, null, null, null, null, null, null, 0.9375, null, null, null, null, null, 0.93625, null, null, 0.93725, 0.935, null, 0.9345, null, null, null, 0.9345, 0.937, 0.9365, 0.93575, null], [null, null, 0.94, null, 0.9395, 0.93975, null, 0.9355, 0.9395, 0.94, 0.94, null, null, 0.93725, 0.93875, 0.93875, null, 0.93825, 0.93875, 0.93925, 0.93775, null, 0.939, null, null, null, null, null, null, 0.939, null, null, null, null, 0.93925, null, null, 0.9385, 0.93925, 0.93975, 0.93925, 0.939, 0.93125, null, 0.93925, 0.93675, null, null, null, null, 0.9385, null, null, null, null, 0.93875, null, null, 0.93875, null, null, null, null, 0.93575, null, null, 0.9365, null, null, null, null, null, null, null, 0.93625, null, 0.9375, null, 0.9375, 0.937, null, null, 0.93225, 0.93775, null, null, null, null, null, 0.93775, null, null, null, null, null, 0.9335, 0.93625, null, null, null, null, null], [null, 0.9395, null, 0.939, null, null, 0.93625, null, null, null, null, 0.94025, 0.93925, null, null, null, 0.94, null, null, null, null, 0.9375, null, 0.93875, null, null, null, 0.938, null, null, null, null, null, 0.93875, null, 0.939, 0.9365, null, null, null, null, null, null, 0.93675, null, null, null, 0.9395, 0.93725, 0.938, null, null, null, 0.93625, 0.933, null, 0.93825, null, null, 0.93525, 0.9395, null, null, null, 0.938, null, null, null, null, null, 0.93525, null, 0.93475, null, null, 0.93575, null, null, null, null, null, null, null, null, 0.9355, null, 0.93475, null, null, null, null, null, null, null, null, null, null, null, null, null, null, null], [null, null, null, null, null, null, null, null, null, null, null, null, null, null, null, null, null, null, null, null, null, null, null, null, null, 0.937, null, null, null, null, null, null, null, null, null, null, null, null, null, null, null, null, null, null, null, null, null, null, null, null, null, null, 0.93575, null, null, null, null, null, null, null, null, 0.93575, 0.937, null, null, null, null, null, null, 0.939, null, 0.9365, null, null, null, null, null, null, null, null, null, null, null, null, null, 0.9355, null, null, 0.934, null, null, null, 0.93475, null, null, null, null, null, null, null, null, null], [null, null, null, null, null, null, null, null, null, null, null, null, null, null, null, null, null, null, null, null, null, null, null, null, null, null, null, null, null, null, 0.938, null, null, null, null, null, null, null, null, null, null, null, null, null, null, null, null, null, null, null, null, null, null, null, null, null, null, null, null, null, null, null, null, null, null, 0.935, null, null, null, null, null, null, null, null, null, null, null, 0.93325, null, null, null, null, null, null, null, null, null, null, null, null, null, null, null, null, 0.93375, null, null, null, null, null, null, null], [null, null, null, null, null, null, null, null, null, null, null, null, null, null, null, null, null, null, null, null, null, null, null, null, null, null, null, null, null, null, null, null, null, null, null, null, null, null, null, null, null, null, null, null, null, null, null, null, null, null, null, null, null, null, null, null, null, null, null, null, null, null, null, null, null, null, null, null, null, null, null, null, null, 0.933, null, null, null, null, null, null, 0.93575, null, null, null, null, null, null, null, null, null, null, null, null, null, null, null, null, null, null, null, null, null], [null, null, null, null, null, null, null, null, null, null, null, null, null, null, null, null, null, null, null, null, null, null, null, null, null, null, null, null, null, null, null, 0.9325, null, null, null, null, null, null, null, null, null, null, null, null, null, null, null, null, null, null, null, null, null, null, null, null, null, null, null, null, null, null, null, null, null, null, null, 0.9355, 0.9355, null, null, null, null, null, null, null, null, null, null, null, null, null, null, null, null, null, null, null, null, null, null, null, null, null, null, null, null, null, null, null, null, null], [null, null, null, null, null, null, null, null, null, null, null, null, null, null, null, null, null, null, null, null, null, null, null, null, null, null, null, null, null, null, null, null, null, null, null, null, null, null, null, null, null, null, null, null, null, null, null, null, null, null, null, null, null, null, null, null, null, null, null, null, null, null, null, null, null, null, null, null, null, null, null, null, null, null, null, null, null, null, null, null, null, null, null, null, null, null, null, null, null, null, null, null, null, null, null, null, null, null, null, null, null, null]]}, {\"marker\": {\"color\": \"black\", \"line\": {\"color\": \"Grey\", \"width\": 0.5}}, \"mode\": \"markers\", \"showlegend\": false, \"type\": \"scatter\", \"x\": [0.6247240713084175, 0.759195090518222, 0.4348501673009197, 0.8248435466776274, 0.899465584480253, 0.5100427059120604, 0.6591670111852694, 0.4836963163912251, 0.6736419905302216, 0.708540663048167, 0.9807628179319392, 0.960677975271797, 0.8422233433705593, 0.9983507036605508, 0.8446383804415064, 0.9125594092958378, 0.775690618497564, 0.9178361842790465, 0.8206975572362558, 0.5949474017149876, 0.8170972500642734, 0.7581724747076644, 0.7594072998875797, 0.7302929284103302, 0.768445119552756, 0.5525806341350226, 0.7874214437524669, 0.8808910194331233, 0.7226779700453105, 0.6256175105627158, 0.5864136518187979, 0.6531198005202535, 0.707160735206391, 0.6206540823369198, 0.7468904831376453, 0.6759917253247111, 0.797235866448676, 0.7048223908411229, 0.8588865372089907, 0.6353156437613183, 0.45123122138221866, 0.4056633015111988, 0.41915517137521824, 0.4000774973218806, 0.4293732660534338, 0.4015527763783517, 0.48262801903648145, 0.47123694446547, 0.5229311845645565, 0.44172392506353964, 0.40181832048203064, 0.40066717587619527, 0.4530266136118103, 0.5093727715032971, 0.4549071807361478, 0.42524114368317734, 0.46291374167590627, 0.49609282229327883, 0.41562259652876826, 0.5338831855703494, 0.4328649123947902, 0.44790414151721303, 0.4019269589243799, 0.47842738282353237, 0.40178532006156076, 0.4489030823413096, 0.4543460978506155, 0.4994180641705174, 0.5624720513745817, 0.4163197042642292, 0.42954288072489816, 0.41576471603269877, 0.4365442388228655, 0.4645087968035611, 0.4261400002146887, 0.44997140754015397, 0.4903720770043949, 0.4023581225843636, 0.40115999271583924, 0.4046624758891292, 0.4699954262347528, 0.4008272847079046, 0.40359991362963166, 0.4393756421214726, 0.47177004581482623, 0.41600354348390817, 0.40302388956471835, 0.4327209401878501, 0.4186103202505588, 0.4082176322606516, 0.44150908204429173, 0.42256717819441736, 0.4007845592893188, 0.4612490815645626, 0.44170317706416695, 0.4140155278963291, 0.4703178014612557, 0.4828269210119549, 0.42532467088835624, 0.5130375588724106], \"xaxis\": \"x4\", \"y\": [7, 2, 7, 1, 2, 3, 3, 3, 6, 5, 1, 1, 1, 1, 4, 2, 4, 1, 2, 2, 4, 1, 2, 2, 3, 2, 3, 5, 2, 4, 5, 4, 2, 7, 6, 2, 1, 3, 1, 3, 2, 2, 2, 3, 3, 3, 4, 3, 4, 3, 2, 2, 2, 2, 3, 1, 2, 3, 2, 4, 5, 2, 2, 1, 2, 2, 2, 1, 3, 2, 1, 2, 1, 1, 1, 2, 2, 2, 2, 2, 3, 2, 3, 3, 2, 2, 3, 2, 3, 2, 2, 3, 3, 2, 3, 3, 3, 3, 4, 3], \"yaxis\": \"y4\"}, {\"colorbar\": {\"title\": {\"text\": \"Objective Value\"}}, \"colorscale\": [[0, \"rgb(5,10,172)\"], [0.35, \"rgb(40,60,190)\"], [0.5, \"rgb(70,100,245)\"], [0.6, \"rgb(90,120,245)\"], [0.7, \"rgb(106,137,247)\"], [1, \"rgb(220,220,220)\"]], \"connectgaps\": true, \"contours\": {\"coloring\": \"heatmap\"}, \"hoverinfo\": \"none\", \"line\": {\"smoothing\": 1.3}, \"reversescale\": false, \"showscale\": false, \"type\": \"contour\", \"x\": [0.3701638370049471, 0.4000774973218806, 0.40066717587619527, 0.4007845592893188, 0.4008272847079046, 0.40115999271583924, 0.4015527763783517, 0.40178532006156076, 0.40181832048203064, 0.4019269589243799, 0.4023581225843636, 0.40302388956471835, 0.40359991362963166, 0.4046624758891292, 0.4056633015111988, 0.4082176322606516, 0.4140155278963291, 0.41562259652876826, 0.41576471603269877, 0.41600354348390817, 0.4163197042642292, 0.4186103202505588, 0.41915517137521824, 0.42256717819441736, 0.42524114368317734, 0.42532467088835624, 0.4261400002146887, 0.4293732660534338, 0.42954288072489816, 0.4327209401878501, 0.4328649123947902, 0.4348501673009197, 0.4365442388228655, 0.4393756421214726, 0.44150908204429173, 0.44170317706416695, 0.44172392506353964, 0.44790414151721303, 0.4489030823413096, 0.44997140754015397, 0.45123122138221866, 0.4530266136118103, 0.4543460978506155, 0.4549071807361478, 0.4612490815645626, 0.46291374167590627, 0.4645087968035611, 0.4699954262347528, 0.4703178014612557, 0.47123694446547, 0.47177004581482623, 0.47842738282353237, 0.48262801903648145, 0.4828269210119549, 0.4836963163912251, 0.4903720770043949, 0.49609282229327883, 0.4994180641705174, 0.5093727715032971, 0.5100427059120604, 0.5130375588724106, 0.5229311845645565, 0.5338831855703494, 0.5525806341350226, 0.5624720513745817, 0.5864136518187979, 0.5949474017149876, 0.6206540823369198, 0.6247240713084175, 0.6256175105627158, 0.6353156437613183, 0.6531198005202535, 0.6591670111852694, 0.6736419905302216, 0.6759917253247111, 0.7048223908411229, 0.707160735206391, 0.708540663048167, 0.7226779700453105, 0.7302929284103302, 0.7468904831376453, 0.7581724747076644, 0.759195090518222, 0.7594072998875797, 0.768445119552756, 0.775690618497564, 0.7874214437524669, 0.797235866448676, 0.8170972500642734, 0.8206975572362558, 0.8248435466776274, 0.8422233433705593, 0.8446383804415064, 0.8588865372089907, 0.8808910194331233, 0.899465584480253, 0.9125594092958378, 0.9178361842790465, 0.960677975271797, 0.9807628179319392, 0.9983507036605508, 1.0282643639774842], \"xaxis\": \"x7\", \"y\": [4.45, 9, 11, 19, 22, 24, 31, 39, 40, 41, 46, 54, 55, 59, 62, 63, 66, 68, 70, 71, 72, 74, 75, 77, 78, 79, 80, 81, 82, 83, 84, 85, 86, 87, 88, 89, 90, 91, 92, 93, 94, 95, 96, 97, 98, 99, 100, 104.55], \"yaxis\": \"y7\", \"z\": [[null, null, null, null, null, null, null, null, null, null, null, null, null, null, null, null, null, null, null, null, null, null, null, null, null, null, null, null, null, null, null, null, null, null, null, null, null, null, null, null, null, null, null, null, null, null, null, null, null, null, null, null, null, null, null, null, null, null, null, null, null, null, null, null, null, null, null, null, null, null, null, null, null, null, null, null, null, null, null, null, null, null, null, null, null, null, null, null, null, null, null, null, null, null, null, null, null, null, null, null, null, null], [null, null, null, null, null, null, null, null, null, null, null, null, null, null, null, null, null, null, null, null, null, null, null, null, null, null, null, null, null, null, null, null, null, null, null, null, null, null, null, null, null, null, null, null, null, null, null, null, null, null, null, null, null, null, null, null, null, null, null, null, null, null, null, null, null, null, null, null, null, null, null, null, null, null, null, null, null, 0.93325, null, null, null, null, null, null, null, null, null, null, null, null, null, null, null, null, null, null, null, null, null, null, null, null], [null, null, null, null, null, null, null, null, null, null, null, null, null, null, null, null, null, null, null, null, null, null, null, null, null, null, null, null, null, null, null, null, null, null, null, null, null, null, null, null, null, null, 0.93125, null, null, null, null, null, null, null, null, null, null, null, null, null, null, null, null, null, null, null, null, null, null, null, null, null, null, null, null, null, null, null, null, null, null, null, null, null, null, null, null, null, null, null, null, null, null, null, null, null, null, null, null, null, null, null, null, null, null, null], [null, null, null, null, null, null, null, null, null, null, null, null, null, null, null, null, null, null, null, null, null, null, null, null, null, null, null, null, null, null, null, null, null, null, null, null, null, null, null, null, null, null, null, null, null, null, null, null, null, null, null, null, null, null, null, null, null, null, null, null, null, null, null, null, null, null, null, null, null, null, null, null, null, null, null, null, null, null, null, null, null, null, 0.93225, null, null, null, null, null, null, null, null, null, null, null, null, null, null, null, null, null, null, null], [null, null, null, null, null, null, null, null, null, null, null, null, null, null, null, null, null, null, null, null, null, null, null, null, null, null, null, null, null, null, null, null, null, null, null, null, null, null, null, null, null, null, null, null, null, null, null, null, null, null, null, null, null, null, null, null, null, null, null, null, null, null, null, null, null, null, null, null, null, null, null, null, null, null, null, null, null, null, null, null, null, null, null, null, null, null, null, null, null, null, null, null, null, null, null, 0.9335, null, null, null, null, null, null], [null, null, null, null, null, null, null, null, null, null, null, null, null, null, null, null, null, null, null, null, null, null, null, null, null, null, null, null, null, null, null, null, null, null, null, null, null, null, null, null, null, null, null, null, null, null, null, null, null, null, null, null, null, null, null, null, null, null, null, null, null, null, null, null, null, null, null, null, null, null, null, null, null, 0.933, null, null, null, null, null, null, null, null, null, null, null, null, null, null, null, null, null, null, null, null, null, null, null, null, null, null, null, null], [null, null, null, null, null, null, null, 0.9355, null, null, null, null, null, null, null, null, null, null, null, null, null, null, null, null, null, null, null, null, null, null, null, null, null, null, null, null, null, null, null, null, null, null, null, null, null, null, null, null, null, null, null, null, null, null, null, null, null, null, null, null, null, null, null, null, null, null, null, null, null, null, null, null, null, null, null, null, null, null, null, null, null, null, null, null, null, null, null, null, null, null, null, null, null, null, null, null, null, null, null, null, null, null], [null, null, null, null, null, null, null, null, null, null, null, null, null, null, null, null, null, null, null, null, null, null, null, null, null, null, null, null, null, null, null, null, null, null, null, null, null, null, null, null, null, null, null, null, null, null, null, null, null, null, null, null, null, null, null, null, null, null, null, null, null, null, null, null, null, 0.935, null, null, null, null, null, null, null, null, null, null, null, null, null, null, null, null, null, null, null, null, null, null, null, null, null, null, null, null, null, null, null, null, null, null, null, null], [null, null, null, null, null, null, null, null, null, null, null, null, null, null, null, null, null, null, null, null, null, null, null, null, null, null, null, null, null, null, null, null, null, null, null, null, null, null, null, null, null, null, null, null, null, null, null, null, null, null, null, null, null, null, 0.933, null, null, null, null, null, null, null, null, null, null, null, null, null, null, null, null, null, null, null, null, null, null, null, null, null, null, null, null, null, null, null, null, null, null, null, null, null, null, null, null, null, null, null, null, null, null, null], [null, null, null, null, null, null, null, null, null, null, null, null, null, null, null, null, null, null, null, null, null, null, null, null, null, null, null, null, null, null, null, null, null, null, null, null, null, null, null, null, null, null, null, null, null, null, null, null, null, null, null, null, null, null, null, null, null, null, null, null, null, null, null, null, null, null, null, null, null, null, null, null, null, null, null, null, null, null, null, null, null, null, null, null, null, null, null, null, null, null, null, null, null, null, null, null, null, 0.9345, null, null, null, null], [null, null, null, null, null, null, null, null, null, null, null, null, null, null, null, null, null, null, null, null, null, null, null, null, null, null, null, null, null, null, null, null, null, null, null, null, null, null, null, null, null, null, null, null, null, null, null, null, null, null, null, null, 0.93575, null, null, null, null, null, null, null, null, null, null, null, null, null, null, null, null, null, null, null, null, null, null, null, null, null, null, null, null, null, null, null, null, null, null, null, null, null, null, null, null, null, null, null, null, null, null, null, null, null], [null, null, null, null, null, null, null, null, null, null, null, null, null, null, null, null, null, null, null, null, null, null, null, null, null, null, null, null, null, null, null, null, null, null, null, null, null, null, null, null, null, null, null, null, null, null, null, null, null, null, null, null, null, null, null, null, null, null, null, null, null, null, null, null, null, null, null, null, null, null, null, null, null, null, null, null, null, null, null, null, null, null, null, null, null, null, null, null, null, null, null, null, null, 0.9345, null, null, null, null, null, null, null, null], [null, null, null, null, null, null, null, null, null, null, null, null, null, null, null, null, null, null, null, null, null, null, null, null, null, null, null, null, null, null, null, null, null, null, null, null, null, null, null, null, null, null, null, null, null, null, null, null, null, null, null, null, null, null, null, null, null, null, null, 0.93525, null, null, null, null, null, null, null, null, null, null, null, null, null, null, null, null, null, null, null, null, null, null, null, null, null, null, null, null, null, null, null, null, null, null, null, null, null, null, null, null, null, null], [null, null, null, null, null, null, 0.93625, null, null, null, null, null, null, null, null, null, null, null, null, null, null, null, null, null, null, null, null, null, null, null, null, null, null, null, null, null, null, null, null, null, null, null, null, null, null, null, null, null, null, null, null, null, null, null, null, null, null, null, null, null, null, null, null, null, null, null, null, null, null, null, null, null, null, null, null, null, null, null, null, null, null, null, null, null, null, null, null, null, null, null, null, null, null, null, null, null, null, null, null, null, null, null], [null, null, null, null, null, null, null, null, null, null, null, null, null, null, null, null, null, null, null, null, null, null, null, null, 0.937, null, null, null, null, null, null, 0.9325, null, null, null, null, null, null, null, null, null, null, null, null, null, null, null, null, null, null, null, null, null, null, null, null, null, null, null, null, null, null, null, null, null, null, null, null, null, null, null, null, null, null, null, null, null, null, null, null, null, null, null, null, null, null, null, null, null, null, null, null, null, null, null, null, null, null, null, null, null, null], [null, null, null, null, null, null, null, null, null, null, null, null, null, null, null, null, null, null, null, null, null, null, null, null, null, null, null, null, null, null, null, null, null, null, null, null, null, null, null, null, null, null, null, null, null, null, null, null, null, null, null, null, null, null, null, null, null, null, null, null, null, null, null, null, null, null, null, null, null, null, null, null, 0.93475, null, null, null, null, null, null, null, null, null, null, null, null, null, null, null, null, null, null, null, null, null, null, null, null, null, null, null, null, null], [null, null, null, null, null, null, null, null, null, null, null, null, null, null, null, null, null, null, null, null, null, null, null, null, null, null, null, null, null, null, null, null, null, null, null, null, null, null, null, null, null, null, null, null, null, null, null, null, null, null, null, null, null, null, null, null, null, null, null, null, null, null, null, null, null, null, null, null, null, null, null, null, null, null, null, null, null, null, null, null, null, null, null, null, null, null, null, null, null, null, null, null, null, null, 0.93375, null, null, null, null, null, null, null], [null, null, null, null, null, null, null, null, null, null, null, null, null, null, null, null, null, null, null, null, null, null, null, null, null, null, null, null, null, null, null, null, null, null, null, null, null, null, null, null, null, null, null, null, null, null, null, null, null, null, null, null, null, null, null, null, null, null, null, null, null, 0.93575, null, null, null, null, null, null, null, null, null, null, null, null, null, null, null, null, null, null, null, null, null, null, null, null, null, null, null, null, null, null, null, null, null, null, null, null, null, null, null, null], [null, null, null, null, null, null, null, null, null, null, null, null, null, null, null, null, null, null, null, null, null, null, null, null, null, null, null, null, null, null, null, null, null, null, null, null, null, null, null, null, null, null, null, null, null, null, null, null, null, null, null, null, null, null, null, null, null, null, null, null, null, null, null, null, null, null, null, null, null, null, 0.93525, null, null, null, null, null, null, null, null, null, null, null, null, null, null, null, null, null, null, null, null, null, null, null, null, null, null, null, null, null, null, null], [null, null, null, null, null, null, null, null, null, null, null, null, null, null, null, null, null, null, null, null, null, null, null, null, null, null, null, null, null, null, null, null, null, null, null, null, null, null, null, null, null, null, null, null, null, null, null, null, null, null, null, null, null, null, null, null, null, null, null, null, null, null, null, null, null, null, null, null, null, null, null, null, null, null, null, null, null, null, null, null, null, null, null, null, null, 0.9355, null, null, null, null, null, null, null, null, null, null, null, null, null, null, null, null], [null, null, null, null, null, null, null, null, null, null, null, null, null, null, null, null, null, null, null, null, null, null, null, null, null, null, null, null, null, null, null, null, null, null, null, null, null, null, null, null, null, null, null, null, null, null, null, null, null, null, null, null, null, null, null, null, null, null, null, null, null, null, null, null, null, null, null, null, null, null, null, null, null, null, null, null, null, null, null, null, null, null, null, null, 0.9355, null, null, null, null, null, null, null, null, null, null, null, null, null, null, null, null, null], [null, null, null, null, null, null, null, null, null, null, null, null, null, null, null, null, null, null, null, null, null, null, null, null, null, null, null, null, null, null, null, null, null, null, null, null, null, null, null, null, null, null, null, null, null, null, null, null, null, 0.938, null, null, null, null, null, null, null, null, null, null, null, null, null, null, null, null, null, null, null, null, null, null, null, null, null, null, null, null, null, null, null, null, null, null, null, null, null, null, null, null, null, null, null, null, null, null, null, null, null, null, null, null], [null, null, null, null, null, null, null, null, null, null, null, null, null, null, null, null, null, null, null, null, null, null, null, null, null, null, null, null, null, null, null, null, null, null, null, null, null, null, null, null, null, null, null, null, null, 0.93675, null, null, null, null, null, null, null, null, null, null, null, null, null, null, null, null, null, null, null, null, null, null, 0.9355, null, null, null, null, null, null, null, null, null, null, null, null, null, null, null, null, null, null, null, null, null, null, null, null, null, null, null, null, null, null, null, null, null], [null, null, null, null, null, null, null, null, null, null, null, null, null, null, null, null, null, null, null, null, null, null, null, null, null, null, null, null, null, null, null, null, null, null, null, null, null, null, null, null, null, null, null, null, null, null, null, null, null, null, null, null, null, null, null, null, null, null, null, null, null, null, null, null, null, null, null, null, null, null, null, null, null, null, 0.93625, null, null, null, null, null, null, null, null, null, null, null, null, null, 0.934, null, null, null, null, null, null, null, null, null, null, null, null, null], [null, null, null, null, null, null, null, null, null, null, null, null, null, null, null, null, null, null, null, null, null, null, null, null, null, null, null, null, null, null, 0.938, null, null, null, null, null, null, null, null, null, null, null, null, null, null, null, null, null, null, null, null, null, null, null, null, null, null, null, null, null, null, null, null, null, null, null, null, null, null, null, null, null, null, null, null, null, null, null, null, null, null, null, null, null, null, null, null, null, null, null, null, null, null, null, null, null, null, null, null, null, null, null], [null, null, null, null, null, null, null, null, null, null, null, null, null, null, null, null, null, null, null, null, null, null, null, null, null, null, null, null, null, null, null, null, null, null, null, null, 0.9365, null, null, null, null, null, null, null, null, null, null, null, null, null, null, null, null, null, null, null, null, null, null, null, null, null, null, null, null, null, null, null, null, null, null, null, null, null, null, null, null, null, null, null, null, null, null, null, null, null, null, null, null, null, null, null, null, null, null, null, null, null, null, null, null, null], [null, 0.9395, null, null, null, null, null, null, null, null, null, null, null, null, null, null, null, null, null, null, null, null, null, null, null, null, null, null, null, null, null, null, null, null, null, null, null, null, null, null, 0.93925, null, null, null, null, null, null, null, null, null, null, null, null, null, null, null, null, null, null, null, null, null, null, null, null, null, null, null, null, null, null, null, null, null, null, null, null, null, null, null, null, null, null, null, null, null, 0.93475, null, null, null, null, null, null, null, null, null, null, null, null, null, null, null], [null, null, null, null, null, null, null, null, null, null, null, null, null, null, null, null, null, null, null, null, 0.93775, null, 0.939, null, null, null, null, 0.938, null, null, null, null, null, null, null, null, null, null, null, null, null, null, null, null, null, null, null, null, null, null, null, null, null, null, null, null, null, null, null, null, null, null, null, null, null, null, null, null, null, null, null, null, null, null, null, null, null, null, null, null, null, null, null, null, null, null, null, null, null, null, null, null, null, null, null, null, null, null, null, null, null, null], [null, null, null, null, null, null, null, null, null, null, null, null, null, null, null, null, null, null, null, null, null, null, null, null, null, null, null, null, null, null, null, null, null, null, null, null, null, null, null, null, null, null, null, null, null, null, null, null, null, null, null, null, null, null, null, null, null, null, null, null, null, null, null, null, null, null, null, null, null, null, null, null, null, null, null, null, null, null, null, null, null, null, null, null, null, null, null, null, null, null, null, null, 0.93475, null, null, null, null, null, null, null, null, null], [null, null, null, null, null, null, null, null, null, null, null, null, null, null, null, null, null, 0.93825, null, null, null, null, null, null, null, null, null, null, null, null, null, null, null, null, null, null, null, null, null, null, null, null, null, null, null, null, null, null, null, null, null, null, null, null, null, null, null, null, null, null, null, null, null, null, null, null, null, null, null, null, null, null, null, null, null, null, null, null, null, null, null, null, null, null, null, null, null, null, null, null, null, null, null, null, null, null, null, null, null, null, null, null], [null, null, null, null, null, null, null, null, null, null, null, null, null, null, null, null, null, null, null, null, null, null, null, null, null, 0.937, null, null, null, null, null, null, null, null, null, null, null, null, null, null, null, 0.939, null, 0.93675, null, null, null, null, null, null, null, null, null, null, null, null, null, null, null, null, null, null, null, null, null, null, null, null, null, null, null, null, null, null, null, null, null, null, null, null, null, null, null, null, null, null, null, null, null, null, null, null, null, null, null, null, null, null, null, null, 0.93575, null], [null, null, null, null, null, null, null, null, null, null, null, null, null, null, null, null, null, null, null, null, null, null, null, null, null, null, null, null, null, null, null, null, null, null, null, null, null, 0.9385, null, null, null, null, null, null, null, null, null, null, null, null, null, null, null, null, null, null, null, null, null, null, null, null, null, null, null, null, null, null, null, null, null, null, null, null, null, null, null, null, null, null, null, null, null, null, null, null, null, null, null, null, null, null, null, null, null, null, null, null, null, null, null, null], [null, null, null, null, null, null, null, null, null, null, null, null, null, null, null, null, null, null, null, null, null, null, null, null, null, null, 0.93875, null, null, null, null, null, null, null, null, null, null, null, null, null, null, null, null, null, null, null, null, null, null, null, null, null, null, null, null, null, null, null, null, null, null, null, null, null, null, null, null, 0.9355, null, null, null, null, null, null, null, null, null, null, null, null, null, null, null, null, null, null, null, null, null, null, null, null, null, null, null, null, 0.93625, null, null, null, null, null], [null, null, null, null, null, null, null, null, null, null, null, null, null, null, null, null, null, null, null, null, null, 0.9375, null, null, null, null, null, null, null, null, null, null, null, null, null, null, null, null, null, null, null, null, null, null, null, null, null, null, null, null, null, null, null, null, null, null, null, null, null, null, null, null, null, null, null, null, null, null, null, null, null, null, null, null, null, 0.93575, null, null, null, null, null, null, null, null, null, null, null, null, null, null, null, null, null, null, null, null, null, null, null, null, null, null], [null, null, null, null, null, null, null, null, null, null, null, null, null, null, null, null, null, null, null, null, null, null, null, null, null, null, null, null, null, null, null, null, 0.937, null, null, null, null, null, null, null, null, null, null, null, null, null, null, null, 0.93725, null, null, null, null, null, null, null, null, null, null, null, null, null, null, null, null, null, null, null, null, null, null, null, null, null, null, null, null, null, null, 0.937, null, null, null, null, null, null, null, null, null, null, null, null, null, null, null, null, null, null, null, null, null, null], [null, null, null, null, null, null, null, null, null, null, null, null, null, null, null, null, null, null, null, null, null, null, null, null, null, null, null, null, 0.939, null, null, null, null, null, null, null, null, null, null, null, null, null, null, null, null, null, null, null, null, null, null, 0.93875, null, null, null, null, 0.93825, null, null, null, null, null, null, null, null, null, null, null, null, null, null, null, null, null, null, null, null, null, null, null, null, null, null, null, null, null, null, null, null, null, null, null, null, null, null, null, null, null, null, null, null, null], [null, null, null, 0.939, null, null, null, null, null, null, null, 0.94025, null, null, null, null, null, null, null, null, null, null, null, null, null, null, null, null, null, null, null, null, null, null, null, null, null, null, null, null, null, null, null, null, null, null, null, null, null, null, null, null, null, null, null, null, null, null, null, null, null, null, null, null, null, null, null, null, null, null, null, null, null, null, null, null, null, null, null, null, null, null, null, null, null, null, null, null, null, 0.93775, null, null, null, null, null, null, null, null, null, null, null, null], [null, null, null, null, null, null, null, null, null, 0.94, null, null, null, null, null, null, null, null, null, null, null, null, null, null, null, null, null, null, null, 0.939, null, null, null, null, null, null, null, null, null, null, null, null, null, null, null, null, 0.9385, null, null, null, null, null, null, 0.93625, null, null, null, null, null, null, null, null, null, 0.93575, null, null, 0.9365, null, null, null, null, null, null, null, null, null, null, null, null, null, null, null, null, null, null, null, null, null, null, null, null, null, null, null, null, null, null, null, null, null, null, null], [null, null, null, null, null, null, null, null, null, null, null, null, null, null, null, null, 0.94, null, null, null, null, null, null, null, null, null, null, null, null, null, null, null, null, null, null, null, null, null, 0.93925, null, null, null, null, null, null, null, null, null, null, null, null, null, null, null, null, null, null, 0.937, null, null, null, null, null, null, null, null, null, null, null, null, null, null, null, null, null, null, null, null, null, null, null, 0.9375, null, null, null, null, null, null, null, null, null, null, null, null, null, null, null, null, null, null, null, null], [null, null, null, null, null, 0.93975, null, null, null, null, 0.94, null, null, null, null, null, null, null, 0.93875, null, null, null, null, null, null, null, null, null, null, null, null, null, null, null, null, null, null, null, null, null, null, null, null, null, null, null, null, null, null, null, null, null, null, null, null, null, null, null, null, null, 0.9395, null, null, null, null, null, null, null, null, null, null, null, null, null, null, null, null, null, null, null, 0.93575, null, null, null, null, null, null, null, null, null, null, null, null, null, null, null, null, null, null, null, null, null], [null, null, null, null, null, null, null, null, null, null, null, null, null, 0.93725, null, 0.93875, null, null, null, 0.93925, null, null, null, null, null, null, null, null, null, null, null, null, null, null, null, null, null, null, null, null, null, null, null, null, null, null, null, null, null, null, null, null, null, null, null, null, null, null, null, null, null, null, null, null, null, null, null, null, null, null, null, null, null, null, null, null, null, null, null, null, null, null, null, null, null, null, null, 0.93625, null, null, null, null, null, null, null, null, null, null, 0.937, null, null, null], [null, null, 0.94, null, null, null, null, null, 0.9395, null, null, null, null, null, 0.93875, null, null, null, null, null, null, null, null, null, null, null, null, null, null, null, null, null, null, null, null, 0.939, null, null, null, null, null, null, null, null, null, null, null, null, null, null, null, null, null, null, null, null, null, null, null, null, null, null, null, null, null, null, null, null, null, null, null, null, null, null, null, null, null, null, null, null, null, null, null, null, null, null, null, null, null, null, null, null, null, null, null, null, null, null, null, null, null, null], [null, null, null, null, null, null, null, null, null, null, null, null, null, null, null, null, null, null, null, null, null, null, null, null, null, null, null, null, null, null, null, null, null, null, null, null, null, null, null, null, null, null, null, null, 0.93925, null, null, null, null, null, null, null, null, null, null, 0.93875, null, null, 0.93875, null, null, null, 0.937, null, null, null, null, null, null, null, null, null, null, null, null, null, null, null, null, null, null, null, null, null, null, null, null, null, null, null, null, null, null, null, null, null, null, null, null, null, null, null], [null, null, null, null, null, null, null, null, null, null, null, null, 0.93925, null, null, null, null, null, null, null, null, null, null, null, null, null, null, null, null, null, null, null, null, null, null, null, null, null, null, 0.93975, null, null, null, null, null, null, null, 0.9395, null, null, null, null, null, null, null, null, null, null, null, null, null, null, null, null, 0.938, null, null, null, null, null, null, null, null, null, null, null, null, null, null, null, null, null, null, null, null, null, null, null, null, null, null, null, null, null, null, null, null, null, null, null, null, null], [null, null, null, null, 0.9395, null, null, null, null, null, null, null, null, null, null, null, null, null, null, null, null, null, null, null, null, null, null, null, null, null, null, null, null, null, 0.93925, null, null, null, null, null, null, null, null, null, null, null, null, null, null, null, 0.9385, null, null, null, null, null, null, null, null, null, null, null, null, null, null, null, null, null, null, null, null, null, null, null, null, null, null, null, null, null, null, null, null, null, null, null, null, null, null, null, 0.93725, null, null, null, null, null, null, null, null, 0.9365, null, null], [null, null, null, null, null, null, null, null, null, null, null, null, null, null, null, null, null, null, null, null, null, null, null, null, null, null, null, null, null, null, null, null, null, null, null, null, null, null, null, null, null, null, null, null, null, null, null, null, null, null, null, null, null, null, null, null, null, null, null, null, null, null, null, null, null, null, null, null, null, 0.939, null, 0.9365, null, null, null, null, null, null, null, null, null, null, null, null, null, null, null, null, null, null, null, 0.935, null, null, null, null, null, null, null, null, null, null], [null, null, null, null, null, null, null, null, null, null, null, null, null, null, null, null, null, null, null, null, null, null, null, 0.93875, null, null, null, null, null, null, null, null, null, 0.93875, null, null, null, null, null, null, null, null, null, null, null, null, null, null, null, null, null, null, null, null, null, null, null, null, null, null, null, null, null, null, null, null, null, null, null, null, null, null, null, null, null, null, 0.9375, null, 0.9375, null, null, null, null, 0.93775, null, null, null, null, null, null, null, null, null, null, null, null, null, null, null, null, null, null], [null, null, null, null, null, null, null, null, null, null, null, null, null, null, null, null, null, null, null, null, null, null, null, null, null, null, null, null, null, null, null, null, null, null, null, null, null, null, null, null, null, null, null, null, null, null, null, null, null, null, null, null, null, null, null, null, null, null, null, null, null, null, null, null, null, null, null, null, null, null, null, null, null, null, null, null, null, null, null, null, null, null, null, null, null, null, null, null, null, null, null, null, null, null, null, null, null, null, null, null, null, null]]}, {\"marker\": {\"color\": \"black\", \"line\": {\"color\": \"Grey\", \"width\": 0.5}}, \"mode\": \"markers\", \"showlegend\": false, \"type\": \"scatter\", \"x\": [0.6247240713084175, 0.759195090518222, 0.4348501673009197, 0.8248435466776274, 0.899465584480253, 0.5100427059120604, 0.6591670111852694, 0.4836963163912251, 0.6736419905302216, 0.708540663048167, 0.9807628179319392, 0.960677975271797, 0.8422233433705593, 0.9983507036605508, 0.8446383804415064, 0.9125594092958378, 0.775690618497564, 0.9178361842790465, 0.8206975572362558, 0.5949474017149876, 0.8170972500642734, 0.7581724747076644, 0.7594072998875797, 0.7302929284103302, 0.768445119552756, 0.5525806341350226, 0.7874214437524669, 0.8808910194331233, 0.7226779700453105, 0.6256175105627158, 0.5864136518187979, 0.6531198005202535, 0.707160735206391, 0.6206540823369198, 0.7468904831376453, 0.6759917253247111, 0.797235866448676, 0.7048223908411229, 0.8588865372089907, 0.6353156437613183, 0.45123122138221866, 0.4056633015111988, 0.41915517137521824, 0.4000774973218806, 0.4293732660534338, 0.4015527763783517, 0.48262801903648145, 0.47123694446547, 0.5229311845645565, 0.44172392506353964, 0.40181832048203064, 0.40066717587619527, 0.4530266136118103, 0.5093727715032971, 0.4549071807361478, 0.42524114368317734, 0.46291374167590627, 0.49609282229327883, 0.41562259652876826, 0.5338831855703494, 0.4328649123947902, 0.44790414151721303, 0.4019269589243799, 0.47842738282353237, 0.40178532006156076, 0.4489030823413096, 0.4543460978506155, 0.4994180641705174, 0.5624720513745817, 0.4163197042642292, 0.42954288072489816, 0.41576471603269877, 0.4365442388228655, 0.4645087968035611, 0.4261400002146887, 0.44997140754015397, 0.4903720770043949, 0.4023581225843636, 0.40115999271583924, 0.4046624758891292, 0.4699954262347528, 0.4008272847079046, 0.40359991362963166, 0.4393756421214726, 0.47177004581482623, 0.41600354348390817, 0.40302388956471835, 0.4327209401878501, 0.4186103202505588, 0.4082176322606516, 0.44150908204429173, 0.42256717819441736, 0.4007845592893188, 0.4612490815645626, 0.44170317706416695, 0.4140155278963291, 0.4703178014612557, 0.4828269210119549, 0.42532467088835624, 0.5130375588724106], \"xaxis\": \"x7\", \"y\": [75, 19, 62, 98, 22, 55, 63, 40, 24, 9, 98, 94, 99, 84, 82, 86, 71, 41, 90, 91, 77, 92, 100, 88, 72, 91, 80, 66, 100, 99, 39, 99, 100, 86, 93, 77, 94, 87, 54, 70, 80, 95, 81, 80, 81, 59, 46, 74, 68, 79, 95, 95, 84, 96, 84, 62, 75, 89, 83, 96, 78, 85, 91, 89, 31, 92, 11, 92, 97, 81, 89, 93, 88, 91, 86, 97, 96, 93, 93, 94, 97, 98, 97, 100, 98, 94, 90, 91, 87, 94, 98, 100, 90, 96, 95, 92, 88, 91, 84, 93], \"yaxis\": \"y7\"}, {\"colorbar\": {\"title\": {\"text\": \"Objective Value\"}}, \"colorscale\": [[0, \"rgb(5,10,172)\"], [0.35, \"rgb(40,60,190)\"], [0.5, \"rgb(70,100,245)\"], [0.6, \"rgb(90,120,245)\"], [0.7, \"rgb(106,137,247)\"], [1, \"rgb(220,220,220)\"]], \"connectgaps\": true, \"contours\": {\"coloring\": \"heatmap\"}, \"hoverinfo\": \"none\", \"line\": {\"smoothing\": 1.3}, \"reversescale\": false, \"showscale\": false, \"type\": \"contour\", \"x\": [0.7, 1, 2, 3, 4, 5, 6, 7, 7.3], \"xaxis\": \"x2\", \"y\": [0.3701638370049471, 0.4000774973218806, 0.40066717587619527, 0.4007845592893188, 0.4008272847079046, 0.40115999271583924, 0.4015527763783517, 0.40178532006156076, 0.40181832048203064, 0.4019269589243799, 0.4023581225843636, 0.40302388956471835, 0.40359991362963166, 0.4046624758891292, 0.4056633015111988, 0.4082176322606516, 0.4140155278963291, 0.41562259652876826, 0.41576471603269877, 0.41600354348390817, 0.4163197042642292, 0.4186103202505588, 0.41915517137521824, 0.42256717819441736, 0.42524114368317734, 0.42532467088835624, 0.4261400002146887, 0.4293732660534338, 0.42954288072489816, 0.4327209401878501, 0.4328649123947902, 0.4348501673009197, 0.4365442388228655, 0.4393756421214726, 0.44150908204429173, 0.44170317706416695, 0.44172392506353964, 0.44790414151721303, 0.4489030823413096, 0.44997140754015397, 0.45123122138221866, 0.4530266136118103, 0.4543460978506155, 0.4549071807361478, 0.4612490815645626, 0.46291374167590627, 0.4645087968035611, 0.4699954262347528, 0.4703178014612557, 0.47123694446547, 0.47177004581482623, 0.47842738282353237, 0.48262801903648145, 0.4828269210119549, 0.4836963163912251, 0.4903720770043949, 0.49609282229327883, 0.4994180641705174, 0.5093727715032971, 0.5100427059120604, 0.5130375588724106, 0.5229311845645565, 0.5338831855703494, 0.5525806341350226, 0.5624720513745817, 0.5864136518187979, 0.5949474017149876, 0.6206540823369198, 0.6247240713084175, 0.6256175105627158, 0.6353156437613183, 0.6531198005202535, 0.6591670111852694, 0.6736419905302216, 0.6759917253247111, 0.7048223908411229, 0.707160735206391, 0.708540663048167, 0.7226779700453105, 0.7302929284103302, 0.7468904831376453, 0.7581724747076644, 0.759195090518222, 0.7594072998875797, 0.768445119552756, 0.775690618497564, 0.7874214437524669, 0.797235866448676, 0.8170972500642734, 0.8206975572362558, 0.8248435466776274, 0.8422233433705593, 0.8446383804415064, 0.8588865372089907, 0.8808910194331233, 0.899465584480253, 0.9125594092958378, 0.9178361842790465, 0.960677975271797, 0.9807628179319392, 0.9983507036605508, 1.0282643639774842], \"yaxis\": \"y2\", \"z\": [[null, null, null, null, null, null, null, null, null], [null, null, null, 0.9395, null, null, null, null, null], [null, null, 0.94, null, null, null, null, null, null], [null, null, null, 0.939, null, null, null, null, null], [null, null, 0.9395, null, null, null, null, null, null], [null, null, 0.93975, null, null, null, null, null, null], [null, null, null, 0.93625, null, null, null, null, null], [null, null, 0.9355, null, null, null, null, null, null], [null, null, 0.9395, null, null, null, null, null, null], [null, null, 0.94, null, null, null, null, null, null], [null, null, 0.94, null, null, null, null, null, null], [null, null, null, 0.94025, null, null, null, null, null], [null, null, null, 0.93925, null, null, null, null, null], [null, null, 0.93725, null, null, null, null, null, null], [null, null, 0.93875, null, null, null, null, null, null], [null, null, 0.93875, null, null, null, null, null, null], [null, null, null, 0.94, null, null, null, null, null], [null, null, 0.93825, null, null, null, null, null, null], [null, null, 0.93875, null, null, null, null, null, null], [null, null, 0.93925, null, null, null, null, null, null], [null, null, 0.93775, null, null, null, null, null, null], [null, null, null, 0.9375, null, null, null, null, null], [null, null, 0.939, null, null, null, null, null, null], [null, null, null, 0.93875, null, null, null, null, null], [null, 0.937, null, null, null, null, null, null, null], [null, null, null, null, 0.937, null, null, null, null], [null, 0.93875, null, null, null, null, null, null, null], [null, null, null, 0.938, null, null, null, null, null], [null, 0.939, null, null, null, null, null, null, null], [null, null, 0.939, null, null, null, null, null, null], [null, null, null, null, null, 0.938, null, null, null], [null, null, null, null, null, null, null, 0.9325, null], [null, 0.937, null, null, null, null, null, null, null], [null, null, null, 0.93875, null, null, null, null, null], [null, null, 0.93925, null, null, null, null, null, null], [null, null, null, 0.939, null, null, null, null, null], [null, null, null, 0.9365, null, null, null, null, null], [null, null, 0.9385, null, null, null, null, null, null], [null, null, 0.93925, null, null, null, null, null, null], [null, null, 0.93975, null, null, null, null, null, null], [null, null, 0.93925, null, null, null, null, null, null], [null, null, 0.939, null, null, null, null, null, null], [null, null, 0.93125, null, null, null, null, null, null], [null, null, null, 0.93675, null, null, null, null, null], [null, null, 0.93925, null, null, null, null, null, null], [null, null, 0.93675, null, null, null, null, null, null], [null, 0.9385, null, null, null, null, null, null, null], [null, null, null, 0.9395, null, null, null, null, null], [null, null, null, 0.93725, null, null, null, null, null], [null, null, null, 0.938, null, null, null, null, null], [null, null, 0.9385, null, null, null, null, null, null], [null, 0.93875, null, null, null, null, null, null, null], [null, null, null, null, 0.93575, null, null, null, null], [null, null, null, 0.93625, null, null, null, null, null], [null, null, null, 0.933, null, null, null, null, null], [null, null, 0.93875, null, null, null, null, null, null], [null, null, null, 0.93825, null, null, null, null, null], [null, 0.937, null, null, null, null, null, null, null], [null, null, 0.93875, null, null, null, null, null, null], [null, null, null, 0.93525, null, null, null, null, null], [null, null, null, 0.9395, null, null, null, null, null], [null, null, null, null, 0.93575, null, null, null, null], [null, null, null, null, 0.937, null, null, null, null], [null, null, 0.93575, null, null, null, null, null, null], [null, null, null, 0.938, null, null, null, null, null], [null, null, null, null, null, 0.935, null, null, null], [null, null, 0.9365, null, null, null, null, null, null], [null, null, null, null, null, null, null, 0.9355, null], [null, null, null, null, null, null, null, 0.9355, null], [null, null, null, null, 0.939, null, null, null, null], [null, null, null, 0.93525, null, null, null, null, null], [null, null, null, null, 0.9365, null, null, null, null], [null, null, null, 0.93475, null, null, null, null, null], [null, null, null, null, null, null, 0.933, null, null], [null, null, 0.93625, null, null, null, null, null, null], [null, null, null, 0.93575, null, null, null, null, null], [null, null, 0.9375, null, null, null, null, null, null], [null, null, null, null, null, 0.93325, null, null, null], [null, null, 0.9375, null, null, null, null, null, null], [null, null, 0.937, null, null, null, null, null, null], [null, null, null, null, null, null, 0.93575, null, null], [null, 0.9375, null, null, null, null, null, null, null], [null, null, 0.93225, null, null, null, null, null, null], [null, null, 0.93775, null, null, null, null, null, null], [null, null, null, 0.9355, null, null, null, null, null], [null, null, null, null, 0.9355, null, null, null, null], [null, null, null, 0.93475, null, null, null, null, null], [null, 0.93625, null, null, null, null, null, null, null], [null, null, null, null, 0.934, null, null, null, null], [null, null, 0.93775, null, null, null, null, null, null], [null, 0.93725, null, null, null, null, null, null, null], [null, 0.935, null, null, null, null, null, null, null], [null, null, null, null, 0.93475, null, null, null, null], [null, 0.9345, null, null, null, null, null, null, null], [null, null, null, null, null, 0.93375, null, null, null], [null, null, 0.9335, null, null, null, null, null, null], [null, null, 0.93625, null, null, null, null, null, null], [null, 0.9345, null, null, null, null, null, null, null], [null, 0.937, null, null, null, null, null, null, null], [null, 0.9365, null, null, null, null, null, null, null], [null, 0.93575, null, null, null, null, null, null, null], [null, null, null, null, null, null, null, null, null]]}, {\"marker\": {\"color\": \"black\", \"line\": {\"color\": \"Grey\", \"width\": 0.5}}, \"mode\": \"markers\", \"showlegend\": false, \"type\": \"scatter\", \"x\": [7, 2, 7, 1, 2, 3, 3, 3, 6, 5, 1, 1, 1, 1, 4, 2, 4, 1, 2, 2, 4, 1, 2, 2, 3, 2, 3, 5, 2, 4, 5, 4, 2, 7, 6, 2, 1, 3, 1, 3, 2, 2, 2, 3, 3, 3, 4, 3, 4, 3, 2, 2, 2, 2, 3, 1, 2, 3, 2, 4, 5, 2, 2, 1, 2, 2, 2, 1, 3, 2, 1, 2, 1, 1, 1, 2, 2, 2, 2, 2, 3, 2, 3, 3, 2, 2, 3, 2, 3, 2, 2, 3, 3, 2, 3, 3, 3, 3, 4, 3], \"xaxis\": \"x2\", \"y\": [0.6247240713084175, 0.759195090518222, 0.4348501673009197, 0.8248435466776274, 0.899465584480253, 0.5100427059120604, 0.6591670111852694, 0.4836963163912251, 0.6736419905302216, 0.708540663048167, 0.9807628179319392, 0.960677975271797, 0.8422233433705593, 0.9983507036605508, 0.8446383804415064, 0.9125594092958378, 0.775690618497564, 0.9178361842790465, 0.8206975572362558, 0.5949474017149876, 0.8170972500642734, 0.7581724747076644, 0.7594072998875797, 0.7302929284103302, 0.768445119552756, 0.5525806341350226, 0.7874214437524669, 0.8808910194331233, 0.7226779700453105, 0.6256175105627158, 0.5864136518187979, 0.6531198005202535, 0.707160735206391, 0.6206540823369198, 0.7468904831376453, 0.6759917253247111, 0.797235866448676, 0.7048223908411229, 0.8588865372089907, 0.6353156437613183, 0.45123122138221866, 0.4056633015111988, 0.41915517137521824, 0.4000774973218806, 0.4293732660534338, 0.4015527763783517, 0.48262801903648145, 0.47123694446547, 0.5229311845645565, 0.44172392506353964, 0.40181832048203064, 0.40066717587619527, 0.4530266136118103, 0.5093727715032971, 0.4549071807361478, 0.42524114368317734, 0.46291374167590627, 0.49609282229327883, 0.41562259652876826, 0.5338831855703494, 0.4328649123947902, 0.44790414151721303, 0.4019269589243799, 0.47842738282353237, 0.40178532006156076, 0.4489030823413096, 0.4543460978506155, 0.4994180641705174, 0.5624720513745817, 0.4163197042642292, 0.42954288072489816, 0.41576471603269877, 0.4365442388228655, 0.4645087968035611, 0.4261400002146887, 0.44997140754015397, 0.4903720770043949, 0.4023581225843636, 0.40115999271583924, 0.4046624758891292, 0.4699954262347528, 0.4008272847079046, 0.40359991362963166, 0.4393756421214726, 0.47177004581482623, 0.41600354348390817, 0.40302388956471835, 0.4327209401878501, 0.4186103202505588, 0.4082176322606516, 0.44150908204429173, 0.42256717819441736, 0.4007845592893188, 0.4612490815645626, 0.44170317706416695, 0.4140155278963291, 0.4703178014612557, 0.4828269210119549, 0.42532467088835624, 0.5130375588724106], \"yaxis\": \"y2\"}, {\"type\": \"scatter\", \"xaxis\": \"x5\", \"yaxis\": \"y5\"}, {\"colorbar\": {\"title\": {\"text\": \"Objective Value\"}}, \"colorscale\": [[0, \"rgb(5,10,172)\"], [0.35, \"rgb(40,60,190)\"], [0.5, \"rgb(70,100,245)\"], [0.6, \"rgb(90,120,245)\"], [0.7, \"rgb(106,137,247)\"], [1, \"rgb(220,220,220)\"]], \"connectgaps\": true, \"contours\": {\"coloring\": \"heatmap\"}, \"hoverinfo\": \"none\", \"line\": {\"smoothing\": 1.3}, \"reversescale\": false, \"showscale\": false, \"type\": \"contour\", \"x\": [0.7, 1, 2, 3, 4, 5, 6, 7, 7.3], \"xaxis\": \"x8\", \"y\": [4.45, 9, 11, 19, 22, 24, 31, 39, 40, 41, 46, 54, 55, 59, 62, 63, 66, 68, 70, 71, 72, 74, 75, 77, 78, 79, 80, 81, 82, 83, 84, 85, 86, 87, 88, 89, 90, 91, 92, 93, 94, 95, 96, 97, 98, 99, 100, 104.55], \"yaxis\": \"y8\", \"z\": [[null, null, null, null, null, null, null, null, null], [null, null, null, null, null, 0.93325, null, null, null], [null, null, 0.93125, null, null, null, null, null, null], [null, null, 0.93225, null, null, null, null, null, null], [null, null, 0.9335, null, null, null, null, null, null], [null, null, null, null, null, null, 0.933, null, null], [null, null, 0.9355, null, null, null, null, null, null], [null, null, null, null, null, 0.935, null, null, null], [null, null, null, 0.933, null, null, null, null, null], [null, 0.9345, null, null, null, null, null, null, null], [null, null, null, null, 0.93575, null, null, null, null], [null, 0.9345, null, null, null, null, null, null, null], [null, null, null, 0.93525, null, null, null, null, null], [null, null, null, 0.93625, null, null, null, null, null], [null, 0.937, null, null, null, null, null, 0.9325, null], [null, null, null, 0.93475, null, null, null, null, null], [null, null, null, null, null, 0.93375, null, null, null], [null, null, null, null, 0.93575, null, null, null, null], [null, null, null, 0.93525, null, null, null, null, null], [null, null, null, null, 0.9355, null, null, null, null], [null, null, null, 0.9355, null, null, null, null, null], [null, null, null, 0.938, null, null, null, null, null], [null, null, 0.93675, null, null, null, null, 0.9355, null], [null, null, 0.93625, null, 0.934, null, null, null, null], [null, null, null, null, null, 0.938, null, null, null], [null, null, null, 0.9365, null, null, null, null, null], [null, null, 0.93925, 0.9395, null, null, null, null, null], [null, null, 0.93775, 0.938, null, null, null, null, null], [null, null, null, null, 0.93475, null, null, null, null], [null, null, 0.93825, null, null, null, null, null, null], [null, 0.93575, 0.939, 0.93675, 0.937, null, null, null, null], [null, null, 0.9385, null, null, null, null, null, null], [null, 0.93875, 0.93625, null, null, null, null, 0.9355, null], [null, null, null, 0.9375, null, null, null, null, null], [null, 0.937, 0.937, 0.93725, null, null, null, null, null], [null, 0.939, null, 0.93825, null, null, null, null, null], [null, null, 0.93775, 0.939, null, null, null, null, null], [null, 0.9385, 0.939, 0.93625, null, null, null, null, null], [null, 0.937, 0.93925, 0.94, null, null, null, null, null], [null, null, 0.93975, 0.9395, null, null, 0.93575, null, null], [null, 0.93625, 0.93875, null, null, null, null, null, null], [null, null, 0.94, 0.939, null, null, null, null, null], [null, null, 0.93925, null, 0.937, null, null, null, null], [null, null, 0.93975, 0.93925, null, null, null, null, null], [null, 0.9365, 0.93925, null, null, null, null, null, null], [null, 0.935, null, null, 0.9365, null, null, null, null], [null, null, 0.9375, 0.93875, null, null, null, null, null], [null, null, null, null, null, null, null, null, null]]}, {\"marker\": {\"color\": \"black\", \"line\": {\"color\": \"Grey\", \"width\": 0.5}}, \"mode\": \"markers\", \"showlegend\": false, \"type\": \"scatter\", \"x\": [7, 2, 7, 1, 2, 3, 3, 3, 6, 5, 1, 1, 1, 1, 4, 2, 4, 1, 2, 2, 4, 1, 2, 2, 3, 2, 3, 5, 2, 4, 5, 4, 2, 7, 6, 2, 1, 3, 1, 3, 2, 2, 2, 3, 3, 3, 4, 3, 4, 3, 2, 2, 2, 2, 3, 1, 2, 3, 2, 4, 5, 2, 2, 1, 2, 2, 2, 1, 3, 2, 1, 2, 1, 1, 1, 2, 2, 2, 2, 2, 3, 2, 3, 3, 2, 2, 3, 2, 3, 2, 2, 3, 3, 2, 3, 3, 3, 3, 4, 3], \"xaxis\": \"x8\", \"y\": [75, 19, 62, 98, 22, 55, 63, 40, 24, 9, 98, 94, 99, 84, 82, 86, 71, 41, 90, 91, 77, 92, 100, 88, 72, 91, 80, 66, 100, 99, 39, 99, 100, 86, 93, 77, 94, 87, 54, 70, 80, 95, 81, 80, 81, 59, 46, 74, 68, 79, 95, 95, 84, 96, 84, 62, 75, 89, 83, 96, 78, 85, 91, 89, 31, 92, 11, 92, 97, 81, 89, 93, 88, 91, 86, 97, 96, 93, 93, 94, 97, 98, 97, 100, 98, 94, 90, 91, 87, 94, 98, 100, 90, 96, 95, 92, 88, 91, 84, 93], \"yaxis\": \"y8\"}, {\"colorbar\": {\"title\": {\"text\": \"Objective Value\"}}, \"colorscale\": [[0, \"rgb(5,10,172)\"], [0.35, \"rgb(40,60,190)\"], [0.5, \"rgb(70,100,245)\"], [0.6, \"rgb(90,120,245)\"], [0.7, \"rgb(106,137,247)\"], [1, \"rgb(220,220,220)\"]], \"connectgaps\": true, \"contours\": {\"coloring\": \"heatmap\"}, \"hoverinfo\": \"none\", \"line\": {\"smoothing\": 1.3}, \"reversescale\": false, \"showscale\": false, \"type\": \"contour\", \"x\": [4.45, 9, 11, 19, 22, 24, 31, 39, 40, 41, 46, 54, 55, 59, 62, 63, 66, 68, 70, 71, 72, 74, 75, 77, 78, 79, 80, 81, 82, 83, 84, 85, 86, 87, 88, 89, 90, 91, 92, 93, 94, 95, 96, 97, 98, 99, 100, 104.55], \"xaxis\": \"x3\", \"y\": [0.3701638370049471, 0.4000774973218806, 0.40066717587619527, 0.4007845592893188, 0.4008272847079046, 0.40115999271583924, 0.4015527763783517, 0.40178532006156076, 0.40181832048203064, 0.4019269589243799, 0.4023581225843636, 0.40302388956471835, 0.40359991362963166, 0.4046624758891292, 0.4056633015111988, 0.4082176322606516, 0.4140155278963291, 0.41562259652876826, 0.41576471603269877, 0.41600354348390817, 0.4163197042642292, 0.4186103202505588, 0.41915517137521824, 0.42256717819441736, 0.42524114368317734, 0.42532467088835624, 0.4261400002146887, 0.4293732660534338, 0.42954288072489816, 0.4327209401878501, 0.4328649123947902, 0.4348501673009197, 0.4365442388228655, 0.4393756421214726, 0.44150908204429173, 0.44170317706416695, 0.44172392506353964, 0.44790414151721303, 0.4489030823413096, 0.44997140754015397, 0.45123122138221866, 0.4530266136118103, 0.4543460978506155, 0.4549071807361478, 0.4612490815645626, 0.46291374167590627, 0.4645087968035611, 0.4699954262347528, 0.4703178014612557, 0.47123694446547, 0.47177004581482623, 0.47842738282353237, 0.48262801903648145, 0.4828269210119549, 0.4836963163912251, 0.4903720770043949, 0.49609282229327883, 0.4994180641705174, 0.5093727715032971, 0.5100427059120604, 0.5130375588724106, 0.5229311845645565, 0.5338831855703494, 0.5525806341350226, 0.5624720513745817, 0.5864136518187979, 0.5949474017149876, 0.6206540823369198, 0.6247240713084175, 0.6256175105627158, 0.6353156437613183, 0.6531198005202535, 0.6591670111852694, 0.6736419905302216, 0.6759917253247111, 0.7048223908411229, 0.707160735206391, 0.708540663048167, 0.7226779700453105, 0.7302929284103302, 0.7468904831376453, 0.7581724747076644, 0.759195090518222, 0.7594072998875797, 0.768445119552756, 0.775690618497564, 0.7874214437524669, 0.797235866448676, 0.8170972500642734, 0.8206975572362558, 0.8248435466776274, 0.8422233433705593, 0.8446383804415064, 0.8588865372089907, 0.8808910194331233, 0.899465584480253, 0.9125594092958378, 0.9178361842790465, 0.960677975271797, 0.9807628179319392, 0.9983507036605508, 1.0282643639774842], \"yaxis\": \"y3\", \"z\": [[null, null, null, null, null, null, null, null, null, null, null, null, null, null, null, null, null, null, null, null, null, null, null, null, null, null, null, null, null, null, null, null, null, null, null, null, null, null, null, null, null, null, null, null, null, null, null, null], [null, null, null, null, null, null, null, null, null, null, null, null, null, null, null, null, null, null, null, null, null, null, null, null, null, null, 0.9395, null, null, null, null, null, null, null, null, null, null, null, null, null, null, null, null, null, null, null, null, null], [null, null, null, null, null, null, null, null, null, null, null, null, null, null, null, null, null, null, null, null, null, null, null, null, null, null, null, null, null, null, null, null, null, null, null, null, null, null, null, null, null, 0.94, null, null, null, null, null, null], [null, null, null, null, null, null, null, null, null, null, null, null, null, null, null, null, null, null, null, null, null, null, null, null, null, null, null, null, null, null, null, null, null, null, null, null, 0.939, null, null, null, null, null, null, null, null, null, null, null], [null, null, null, null, null, null, null, null, null, null, null, null, null, null, null, null, null, null, null, null, null, null, null, null, null, null, null, null, null, null, null, null, null, null, null, null, null, null, null, null, null, null, null, null, 0.9395, null, null, null], [null, null, null, null, null, null, null, null, null, null, null, null, null, null, null, null, null, null, null, null, null, null, null, null, null, null, null, null, null, null, null, null, null, null, null, null, null, null, null, 0.93975, null, null, null, null, null, null, null, null], [null, null, null, null, null, null, null, null, null, null, null, null, null, 0.93625, null, null, null, null, null, null, null, null, null, null, null, null, null, null, null, null, null, null, null, null, null, null, null, null, null, null, null, null, null, null, null, null, null, null], [null, null, null, null, null, null, 0.9355, null, null, null, null, null, null, null, null, null, null, null, null, null, null, null, null, null, null, null, null, null, null, null, null, null, null, null, null, null, null, null, null, null, null, null, null, null, null, null, null, null], [null, null, null, null, null, null, null, null, null, null, null, null, null, null, null, null, null, null, null, null, null, null, null, null, null, null, null, null, null, null, null, null, null, null, null, null, null, null, null, null, null, 0.9395, null, null, null, null, null, null], [null, null, null, null, null, null, null, null, null, null, null, null, null, null, null, null, null, null, null, null, null, null, null, null, null, null, null, null, null, null, null, null, null, null, null, null, null, 0.94, null, null, null, null, null, null, null, null, null, null], [null, null, null, null, null, null, null, null, null, null, null, null, null, null, null, null, null, null, null, null, null, null, null, null, null, null, null, null, null, null, null, null, null, null, null, null, null, null, null, 0.94, null, null, null, null, null, null, null, null], [null, null, null, null, null, null, null, null, null, null, null, null, null, null, null, null, null, null, null, null, null, null, null, null, null, null, null, null, null, null, null, null, null, null, null, null, 0.94025, null, null, null, null, null, null, null, null, null, null, null], [null, null, null, null, null, null, null, null, null, null, null, null, null, null, null, null, null, null, null, null, null, null, null, null, null, null, null, null, null, null, null, null, null, null, null, null, null, null, null, null, null, null, null, 0.93925, null, null, null, null], [null, null, null, null, null, null, null, null, null, null, null, null, null, null, null, null, null, null, null, null, null, null, null, null, null, null, null, null, null, null, null, null, null, null, null, null, null, null, null, null, 0.93725, null, null, null, null, null, null, null], [null, null, null, null, null, null, null, null, null, null, null, null, null, null, null, null, null, null, null, null, null, null, null, null, null, null, null, null, null, null, null, null, null, null, null, null, null, null, null, null, null, 0.93875, null, null, null, null, null, null], [null, null, null, null, null, null, null, null, null, null, null, null, null, null, null, null, null, null, null, null, null, null, null, null, null, null, null, null, null, null, null, null, null, null, null, null, null, null, null, null, 0.93875, null, null, null, null, null, null, null], [null, null, null, null, null, null, null, null, null, null, null, null, null, null, null, null, null, null, null, null, null, null, null, null, null, null, null, null, null, null, null, null, null, null, null, null, null, null, 0.94, null, null, null, null, null, null, null, null, null], [null, null, null, null, null, null, null, null, null, null, null, null, null, null, null, null, null, null, null, null, null, null, null, null, null, null, null, null, null, 0.93825, null, null, null, null, null, null, null, null, null, null, null, null, null, null, null, null, null, null], [null, null, null, null, null, null, null, null, null, null, null, null, null, null, null, null, null, null, null, null, null, null, null, null, null, null, null, null, null, null, null, null, null, null, null, null, null, null, null, 0.93875, null, null, null, null, null, null, null, null], [null, null, null, null, null, null, null, null, null, null, null, null, null, null, null, null, null, null, null, null, null, null, null, null, null, null, null, null, null, null, null, null, null, null, null, null, null, null, null, null, 0.93925, null, null, null, null, null, null, null], [null, null, null, null, null, null, null, null, null, null, null, null, null, null, null, null, null, null, null, null, null, null, null, null, null, null, null, 0.93775, null, null, null, null, null, null, null, null, null, null, null, null, null, null, null, null, null, null, null, null], [null, null, null, null, null, null, null, null, null, null, null, null, null, null, null, null, null, null, null, null, null, null, null, null, null, null, null, null, null, null, null, null, null, 0.9375, null, null, null, null, null, null, null, null, null, null, null, null, null, null], [null, null, null, null, null, null, null, null, null, null, null, null, null, null, null, null, null, null, null, null, null, null, null, null, null, null, null, 0.939, null, null, null, null, null, null, null, null, null, null, null, null, null, null, null, null, null, null, null, null], [null, null, null, null, null, null, null, null, null, null, null, null, null, null, null, null, null, null, null, null, null, null, null, null, null, null, null, null, null, null, null, null, null, null, null, null, null, null, null, null, null, null, null, null, null, null, 0.93875, null], [null, null, null, null, null, null, null, null, null, null, null, null, null, null, 0.937, null, null, null, null, null, null, null, null, null, null, null, null, null, null, null, null, null, null, null, null, null, null, null, null, null, null, null, null, null, null, null, null, null], [null, null, null, null, null, null, null, null, null, null, null, null, null, null, null, null, null, null, null, null, null, null, null, null, null, null, null, null, null, null, 0.937, null, null, null, null, null, null, null, null, null, null, null, null, null, null, null, null, null], [null, null, null, null, null, null, null, null, null, null, null, null, null, null, null, null, null, null, null, null, null, null, null, null, null, null, null, null, null, null, null, null, 0.93875, null, null, null, null, null, null, null, null, null, null, null, null, null, null, null], [null, null, null, null, null, null, null, null, null, null, null, null, null, null, null, null, null, null, null, null, null, null, null, null, null, null, null, 0.938, null, null, null, null, null, null, null, null, null, null, null, null, null, null, null, null, null, null, null, null], [null, null, null, null, null, null, null, null, null, null, null, null, null, null, null, null, null, null, null, null, null, null, null, null, null, null, null, null, null, null, null, null, null, null, null, 0.939, null, null, null, null, null, null, null, null, null, null, null, null], [null, null, null, null, null, null, null, null, null, null, null, null, null, null, null, null, null, null, null, null, null, null, null, null, null, null, null, null, null, null, null, null, null, null, null, null, null, 0.939, null, null, null, null, null, null, null, null, null, null], [null, null, null, null, null, null, null, null, null, null, null, null, null, null, null, null, null, null, null, null, null, null, null, null, 0.938, null, null, null, null, null, null, null, null, null, null, null, null, null, null, null, null, null, null, null, null, null, null, null], [null, null, null, null, null, null, null, null, null, null, null, null, null, null, 0.9325, null, null, null, null, null, null, null, null, null, null, null, null, null, null, null, null, null, null, null, null, null, null, null, null, null, null, null, null, null, null, null, null, null], [null, null, null, null, null, null, null, null, null, null, null, null, null, null, null, null, null, null, null, null, null, null, null, null, null, null, null, null, null, null, null, null, null, null, 0.937, null, null, null, null, null, null, null, null, null, null, null, null, null], [null, null, null, null, null, null, null, null, null, null, null, null, null, null, null, null, null, null, null, null, null, null, null, null, null, null, null, null, null, null, null, null, null, null, null, null, null, null, null, null, null, null, null, null, null, null, 0.93875, null], [null, null, null, null, null, null, null, null, null, null, null, null, null, null, null, null, null, null, null, null, null, null, null, null, null, null, null, null, null, null, null, null, null, null, null, null, null, null, null, null, null, null, null, null, 0.93925, null, null, null], [null, null, null, null, null, null, null, null, null, null, null, null, null, null, null, null, null, null, null, null, null, null, null, null, null, null, null, null, null, null, null, null, null, null, null, null, null, null, null, null, null, 0.939, null, null, null, null, null, null], [null, null, null, null, null, null, null, null, null, null, null, null, null, null, null, null, null, null, null, null, null, null, null, null, null, 0.9365, null, null, null, null, null, null, null, null, null, null, null, null, null, null, null, null, null, null, null, null, null, null], [null, null, null, null, null, null, null, null, null, null, null, null, null, null, null, null, null, null, null, null, null, null, null, null, null, null, null, null, null, null, null, 0.9385, null, null, null, null, null, null, null, null, null, null, null, null, null, null, null, null], [null, null, null, null, null, null, null, null, null, null, null, null, null, null, null, null, null, null, null, null, null, null, null, null, null, null, null, null, null, null, null, null, null, null, null, null, null, null, 0.93925, null, null, null, null, null, null, null, null, null], [null, null, null, null, null, null, null, null, null, null, null, null, null, null, null, null, null, null, null, null, null, null, null, null, null, null, null, null, null, null, null, null, null, null, null, null, null, null, null, null, null, null, null, 0.93975, null, null, null, null], [null, null, null, null, null, null, null, null, null, null, null, null, null, null, null, null, null, null, null, null, null, null, null, null, null, null, 0.93925, null, null, null, null, null, null, null, null, null, null, null, null, null, null, null, null, null, null, null, null, null], [null, null, null, null, null, null, null, null, null, null, null, null, null, null, null, null, null, null, null, null, null, null, null, null, null, null, null, null, null, null, 0.939, null, null, null, null, null, null, null, null, null, null, null, null, null, null, null, null, null], [null, null, 0.93125, null, null, null, null, null, null, null, null, null, null, null, null, null, null, null, null, null, null, null, null, null, null, null, null, null, null, null, null, null, null, null, null, null, null, null, null, null, null, null, null, null, null, null, null, null], [null, null, null, null, null, null, null, null, null, null, null, null, null, null, null, null, null, null, null, null, null, null, null, null, null, null, null, null, null, null, 0.93675, null, null, null, null, null, null, null, null, null, null, null, null, null, null, null, null, null], [null, null, null, null, null, null, null, null, null, null, null, null, null, null, null, null, null, null, null, null, null, null, null, null, null, null, null, null, null, null, null, null, null, null, null, null, null, null, null, null, null, null, 0.93925, null, null, null, null, null], [null, null, null, null, null, null, null, null, null, null, null, null, null, null, null, null, null, null, null, null, null, null, 0.93675, null, null, null, null, null, null, null, null, null, null, null, null, null, null, null, null, null, null, null, null, null, null, null, null, null], [null, null, null, null, null, null, null, null, null, null, null, null, null, null, null, null, null, null, null, null, null, null, null, null, null, null, null, null, null, null, null, null, null, null, null, null, null, 0.9385, null, null, null, null, null, null, null, null, null, null], [null, null, null, null, null, null, null, null, null, null, null, null, null, null, null, null, null, null, null, null, null, null, null, null, null, null, null, null, null, null, null, null, null, null, null, null, null, null, null, null, null, null, null, 0.9395, null, null, null, null], [null, null, null, null, null, null, null, null, null, null, null, null, null, null, null, null, null, null, null, null, null, null, null, null, null, null, null, null, null, null, null, null, null, null, 0.93725, null, null, null, null, null, null, null, null, null, null, null, null, null], [null, null, null, null, null, null, null, null, null, null, null, null, null, null, null, null, null, null, null, null, null, 0.938, null, null, null, null, null, null, null, null, null, null, null, null, null, null, null, null, null, null, null, null, null, null, null, null, null, null], [null, null, null, null, null, null, null, null, null, null, null, null, null, null, null, null, null, null, null, null, null, null, null, null, null, null, null, null, null, null, null, null, null, null, null, null, null, null, null, null, null, null, null, null, 0.9385, null, null, null], [null, null, null, null, null, null, null, null, null, null, null, null, null, null, null, null, null, null, null, null, null, null, null, null, null, null, null, null, null, null, null, null, null, null, null, 0.93875, null, null, null, null, null, null, null, null, null, null, null, null], [null, null, null, null, null, null, null, null, null, null, 0.93575, null, null, null, null, null, null, null, null, null, null, null, null, null, null, null, null, null, null, null, null, null, null, null, null, null, null, null, null, null, null, null, null, null, null, null, null, null], [null, null, null, null, null, null, null, null, null, null, null, null, null, null, null, null, null, null, null, null, null, null, null, null, null, null, null, null, null, null, null, null, null, null, null, null, null, 0.93625, null, null, null, null, null, null, null, null, null, null], [null, null, null, null, null, null, null, null, 0.933, null, null, null, null, null, null, null, null, null, null, null, null, null, null, null, null, null, null, null, null, null, null, null, null, null, null, null, null, null, null, null, null, null, null, null, null, null, null, null], [null, null, null, null, null, null, null, null, null, null, null, null, null, null, null, null, null, null, null, null, null, null, null, null, null, null, null, null, null, null, null, null, null, null, null, null, null, null, null, null, null, null, 0.93875, null, null, null, null, null], [null, null, null, null, null, null, null, null, null, null, null, null, null, null, null, null, null, null, null, null, null, null, null, null, null, null, null, null, null, null, null, null, null, null, null, 0.93825, null, null, null, null, null, null, null, null, null, null, null, null], [null, null, null, null, null, null, null, null, null, null, null, null, null, null, null, null, null, null, null, null, null, null, null, null, null, null, null, null, null, null, null, null, null, null, null, null, null, null, 0.937, null, null, null, null, null, null, null, null, null], [null, null, null, null, null, null, null, null, null, null, null, null, null, null, null, null, null, null, null, null, null, null, null, null, null, null, null, null, null, null, null, null, null, null, null, null, null, null, null, null, null, null, 0.93875, null, null, null, null, null], [null, null, null, null, null, null, null, null, null, null, null, null, 0.93525, null, null, null, null, null, null, null, null, null, null, null, null, null, null, null, null, null, null, null, null, null, null, null, null, null, null, null, null, null, null, null, null, null, null, null], [null, null, null, null, null, null, null, null, null, null, null, null, null, null, null, null, null, null, null, null, null, null, null, null, null, null, null, null, null, null, null, null, null, null, null, null, null, null, null, 0.9395, null, null, null, null, null, null, null, null], [null, null, null, null, null, null, null, null, null, null, null, null, null, null, null, null, null, 0.93575, null, null, null, null, null, null, null, null, null, null, null, null, null, null, null, null, null, null, null, null, null, null, null, null, null, null, null, null, null, null], [null, null, null, null, null, null, null, null, null, null, null, null, null, null, null, null, null, null, null, null, null, null, null, null, null, null, null, null, null, null, null, null, null, null, null, null, null, null, null, null, null, null, 0.937, null, null, null, null, null], [null, null, null, null, null, null, null, null, null, null, null, null, null, null, null, null, null, null, null, null, null, null, null, null, null, null, null, null, null, null, null, null, null, null, null, null, null, 0.93575, null, null, null, null, null, null, null, null, null, null], [null, null, null, null, null, null, null, null, null, null, null, null, null, null, null, null, null, null, null, null, null, null, null, null, null, null, null, null, null, null, null, null, null, null, null, null, null, null, null, null, null, null, null, 0.938, null, null, null, null], [null, null, null, null, null, null, null, 0.935, null, null, null, null, null, null, null, null, null, null, null, null, null, null, null, null, null, null, null, null, null, null, null, null, null, null, null, null, null, null, null, null, null, null, null, null, null, null, null, null], [null, null, null, null, null, null, null, null, null, null, null, null, null, null, null, null, null, null, null, null, null, null, null, null, null, null, null, null, null, null, null, null, null, null, null, null, null, 0.9365, null, null, null, null, null, null, null, null, null, null], [null, null, null, null, null, null, null, null, null, null, null, null, null, null, null, null, null, null, null, null, null, null, null, null, null, null, null, null, null, null, null, null, 0.9355, null, null, null, null, null, null, null, null, null, null, null, null, null, null, null], [null, null, null, null, null, null, null, null, null, null, null, null, null, null, null, null, null, null, null, null, null, null, 0.9355, null, null, null, null, null, null, null, null, null, null, null, null, null, null, null, null, null, null, null, null, null, null, null, null, null], [null, null, null, null, null, null, null, null, null, null, null, null, null, null, null, null, null, null, null, null, null, null, null, null, null, null, null, null, null, null, null, null, null, null, null, null, null, null, null, null, null, null, null, null, null, 0.939, null, null], [null, null, null, null, null, null, null, null, null, null, null, null, null, null, null, null, null, null, 0.93525, null, null, null, null, null, null, null, null, null, null, null, null, null, null, null, null, null, null, null, null, null, null, null, null, null, null, null, null, null], [null, null, null, null, null, null, null, null, null, null, null, null, null, null, null, null, null, null, null, null, null, null, null, null, null, null, null, null, null, null, null, null, null, null, null, null, null, null, null, null, null, null, null, null, null, 0.9365, null, null], [null, null, null, null, null, null, null, null, null, null, null, null, null, null, null, 0.93475, null, null, null, null, null, null, null, null, null, null, null, null, null, null, null, null, null, null, null, null, null, null, null, null, null, null, null, null, null, null, null, null], [null, null, null, null, null, 0.933, null, null, null, null, null, null, null, null, null, null, null, null, null, null, null, null, null, null, null, null, null, null, null, null, null, null, null, null, null, null, null, null, null, null, null, null, null, null, null, null, null, null], [null, null, null, null, null, null, null, null, null, null, null, null, null, null, null, null, null, null, null, null, null, null, null, 0.93625, null, null, null, null, null, null, null, null, null, null, null, null, null, null, null, null, null, null, null, null, null, null, null, null], [null, null, null, null, null, null, null, null, null, null, null, null, null, null, null, null, null, null, null, null, null, null, null, null, null, null, null, null, null, null, null, null, null, 0.93575, null, null, null, null, null, null, null, null, null, null, null, null, null, null], [null, null, null, null, null, null, null, null, null, null, null, null, null, null, null, null, null, null, null, null, null, null, null, null, null, null, null, null, null, null, null, null, null, null, null, null, null, null, null, null, null, null, null, null, null, null, 0.9375, null], [null, 0.93325, null, null, null, null, null, null, null, null, null, null, null, null, null, null, null, null, null, null, null, null, null, null, null, null, null, null, null, null, null, null, null, null, null, null, null, null, null, null, null, null, null, null, null, null, null, null], [null, null, null, null, null, null, null, null, null, null, null, null, null, null, null, null, null, null, null, null, null, null, null, null, null, null, null, null, null, null, null, null, null, null, null, null, null, null, null, null, null, null, null, null, null, null, 0.9375, null], [null, null, null, null, null, null, null, null, null, null, null, null, null, null, null, null, null, null, null, null, null, null, null, null, null, null, null, null, null, null, null, null, null, null, 0.937, null, null, null, null, null, null, null, null, null, null, null, null, null], [null, null, null, null, null, null, null, null, null, null, null, null, null, null, null, null, null, null, null, null, null, null, null, null, null, null, null, null, null, null, null, null, null, null, null, null, null, null, null, 0.93575, null, null, null, null, null, null, null, null], [null, null, null, null, null, null, null, null, null, null, null, null, null, null, null, null, null, null, null, null, null, null, null, null, null, null, null, null, null, null, null, null, null, null, null, null, null, null, 0.9375, null, null, null, null, null, null, null, null, null], [null, null, null, 0.93225, null, null, null, null, null, null, null, null, null, null, null, null, null, null, null, null, null, null, null, null, null, null, null, null, null, null, null, null, null, null, null, null, null, null, null, null, null, null, null, null, null, null, null, null], [null, null, null, null, null, null, null, null, null, null, null, null, null, null, null, null, null, null, null, null, null, null, null, null, null, null, null, null, null, null, null, null, null, null, null, null, null, null, null, null, null, null, null, null, null, null, 0.93775, null], [null, null, null, null, null, null, null, null, null, null, null, null, null, null, null, null, null, null, null, null, 0.9355, null, null, null, null, null, null, null, null, null, null, null, null, null, null, null, null, null, null, null, null, null, null, null, null, null, null, null], [null, null, null, null, null, null, null, null, null, null, null, null, null, null, null, null, null, null, null, 0.9355, null, null, null, null, null, null, null, null, null, null, null, null, null, null, null, null, null, null, null, null, null, null, null, null, null, null, null, null], [null, null, null, null, null, null, null, null, null, null, null, null, null, null, null, null, null, null, null, null, null, null, null, null, null, null, 0.93475, null, null, null, null, null, null, null, null, null, null, null, null, null, null, null, null, null, null, null, null, null], [null, null, null, null, null, null, null, null, null, null, null, null, null, null, null, null, null, null, null, null, null, null, null, null, null, null, null, null, null, null, null, null, null, null, null, null, null, null, null, null, 0.93625, null, null, null, null, null, null, null], [null, null, null, null, null, null, null, null, null, null, null, null, null, null, null, null, null, null, null, null, null, null, null, 0.934, null, null, null, null, null, null, null, null, null, null, null, null, null, null, null, null, null, null, null, null, null, null, null, null], [null, null, null, null, null, null, null, null, null, null, null, null, null, null, null, null, null, null, null, null, null, null, null, null, null, null, null, null, null, null, null, null, null, null, null, null, 0.93775, null, null, null, null, null, null, null, null, null, null, null], [null, null, null, null, null, null, null, null, null, null, null, null, null, null, null, null, null, null, null, null, null, null, null, null, null, null, null, null, null, null, null, null, null, null, null, null, null, null, null, null, null, null, null, null, 0.93725, null, null, null], [null, null, null, null, null, null, null, null, null, null, null, null, null, null, null, null, null, null, null, null, null, null, null, null, null, null, null, null, null, null, null, null, null, null, null, null, null, null, null, null, null, null, null, null, null, 0.935, null, null], [null, null, null, null, null, null, null, null, null, null, null, null, null, null, null, null, null, null, null, null, null, null, null, null, null, null, null, null, 0.93475, null, null, null, null, null, null, null, null, null, null, null, null, null, null, null, null, null, null, null], [null, null, null, null, null, null, null, null, null, null, null, 0.9345, null, null, null, null, null, null, null, null, null, null, null, null, null, null, null, null, null, null, null, null, null, null, null, null, null, null, null, null, null, null, null, null, null, null, null, null], [null, null, null, null, null, null, null, null, null, null, null, null, null, null, null, null, 0.93375, null, null, null, null, null, null, null, null, null, null, null, null, null, null, null, null, null, null, null, null, null, null, null, null, null, null, null, null, null, null, null], [null, null, null, null, 0.9335, null, null, null, null, null, null, null, null, null, null, null, null, null, null, null, null, null, null, null, null, null, null, null, null, null, null, null, null, null, null, null, null, null, null, null, null, null, null, null, null, null, null, null], [null, null, null, null, null, null, null, null, null, null, null, null, null, null, null, null, null, null, null, null, null, null, null, null, null, null, null, null, null, null, null, null, 0.93625, null, null, null, null, null, null, null, null, null, null, null, null, null, null, null], [null, null, null, null, null, null, null, null, null, 0.9345, null, null, null, null, null, null, null, null, null, null, null, null, null, null, null, null, null, null, null, null, null, null, null, null, null, null, null, null, null, null, null, null, null, null, null, null, null, null], [null, null, null, null, null, null, null, null, null, null, null, null, null, null, null, null, null, null, null, null, null, null, null, null, null, null, null, null, null, null, null, null, null, null, null, null, null, null, null, null, 0.937, null, null, null, null, null, null, null], [null, null, null, null, null, null, null, null, null, null, null, null, null, null, null, null, null, null, null, null, null, null, null, null, null, null, null, null, null, null, null, null, null, null, null, null, null, null, null, null, null, null, null, null, 0.9365, null, null, null], [null, null, null, null, null, null, null, null, null, null, null, null, null, null, null, null, null, null, null, null, null, null, null, null, null, null, null, null, null, null, 0.93575, null, null, null, null, null, null, null, null, null, null, null, null, null, null, null, null, null], [null, null, null, null, null, null, null, null, null, null, null, null, null, null, null, null, null, null, null, null, null, null, null, null, null, null, null, null, null, null, null, null, null, null, null, null, null, null, null, null, null, null, null, null, null, null, null, null]]}, {\"marker\": {\"color\": \"black\", \"line\": {\"color\": \"Grey\", \"width\": 0.5}}, \"mode\": \"markers\", \"showlegend\": false, \"type\": \"scatter\", \"x\": [75, 19, 62, 98, 22, 55, 63, 40, 24, 9, 98, 94, 99, 84, 82, 86, 71, 41, 90, 91, 77, 92, 100, 88, 72, 91, 80, 66, 100, 99, 39, 99, 100, 86, 93, 77, 94, 87, 54, 70, 80, 95, 81, 80, 81, 59, 46, 74, 68, 79, 95, 95, 84, 96, 84, 62, 75, 89, 83, 96, 78, 85, 91, 89, 31, 92, 11, 92, 97, 81, 89, 93, 88, 91, 86, 97, 96, 93, 93, 94, 97, 98, 97, 100, 98, 94, 90, 91, 87, 94, 98, 100, 90, 96, 95, 92, 88, 91, 84, 93], \"xaxis\": \"x3\", \"y\": [0.6247240713084175, 0.759195090518222, 0.4348501673009197, 0.8248435466776274, 0.899465584480253, 0.5100427059120604, 0.6591670111852694, 0.4836963163912251, 0.6736419905302216, 0.708540663048167, 0.9807628179319392, 0.960677975271797, 0.8422233433705593, 0.9983507036605508, 0.8446383804415064, 0.9125594092958378, 0.775690618497564, 0.9178361842790465, 0.8206975572362558, 0.5949474017149876, 0.8170972500642734, 0.7581724747076644, 0.7594072998875797, 0.7302929284103302, 0.768445119552756, 0.5525806341350226, 0.7874214437524669, 0.8808910194331233, 0.7226779700453105, 0.6256175105627158, 0.5864136518187979, 0.6531198005202535, 0.707160735206391, 0.6206540823369198, 0.7468904831376453, 0.6759917253247111, 0.797235866448676, 0.7048223908411229, 0.8588865372089907, 0.6353156437613183, 0.45123122138221866, 0.4056633015111988, 0.41915517137521824, 0.4000774973218806, 0.4293732660534338, 0.4015527763783517, 0.48262801903648145, 0.47123694446547, 0.5229311845645565, 0.44172392506353964, 0.40181832048203064, 0.40066717587619527, 0.4530266136118103, 0.5093727715032971, 0.4549071807361478, 0.42524114368317734, 0.46291374167590627, 0.49609282229327883, 0.41562259652876826, 0.5338831855703494, 0.4328649123947902, 0.44790414151721303, 0.4019269589243799, 0.47842738282353237, 0.40178532006156076, 0.4489030823413096, 0.4543460978506155, 0.4994180641705174, 0.5624720513745817, 0.4163197042642292, 0.42954288072489816, 0.41576471603269877, 0.4365442388228655, 0.4645087968035611, 0.4261400002146887, 0.44997140754015397, 0.4903720770043949, 0.4023581225843636, 0.40115999271583924, 0.4046624758891292, 0.4699954262347528, 0.4008272847079046, 0.40359991362963166, 0.4393756421214726, 0.47177004581482623, 0.41600354348390817, 0.40302388956471835, 0.4327209401878501, 0.4186103202505588, 0.4082176322606516, 0.44150908204429173, 0.42256717819441736, 0.4007845592893188, 0.4612490815645626, 0.44170317706416695, 0.4140155278963291, 0.4703178014612557, 0.4828269210119549, 0.42532467088835624, 0.5130375588724106], \"yaxis\": \"y3\"}, {\"colorbar\": {\"title\": {\"text\": \"Objective Value\"}}, \"colorscale\": [[0, \"rgb(5,10,172)\"], [0.35, \"rgb(40,60,190)\"], [0.5, \"rgb(70,100,245)\"], [0.6, \"rgb(90,120,245)\"], [0.7, \"rgb(106,137,247)\"], [1, \"rgb(220,220,220)\"]], \"connectgaps\": true, \"contours\": {\"coloring\": \"heatmap\"}, \"hoverinfo\": \"none\", \"line\": {\"smoothing\": 1.3}, \"reversescale\": false, \"showscale\": false, \"type\": \"contour\", \"x\": [4.45, 9, 11, 19, 22, 24, 31, 39, 40, 41, 46, 54, 55, 59, 62, 63, 66, 68, 70, 71, 72, 74, 75, 77, 78, 79, 80, 81, 82, 83, 84, 85, 86, 87, 88, 89, 90, 91, 92, 93, 94, 95, 96, 97, 98, 99, 100, 104.55], \"xaxis\": \"x6\", \"y\": [0.7, 1, 2, 3, 4, 5, 6, 7, 7.3], \"yaxis\": \"y6\", \"z\": [[null, null, null, null, null, null, null, null, null, null, null, null, null, null, null, null, null, null, null, null, null, null, null, null, null, null, null, null, null, null, null, null, null, null, null, null, null, null, null, null, null, null, null, null, null, null, null, null], [null, null, null, null, null, null, null, null, null, 0.9345, null, 0.9345, null, null, 0.937, null, null, null, null, null, null, null, null, null, null, null, null, null, null, null, 0.93575, null, 0.93875, null, 0.937, 0.939, null, 0.9385, 0.937, null, 0.93625, null, null, null, 0.9365, 0.935, null, null], [null, null, 0.93125, 0.93225, 0.9335, null, 0.9355, null, null, null, null, null, null, null, null, null, null, null, null, null, null, null, 0.93675, 0.93625, null, null, 0.93925, 0.93775, null, 0.93825, 0.939, 0.9385, 0.93625, null, 0.937, null, 0.93775, 0.939, 0.93925, 0.93975, 0.93875, 0.94, 0.93925, 0.93975, 0.93925, null, 0.9375, null], [null, null, null, null, null, null, null, null, 0.933, null, null, null, 0.93525, 0.93625, null, 0.93475, null, null, 0.93525, null, 0.9355, 0.938, null, null, null, 0.9365, 0.9395, 0.938, null, null, 0.93675, null, null, 0.9375, 0.93725, 0.93825, 0.939, 0.93625, 0.94, 0.9395, null, 0.939, null, 0.93925, null, null, 0.93875, null], [null, null, null, null, null, null, null, null, null, null, 0.93575, null, null, null, null, null, null, 0.93575, null, 0.9355, null, null, null, 0.934, null, null, null, null, 0.93475, null, 0.937, null, null, null, null, null, null, null, null, null, null, null, 0.937, null, null, 0.9365, null, null], [null, 0.93325, null, null, null, null, null, 0.935, null, null, null, null, null, null, null, null, 0.93375, null, null, null, null, null, null, null, 0.938, null, null, null, null, null, null, null, null, null, null, null, null, null, null, null, null, null, null, null, null, null, null, null], [null, null, null, null, null, 0.933, null, null, null, null, null, null, null, null, null, null, null, null, null, null, null, null, null, null, null, null, null, null, null, null, null, null, null, null, null, null, null, null, null, 0.93575, null, null, null, null, null, null, null, null], [null, null, null, null, null, null, null, null, null, null, null, null, null, null, 0.9325, null, null, null, null, null, null, null, 0.9355, null, null, null, null, null, null, null, null, null, 0.9355, null, null, null, null, null, null, null, null, null, null, null, null, null, null, null], [null, null, null, null, null, null, null, null, null, null, null, null, null, null, null, null, null, null, null, null, null, null, null, null, null, null, null, null, null, null, null, null, null, null, null, null, null, null, null, null, null, null, null, null, null, null, null, null]]}, {\"marker\": {\"color\": \"black\", \"line\": {\"color\": \"Grey\", \"width\": 0.5}}, \"mode\": \"markers\", \"showlegend\": false, \"type\": \"scatter\", \"x\": [75, 19, 62, 98, 22, 55, 63, 40, 24, 9, 98, 94, 99, 84, 82, 86, 71, 41, 90, 91, 77, 92, 100, 88, 72, 91, 80, 66, 100, 99, 39, 99, 100, 86, 93, 77, 94, 87, 54, 70, 80, 95, 81, 80, 81, 59, 46, 74, 68, 79, 95, 95, 84, 96, 84, 62, 75, 89, 83, 96, 78, 85, 91, 89, 31, 92, 11, 92, 97, 81, 89, 93, 88, 91, 86, 97, 96, 93, 93, 94, 97, 98, 97, 100, 98, 94, 90, 91, 87, 94, 98, 100, 90, 96, 95, 92, 88, 91, 84, 93], \"xaxis\": \"x6\", \"y\": [7, 2, 7, 1, 2, 3, 3, 3, 6, 5, 1, 1, 1, 1, 4, 2, 4, 1, 2, 2, 4, 1, 2, 2, 3, 2, 3, 5, 2, 4, 5, 4, 2, 7, 6, 2, 1, 3, 1, 3, 2, 2, 2, 3, 3, 3, 4, 3, 4, 3, 2, 2, 2, 2, 3, 1, 2, 3, 2, 4, 5, 2, 2, 1, 2, 2, 2, 1, 3, 2, 1, 2, 1, 1, 1, 2, 2, 2, 2, 2, 3, 2, 3, 3, 2, 2, 3, 2, 3, 2, 2, 3, 3, 2, 3, 3, 3, 3, 4, 3], \"yaxis\": \"y6\"}, {\"type\": \"scatter\", \"xaxis\": \"x9\", \"yaxis\": \"y9\"}],\n",
              "                        {\"template\": {\"data\": {\"bar\": [{\"error_x\": {\"color\": \"#2a3f5f\"}, \"error_y\": {\"color\": \"#2a3f5f\"}, \"marker\": {\"line\": {\"color\": \"#E5ECF6\", \"width\": 0.5}}, \"type\": \"bar\"}], \"barpolar\": [{\"marker\": {\"line\": {\"color\": \"#E5ECF6\", \"width\": 0.5}}, \"type\": \"barpolar\"}], \"carpet\": [{\"aaxis\": {\"endlinecolor\": \"#2a3f5f\", \"gridcolor\": \"white\", \"linecolor\": \"white\", \"minorgridcolor\": \"white\", \"startlinecolor\": \"#2a3f5f\"}, \"baxis\": {\"endlinecolor\": \"#2a3f5f\", \"gridcolor\": \"white\", \"linecolor\": \"white\", \"minorgridcolor\": \"white\", \"startlinecolor\": \"#2a3f5f\"}, \"type\": \"carpet\"}], \"choropleth\": [{\"colorbar\": {\"outlinewidth\": 0, \"ticks\": \"\"}, \"type\": \"choropleth\"}], \"contour\": [{\"colorbar\": {\"outlinewidth\": 0, \"ticks\": \"\"}, \"colorscale\": [[0.0, \"#0d0887\"], [0.1111111111111111, \"#46039f\"], [0.2222222222222222, \"#7201a8\"], [0.3333333333333333, \"#9c179e\"], [0.4444444444444444, \"#bd3786\"], [0.5555555555555556, \"#d8576b\"], [0.6666666666666666, \"#ed7953\"], [0.7777777777777778, \"#fb9f3a\"], [0.8888888888888888, \"#fdca26\"], [1.0, \"#f0f921\"]], \"type\": \"contour\"}], \"contourcarpet\": [{\"colorbar\": {\"outlinewidth\": 0, \"ticks\": \"\"}, \"type\": \"contourcarpet\"}], \"heatmap\": [{\"colorbar\": {\"outlinewidth\": 0, \"ticks\": \"\"}, \"colorscale\": [[0.0, \"#0d0887\"], [0.1111111111111111, \"#46039f\"], [0.2222222222222222, \"#7201a8\"], [0.3333333333333333, \"#9c179e\"], [0.4444444444444444, \"#bd3786\"], [0.5555555555555556, \"#d8576b\"], [0.6666666666666666, \"#ed7953\"], [0.7777777777777778, \"#fb9f3a\"], [0.8888888888888888, \"#fdca26\"], [1.0, \"#f0f921\"]], \"type\": \"heatmap\"}], \"heatmapgl\": [{\"colorbar\": {\"outlinewidth\": 0, \"ticks\": \"\"}, \"colorscale\": [[0.0, \"#0d0887\"], [0.1111111111111111, \"#46039f\"], [0.2222222222222222, \"#7201a8\"], [0.3333333333333333, \"#9c179e\"], [0.4444444444444444, \"#bd3786\"], [0.5555555555555556, \"#d8576b\"], [0.6666666666666666, \"#ed7953\"], [0.7777777777777778, \"#fb9f3a\"], [0.8888888888888888, \"#fdca26\"], [1.0, \"#f0f921\"]], \"type\": \"heatmapgl\"}], \"histogram\": [{\"marker\": {\"colorbar\": {\"outlinewidth\": 0, \"ticks\": \"\"}}, \"type\": \"histogram\"}], \"histogram2d\": [{\"colorbar\": {\"outlinewidth\": 0, \"ticks\": \"\"}, \"colorscale\": [[0.0, \"#0d0887\"], [0.1111111111111111, \"#46039f\"], [0.2222222222222222, \"#7201a8\"], [0.3333333333333333, \"#9c179e\"], [0.4444444444444444, \"#bd3786\"], [0.5555555555555556, \"#d8576b\"], [0.6666666666666666, \"#ed7953\"], [0.7777777777777778, \"#fb9f3a\"], [0.8888888888888888, \"#fdca26\"], [1.0, \"#f0f921\"]], \"type\": \"histogram2d\"}], \"histogram2dcontour\": [{\"colorbar\": {\"outlinewidth\": 0, \"ticks\": \"\"}, \"colorscale\": [[0.0, \"#0d0887\"], [0.1111111111111111, \"#46039f\"], [0.2222222222222222, \"#7201a8\"], [0.3333333333333333, \"#9c179e\"], [0.4444444444444444, \"#bd3786\"], [0.5555555555555556, \"#d8576b\"], [0.6666666666666666, \"#ed7953\"], [0.7777777777777778, \"#fb9f3a\"], [0.8888888888888888, \"#fdca26\"], [1.0, \"#f0f921\"]], \"type\": \"histogram2dcontour\"}], \"mesh3d\": [{\"colorbar\": {\"outlinewidth\": 0, \"ticks\": \"\"}, \"type\": \"mesh3d\"}], \"parcoords\": [{\"line\": {\"colorbar\": {\"outlinewidth\": 0, \"ticks\": \"\"}}, \"type\": \"parcoords\"}], \"pie\": [{\"automargin\": true, \"type\": \"pie\"}], \"scatter\": [{\"marker\": {\"colorbar\": {\"outlinewidth\": 0, \"ticks\": \"\"}}, \"type\": \"scatter\"}], \"scatter3d\": [{\"line\": {\"colorbar\": {\"outlinewidth\": 0, \"ticks\": \"\"}}, \"marker\": {\"colorbar\": {\"outlinewidth\": 0, \"ticks\": \"\"}}, \"type\": \"scatter3d\"}], \"scattercarpet\": [{\"marker\": {\"colorbar\": {\"outlinewidth\": 0, \"ticks\": \"\"}}, \"type\": \"scattercarpet\"}], \"scattergeo\": [{\"marker\": {\"colorbar\": {\"outlinewidth\": 0, \"ticks\": \"\"}}, \"type\": \"scattergeo\"}], \"scattergl\": [{\"marker\": {\"colorbar\": {\"outlinewidth\": 0, \"ticks\": \"\"}}, \"type\": \"scattergl\"}], \"scattermapbox\": [{\"marker\": {\"colorbar\": {\"outlinewidth\": 0, \"ticks\": \"\"}}, \"type\": \"scattermapbox\"}], \"scatterpolar\": [{\"marker\": {\"colorbar\": {\"outlinewidth\": 0, \"ticks\": \"\"}}, \"type\": \"scatterpolar\"}], \"scatterpolargl\": [{\"marker\": {\"colorbar\": {\"outlinewidth\": 0, \"ticks\": \"\"}}, \"type\": \"scatterpolargl\"}], \"scatterternary\": [{\"marker\": {\"colorbar\": {\"outlinewidth\": 0, \"ticks\": \"\"}}, \"type\": \"scatterternary\"}], \"surface\": [{\"colorbar\": {\"outlinewidth\": 0, \"ticks\": \"\"}, \"colorscale\": [[0.0, \"#0d0887\"], [0.1111111111111111, \"#46039f\"], [0.2222222222222222, \"#7201a8\"], [0.3333333333333333, \"#9c179e\"], [0.4444444444444444, \"#bd3786\"], [0.5555555555555556, \"#d8576b\"], [0.6666666666666666, \"#ed7953\"], [0.7777777777777778, \"#fb9f3a\"], [0.8888888888888888, \"#fdca26\"], [1.0, \"#f0f921\"]], \"type\": \"surface\"}], \"table\": [{\"cells\": {\"fill\": {\"color\": \"#EBF0F8\"}, \"line\": {\"color\": \"white\"}}, \"header\": {\"fill\": {\"color\": \"#C8D4E3\"}, \"line\": {\"color\": \"white\"}}, \"type\": \"table\"}]}, \"layout\": {\"annotationdefaults\": {\"arrowcolor\": \"#2a3f5f\", \"arrowhead\": 0, \"arrowwidth\": 1}, \"coloraxis\": {\"colorbar\": {\"outlinewidth\": 0, \"ticks\": \"\"}}, \"colorscale\": {\"diverging\": [[0, \"#8e0152\"], [0.1, \"#c51b7d\"], [0.2, \"#de77ae\"], [0.3, \"#f1b6da\"], [0.4, \"#fde0ef\"], [0.5, \"#f7f7f7\"], [0.6, \"#e6f5d0\"], [0.7, \"#b8e186\"], [0.8, \"#7fbc41\"], [0.9, \"#4d9221\"], [1, \"#276419\"]], \"sequential\": [[0.0, \"#0d0887\"], [0.1111111111111111, \"#46039f\"], [0.2222222222222222, \"#7201a8\"], [0.3333333333333333, \"#9c179e\"], [0.4444444444444444, \"#bd3786\"], [0.5555555555555556, \"#d8576b\"], [0.6666666666666666, \"#ed7953\"], [0.7777777777777778, \"#fb9f3a\"], [0.8888888888888888, \"#fdca26\"], [1.0, \"#f0f921\"]], \"sequentialminus\": [[0.0, \"#0d0887\"], [0.1111111111111111, \"#46039f\"], [0.2222222222222222, \"#7201a8\"], [0.3333333333333333, \"#9c179e\"], [0.4444444444444444, \"#bd3786\"], [0.5555555555555556, \"#d8576b\"], [0.6666666666666666, \"#ed7953\"], [0.7777777777777778, \"#fb9f3a\"], [0.8888888888888888, \"#fdca26\"], [1.0, \"#f0f921\"]]}, \"colorway\": [\"#636efa\", \"#EF553B\", \"#00cc96\", \"#ab63fa\", \"#FFA15A\", \"#19d3f3\", \"#FF6692\", \"#B6E880\", \"#FF97FF\", \"#FECB52\"], \"font\": {\"color\": \"#2a3f5f\"}, \"geo\": {\"bgcolor\": \"white\", \"lakecolor\": \"white\", \"landcolor\": \"#E5ECF6\", \"showlakes\": true, \"showland\": true, \"subunitcolor\": \"white\"}, \"hoverlabel\": {\"align\": \"left\"}, \"hovermode\": \"closest\", \"mapbox\": {\"style\": \"light\"}, \"paper_bgcolor\": \"white\", \"plot_bgcolor\": \"#E5ECF6\", \"polar\": {\"angularaxis\": {\"gridcolor\": \"white\", \"linecolor\": \"white\", \"ticks\": \"\"}, \"bgcolor\": \"#E5ECF6\", \"radialaxis\": {\"gridcolor\": \"white\", \"linecolor\": \"white\", \"ticks\": \"\"}}, \"scene\": {\"xaxis\": {\"backgroundcolor\": \"#E5ECF6\", \"gridcolor\": \"white\", \"gridwidth\": 2, \"linecolor\": \"white\", \"showbackground\": true, \"ticks\": \"\", \"zerolinecolor\": \"white\"}, \"yaxis\": {\"backgroundcolor\": \"#E5ECF6\", \"gridcolor\": \"white\", \"gridwidth\": 2, \"linecolor\": \"white\", \"showbackground\": true, \"ticks\": \"\", \"zerolinecolor\": \"white\"}, \"zaxis\": {\"backgroundcolor\": \"#E5ECF6\", \"gridcolor\": \"white\", \"gridwidth\": 2, \"linecolor\": \"white\", \"showbackground\": true, \"ticks\": \"\", \"zerolinecolor\": \"white\"}}, \"shapedefaults\": {\"line\": {\"color\": \"#2a3f5f\"}}, \"ternary\": {\"aaxis\": {\"gridcolor\": \"white\", \"linecolor\": \"white\", \"ticks\": \"\"}, \"baxis\": {\"gridcolor\": \"white\", \"linecolor\": \"white\", \"ticks\": \"\"}, \"bgcolor\": \"#E5ECF6\", \"caxis\": {\"gridcolor\": \"white\", \"linecolor\": \"white\", \"ticks\": \"\"}}, \"title\": {\"x\": 0.05}, \"xaxis\": {\"automargin\": true, \"gridcolor\": \"white\", \"linecolor\": \"white\", \"ticks\": \"\", \"title\": {\"standoff\": 15}, \"zerolinecolor\": \"white\", \"zerolinewidth\": 2}, \"yaxis\": {\"automargin\": true, \"gridcolor\": \"white\", \"linecolor\": \"white\", \"ticks\": \"\", \"title\": {\"standoff\": 15}, \"zerolinecolor\": \"white\", \"zerolinewidth\": 2}}}, \"title\": {\"text\": \"Contour Plot\"}, \"xaxis\": {\"anchor\": \"y\", \"domain\": [0.0, 0.2888888888888889], \"matches\": \"x7\", \"range\": [0.3701638370049471, 1.0282643639774842], \"showticklabels\": false}, \"xaxis2\": {\"anchor\": \"y2\", \"domain\": [0.35555555555555557, 0.6444444444444445], \"matches\": \"x8\", \"range\": [0.7, 7.3], \"showticklabels\": false}, \"xaxis3\": {\"anchor\": \"y3\", \"domain\": [0.7111111111111111, 1.0], \"matches\": \"x9\", \"range\": [4.45, 104.55], \"showticklabels\": false}, \"xaxis4\": {\"anchor\": \"y4\", \"domain\": [0.0, 0.2888888888888889], \"matches\": \"x7\", \"range\": [0.3701638370049471, 1.0282643639774842], \"showticklabels\": false}, \"xaxis5\": {\"anchor\": \"y5\", \"domain\": [0.35555555555555557, 0.6444444444444445], \"matches\": \"x8\", \"range\": [0.7, 7.3], \"showticklabels\": false}, \"xaxis6\": {\"anchor\": \"y6\", \"domain\": [0.7111111111111111, 1.0], \"matches\": \"x9\", \"range\": [4.45, 104.55], \"showticklabels\": false}, \"xaxis7\": {\"anchor\": \"y7\", \"domain\": [0.0, 0.2888888888888889], \"range\": [0.3701638370049471, 1.0282643639774842], \"title\": {\"text\": \"bagging_fraction\"}}, \"xaxis8\": {\"anchor\": \"y8\", \"domain\": [0.35555555555555557, 0.6444444444444445], \"range\": [0.7, 7.3], \"title\": {\"text\": \"bagging_freq\"}}, \"xaxis9\": {\"anchor\": \"y9\", \"domain\": [0.7111111111111111, 1.0], \"range\": [4.45, 104.55], \"title\": {\"text\": \"min_child_samples\"}}, \"yaxis\": {\"anchor\": \"x\", \"domain\": [0.7333333333333333, 1.0], \"range\": [0.3701638370049471, 1.0282643639774842], \"title\": {\"text\": \"bagging_fraction\"}}, \"yaxis2\": {\"anchor\": \"x2\", \"domain\": [0.7333333333333333, 1.0], \"matches\": \"y\", \"range\": [0.3701638370049471, 1.0282643639774842], \"showticklabels\": false}, \"yaxis3\": {\"anchor\": \"x3\", \"domain\": [0.7333333333333333, 1.0], \"matches\": \"y\", \"range\": [0.3701638370049471, 1.0282643639774842], \"showticklabels\": false}, \"yaxis4\": {\"anchor\": \"x4\", \"domain\": [0.36666666666666664, 0.6333333333333333], \"range\": [0.7, 7.3], \"title\": {\"text\": \"bagging_freq\"}}, \"yaxis5\": {\"anchor\": \"x5\", \"domain\": [0.36666666666666664, 0.6333333333333333], \"matches\": \"y4\", \"range\": [0.7, 7.3], \"showticklabels\": false}, \"yaxis6\": {\"anchor\": \"x6\", \"domain\": [0.36666666666666664, 0.6333333333333333], \"matches\": \"y4\", \"range\": [0.7, 7.3], \"showticklabels\": false}, \"yaxis7\": {\"anchor\": \"x7\", \"domain\": [0.0, 0.26666666666666666], \"range\": [4.45, 104.55], \"title\": {\"text\": \"min_child_samples\"}}, \"yaxis8\": {\"anchor\": \"x8\", \"domain\": [0.0, 0.26666666666666666], \"matches\": \"y7\", \"range\": [4.45, 104.55], \"showticklabels\": false}, \"yaxis9\": {\"anchor\": \"x9\", \"domain\": [0.0, 0.26666666666666666], \"matches\": \"y7\", \"range\": [4.45, 104.55], \"showticklabels\": false}},\n",
              "                        {\"responsive\": true}\n",
              "                    ).then(function(){\n",
              "                            \n",
              "var gd = document.getElementById('b93a6f5b-1467-4b50-abee-5c4fd4dd8840');\n",
              "var x = new MutationObserver(function (mutations, observer) {{\n",
              "        var display = window.getComputedStyle(gd).display;\n",
              "        if (!display || display === 'none') {{\n",
              "            console.log([gd, 'removed!']);\n",
              "            Plotly.purge(gd);\n",
              "            observer.disconnect();\n",
              "        }}\n",
              "}});\n",
              "\n",
              "// Listen for the removal of the full notebook cells\n",
              "var notebookContainer = gd.closest('#notebook-container');\n",
              "if (notebookContainer) {{\n",
              "    x.observe(notebookContainer, {childList: true});\n",
              "}}\n",
              "\n",
              "// Listen for the clearing of the current output cell\n",
              "var outputEl = gd.closest('.output');\n",
              "if (outputEl) {{\n",
              "    x.observe(outputEl, {childList: true});\n",
              "}}\n",
              "\n",
              "                        })\n",
              "                };\n",
              "                \n",
              "            </script>\n",
              "        </div>\n",
              "</body>\n",
              "</html>"
            ]
          },
          "metadata": {
            "tags": []
          }
        }
      ]
    },
    {
      "cell_type": "code",
      "metadata": {
        "id": "n1mM9jMQV0Ru",
        "colab": {
          "base_uri": "https://localhost:8080/",
          "height": 542
        },
        "outputId": "52222521-51a1-4b52-a708-3fbc8ab581a3"
      },
      "source": [
        "plot_contour(study, params=[\"bagging_freq\", \"bagging_fraction\"])\n"
      ],
      "execution_count": null,
      "outputs": [
        {
          "output_type": "display_data",
          "data": {
            "text/html": [
              "<html>\n",
              "<head><meta charset=\"utf-8\" /></head>\n",
              "<body>\n",
              "    <div>\n",
              "            <script src=\"https://cdnjs.cloudflare.com/ajax/libs/mathjax/2.7.5/MathJax.js?config=TeX-AMS-MML_SVG\"></script><script type=\"text/javascript\">if (window.MathJax) {MathJax.Hub.Config({SVG: {font: \"STIX-Web\"}});}</script>\n",
              "                <script type=\"text/javascript\">window.PlotlyConfig = {MathJaxConfig: 'local'};</script>\n",
              "        <script src=\"https://cdn.plot.ly/plotly-latest.min.js\"></script>    \n",
              "            <div id=\"12124cbb-29b3-418d-bd48-131d3db18930\" class=\"plotly-graph-div\" style=\"height:525px; width:100%;\"></div>\n",
              "            <script type=\"text/javascript\">\n",
              "                \n",
              "                    window.PLOTLYENV=window.PLOTLYENV || {};\n",
              "                    \n",
              "                if (document.getElementById(\"12124cbb-29b3-418d-bd48-131d3db18930\")) {\n",
              "                    Plotly.newPlot(\n",
              "                        '12124cbb-29b3-418d-bd48-131d3db18930',\n",
              "                        [{\"colorbar\": {\"title\": {\"text\": \"Objective Value\"}}, \"colorscale\": [[0, \"rgb(5,10,172)\"], [0.35, \"rgb(40,60,190)\"], [0.5, \"rgb(70,100,245)\"], [0.6, \"rgb(90,120,245)\"], [0.7, \"rgb(106,137,247)\"], [1, \"rgb(220,220,220)\"]], \"connectgaps\": true, \"contours\": {\"coloring\": \"heatmap\"}, \"hoverinfo\": \"none\", \"line\": {\"smoothing\": 1.3}, \"reversescale\": false, \"type\": \"contour\", \"x\": [0.3701638370049471, 0.4000774973218806, 0.40066717587619527, 0.4007845592893188, 0.4008272847079046, 0.40115999271583924, 0.4015527763783517, 0.40178532006156076, 0.40181832048203064, 0.4019269589243799, 0.4023581225843636, 0.40302388956471835, 0.40359991362963166, 0.4046624758891292, 0.4056633015111988, 0.4082176322606516, 0.4140155278963291, 0.41562259652876826, 0.41576471603269877, 0.41600354348390817, 0.4163197042642292, 0.4186103202505588, 0.41915517137521824, 0.42256717819441736, 0.42524114368317734, 0.42532467088835624, 0.4261400002146887, 0.4293732660534338, 0.42954288072489816, 0.4327209401878501, 0.4328649123947902, 0.4348501673009197, 0.4365442388228655, 0.4393756421214726, 0.44150908204429173, 0.44170317706416695, 0.44172392506353964, 0.44790414151721303, 0.4489030823413096, 0.44997140754015397, 0.45123122138221866, 0.4530266136118103, 0.4543460978506155, 0.4549071807361478, 0.4612490815645626, 0.46291374167590627, 0.4645087968035611, 0.4699954262347528, 0.4703178014612557, 0.47123694446547, 0.47177004581482623, 0.47842738282353237, 0.48262801903648145, 0.4828269210119549, 0.4836963163912251, 0.4903720770043949, 0.49609282229327883, 0.4994180641705174, 0.5093727715032971, 0.5100427059120604, 0.5130375588724106, 0.5229311845645565, 0.5338831855703494, 0.5525806341350226, 0.5624720513745817, 0.5864136518187979, 0.5949474017149876, 0.6206540823369198, 0.6247240713084175, 0.6256175105627158, 0.6353156437613183, 0.6531198005202535, 0.6591670111852694, 0.6736419905302216, 0.6759917253247111, 0.7048223908411229, 0.707160735206391, 0.708540663048167, 0.7226779700453105, 0.7302929284103302, 0.7468904831376453, 0.7581724747076644, 0.759195090518222, 0.7594072998875797, 0.768445119552756, 0.775690618497564, 0.7874214437524669, 0.797235866448676, 0.8170972500642734, 0.8206975572362558, 0.8248435466776274, 0.8422233433705593, 0.8446383804415064, 0.8588865372089907, 0.8808910194331233, 0.899465584480253, 0.9125594092958378, 0.9178361842790465, 0.960677975271797, 0.9807628179319392, 0.9983507036605508, 1.0282643639774842], \"y\": [0.7, 1, 2, 3, 4, 5, 6, 7, 7.3], \"z\": [[null, null, null, null, null, null, null, null, null, null, null, null, null, null, null, null, null, null, null, null, null, null, null, null, null, null, null, null, null, null, null, null, null, null, null, null, null, null, null, null, null, null, null, null, null, null, null, null, null, null, null, null, null, null, null, null, null, null, null, null, null, null, null, null, null, null, null, null, null, null, null, null, null, null, null, null, null, null, null, null, null, null, null, null, null, null, null, null, null, null, null, null, null, null, null, null, null, null, null, null, null, null], [null, null, null, null, null, null, null, null, null, null, null, null, null, null, null, null, null, null, null, null, null, null, null, null, 0.937, null, 0.93875, null, 0.939, null, null, null, 0.937, null, null, null, null, null, null, null, null, null, null, null, null, null, 0.9385, null, null, null, null, 0.93875, null, null, null, null, null, 0.937, null, null, null, null, null, null, null, null, null, null, null, null, null, null, null, null, null, null, null, null, null, null, null, 0.9375, null, null, null, null, null, 0.93625, null, null, 0.93725, 0.935, null, 0.9345, null, null, null, 0.9345, 0.937, 0.9365, 0.93575, null], [null, null, 0.94, null, 0.9395, 0.93975, null, 0.9355, 0.9395, 0.94, 0.94, null, null, 0.93725, 0.93875, 0.93875, null, 0.93825, 0.93875, 0.93925, 0.93775, null, 0.939, null, null, null, null, null, null, 0.939, null, null, null, null, 0.93925, null, null, 0.9385, 0.93925, 0.93975, 0.93925, 0.939, 0.93125, null, 0.93925, 0.93675, null, null, null, null, 0.9385, null, null, null, null, 0.93875, null, null, 0.93875, null, null, null, null, 0.93575, null, null, 0.9365, null, null, null, null, null, null, null, 0.93625, null, 0.9375, null, 0.9375, 0.937, null, null, 0.93225, 0.93775, null, null, null, null, null, 0.93775, null, null, null, null, null, 0.9335, 0.93625, null, null, null, null, null], [null, 0.9395, null, 0.939, null, null, 0.93625, null, null, null, null, 0.94025, 0.93925, null, null, null, 0.94, null, null, null, null, 0.9375, null, 0.93875, null, null, null, 0.938, null, null, null, null, null, 0.93875, null, 0.939, 0.9365, null, null, null, null, null, null, 0.93675, null, null, null, 0.9395, 0.93725, 0.938, null, null, null, 0.93625, 0.933, null, 0.93825, null, null, 0.93525, 0.9395, null, null, null, 0.938, null, null, null, null, null, 0.93525, null, 0.93475, null, null, 0.93575, null, null, null, null, null, null, null, null, 0.9355, null, 0.93475, null, null, null, null, null, null, null, null, null, null, null, null, null, null, null], [null, null, null, null, null, null, null, null, null, null, null, null, null, null, null, null, null, null, null, null, null, null, null, null, null, 0.937, null, null, null, null, null, null, null, null, null, null, null, null, null, null, null, null, null, null, null, null, null, null, null, null, null, null, 0.93575, null, null, null, null, null, null, null, null, 0.93575, 0.937, null, null, null, null, null, null, 0.939, null, 0.9365, null, null, null, null, null, null, null, null, null, null, null, null, null, 0.9355, null, null, 0.934, null, null, null, 0.93475, null, null, null, null, null, null, null, null, null], [null, null, null, null, null, null, null, null, null, null, null, null, null, null, null, null, null, null, null, null, null, null, null, null, null, null, null, null, null, null, 0.938, null, null, null, null, null, null, null, null, null, null, null, null, null, null, null, null, null, null, null, null, null, null, null, null, null, null, null, null, null, null, null, null, null, null, 0.935, null, null, null, null, null, null, null, null, null, null, null, 0.93325, null, null, null, null, null, null, null, null, null, null, null, null, null, null, null, null, 0.93375, null, null, null, null, null, null, null], [null, null, null, null, null, null, null, null, null, null, null, null, null, null, null, null, null, null, null, null, null, null, null, null, null, null, null, null, null, null, null, null, null, null, null, null, null, null, null, null, null, null, null, null, null, null, null, null, null, null, null, null, null, null, null, null, null, null, null, null, null, null, null, null, null, null, null, null, null, null, null, null, null, 0.933, null, null, null, null, null, null, 0.93575, null, null, null, null, null, null, null, null, null, null, null, null, null, null, null, null, null, null, null, null, null], [null, null, null, null, null, null, null, null, null, null, null, null, null, null, null, null, null, null, null, null, null, null, null, null, null, null, null, null, null, null, null, 0.9325, null, null, null, null, null, null, null, null, null, null, null, null, null, null, null, null, null, null, null, null, null, null, null, null, null, null, null, null, null, null, null, null, null, null, null, 0.9355, 0.9355, null, null, null, null, null, null, null, null, null, null, null, null, null, null, null, null, null, null, null, null, null, null, null, null, null, null, null, null, null, null, null, null, null], [null, null, null, null, null, null, null, null, null, null, null, null, null, null, null, null, null, null, null, null, null, null, null, null, null, null, null, null, null, null, null, null, null, null, null, null, null, null, null, null, null, null, null, null, null, null, null, null, null, null, null, null, null, null, null, null, null, null, null, null, null, null, null, null, null, null, null, null, null, null, null, null, null, null, null, null, null, null, null, null, null, null, null, null, null, null, null, null, null, null, null, null, null, null, null, null, null, null, null, null, null, null]]}, {\"marker\": {\"color\": \"black\", \"line\": {\"color\": \"Grey\", \"width\": 0.5}}, \"mode\": \"markers\", \"showlegend\": false, \"type\": \"scatter\", \"x\": [0.6247240713084175, 0.759195090518222, 0.4348501673009197, 0.8248435466776274, 0.899465584480253, 0.5100427059120604, 0.6591670111852694, 0.4836963163912251, 0.6736419905302216, 0.708540663048167, 0.9807628179319392, 0.960677975271797, 0.8422233433705593, 0.9983507036605508, 0.8446383804415064, 0.9125594092958378, 0.775690618497564, 0.9178361842790465, 0.8206975572362558, 0.5949474017149876, 0.8170972500642734, 0.7581724747076644, 0.7594072998875797, 0.7302929284103302, 0.768445119552756, 0.5525806341350226, 0.7874214437524669, 0.8808910194331233, 0.7226779700453105, 0.6256175105627158, 0.5864136518187979, 0.6531198005202535, 0.707160735206391, 0.6206540823369198, 0.7468904831376453, 0.6759917253247111, 0.797235866448676, 0.7048223908411229, 0.8588865372089907, 0.6353156437613183, 0.45123122138221866, 0.4056633015111988, 0.41915517137521824, 0.4000774973218806, 0.4293732660534338, 0.4015527763783517, 0.48262801903648145, 0.47123694446547, 0.5229311845645565, 0.44172392506353964, 0.40181832048203064, 0.40066717587619527, 0.4530266136118103, 0.5093727715032971, 0.4549071807361478, 0.42524114368317734, 0.46291374167590627, 0.49609282229327883, 0.41562259652876826, 0.5338831855703494, 0.4328649123947902, 0.44790414151721303, 0.4019269589243799, 0.47842738282353237, 0.40178532006156076, 0.4489030823413096, 0.4543460978506155, 0.4994180641705174, 0.5624720513745817, 0.4163197042642292, 0.42954288072489816, 0.41576471603269877, 0.4365442388228655, 0.4645087968035611, 0.4261400002146887, 0.44997140754015397, 0.4903720770043949, 0.4023581225843636, 0.40115999271583924, 0.4046624758891292, 0.4699954262347528, 0.4008272847079046, 0.40359991362963166, 0.4393756421214726, 0.47177004581482623, 0.41600354348390817, 0.40302388956471835, 0.4327209401878501, 0.4186103202505588, 0.4082176322606516, 0.44150908204429173, 0.42256717819441736, 0.4007845592893188, 0.4612490815645626, 0.44170317706416695, 0.4140155278963291, 0.4703178014612557, 0.4828269210119549, 0.42532467088835624, 0.5130375588724106], \"y\": [7, 2, 7, 1, 2, 3, 3, 3, 6, 5, 1, 1, 1, 1, 4, 2, 4, 1, 2, 2, 4, 1, 2, 2, 3, 2, 3, 5, 2, 4, 5, 4, 2, 7, 6, 2, 1, 3, 1, 3, 2, 2, 2, 3, 3, 3, 4, 3, 4, 3, 2, 2, 2, 2, 3, 1, 2, 3, 2, 4, 5, 2, 2, 1, 2, 2, 2, 1, 3, 2, 1, 2, 1, 1, 1, 2, 2, 2, 2, 2, 3, 2, 3, 3, 2, 2, 3, 2, 3, 2, 2, 3, 3, 2, 3, 3, 3, 3, 4, 3]}],\n",
              "                        {\"template\": {\"data\": {\"bar\": [{\"error_x\": {\"color\": \"#2a3f5f\"}, \"error_y\": {\"color\": \"#2a3f5f\"}, \"marker\": {\"line\": {\"color\": \"#E5ECF6\", \"width\": 0.5}}, \"type\": \"bar\"}], \"barpolar\": [{\"marker\": {\"line\": {\"color\": \"#E5ECF6\", \"width\": 0.5}}, \"type\": \"barpolar\"}], \"carpet\": [{\"aaxis\": {\"endlinecolor\": \"#2a3f5f\", \"gridcolor\": \"white\", \"linecolor\": \"white\", \"minorgridcolor\": \"white\", \"startlinecolor\": \"#2a3f5f\"}, \"baxis\": {\"endlinecolor\": \"#2a3f5f\", \"gridcolor\": \"white\", \"linecolor\": \"white\", \"minorgridcolor\": \"white\", \"startlinecolor\": \"#2a3f5f\"}, \"type\": \"carpet\"}], \"choropleth\": [{\"colorbar\": {\"outlinewidth\": 0, \"ticks\": \"\"}, \"type\": \"choropleth\"}], \"contour\": [{\"colorbar\": {\"outlinewidth\": 0, \"ticks\": \"\"}, \"colorscale\": [[0.0, \"#0d0887\"], [0.1111111111111111, \"#46039f\"], [0.2222222222222222, \"#7201a8\"], [0.3333333333333333, \"#9c179e\"], [0.4444444444444444, \"#bd3786\"], [0.5555555555555556, \"#d8576b\"], [0.6666666666666666, \"#ed7953\"], [0.7777777777777778, \"#fb9f3a\"], [0.8888888888888888, \"#fdca26\"], [1.0, \"#f0f921\"]], \"type\": \"contour\"}], \"contourcarpet\": [{\"colorbar\": {\"outlinewidth\": 0, \"ticks\": \"\"}, \"type\": \"contourcarpet\"}], \"heatmap\": [{\"colorbar\": {\"outlinewidth\": 0, \"ticks\": \"\"}, \"colorscale\": [[0.0, \"#0d0887\"], [0.1111111111111111, \"#46039f\"], [0.2222222222222222, \"#7201a8\"], [0.3333333333333333, \"#9c179e\"], [0.4444444444444444, \"#bd3786\"], [0.5555555555555556, \"#d8576b\"], [0.6666666666666666, \"#ed7953\"], [0.7777777777777778, \"#fb9f3a\"], [0.8888888888888888, \"#fdca26\"], [1.0, \"#f0f921\"]], \"type\": \"heatmap\"}], \"heatmapgl\": [{\"colorbar\": {\"outlinewidth\": 0, \"ticks\": \"\"}, \"colorscale\": [[0.0, \"#0d0887\"], [0.1111111111111111, \"#46039f\"], [0.2222222222222222, \"#7201a8\"], [0.3333333333333333, \"#9c179e\"], [0.4444444444444444, \"#bd3786\"], [0.5555555555555556, \"#d8576b\"], [0.6666666666666666, \"#ed7953\"], [0.7777777777777778, \"#fb9f3a\"], [0.8888888888888888, \"#fdca26\"], [1.0, \"#f0f921\"]], \"type\": \"heatmapgl\"}], \"histogram\": [{\"marker\": {\"colorbar\": {\"outlinewidth\": 0, \"ticks\": \"\"}}, \"type\": \"histogram\"}], \"histogram2d\": [{\"colorbar\": {\"outlinewidth\": 0, \"ticks\": \"\"}, \"colorscale\": [[0.0, \"#0d0887\"], [0.1111111111111111, \"#46039f\"], [0.2222222222222222, \"#7201a8\"], [0.3333333333333333, \"#9c179e\"], [0.4444444444444444, \"#bd3786\"], [0.5555555555555556, \"#d8576b\"], [0.6666666666666666, \"#ed7953\"], [0.7777777777777778, \"#fb9f3a\"], [0.8888888888888888, \"#fdca26\"], [1.0, \"#f0f921\"]], \"type\": \"histogram2d\"}], \"histogram2dcontour\": [{\"colorbar\": {\"outlinewidth\": 0, \"ticks\": \"\"}, \"colorscale\": [[0.0, \"#0d0887\"], [0.1111111111111111, \"#46039f\"], [0.2222222222222222, \"#7201a8\"], [0.3333333333333333, \"#9c179e\"], [0.4444444444444444, \"#bd3786\"], [0.5555555555555556, \"#d8576b\"], [0.6666666666666666, \"#ed7953\"], [0.7777777777777778, \"#fb9f3a\"], [0.8888888888888888, \"#fdca26\"], [1.0, \"#f0f921\"]], \"type\": \"histogram2dcontour\"}], \"mesh3d\": [{\"colorbar\": {\"outlinewidth\": 0, \"ticks\": \"\"}, \"type\": \"mesh3d\"}], \"parcoords\": [{\"line\": {\"colorbar\": {\"outlinewidth\": 0, \"ticks\": \"\"}}, \"type\": \"parcoords\"}], \"pie\": [{\"automargin\": true, \"type\": \"pie\"}], \"scatter\": [{\"marker\": {\"colorbar\": {\"outlinewidth\": 0, \"ticks\": \"\"}}, \"type\": \"scatter\"}], \"scatter3d\": [{\"line\": {\"colorbar\": {\"outlinewidth\": 0, \"ticks\": \"\"}}, \"marker\": {\"colorbar\": {\"outlinewidth\": 0, \"ticks\": \"\"}}, \"type\": \"scatter3d\"}], \"scattercarpet\": [{\"marker\": {\"colorbar\": {\"outlinewidth\": 0, \"ticks\": \"\"}}, \"type\": \"scattercarpet\"}], \"scattergeo\": [{\"marker\": {\"colorbar\": {\"outlinewidth\": 0, \"ticks\": \"\"}}, \"type\": \"scattergeo\"}], \"scattergl\": [{\"marker\": {\"colorbar\": {\"outlinewidth\": 0, \"ticks\": \"\"}}, \"type\": \"scattergl\"}], \"scattermapbox\": [{\"marker\": {\"colorbar\": {\"outlinewidth\": 0, \"ticks\": \"\"}}, \"type\": \"scattermapbox\"}], \"scatterpolar\": [{\"marker\": {\"colorbar\": {\"outlinewidth\": 0, \"ticks\": \"\"}}, \"type\": \"scatterpolar\"}], \"scatterpolargl\": [{\"marker\": {\"colorbar\": {\"outlinewidth\": 0, \"ticks\": \"\"}}, \"type\": \"scatterpolargl\"}], \"scatterternary\": [{\"marker\": {\"colorbar\": {\"outlinewidth\": 0, \"ticks\": \"\"}}, \"type\": \"scatterternary\"}], \"surface\": [{\"colorbar\": {\"outlinewidth\": 0, \"ticks\": \"\"}, \"colorscale\": [[0.0, \"#0d0887\"], [0.1111111111111111, \"#46039f\"], [0.2222222222222222, \"#7201a8\"], [0.3333333333333333, \"#9c179e\"], [0.4444444444444444, \"#bd3786\"], [0.5555555555555556, \"#d8576b\"], [0.6666666666666666, \"#ed7953\"], [0.7777777777777778, \"#fb9f3a\"], [0.8888888888888888, \"#fdca26\"], [1.0, \"#f0f921\"]], \"type\": \"surface\"}], \"table\": [{\"cells\": {\"fill\": {\"color\": \"#EBF0F8\"}, \"line\": {\"color\": \"white\"}}, \"header\": {\"fill\": {\"color\": \"#C8D4E3\"}, \"line\": {\"color\": \"white\"}}, \"type\": \"table\"}]}, \"layout\": {\"annotationdefaults\": {\"arrowcolor\": \"#2a3f5f\", \"arrowhead\": 0, \"arrowwidth\": 1}, \"coloraxis\": {\"colorbar\": {\"outlinewidth\": 0, \"ticks\": \"\"}}, \"colorscale\": {\"diverging\": [[0, \"#8e0152\"], [0.1, \"#c51b7d\"], [0.2, \"#de77ae\"], [0.3, \"#f1b6da\"], [0.4, \"#fde0ef\"], [0.5, \"#f7f7f7\"], [0.6, \"#e6f5d0\"], [0.7, \"#b8e186\"], [0.8, \"#7fbc41\"], [0.9, \"#4d9221\"], [1, \"#276419\"]], \"sequential\": [[0.0, \"#0d0887\"], [0.1111111111111111, \"#46039f\"], [0.2222222222222222, \"#7201a8\"], [0.3333333333333333, \"#9c179e\"], [0.4444444444444444, \"#bd3786\"], [0.5555555555555556, \"#d8576b\"], [0.6666666666666666, \"#ed7953\"], [0.7777777777777778, \"#fb9f3a\"], [0.8888888888888888, \"#fdca26\"], [1.0, \"#f0f921\"]], \"sequentialminus\": [[0.0, \"#0d0887\"], [0.1111111111111111, \"#46039f\"], [0.2222222222222222, \"#7201a8\"], [0.3333333333333333, \"#9c179e\"], [0.4444444444444444, \"#bd3786\"], [0.5555555555555556, \"#d8576b\"], [0.6666666666666666, \"#ed7953\"], [0.7777777777777778, \"#fb9f3a\"], [0.8888888888888888, \"#fdca26\"], [1.0, \"#f0f921\"]]}, \"colorway\": [\"#636efa\", \"#EF553B\", \"#00cc96\", \"#ab63fa\", \"#FFA15A\", \"#19d3f3\", \"#FF6692\", \"#B6E880\", \"#FF97FF\", \"#FECB52\"], \"font\": {\"color\": \"#2a3f5f\"}, \"geo\": {\"bgcolor\": \"white\", \"lakecolor\": \"white\", \"landcolor\": \"#E5ECF6\", \"showlakes\": true, \"showland\": true, \"subunitcolor\": \"white\"}, \"hoverlabel\": {\"align\": \"left\"}, \"hovermode\": \"closest\", \"mapbox\": {\"style\": \"light\"}, \"paper_bgcolor\": \"white\", \"plot_bgcolor\": \"#E5ECF6\", \"polar\": {\"angularaxis\": {\"gridcolor\": \"white\", \"linecolor\": \"white\", \"ticks\": \"\"}, \"bgcolor\": \"#E5ECF6\", \"radialaxis\": {\"gridcolor\": \"white\", \"linecolor\": \"white\", \"ticks\": \"\"}}, \"scene\": {\"xaxis\": {\"backgroundcolor\": \"#E5ECF6\", \"gridcolor\": \"white\", \"gridwidth\": 2, \"linecolor\": \"white\", \"showbackground\": true, \"ticks\": \"\", \"zerolinecolor\": \"white\"}, \"yaxis\": {\"backgroundcolor\": \"#E5ECF6\", \"gridcolor\": \"white\", \"gridwidth\": 2, \"linecolor\": \"white\", \"showbackground\": true, \"ticks\": \"\", \"zerolinecolor\": \"white\"}, \"zaxis\": {\"backgroundcolor\": \"#E5ECF6\", \"gridcolor\": \"white\", \"gridwidth\": 2, \"linecolor\": \"white\", \"showbackground\": true, \"ticks\": \"\", \"zerolinecolor\": \"white\"}}, \"shapedefaults\": {\"line\": {\"color\": \"#2a3f5f\"}}, \"ternary\": {\"aaxis\": {\"gridcolor\": \"white\", \"linecolor\": \"white\", \"ticks\": \"\"}, \"baxis\": {\"gridcolor\": \"white\", \"linecolor\": \"white\", \"ticks\": \"\"}, \"bgcolor\": \"#E5ECF6\", \"caxis\": {\"gridcolor\": \"white\", \"linecolor\": \"white\", \"ticks\": \"\"}}, \"title\": {\"x\": 0.05}, \"xaxis\": {\"automargin\": true, \"gridcolor\": \"white\", \"linecolor\": \"white\", \"ticks\": \"\", \"title\": {\"standoff\": 15}, \"zerolinecolor\": \"white\", \"zerolinewidth\": 2}, \"yaxis\": {\"automargin\": true, \"gridcolor\": \"white\", \"linecolor\": \"white\", \"ticks\": \"\", \"title\": {\"standoff\": 15}, \"zerolinecolor\": \"white\", \"zerolinewidth\": 2}}}, \"title\": {\"text\": \"Contour Plot\"}, \"xaxis\": {\"range\": [0.3701638370049471, 1.0282643639774842], \"title\": {\"text\": \"bagging_fraction\"}}, \"yaxis\": {\"range\": [0.7, 7.3], \"title\": {\"text\": \"bagging_freq\"}}},\n",
              "                        {\"responsive\": true}\n",
              "                    ).then(function(){\n",
              "                            \n",
              "var gd = document.getElementById('12124cbb-29b3-418d-bd48-131d3db18930');\n",
              "var x = new MutationObserver(function (mutations, observer) {{\n",
              "        var display = window.getComputedStyle(gd).display;\n",
              "        if (!display || display === 'none') {{\n",
              "            console.log([gd, 'removed!']);\n",
              "            Plotly.purge(gd);\n",
              "            observer.disconnect();\n",
              "        }}\n",
              "}});\n",
              "\n",
              "// Listen for the removal of the full notebook cells\n",
              "var notebookContainer = gd.closest('#notebook-container');\n",
              "if (notebookContainer) {{\n",
              "    x.observe(notebookContainer, {childList: true});\n",
              "}}\n",
              "\n",
              "// Listen for the clearing of the current output cell\n",
              "var outputEl = gd.closest('.output');\n",
              "if (outputEl) {{\n",
              "    x.observe(outputEl, {childList: true});\n",
              "}}\n",
              "\n",
              "                        })\n",
              "                };\n",
              "                \n",
              "            </script>\n",
              "        </div>\n",
              "</body>\n",
              "</html>"
            ]
          },
          "metadata": {
            "tags": []
          }
        }
      ]
    },
    {
      "cell_type": "code",
      "metadata": {
        "id": "Xovqe9JeV0Ru",
        "colab": {
          "base_uri": "https://localhost:8080/",
          "height": 542
        },
        "outputId": "5f7d15d8-9ddc-4d72-cbbb-879ce6be24f2"
      },
      "source": [
        "plot_slice(study)\n"
      ],
      "execution_count": null,
      "outputs": [
        {
          "output_type": "display_data",
          "data": {
            "text/html": [
              "<html>\n",
              "<head><meta charset=\"utf-8\" /></head>\n",
              "<body>\n",
              "    <div>\n",
              "            <script src=\"https://cdnjs.cloudflare.com/ajax/libs/mathjax/2.7.5/MathJax.js?config=TeX-AMS-MML_SVG\"></script><script type=\"text/javascript\">if (window.MathJax) {MathJax.Hub.Config({SVG: {font: \"STIX-Web\"}});}</script>\n",
              "                <script type=\"text/javascript\">window.PlotlyConfig = {MathJaxConfig: 'local'};</script>\n",
              "        <script src=\"https://cdn.plot.ly/plotly-latest.min.js\"></script>    \n",
              "            <div id=\"18b7b949-ba78-41ca-b7cc-8380bce590d0\" class=\"plotly-graph-div\" style=\"height:525px; width:100%;\"></div>\n",
              "            <script type=\"text/javascript\">\n",
              "                \n",
              "                    window.PLOTLYENV=window.PLOTLYENV || {};\n",
              "                    \n",
              "                if (document.getElementById(\"18b7b949-ba78-41ca-b7cc-8380bce590d0\")) {\n",
              "                    Plotly.newPlot(\n",
              "                        '18b7b949-ba78-41ca-b7cc-8380bce590d0',\n",
              "                        [{\"marker\": {\"color\": [0, 1, 2, 3, 4, 5, 6, 7, 8, 9, 10, 11, 12, 13, 14, 15, 16, 17, 18, 19, 20, 21, 22, 23, 24, 25, 26, 27, 28, 29, 30, 31, 32, 33, 34, 35, 36, 37, 38, 39, 40, 41, 42, 43, 44, 45, 46, 47, 48, 49, 50, 51, 52, 53, 54, 55, 56, 57, 58, 59, 60, 61, 62, 63, 64, 65, 66, 67, 68, 69, 70, 71, 72, 73, 74, 75, 76, 77, 78, 79, 80, 81, 82, 83, 84, 85, 86, 87, 88, 89, 90, 91, 92, 93, 94, 95, 96, 97, 98, 99], \"colorbar\": {\"title\": {\"text\": \"#Trials\"}, \"x\": 1.0, \"xpad\": 40}, \"colorscale\": [[0.0, \"rgb(247,251,255)\"], [0.125, \"rgb(222,235,247)\"], [0.25, \"rgb(198,219,239)\"], [0.375, \"rgb(158,202,225)\"], [0.5, \"rgb(107,174,214)\"], [0.625, \"rgb(66,146,198)\"], [0.75, \"rgb(33,113,181)\"], [0.875, \"rgb(8,81,156)\"], [1.0, \"rgb(8,48,107)\"]], \"line\": {\"color\": \"Grey\", \"width\": 0.5}, \"showscale\": true}, \"mode\": \"markers\", \"showlegend\": false, \"type\": \"scatter\", \"x\": [0.6247240713084175, 0.759195090518222, 0.4348501673009197, 0.8248435466776274, 0.899465584480253, 0.5100427059120604, 0.6591670111852694, 0.4836963163912251, 0.6736419905302216, 0.708540663048167, 0.9807628179319392, 0.960677975271797, 0.8422233433705593, 0.9983507036605508, 0.8446383804415064, 0.9125594092958378, 0.775690618497564, 0.9178361842790465, 0.8206975572362558, 0.5949474017149876, 0.8170972500642734, 0.7581724747076644, 0.7594072998875797, 0.7302929284103302, 0.768445119552756, 0.5525806341350226, 0.7874214437524669, 0.8808910194331233, 0.7226779700453105, 0.6256175105627158, 0.5864136518187979, 0.6531198005202535, 0.707160735206391, 0.6206540823369198, 0.7468904831376453, 0.6759917253247111, 0.797235866448676, 0.7048223908411229, 0.8588865372089907, 0.6353156437613183, 0.45123122138221866, 0.4056633015111988, 0.41915517137521824, 0.4000774973218806, 0.4293732660534338, 0.4015527763783517, 0.48262801903648145, 0.47123694446547, 0.5229311845645565, 0.44172392506353964, 0.40181832048203064, 0.40066717587619527, 0.4530266136118103, 0.5093727715032971, 0.4549071807361478, 0.42524114368317734, 0.46291374167590627, 0.49609282229327883, 0.41562259652876826, 0.5338831855703494, 0.4328649123947902, 0.44790414151721303, 0.4019269589243799, 0.47842738282353237, 0.40178532006156076, 0.4489030823413096, 0.4543460978506155, 0.4994180641705174, 0.5624720513745817, 0.4163197042642292, 0.42954288072489816, 0.41576471603269877, 0.4365442388228655, 0.4645087968035611, 0.4261400002146887, 0.44997140754015397, 0.4903720770043949, 0.4023581225843636, 0.40115999271583924, 0.4046624758891292, 0.4699954262347528, 0.4008272847079046, 0.40359991362963166, 0.4393756421214726, 0.47177004581482623, 0.41600354348390817, 0.40302388956471835, 0.4327209401878501, 0.4186103202505588, 0.4082176322606516, 0.44150908204429173, 0.42256717819441736, 0.4007845592893188, 0.4612490815645626, 0.44170317706416695, 0.4140155278963291, 0.4703178014612557, 0.4828269210119549, 0.42532467088835624, 0.5130375588724106], \"xaxis\": \"x\", \"y\": [0.9355, 0.93225, 0.9325, 0.93725, 0.9335, 0.93525, 0.93475, 0.933, 0.933, 0.93325, 0.9365, 0.937, 0.935, 0.93575, 0.93475, 0.93625, 0.9355, 0.9345, 0.93775, 0.9365, 0.934, 0.9375, 0.93775, 0.937, 0.9355, 0.93575, 0.93475, 0.93375, 0.9375, 0.939, 0.935, 0.9365, 0.9375, 0.9355, 0.93575, 0.93625, 0.93625, 0.93575, 0.9345, 0.93525, 0.93925, 0.93875, 0.939, 0.9395, 0.938, 0.93625, 0.93575, 0.938, 0.93575, 0.9365, 0.9395, 0.94, 0.939, 0.93875, 0.93675, 0.937, 0.93675, 0.93825, 0.93825, 0.937, 0.938, 0.9385, 0.94, 0.93875, 0.9355, 0.93925, 0.93125, 0.937, 0.938, 0.93775, 0.939, 0.93875, 0.937, 0.9385, 0.93875, 0.93975, 0.93875, 0.94, 0.93975, 0.93725, 0.9395, 0.9395, 0.93925, 0.93875, 0.9385, 0.93925, 0.94025, 0.939, 0.9375, 0.93875, 0.93925, 0.93875, 0.939, 0.93925, 0.939, 0.94, 0.93725, 0.93625, 0.937, 0.9395], \"yaxis\": \"y\"}, {\"marker\": {\"color\": [0, 1, 2, 3, 4, 5, 6, 7, 8, 9, 10, 11, 12, 13, 14, 15, 16, 17, 18, 19, 20, 21, 22, 23, 24, 25, 26, 27, 28, 29, 30, 31, 32, 33, 34, 35, 36, 37, 38, 39, 40, 41, 42, 43, 44, 45, 46, 47, 48, 49, 50, 51, 52, 53, 54, 55, 56, 57, 58, 59, 60, 61, 62, 63, 64, 65, 66, 67, 68, 69, 70, 71, 72, 73, 74, 75, 76, 77, 78, 79, 80, 81, 82, 83, 84, 85, 86, 87, 88, 89, 90, 91, 92, 93, 94, 95, 96, 97, 98, 99], \"colorbar\": {\"title\": {\"text\": \"#Trials\"}, \"x\": 1.0, \"xpad\": 40}, \"colorscale\": [[0.0, \"rgb(247,251,255)\"], [0.125, \"rgb(222,235,247)\"], [0.25, \"rgb(198,219,239)\"], [0.375, \"rgb(158,202,225)\"], [0.5, \"rgb(107,174,214)\"], [0.625, \"rgb(66,146,198)\"], [0.75, \"rgb(33,113,181)\"], [0.875, \"rgb(8,81,156)\"], [1.0, \"rgb(8,48,107)\"]], \"line\": {\"color\": \"Grey\", \"width\": 0.5}, \"showscale\": false}, \"mode\": \"markers\", \"showlegend\": false, \"type\": \"scatter\", \"x\": [7, 2, 7, 1, 2, 3, 3, 3, 6, 5, 1, 1, 1, 1, 4, 2, 4, 1, 2, 2, 4, 1, 2, 2, 3, 2, 3, 5, 2, 4, 5, 4, 2, 7, 6, 2, 1, 3, 1, 3, 2, 2, 2, 3, 3, 3, 4, 3, 4, 3, 2, 2, 2, 2, 3, 1, 2, 3, 2, 4, 5, 2, 2, 1, 2, 2, 2, 1, 3, 2, 1, 2, 1, 1, 1, 2, 2, 2, 2, 2, 3, 2, 3, 3, 2, 2, 3, 2, 3, 2, 2, 3, 3, 2, 3, 3, 3, 3, 4, 3], \"xaxis\": \"x2\", \"y\": [0.9355, 0.93225, 0.9325, 0.93725, 0.9335, 0.93525, 0.93475, 0.933, 0.933, 0.93325, 0.9365, 0.937, 0.935, 0.93575, 0.93475, 0.93625, 0.9355, 0.9345, 0.93775, 0.9365, 0.934, 0.9375, 0.93775, 0.937, 0.9355, 0.93575, 0.93475, 0.93375, 0.9375, 0.939, 0.935, 0.9365, 0.9375, 0.9355, 0.93575, 0.93625, 0.93625, 0.93575, 0.9345, 0.93525, 0.93925, 0.93875, 0.939, 0.9395, 0.938, 0.93625, 0.93575, 0.938, 0.93575, 0.9365, 0.9395, 0.94, 0.939, 0.93875, 0.93675, 0.937, 0.93675, 0.93825, 0.93825, 0.937, 0.938, 0.9385, 0.94, 0.93875, 0.9355, 0.93925, 0.93125, 0.937, 0.938, 0.93775, 0.939, 0.93875, 0.937, 0.9385, 0.93875, 0.93975, 0.93875, 0.94, 0.93975, 0.93725, 0.9395, 0.9395, 0.93925, 0.93875, 0.9385, 0.93925, 0.94025, 0.939, 0.9375, 0.93875, 0.93925, 0.93875, 0.939, 0.93925, 0.939, 0.94, 0.93725, 0.93625, 0.937, 0.9395], \"yaxis\": \"y2\"}, {\"marker\": {\"color\": [0, 1, 2, 3, 4, 5, 6, 7, 8, 9, 10, 11, 12, 13, 14, 15, 16, 17, 18, 19, 20, 21, 22, 23, 24, 25, 26, 27, 28, 29, 30, 31, 32, 33, 34, 35, 36, 37, 38, 39, 40, 41, 42, 43, 44, 45, 46, 47, 48, 49, 50, 51, 52, 53, 54, 55, 56, 57, 58, 59, 60, 61, 62, 63, 64, 65, 66, 67, 68, 69, 70, 71, 72, 73, 74, 75, 76, 77, 78, 79, 80, 81, 82, 83, 84, 85, 86, 87, 88, 89, 90, 91, 92, 93, 94, 95, 96, 97, 98, 99], \"colorbar\": {\"title\": {\"text\": \"#Trials\"}, \"x\": 1.0, \"xpad\": 40}, \"colorscale\": [[0.0, \"rgb(247,251,255)\"], [0.125, \"rgb(222,235,247)\"], [0.25, \"rgb(198,219,239)\"], [0.375, \"rgb(158,202,225)\"], [0.5, \"rgb(107,174,214)\"], [0.625, \"rgb(66,146,198)\"], [0.75, \"rgb(33,113,181)\"], [0.875, \"rgb(8,81,156)\"], [1.0, \"rgb(8,48,107)\"]], \"line\": {\"color\": \"Grey\", \"width\": 0.5}, \"showscale\": false}, \"mode\": \"markers\", \"showlegend\": false, \"type\": \"scatter\", \"x\": [75, 19, 62, 98, 22, 55, 63, 40, 24, 9, 98, 94, 99, 84, 82, 86, 71, 41, 90, 91, 77, 92, 100, 88, 72, 91, 80, 66, 100, 99, 39, 99, 100, 86, 93, 77, 94, 87, 54, 70, 80, 95, 81, 80, 81, 59, 46, 74, 68, 79, 95, 95, 84, 96, 84, 62, 75, 89, 83, 96, 78, 85, 91, 89, 31, 92, 11, 92, 97, 81, 89, 93, 88, 91, 86, 97, 96, 93, 93, 94, 97, 98, 97, 100, 98, 94, 90, 91, 87, 94, 98, 100, 90, 96, 95, 92, 88, 91, 84, 93], \"xaxis\": \"x3\", \"y\": [0.9355, 0.93225, 0.9325, 0.93725, 0.9335, 0.93525, 0.93475, 0.933, 0.933, 0.93325, 0.9365, 0.937, 0.935, 0.93575, 0.93475, 0.93625, 0.9355, 0.9345, 0.93775, 0.9365, 0.934, 0.9375, 0.93775, 0.937, 0.9355, 0.93575, 0.93475, 0.93375, 0.9375, 0.939, 0.935, 0.9365, 0.9375, 0.9355, 0.93575, 0.93625, 0.93625, 0.93575, 0.9345, 0.93525, 0.93925, 0.93875, 0.939, 0.9395, 0.938, 0.93625, 0.93575, 0.938, 0.93575, 0.9365, 0.9395, 0.94, 0.939, 0.93875, 0.93675, 0.937, 0.93675, 0.93825, 0.93825, 0.937, 0.938, 0.9385, 0.94, 0.93875, 0.9355, 0.93925, 0.93125, 0.937, 0.938, 0.93775, 0.939, 0.93875, 0.937, 0.9385, 0.93875, 0.93975, 0.93875, 0.94, 0.93975, 0.93725, 0.9395, 0.9395, 0.93925, 0.93875, 0.9385, 0.93925, 0.94025, 0.939, 0.9375, 0.93875, 0.93925, 0.93875, 0.939, 0.93925, 0.939, 0.94, 0.93725, 0.93625, 0.937, 0.9395], \"yaxis\": \"y3\"}],\n",
              "                        {\"template\": {\"data\": {\"bar\": [{\"error_x\": {\"color\": \"#2a3f5f\"}, \"error_y\": {\"color\": \"#2a3f5f\"}, \"marker\": {\"line\": {\"color\": \"#E5ECF6\", \"width\": 0.5}}, \"type\": \"bar\"}], \"barpolar\": [{\"marker\": {\"line\": {\"color\": \"#E5ECF6\", \"width\": 0.5}}, \"type\": \"barpolar\"}], \"carpet\": [{\"aaxis\": {\"endlinecolor\": \"#2a3f5f\", \"gridcolor\": \"white\", \"linecolor\": \"white\", \"minorgridcolor\": \"white\", \"startlinecolor\": \"#2a3f5f\"}, \"baxis\": {\"endlinecolor\": \"#2a3f5f\", \"gridcolor\": \"white\", \"linecolor\": \"white\", \"minorgridcolor\": \"white\", \"startlinecolor\": \"#2a3f5f\"}, \"type\": \"carpet\"}], \"choropleth\": [{\"colorbar\": {\"outlinewidth\": 0, \"ticks\": \"\"}, \"type\": \"choropleth\"}], \"contour\": [{\"colorbar\": {\"outlinewidth\": 0, \"ticks\": \"\"}, \"colorscale\": [[0.0, \"#0d0887\"], [0.1111111111111111, \"#46039f\"], [0.2222222222222222, \"#7201a8\"], [0.3333333333333333, \"#9c179e\"], [0.4444444444444444, \"#bd3786\"], [0.5555555555555556, \"#d8576b\"], [0.6666666666666666, \"#ed7953\"], [0.7777777777777778, \"#fb9f3a\"], [0.8888888888888888, \"#fdca26\"], [1.0, \"#f0f921\"]], \"type\": \"contour\"}], \"contourcarpet\": [{\"colorbar\": {\"outlinewidth\": 0, \"ticks\": \"\"}, \"type\": \"contourcarpet\"}], \"heatmap\": [{\"colorbar\": {\"outlinewidth\": 0, \"ticks\": \"\"}, \"colorscale\": [[0.0, \"#0d0887\"], [0.1111111111111111, \"#46039f\"], [0.2222222222222222, \"#7201a8\"], [0.3333333333333333, \"#9c179e\"], [0.4444444444444444, \"#bd3786\"], [0.5555555555555556, \"#d8576b\"], [0.6666666666666666, \"#ed7953\"], [0.7777777777777778, \"#fb9f3a\"], [0.8888888888888888, \"#fdca26\"], [1.0, \"#f0f921\"]], \"type\": \"heatmap\"}], \"heatmapgl\": [{\"colorbar\": {\"outlinewidth\": 0, \"ticks\": \"\"}, \"colorscale\": [[0.0, \"#0d0887\"], [0.1111111111111111, \"#46039f\"], [0.2222222222222222, \"#7201a8\"], [0.3333333333333333, \"#9c179e\"], [0.4444444444444444, \"#bd3786\"], [0.5555555555555556, \"#d8576b\"], [0.6666666666666666, \"#ed7953\"], [0.7777777777777778, \"#fb9f3a\"], [0.8888888888888888, \"#fdca26\"], [1.0, \"#f0f921\"]], \"type\": \"heatmapgl\"}], \"histogram\": [{\"marker\": {\"colorbar\": {\"outlinewidth\": 0, \"ticks\": \"\"}}, \"type\": \"histogram\"}], \"histogram2d\": [{\"colorbar\": {\"outlinewidth\": 0, \"ticks\": \"\"}, \"colorscale\": [[0.0, \"#0d0887\"], [0.1111111111111111, \"#46039f\"], [0.2222222222222222, \"#7201a8\"], [0.3333333333333333, \"#9c179e\"], [0.4444444444444444, \"#bd3786\"], [0.5555555555555556, \"#d8576b\"], [0.6666666666666666, \"#ed7953\"], [0.7777777777777778, \"#fb9f3a\"], [0.8888888888888888, \"#fdca26\"], [1.0, \"#f0f921\"]], \"type\": \"histogram2d\"}], \"histogram2dcontour\": [{\"colorbar\": {\"outlinewidth\": 0, \"ticks\": \"\"}, \"colorscale\": [[0.0, \"#0d0887\"], [0.1111111111111111, \"#46039f\"], [0.2222222222222222, \"#7201a8\"], [0.3333333333333333, \"#9c179e\"], [0.4444444444444444, \"#bd3786\"], [0.5555555555555556, \"#d8576b\"], [0.6666666666666666, \"#ed7953\"], [0.7777777777777778, \"#fb9f3a\"], [0.8888888888888888, \"#fdca26\"], [1.0, \"#f0f921\"]], \"type\": \"histogram2dcontour\"}], \"mesh3d\": [{\"colorbar\": {\"outlinewidth\": 0, \"ticks\": \"\"}, \"type\": \"mesh3d\"}], \"parcoords\": [{\"line\": {\"colorbar\": {\"outlinewidth\": 0, \"ticks\": \"\"}}, \"type\": \"parcoords\"}], \"pie\": [{\"automargin\": true, \"type\": \"pie\"}], \"scatter\": [{\"marker\": {\"colorbar\": {\"outlinewidth\": 0, \"ticks\": \"\"}}, \"type\": \"scatter\"}], \"scatter3d\": [{\"line\": {\"colorbar\": {\"outlinewidth\": 0, \"ticks\": \"\"}}, \"marker\": {\"colorbar\": {\"outlinewidth\": 0, \"ticks\": \"\"}}, \"type\": \"scatter3d\"}], \"scattercarpet\": [{\"marker\": {\"colorbar\": {\"outlinewidth\": 0, \"ticks\": \"\"}}, \"type\": \"scattercarpet\"}], \"scattergeo\": [{\"marker\": {\"colorbar\": {\"outlinewidth\": 0, \"ticks\": \"\"}}, \"type\": \"scattergeo\"}], \"scattergl\": [{\"marker\": {\"colorbar\": {\"outlinewidth\": 0, \"ticks\": \"\"}}, \"type\": \"scattergl\"}], \"scattermapbox\": [{\"marker\": {\"colorbar\": {\"outlinewidth\": 0, \"ticks\": \"\"}}, \"type\": \"scattermapbox\"}], \"scatterpolar\": [{\"marker\": {\"colorbar\": {\"outlinewidth\": 0, \"ticks\": \"\"}}, \"type\": \"scatterpolar\"}], \"scatterpolargl\": [{\"marker\": {\"colorbar\": {\"outlinewidth\": 0, \"ticks\": \"\"}}, \"type\": \"scatterpolargl\"}], \"scatterternary\": [{\"marker\": {\"colorbar\": {\"outlinewidth\": 0, \"ticks\": \"\"}}, \"type\": \"scatterternary\"}], \"surface\": [{\"colorbar\": {\"outlinewidth\": 0, \"ticks\": \"\"}, \"colorscale\": [[0.0, \"#0d0887\"], [0.1111111111111111, \"#46039f\"], [0.2222222222222222, \"#7201a8\"], [0.3333333333333333, \"#9c179e\"], [0.4444444444444444, \"#bd3786\"], [0.5555555555555556, \"#d8576b\"], [0.6666666666666666, \"#ed7953\"], [0.7777777777777778, \"#fb9f3a\"], [0.8888888888888888, \"#fdca26\"], [1.0, \"#f0f921\"]], \"type\": \"surface\"}], \"table\": [{\"cells\": {\"fill\": {\"color\": \"#EBF0F8\"}, \"line\": {\"color\": \"white\"}}, \"header\": {\"fill\": {\"color\": \"#C8D4E3\"}, \"line\": {\"color\": \"white\"}}, \"type\": \"table\"}]}, \"layout\": {\"annotationdefaults\": {\"arrowcolor\": \"#2a3f5f\", \"arrowhead\": 0, \"arrowwidth\": 1}, \"coloraxis\": {\"colorbar\": {\"outlinewidth\": 0, \"ticks\": \"\"}}, \"colorscale\": {\"diverging\": [[0, \"#8e0152\"], [0.1, \"#c51b7d\"], [0.2, \"#de77ae\"], [0.3, \"#f1b6da\"], [0.4, \"#fde0ef\"], [0.5, \"#f7f7f7\"], [0.6, \"#e6f5d0\"], [0.7, \"#b8e186\"], [0.8, \"#7fbc41\"], [0.9, \"#4d9221\"], [1, \"#276419\"]], \"sequential\": [[0.0, \"#0d0887\"], [0.1111111111111111, \"#46039f\"], [0.2222222222222222, \"#7201a8\"], [0.3333333333333333, \"#9c179e\"], [0.4444444444444444, \"#bd3786\"], [0.5555555555555556, \"#d8576b\"], [0.6666666666666666, \"#ed7953\"], [0.7777777777777778, \"#fb9f3a\"], [0.8888888888888888, \"#fdca26\"], [1.0, \"#f0f921\"]], \"sequentialminus\": [[0.0, \"#0d0887\"], [0.1111111111111111, \"#46039f\"], [0.2222222222222222, \"#7201a8\"], [0.3333333333333333, \"#9c179e\"], [0.4444444444444444, \"#bd3786\"], [0.5555555555555556, \"#d8576b\"], [0.6666666666666666, \"#ed7953\"], [0.7777777777777778, \"#fb9f3a\"], [0.8888888888888888, \"#fdca26\"], [1.0, \"#f0f921\"]]}, \"colorway\": [\"#636efa\", \"#EF553B\", \"#00cc96\", \"#ab63fa\", \"#FFA15A\", \"#19d3f3\", \"#FF6692\", \"#B6E880\", \"#FF97FF\", \"#FECB52\"], \"font\": {\"color\": \"#2a3f5f\"}, \"geo\": {\"bgcolor\": \"white\", \"lakecolor\": \"white\", \"landcolor\": \"#E5ECF6\", \"showlakes\": true, \"showland\": true, \"subunitcolor\": \"white\"}, \"hoverlabel\": {\"align\": \"left\"}, \"hovermode\": \"closest\", \"mapbox\": {\"style\": \"light\"}, \"paper_bgcolor\": \"white\", \"plot_bgcolor\": \"#E5ECF6\", \"polar\": {\"angularaxis\": {\"gridcolor\": \"white\", \"linecolor\": \"white\", \"ticks\": \"\"}, \"bgcolor\": \"#E5ECF6\", \"radialaxis\": {\"gridcolor\": \"white\", \"linecolor\": \"white\", \"ticks\": \"\"}}, \"scene\": {\"xaxis\": {\"backgroundcolor\": \"#E5ECF6\", \"gridcolor\": \"white\", \"gridwidth\": 2, \"linecolor\": \"white\", \"showbackground\": true, \"ticks\": \"\", \"zerolinecolor\": \"white\"}, \"yaxis\": {\"backgroundcolor\": \"#E5ECF6\", \"gridcolor\": \"white\", \"gridwidth\": 2, \"linecolor\": \"white\", \"showbackground\": true, \"ticks\": \"\", \"zerolinecolor\": \"white\"}, \"zaxis\": {\"backgroundcolor\": \"#E5ECF6\", \"gridcolor\": \"white\", \"gridwidth\": 2, \"linecolor\": \"white\", \"showbackground\": true, \"ticks\": \"\", \"zerolinecolor\": \"white\"}}, \"shapedefaults\": {\"line\": {\"color\": \"#2a3f5f\"}}, \"ternary\": {\"aaxis\": {\"gridcolor\": \"white\", \"linecolor\": \"white\", \"ticks\": \"\"}, \"baxis\": {\"gridcolor\": \"white\", \"linecolor\": \"white\", \"ticks\": \"\"}, \"bgcolor\": \"#E5ECF6\", \"caxis\": {\"gridcolor\": \"white\", \"linecolor\": \"white\", \"ticks\": \"\"}}, \"title\": {\"x\": 0.05}, \"xaxis\": {\"automargin\": true, \"gridcolor\": \"white\", \"linecolor\": \"white\", \"ticks\": \"\", \"title\": {\"standoff\": 15}, \"zerolinecolor\": \"white\", \"zerolinewidth\": 2}, \"yaxis\": {\"automargin\": true, \"gridcolor\": \"white\", \"linecolor\": \"white\", \"ticks\": \"\", \"title\": {\"standoff\": 15}, \"zerolinecolor\": \"white\", \"zerolinewidth\": 2}}}, \"title\": {\"text\": \"Slice Plot\"}, \"xaxis\": {\"anchor\": \"y\", \"domain\": [0.0, 0.2888888888888889], \"title\": {\"text\": \"bagging_fraction\"}}, \"xaxis2\": {\"anchor\": \"y2\", \"domain\": [0.35555555555555557, 0.6444444444444445], \"title\": {\"text\": \"bagging_freq\"}}, \"xaxis3\": {\"anchor\": \"y3\", \"domain\": [0.7111111111111111, 1.0], \"title\": {\"text\": \"min_child_samples\"}}, \"yaxis\": {\"anchor\": \"x\", \"domain\": [0.0, 1.0], \"title\": {\"text\": \"Objective Value\"}}, \"yaxis2\": {\"anchor\": \"x2\", \"domain\": [0.0, 1.0], \"matches\": \"y\", \"showticklabels\": false}, \"yaxis3\": {\"anchor\": \"x3\", \"domain\": [0.0, 1.0], \"matches\": \"y\", \"showticklabels\": false}},\n",
              "                        {\"responsive\": true}\n",
              "                    ).then(function(){\n",
              "                            \n",
              "var gd = document.getElementById('18b7b949-ba78-41ca-b7cc-8380bce590d0');\n",
              "var x = new MutationObserver(function (mutations, observer) {{\n",
              "        var display = window.getComputedStyle(gd).display;\n",
              "        if (!display || display === 'none') {{\n",
              "            console.log([gd, 'removed!']);\n",
              "            Plotly.purge(gd);\n",
              "            observer.disconnect();\n",
              "        }}\n",
              "}});\n",
              "\n",
              "// Listen for the removal of the full notebook cells\n",
              "var notebookContainer = gd.closest('#notebook-container');\n",
              "if (notebookContainer) {{\n",
              "    x.observe(notebookContainer, {childList: true});\n",
              "}}\n",
              "\n",
              "// Listen for the clearing of the current output cell\n",
              "var outputEl = gd.closest('.output');\n",
              "if (outputEl) {{\n",
              "    x.observe(outputEl, {childList: true});\n",
              "}}\n",
              "\n",
              "                        })\n",
              "                };\n",
              "                \n",
              "            </script>\n",
              "        </div>\n",
              "</body>\n",
              "</html>"
            ]
          },
          "metadata": {
            "tags": []
          }
        }
      ]
    },
    {
      "cell_type": "code",
      "metadata": {
        "id": "ZDzpwTYvV0Rv",
        "colab": {
          "base_uri": "https://localhost:8080/",
          "height": 542
        },
        "outputId": "bd4cd576-3da6-4b87-a5e4-677adade79a0"
      },
      "source": [
        "plot_slice(study, params=[\"bagging_freq\", \"bagging_fraction\"])\n"
      ],
      "execution_count": null,
      "outputs": [
        {
          "output_type": "display_data",
          "data": {
            "text/html": [
              "<html>\n",
              "<head><meta charset=\"utf-8\" /></head>\n",
              "<body>\n",
              "    <div>\n",
              "            <script src=\"https://cdnjs.cloudflare.com/ajax/libs/mathjax/2.7.5/MathJax.js?config=TeX-AMS-MML_SVG\"></script><script type=\"text/javascript\">if (window.MathJax) {MathJax.Hub.Config({SVG: {font: \"STIX-Web\"}});}</script>\n",
              "                <script type=\"text/javascript\">window.PlotlyConfig = {MathJaxConfig: 'local'};</script>\n",
              "        <script src=\"https://cdn.plot.ly/plotly-latest.min.js\"></script>    \n",
              "            <div id=\"9ffeac59-5ef4-422f-8045-7fd493dbbcdf\" class=\"plotly-graph-div\" style=\"height:525px; width:100%;\"></div>\n",
              "            <script type=\"text/javascript\">\n",
              "                \n",
              "                    window.PLOTLYENV=window.PLOTLYENV || {};\n",
              "                    \n",
              "                if (document.getElementById(\"9ffeac59-5ef4-422f-8045-7fd493dbbcdf\")) {\n",
              "                    Plotly.newPlot(\n",
              "                        '9ffeac59-5ef4-422f-8045-7fd493dbbcdf',\n",
              "                        [{\"marker\": {\"color\": [0, 1, 2, 3, 4, 5, 6, 7, 8, 9, 10, 11, 12, 13, 14, 15, 16, 17, 18, 19, 20, 21, 22, 23, 24, 25, 26, 27, 28, 29, 30, 31, 32, 33, 34, 35, 36, 37, 38, 39, 40, 41, 42, 43, 44, 45, 46, 47, 48, 49, 50, 51, 52, 53, 54, 55, 56, 57, 58, 59, 60, 61, 62, 63, 64, 65, 66, 67, 68, 69, 70, 71, 72, 73, 74, 75, 76, 77, 78, 79, 80, 81, 82, 83, 84, 85, 86, 87, 88, 89, 90, 91, 92, 93, 94, 95, 96, 97, 98, 99], \"colorbar\": {\"title\": {\"text\": \"#Trials\"}, \"x\": 1.0, \"xpad\": 40}, \"colorscale\": [[0.0, \"rgb(247,251,255)\"], [0.125, \"rgb(222,235,247)\"], [0.25, \"rgb(198,219,239)\"], [0.375, \"rgb(158,202,225)\"], [0.5, \"rgb(107,174,214)\"], [0.625, \"rgb(66,146,198)\"], [0.75, \"rgb(33,113,181)\"], [0.875, \"rgb(8,81,156)\"], [1.0, \"rgb(8,48,107)\"]], \"line\": {\"color\": \"Grey\", \"width\": 0.5}, \"showscale\": true}, \"mode\": \"markers\", \"showlegend\": false, \"type\": \"scatter\", \"x\": [0.6247240713084175, 0.759195090518222, 0.4348501673009197, 0.8248435466776274, 0.899465584480253, 0.5100427059120604, 0.6591670111852694, 0.4836963163912251, 0.6736419905302216, 0.708540663048167, 0.9807628179319392, 0.960677975271797, 0.8422233433705593, 0.9983507036605508, 0.8446383804415064, 0.9125594092958378, 0.775690618497564, 0.9178361842790465, 0.8206975572362558, 0.5949474017149876, 0.8170972500642734, 0.7581724747076644, 0.7594072998875797, 0.7302929284103302, 0.768445119552756, 0.5525806341350226, 0.7874214437524669, 0.8808910194331233, 0.7226779700453105, 0.6256175105627158, 0.5864136518187979, 0.6531198005202535, 0.707160735206391, 0.6206540823369198, 0.7468904831376453, 0.6759917253247111, 0.797235866448676, 0.7048223908411229, 0.8588865372089907, 0.6353156437613183, 0.45123122138221866, 0.4056633015111988, 0.41915517137521824, 0.4000774973218806, 0.4293732660534338, 0.4015527763783517, 0.48262801903648145, 0.47123694446547, 0.5229311845645565, 0.44172392506353964, 0.40181832048203064, 0.40066717587619527, 0.4530266136118103, 0.5093727715032971, 0.4549071807361478, 0.42524114368317734, 0.46291374167590627, 0.49609282229327883, 0.41562259652876826, 0.5338831855703494, 0.4328649123947902, 0.44790414151721303, 0.4019269589243799, 0.47842738282353237, 0.40178532006156076, 0.4489030823413096, 0.4543460978506155, 0.4994180641705174, 0.5624720513745817, 0.4163197042642292, 0.42954288072489816, 0.41576471603269877, 0.4365442388228655, 0.4645087968035611, 0.4261400002146887, 0.44997140754015397, 0.4903720770043949, 0.4023581225843636, 0.40115999271583924, 0.4046624758891292, 0.4699954262347528, 0.4008272847079046, 0.40359991362963166, 0.4393756421214726, 0.47177004581482623, 0.41600354348390817, 0.40302388956471835, 0.4327209401878501, 0.4186103202505588, 0.4082176322606516, 0.44150908204429173, 0.42256717819441736, 0.4007845592893188, 0.4612490815645626, 0.44170317706416695, 0.4140155278963291, 0.4703178014612557, 0.4828269210119549, 0.42532467088835624, 0.5130375588724106], \"xaxis\": \"x\", \"y\": [0.9355, 0.93225, 0.9325, 0.93725, 0.9335, 0.93525, 0.93475, 0.933, 0.933, 0.93325, 0.9365, 0.937, 0.935, 0.93575, 0.93475, 0.93625, 0.9355, 0.9345, 0.93775, 0.9365, 0.934, 0.9375, 0.93775, 0.937, 0.9355, 0.93575, 0.93475, 0.93375, 0.9375, 0.939, 0.935, 0.9365, 0.9375, 0.9355, 0.93575, 0.93625, 0.93625, 0.93575, 0.9345, 0.93525, 0.93925, 0.93875, 0.939, 0.9395, 0.938, 0.93625, 0.93575, 0.938, 0.93575, 0.9365, 0.9395, 0.94, 0.939, 0.93875, 0.93675, 0.937, 0.93675, 0.93825, 0.93825, 0.937, 0.938, 0.9385, 0.94, 0.93875, 0.9355, 0.93925, 0.93125, 0.937, 0.938, 0.93775, 0.939, 0.93875, 0.937, 0.9385, 0.93875, 0.93975, 0.93875, 0.94, 0.93975, 0.93725, 0.9395, 0.9395, 0.93925, 0.93875, 0.9385, 0.93925, 0.94025, 0.939, 0.9375, 0.93875, 0.93925, 0.93875, 0.939, 0.93925, 0.939, 0.94, 0.93725, 0.93625, 0.937, 0.9395], \"yaxis\": \"y\"}, {\"marker\": {\"color\": [0, 1, 2, 3, 4, 5, 6, 7, 8, 9, 10, 11, 12, 13, 14, 15, 16, 17, 18, 19, 20, 21, 22, 23, 24, 25, 26, 27, 28, 29, 30, 31, 32, 33, 34, 35, 36, 37, 38, 39, 40, 41, 42, 43, 44, 45, 46, 47, 48, 49, 50, 51, 52, 53, 54, 55, 56, 57, 58, 59, 60, 61, 62, 63, 64, 65, 66, 67, 68, 69, 70, 71, 72, 73, 74, 75, 76, 77, 78, 79, 80, 81, 82, 83, 84, 85, 86, 87, 88, 89, 90, 91, 92, 93, 94, 95, 96, 97, 98, 99], \"colorbar\": {\"title\": {\"text\": \"#Trials\"}, \"x\": 1.0, \"xpad\": 40}, \"colorscale\": [[0.0, \"rgb(247,251,255)\"], [0.125, \"rgb(222,235,247)\"], [0.25, \"rgb(198,219,239)\"], [0.375, \"rgb(158,202,225)\"], [0.5, \"rgb(107,174,214)\"], [0.625, \"rgb(66,146,198)\"], [0.75, \"rgb(33,113,181)\"], [0.875, \"rgb(8,81,156)\"], [1.0, \"rgb(8,48,107)\"]], \"line\": {\"color\": \"Grey\", \"width\": 0.5}, \"showscale\": false}, \"mode\": \"markers\", \"showlegend\": false, \"type\": \"scatter\", \"x\": [7, 2, 7, 1, 2, 3, 3, 3, 6, 5, 1, 1, 1, 1, 4, 2, 4, 1, 2, 2, 4, 1, 2, 2, 3, 2, 3, 5, 2, 4, 5, 4, 2, 7, 6, 2, 1, 3, 1, 3, 2, 2, 2, 3, 3, 3, 4, 3, 4, 3, 2, 2, 2, 2, 3, 1, 2, 3, 2, 4, 5, 2, 2, 1, 2, 2, 2, 1, 3, 2, 1, 2, 1, 1, 1, 2, 2, 2, 2, 2, 3, 2, 3, 3, 2, 2, 3, 2, 3, 2, 2, 3, 3, 2, 3, 3, 3, 3, 4, 3], \"xaxis\": \"x2\", \"y\": [0.9355, 0.93225, 0.9325, 0.93725, 0.9335, 0.93525, 0.93475, 0.933, 0.933, 0.93325, 0.9365, 0.937, 0.935, 0.93575, 0.93475, 0.93625, 0.9355, 0.9345, 0.93775, 0.9365, 0.934, 0.9375, 0.93775, 0.937, 0.9355, 0.93575, 0.93475, 0.93375, 0.9375, 0.939, 0.935, 0.9365, 0.9375, 0.9355, 0.93575, 0.93625, 0.93625, 0.93575, 0.9345, 0.93525, 0.93925, 0.93875, 0.939, 0.9395, 0.938, 0.93625, 0.93575, 0.938, 0.93575, 0.9365, 0.9395, 0.94, 0.939, 0.93875, 0.93675, 0.937, 0.93675, 0.93825, 0.93825, 0.937, 0.938, 0.9385, 0.94, 0.93875, 0.9355, 0.93925, 0.93125, 0.937, 0.938, 0.93775, 0.939, 0.93875, 0.937, 0.9385, 0.93875, 0.93975, 0.93875, 0.94, 0.93975, 0.93725, 0.9395, 0.9395, 0.93925, 0.93875, 0.9385, 0.93925, 0.94025, 0.939, 0.9375, 0.93875, 0.93925, 0.93875, 0.939, 0.93925, 0.939, 0.94, 0.93725, 0.93625, 0.937, 0.9395], \"yaxis\": \"y2\"}],\n",
              "                        {\"template\": {\"data\": {\"bar\": [{\"error_x\": {\"color\": \"#2a3f5f\"}, \"error_y\": {\"color\": \"#2a3f5f\"}, \"marker\": {\"line\": {\"color\": \"#E5ECF6\", \"width\": 0.5}}, \"type\": \"bar\"}], \"barpolar\": [{\"marker\": {\"line\": {\"color\": \"#E5ECF6\", \"width\": 0.5}}, \"type\": \"barpolar\"}], \"carpet\": [{\"aaxis\": {\"endlinecolor\": \"#2a3f5f\", \"gridcolor\": \"white\", \"linecolor\": \"white\", \"minorgridcolor\": \"white\", \"startlinecolor\": \"#2a3f5f\"}, \"baxis\": {\"endlinecolor\": \"#2a3f5f\", \"gridcolor\": \"white\", \"linecolor\": \"white\", \"minorgridcolor\": \"white\", \"startlinecolor\": \"#2a3f5f\"}, \"type\": \"carpet\"}], \"choropleth\": [{\"colorbar\": {\"outlinewidth\": 0, \"ticks\": \"\"}, \"type\": \"choropleth\"}], \"contour\": [{\"colorbar\": {\"outlinewidth\": 0, \"ticks\": \"\"}, \"colorscale\": [[0.0, \"#0d0887\"], [0.1111111111111111, \"#46039f\"], [0.2222222222222222, \"#7201a8\"], [0.3333333333333333, \"#9c179e\"], [0.4444444444444444, \"#bd3786\"], [0.5555555555555556, \"#d8576b\"], [0.6666666666666666, \"#ed7953\"], [0.7777777777777778, \"#fb9f3a\"], [0.8888888888888888, \"#fdca26\"], [1.0, \"#f0f921\"]], \"type\": \"contour\"}], \"contourcarpet\": [{\"colorbar\": {\"outlinewidth\": 0, \"ticks\": \"\"}, \"type\": \"contourcarpet\"}], \"heatmap\": [{\"colorbar\": {\"outlinewidth\": 0, \"ticks\": \"\"}, \"colorscale\": [[0.0, \"#0d0887\"], [0.1111111111111111, \"#46039f\"], [0.2222222222222222, \"#7201a8\"], [0.3333333333333333, \"#9c179e\"], [0.4444444444444444, \"#bd3786\"], [0.5555555555555556, \"#d8576b\"], [0.6666666666666666, \"#ed7953\"], [0.7777777777777778, \"#fb9f3a\"], [0.8888888888888888, \"#fdca26\"], [1.0, \"#f0f921\"]], \"type\": \"heatmap\"}], \"heatmapgl\": [{\"colorbar\": {\"outlinewidth\": 0, \"ticks\": \"\"}, \"colorscale\": [[0.0, \"#0d0887\"], [0.1111111111111111, \"#46039f\"], [0.2222222222222222, \"#7201a8\"], [0.3333333333333333, \"#9c179e\"], [0.4444444444444444, \"#bd3786\"], [0.5555555555555556, \"#d8576b\"], [0.6666666666666666, \"#ed7953\"], [0.7777777777777778, \"#fb9f3a\"], [0.8888888888888888, \"#fdca26\"], [1.0, \"#f0f921\"]], \"type\": \"heatmapgl\"}], \"histogram\": [{\"marker\": {\"colorbar\": {\"outlinewidth\": 0, \"ticks\": \"\"}}, \"type\": \"histogram\"}], \"histogram2d\": [{\"colorbar\": {\"outlinewidth\": 0, \"ticks\": \"\"}, \"colorscale\": [[0.0, \"#0d0887\"], [0.1111111111111111, \"#46039f\"], [0.2222222222222222, \"#7201a8\"], [0.3333333333333333, \"#9c179e\"], [0.4444444444444444, \"#bd3786\"], [0.5555555555555556, \"#d8576b\"], [0.6666666666666666, \"#ed7953\"], [0.7777777777777778, \"#fb9f3a\"], [0.8888888888888888, \"#fdca26\"], [1.0, \"#f0f921\"]], \"type\": \"histogram2d\"}], \"histogram2dcontour\": [{\"colorbar\": {\"outlinewidth\": 0, \"ticks\": \"\"}, \"colorscale\": [[0.0, \"#0d0887\"], [0.1111111111111111, \"#46039f\"], [0.2222222222222222, \"#7201a8\"], [0.3333333333333333, \"#9c179e\"], [0.4444444444444444, \"#bd3786\"], [0.5555555555555556, \"#d8576b\"], [0.6666666666666666, \"#ed7953\"], [0.7777777777777778, \"#fb9f3a\"], [0.8888888888888888, \"#fdca26\"], [1.0, \"#f0f921\"]], \"type\": \"histogram2dcontour\"}], \"mesh3d\": [{\"colorbar\": {\"outlinewidth\": 0, \"ticks\": \"\"}, \"type\": \"mesh3d\"}], \"parcoords\": [{\"line\": {\"colorbar\": {\"outlinewidth\": 0, \"ticks\": \"\"}}, \"type\": \"parcoords\"}], \"pie\": [{\"automargin\": true, \"type\": \"pie\"}], \"scatter\": [{\"marker\": {\"colorbar\": {\"outlinewidth\": 0, \"ticks\": \"\"}}, \"type\": \"scatter\"}], \"scatter3d\": [{\"line\": {\"colorbar\": {\"outlinewidth\": 0, \"ticks\": \"\"}}, \"marker\": {\"colorbar\": {\"outlinewidth\": 0, \"ticks\": \"\"}}, \"type\": \"scatter3d\"}], \"scattercarpet\": [{\"marker\": {\"colorbar\": {\"outlinewidth\": 0, \"ticks\": \"\"}}, \"type\": \"scattercarpet\"}], \"scattergeo\": [{\"marker\": {\"colorbar\": {\"outlinewidth\": 0, \"ticks\": \"\"}}, \"type\": \"scattergeo\"}], \"scattergl\": [{\"marker\": {\"colorbar\": {\"outlinewidth\": 0, \"ticks\": \"\"}}, \"type\": \"scattergl\"}], \"scattermapbox\": [{\"marker\": {\"colorbar\": {\"outlinewidth\": 0, \"ticks\": \"\"}}, \"type\": \"scattermapbox\"}], \"scatterpolar\": [{\"marker\": {\"colorbar\": {\"outlinewidth\": 0, \"ticks\": \"\"}}, \"type\": \"scatterpolar\"}], \"scatterpolargl\": [{\"marker\": {\"colorbar\": {\"outlinewidth\": 0, \"ticks\": \"\"}}, \"type\": \"scatterpolargl\"}], \"scatterternary\": [{\"marker\": {\"colorbar\": {\"outlinewidth\": 0, \"ticks\": \"\"}}, \"type\": \"scatterternary\"}], \"surface\": [{\"colorbar\": {\"outlinewidth\": 0, \"ticks\": \"\"}, \"colorscale\": [[0.0, \"#0d0887\"], [0.1111111111111111, \"#46039f\"], [0.2222222222222222, \"#7201a8\"], [0.3333333333333333, \"#9c179e\"], [0.4444444444444444, \"#bd3786\"], [0.5555555555555556, \"#d8576b\"], [0.6666666666666666, \"#ed7953\"], [0.7777777777777778, \"#fb9f3a\"], [0.8888888888888888, \"#fdca26\"], [1.0, \"#f0f921\"]], \"type\": \"surface\"}], \"table\": [{\"cells\": {\"fill\": {\"color\": \"#EBF0F8\"}, \"line\": {\"color\": \"white\"}}, \"header\": {\"fill\": {\"color\": \"#C8D4E3\"}, \"line\": {\"color\": \"white\"}}, \"type\": \"table\"}]}, \"layout\": {\"annotationdefaults\": {\"arrowcolor\": \"#2a3f5f\", \"arrowhead\": 0, \"arrowwidth\": 1}, \"coloraxis\": {\"colorbar\": {\"outlinewidth\": 0, \"ticks\": \"\"}}, \"colorscale\": {\"diverging\": [[0, \"#8e0152\"], [0.1, \"#c51b7d\"], [0.2, \"#de77ae\"], [0.3, \"#f1b6da\"], [0.4, \"#fde0ef\"], [0.5, \"#f7f7f7\"], [0.6, \"#e6f5d0\"], [0.7, \"#b8e186\"], [0.8, \"#7fbc41\"], [0.9, \"#4d9221\"], [1, \"#276419\"]], \"sequential\": [[0.0, \"#0d0887\"], [0.1111111111111111, \"#46039f\"], [0.2222222222222222, \"#7201a8\"], [0.3333333333333333, \"#9c179e\"], [0.4444444444444444, \"#bd3786\"], [0.5555555555555556, \"#d8576b\"], [0.6666666666666666, \"#ed7953\"], [0.7777777777777778, \"#fb9f3a\"], [0.8888888888888888, \"#fdca26\"], [1.0, \"#f0f921\"]], \"sequentialminus\": [[0.0, \"#0d0887\"], [0.1111111111111111, \"#46039f\"], [0.2222222222222222, \"#7201a8\"], [0.3333333333333333, \"#9c179e\"], [0.4444444444444444, \"#bd3786\"], [0.5555555555555556, \"#d8576b\"], [0.6666666666666666, \"#ed7953\"], [0.7777777777777778, \"#fb9f3a\"], [0.8888888888888888, \"#fdca26\"], [1.0, \"#f0f921\"]]}, \"colorway\": [\"#636efa\", \"#EF553B\", \"#00cc96\", \"#ab63fa\", \"#FFA15A\", \"#19d3f3\", \"#FF6692\", \"#B6E880\", \"#FF97FF\", \"#FECB52\"], \"font\": {\"color\": \"#2a3f5f\"}, \"geo\": {\"bgcolor\": \"white\", \"lakecolor\": \"white\", \"landcolor\": \"#E5ECF6\", \"showlakes\": true, \"showland\": true, \"subunitcolor\": \"white\"}, \"hoverlabel\": {\"align\": \"left\"}, \"hovermode\": \"closest\", \"mapbox\": {\"style\": \"light\"}, \"paper_bgcolor\": \"white\", \"plot_bgcolor\": \"#E5ECF6\", \"polar\": {\"angularaxis\": {\"gridcolor\": \"white\", \"linecolor\": \"white\", \"ticks\": \"\"}, \"bgcolor\": \"#E5ECF6\", \"radialaxis\": {\"gridcolor\": \"white\", \"linecolor\": \"white\", \"ticks\": \"\"}}, \"scene\": {\"xaxis\": {\"backgroundcolor\": \"#E5ECF6\", \"gridcolor\": \"white\", \"gridwidth\": 2, \"linecolor\": \"white\", \"showbackground\": true, \"ticks\": \"\", \"zerolinecolor\": \"white\"}, \"yaxis\": {\"backgroundcolor\": \"#E5ECF6\", \"gridcolor\": \"white\", \"gridwidth\": 2, \"linecolor\": \"white\", \"showbackground\": true, \"ticks\": \"\", \"zerolinecolor\": \"white\"}, \"zaxis\": {\"backgroundcolor\": \"#E5ECF6\", \"gridcolor\": \"white\", \"gridwidth\": 2, \"linecolor\": \"white\", \"showbackground\": true, \"ticks\": \"\", \"zerolinecolor\": \"white\"}}, \"shapedefaults\": {\"line\": {\"color\": \"#2a3f5f\"}}, \"ternary\": {\"aaxis\": {\"gridcolor\": \"white\", \"linecolor\": \"white\", \"ticks\": \"\"}, \"baxis\": {\"gridcolor\": \"white\", \"linecolor\": \"white\", \"ticks\": \"\"}, \"bgcolor\": \"#E5ECF6\", \"caxis\": {\"gridcolor\": \"white\", \"linecolor\": \"white\", \"ticks\": \"\"}}, \"title\": {\"x\": 0.05}, \"xaxis\": {\"automargin\": true, \"gridcolor\": \"white\", \"linecolor\": \"white\", \"ticks\": \"\", \"title\": {\"standoff\": 15}, \"zerolinecolor\": \"white\", \"zerolinewidth\": 2}, \"yaxis\": {\"automargin\": true, \"gridcolor\": \"white\", \"linecolor\": \"white\", \"ticks\": \"\", \"title\": {\"standoff\": 15}, \"zerolinecolor\": \"white\", \"zerolinewidth\": 2}}}, \"title\": {\"text\": \"Slice Plot\"}, \"xaxis\": {\"anchor\": \"y\", \"domain\": [0.0, 0.45], \"title\": {\"text\": \"bagging_fraction\"}}, \"xaxis2\": {\"anchor\": \"y2\", \"domain\": [0.55, 1.0], \"title\": {\"text\": \"bagging_freq\"}}, \"yaxis\": {\"anchor\": \"x\", \"domain\": [0.0, 1.0], \"title\": {\"text\": \"Objective Value\"}}, \"yaxis2\": {\"anchor\": \"x2\", \"domain\": [0.0, 1.0], \"matches\": \"y\", \"showticklabels\": false}},\n",
              "                        {\"responsive\": true}\n",
              "                    ).then(function(){\n",
              "                            \n",
              "var gd = document.getElementById('9ffeac59-5ef4-422f-8045-7fd493dbbcdf');\n",
              "var x = new MutationObserver(function (mutations, observer) {{\n",
              "        var display = window.getComputedStyle(gd).display;\n",
              "        if (!display || display === 'none') {{\n",
              "            console.log([gd, 'removed!']);\n",
              "            Plotly.purge(gd);\n",
              "            observer.disconnect();\n",
              "        }}\n",
              "}});\n",
              "\n",
              "// Listen for the removal of the full notebook cells\n",
              "var notebookContainer = gd.closest('#notebook-container');\n",
              "if (notebookContainer) {{\n",
              "    x.observe(notebookContainer, {childList: true});\n",
              "}}\n",
              "\n",
              "// Listen for the clearing of the current output cell\n",
              "var outputEl = gd.closest('.output');\n",
              "if (outputEl) {{\n",
              "    x.observe(outputEl, {childList: true});\n",
              "}}\n",
              "\n",
              "                        })\n",
              "                };\n",
              "                \n",
              "            </script>\n",
              "        </div>\n",
              "</body>\n",
              "</html>"
            ]
          },
          "metadata": {
            "tags": []
          }
        }
      ]
    },
    {
      "cell_type": "code",
      "metadata": {
        "id": "VU0yrhiwV0Rv",
        "colab": {
          "base_uri": "https://localhost:8080/",
          "height": 542
        },
        "outputId": "a111cdbb-7c48-4367-fcd0-720863ba40d7"
      },
      "source": [
        "plot_param_importances(study)\n"
      ],
      "execution_count": null,
      "outputs": [
        {
          "output_type": "display_data",
          "data": {
            "text/html": [
              "<html>\n",
              "<head><meta charset=\"utf-8\" /></head>\n",
              "<body>\n",
              "    <div>\n",
              "            <script src=\"https://cdnjs.cloudflare.com/ajax/libs/mathjax/2.7.5/MathJax.js?config=TeX-AMS-MML_SVG\"></script><script type=\"text/javascript\">if (window.MathJax) {MathJax.Hub.Config({SVG: {font: \"STIX-Web\"}});}</script>\n",
              "                <script type=\"text/javascript\">window.PlotlyConfig = {MathJaxConfig: 'local'};</script>\n",
              "        <script src=\"https://cdn.plot.ly/plotly-latest.min.js\"></script>    \n",
              "            <div id=\"5c286909-5809-4ef4-bfad-f6fe7c5e4241\" class=\"plotly-graph-div\" style=\"height:525px; width:100%;\"></div>\n",
              "            <script type=\"text/javascript\">\n",
              "                \n",
              "                    window.PLOTLYENV=window.PLOTLYENV || {};\n",
              "                    \n",
              "                if (document.getElementById(\"5c286909-5809-4ef4-bfad-f6fe7c5e4241\")) {\n",
              "                    Plotly.newPlot(\n",
              "                        '5c286909-5809-4ef4-bfad-f6fe7c5e4241',\n",
              "                        [{\"cliponaxis\": false, \"hovertemplate\": [\"bagging_freq (IntUniformDistribution): 0.0396626622276068<extra></extra>\", \"bagging_fraction (UniformDistribution): 0.12565137046688038<extra></extra>\", \"min_child_samples (IntUniformDistribution): 0.8346859673055127<extra></extra>\"], \"marker\": {\"color\": \"rgb(66,146,198)\"}, \"orientation\": \"h\", \"text\": [\"0.0396626622276068\", \"0.12565137046688038\", \"0.8346859673055127\"], \"textposition\": \"outside\", \"texttemplate\": \"%{text:.2f}\", \"type\": \"bar\", \"x\": [0.0396626622276068, 0.12565137046688038, 0.8346859673055127], \"y\": [\"bagging_freq\", \"bagging_fraction\", \"min_child_samples\"]}],\n",
              "                        {\"showlegend\": false, \"template\": {\"data\": {\"bar\": [{\"error_x\": {\"color\": \"#2a3f5f\"}, \"error_y\": {\"color\": \"#2a3f5f\"}, \"marker\": {\"line\": {\"color\": \"#E5ECF6\", \"width\": 0.5}}, \"type\": \"bar\"}], \"barpolar\": [{\"marker\": {\"line\": {\"color\": \"#E5ECF6\", \"width\": 0.5}}, \"type\": \"barpolar\"}], \"carpet\": [{\"aaxis\": {\"endlinecolor\": \"#2a3f5f\", \"gridcolor\": \"white\", \"linecolor\": \"white\", \"minorgridcolor\": \"white\", \"startlinecolor\": \"#2a3f5f\"}, \"baxis\": {\"endlinecolor\": \"#2a3f5f\", \"gridcolor\": \"white\", \"linecolor\": \"white\", \"minorgridcolor\": \"white\", \"startlinecolor\": \"#2a3f5f\"}, \"type\": \"carpet\"}], \"choropleth\": [{\"colorbar\": {\"outlinewidth\": 0, \"ticks\": \"\"}, \"type\": \"choropleth\"}], \"contour\": [{\"colorbar\": {\"outlinewidth\": 0, \"ticks\": \"\"}, \"colorscale\": [[0.0, \"#0d0887\"], [0.1111111111111111, \"#46039f\"], [0.2222222222222222, \"#7201a8\"], [0.3333333333333333, \"#9c179e\"], [0.4444444444444444, \"#bd3786\"], [0.5555555555555556, \"#d8576b\"], [0.6666666666666666, \"#ed7953\"], [0.7777777777777778, \"#fb9f3a\"], [0.8888888888888888, \"#fdca26\"], [1.0, \"#f0f921\"]], \"type\": \"contour\"}], \"contourcarpet\": [{\"colorbar\": {\"outlinewidth\": 0, \"ticks\": \"\"}, \"type\": \"contourcarpet\"}], \"heatmap\": [{\"colorbar\": {\"outlinewidth\": 0, \"ticks\": \"\"}, \"colorscale\": [[0.0, \"#0d0887\"], [0.1111111111111111, \"#46039f\"], [0.2222222222222222, \"#7201a8\"], [0.3333333333333333, \"#9c179e\"], [0.4444444444444444, \"#bd3786\"], [0.5555555555555556, \"#d8576b\"], [0.6666666666666666, \"#ed7953\"], [0.7777777777777778, \"#fb9f3a\"], [0.8888888888888888, \"#fdca26\"], [1.0, \"#f0f921\"]], \"type\": \"heatmap\"}], \"heatmapgl\": [{\"colorbar\": {\"outlinewidth\": 0, \"ticks\": \"\"}, \"colorscale\": [[0.0, \"#0d0887\"], [0.1111111111111111, \"#46039f\"], [0.2222222222222222, \"#7201a8\"], [0.3333333333333333, \"#9c179e\"], [0.4444444444444444, \"#bd3786\"], [0.5555555555555556, \"#d8576b\"], [0.6666666666666666, \"#ed7953\"], [0.7777777777777778, \"#fb9f3a\"], [0.8888888888888888, \"#fdca26\"], [1.0, \"#f0f921\"]], \"type\": \"heatmapgl\"}], \"histogram\": [{\"marker\": {\"colorbar\": {\"outlinewidth\": 0, \"ticks\": \"\"}}, \"type\": \"histogram\"}], \"histogram2d\": [{\"colorbar\": {\"outlinewidth\": 0, \"ticks\": \"\"}, \"colorscale\": [[0.0, \"#0d0887\"], [0.1111111111111111, \"#46039f\"], [0.2222222222222222, \"#7201a8\"], [0.3333333333333333, \"#9c179e\"], [0.4444444444444444, \"#bd3786\"], [0.5555555555555556, \"#d8576b\"], [0.6666666666666666, \"#ed7953\"], [0.7777777777777778, \"#fb9f3a\"], [0.8888888888888888, \"#fdca26\"], [1.0, \"#f0f921\"]], \"type\": \"histogram2d\"}], \"histogram2dcontour\": [{\"colorbar\": {\"outlinewidth\": 0, \"ticks\": \"\"}, \"colorscale\": [[0.0, \"#0d0887\"], [0.1111111111111111, \"#46039f\"], [0.2222222222222222, \"#7201a8\"], [0.3333333333333333, \"#9c179e\"], [0.4444444444444444, \"#bd3786\"], [0.5555555555555556, \"#d8576b\"], [0.6666666666666666, \"#ed7953\"], [0.7777777777777778, \"#fb9f3a\"], [0.8888888888888888, \"#fdca26\"], [1.0, \"#f0f921\"]], \"type\": \"histogram2dcontour\"}], \"mesh3d\": [{\"colorbar\": {\"outlinewidth\": 0, \"ticks\": \"\"}, \"type\": \"mesh3d\"}], \"parcoords\": [{\"line\": {\"colorbar\": {\"outlinewidth\": 0, \"ticks\": \"\"}}, \"type\": \"parcoords\"}], \"pie\": [{\"automargin\": true, \"type\": \"pie\"}], \"scatter\": [{\"marker\": {\"colorbar\": {\"outlinewidth\": 0, \"ticks\": \"\"}}, \"type\": \"scatter\"}], \"scatter3d\": [{\"line\": {\"colorbar\": {\"outlinewidth\": 0, \"ticks\": \"\"}}, \"marker\": {\"colorbar\": {\"outlinewidth\": 0, \"ticks\": \"\"}}, \"type\": \"scatter3d\"}], \"scattercarpet\": [{\"marker\": {\"colorbar\": {\"outlinewidth\": 0, \"ticks\": \"\"}}, \"type\": \"scattercarpet\"}], \"scattergeo\": [{\"marker\": {\"colorbar\": {\"outlinewidth\": 0, \"ticks\": \"\"}}, \"type\": \"scattergeo\"}], \"scattergl\": [{\"marker\": {\"colorbar\": {\"outlinewidth\": 0, \"ticks\": \"\"}}, \"type\": \"scattergl\"}], \"scattermapbox\": [{\"marker\": {\"colorbar\": {\"outlinewidth\": 0, \"ticks\": \"\"}}, \"type\": \"scattermapbox\"}], \"scatterpolar\": [{\"marker\": {\"colorbar\": {\"outlinewidth\": 0, \"ticks\": \"\"}}, \"type\": \"scatterpolar\"}], \"scatterpolargl\": [{\"marker\": {\"colorbar\": {\"outlinewidth\": 0, \"ticks\": \"\"}}, \"type\": \"scatterpolargl\"}], \"scatterternary\": [{\"marker\": {\"colorbar\": {\"outlinewidth\": 0, \"ticks\": \"\"}}, \"type\": \"scatterternary\"}], \"surface\": [{\"colorbar\": {\"outlinewidth\": 0, \"ticks\": \"\"}, \"colorscale\": [[0.0, \"#0d0887\"], [0.1111111111111111, \"#46039f\"], [0.2222222222222222, \"#7201a8\"], [0.3333333333333333, \"#9c179e\"], [0.4444444444444444, \"#bd3786\"], [0.5555555555555556, \"#d8576b\"], [0.6666666666666666, \"#ed7953\"], [0.7777777777777778, \"#fb9f3a\"], [0.8888888888888888, \"#fdca26\"], [1.0, \"#f0f921\"]], \"type\": \"surface\"}], \"table\": [{\"cells\": {\"fill\": {\"color\": \"#EBF0F8\"}, \"line\": {\"color\": \"white\"}}, \"header\": {\"fill\": {\"color\": \"#C8D4E3\"}, \"line\": {\"color\": \"white\"}}, \"type\": \"table\"}]}, \"layout\": {\"annotationdefaults\": {\"arrowcolor\": \"#2a3f5f\", \"arrowhead\": 0, \"arrowwidth\": 1}, \"coloraxis\": {\"colorbar\": {\"outlinewidth\": 0, \"ticks\": \"\"}}, \"colorscale\": {\"diverging\": [[0, \"#8e0152\"], [0.1, \"#c51b7d\"], [0.2, \"#de77ae\"], [0.3, \"#f1b6da\"], [0.4, \"#fde0ef\"], [0.5, \"#f7f7f7\"], [0.6, \"#e6f5d0\"], [0.7, \"#b8e186\"], [0.8, \"#7fbc41\"], [0.9, \"#4d9221\"], [1, \"#276419\"]], \"sequential\": [[0.0, \"#0d0887\"], [0.1111111111111111, \"#46039f\"], [0.2222222222222222, \"#7201a8\"], [0.3333333333333333, \"#9c179e\"], [0.4444444444444444, \"#bd3786\"], [0.5555555555555556, \"#d8576b\"], [0.6666666666666666, \"#ed7953\"], [0.7777777777777778, \"#fb9f3a\"], [0.8888888888888888, \"#fdca26\"], [1.0, \"#f0f921\"]], \"sequentialminus\": [[0.0, \"#0d0887\"], [0.1111111111111111, \"#46039f\"], [0.2222222222222222, \"#7201a8\"], [0.3333333333333333, \"#9c179e\"], [0.4444444444444444, \"#bd3786\"], [0.5555555555555556, \"#d8576b\"], [0.6666666666666666, \"#ed7953\"], [0.7777777777777778, \"#fb9f3a\"], [0.8888888888888888, \"#fdca26\"], [1.0, \"#f0f921\"]]}, \"colorway\": [\"#636efa\", \"#EF553B\", \"#00cc96\", \"#ab63fa\", \"#FFA15A\", \"#19d3f3\", \"#FF6692\", \"#B6E880\", \"#FF97FF\", \"#FECB52\"], \"font\": {\"color\": \"#2a3f5f\"}, \"geo\": {\"bgcolor\": \"white\", \"lakecolor\": \"white\", \"landcolor\": \"#E5ECF6\", \"showlakes\": true, \"showland\": true, \"subunitcolor\": \"white\"}, \"hoverlabel\": {\"align\": \"left\"}, \"hovermode\": \"closest\", \"mapbox\": {\"style\": \"light\"}, \"paper_bgcolor\": \"white\", \"plot_bgcolor\": \"#E5ECF6\", \"polar\": {\"angularaxis\": {\"gridcolor\": \"white\", \"linecolor\": \"white\", \"ticks\": \"\"}, \"bgcolor\": \"#E5ECF6\", \"radialaxis\": {\"gridcolor\": \"white\", \"linecolor\": \"white\", \"ticks\": \"\"}}, \"scene\": {\"xaxis\": {\"backgroundcolor\": \"#E5ECF6\", \"gridcolor\": \"white\", \"gridwidth\": 2, \"linecolor\": \"white\", \"showbackground\": true, \"ticks\": \"\", \"zerolinecolor\": \"white\"}, \"yaxis\": {\"backgroundcolor\": \"#E5ECF6\", \"gridcolor\": \"white\", \"gridwidth\": 2, \"linecolor\": \"white\", \"showbackground\": true, \"ticks\": \"\", \"zerolinecolor\": \"white\"}, \"zaxis\": {\"backgroundcolor\": \"#E5ECF6\", \"gridcolor\": \"white\", \"gridwidth\": 2, \"linecolor\": \"white\", \"showbackground\": true, \"ticks\": \"\", \"zerolinecolor\": \"white\"}}, \"shapedefaults\": {\"line\": {\"color\": \"#2a3f5f\"}}, \"ternary\": {\"aaxis\": {\"gridcolor\": \"white\", \"linecolor\": \"white\", \"ticks\": \"\"}, \"baxis\": {\"gridcolor\": \"white\", \"linecolor\": \"white\", \"ticks\": \"\"}, \"bgcolor\": \"#E5ECF6\", \"caxis\": {\"gridcolor\": \"white\", \"linecolor\": \"white\", \"ticks\": \"\"}}, \"title\": {\"x\": 0.05}, \"xaxis\": {\"automargin\": true, \"gridcolor\": \"white\", \"linecolor\": \"white\", \"ticks\": \"\", \"title\": {\"standoff\": 15}, \"zerolinecolor\": \"white\", \"zerolinewidth\": 2}, \"yaxis\": {\"automargin\": true, \"gridcolor\": \"white\", \"linecolor\": \"white\", \"ticks\": \"\", \"title\": {\"standoff\": 15}, \"zerolinecolor\": \"white\", \"zerolinewidth\": 2}}}, \"title\": {\"text\": \"Hyperparameter Importances\"}, \"xaxis\": {\"title\": {\"text\": \"Importance for Objective Value\"}}, \"yaxis\": {\"title\": {\"text\": \"Hyperparameter\"}}},\n",
              "                        {\"responsive\": true}\n",
              "                    ).then(function(){\n",
              "                            \n",
              "var gd = document.getElementById('5c286909-5809-4ef4-bfad-f6fe7c5e4241');\n",
              "var x = new MutationObserver(function (mutations, observer) {{\n",
              "        var display = window.getComputedStyle(gd).display;\n",
              "        if (!display || display === 'none') {{\n",
              "            console.log([gd, 'removed!']);\n",
              "            Plotly.purge(gd);\n",
              "            observer.disconnect();\n",
              "        }}\n",
              "}});\n",
              "\n",
              "// Listen for the removal of the full notebook cells\n",
              "var notebookContainer = gd.closest('#notebook-container');\n",
              "if (notebookContainer) {{\n",
              "    x.observe(notebookContainer, {childList: true});\n",
              "}}\n",
              "\n",
              "// Listen for the clearing of the current output cell\n",
              "var outputEl = gd.closest('.output');\n",
              "if (outputEl) {{\n",
              "    x.observe(outputEl, {childList: true});\n",
              "}}\n",
              "\n",
              "                        })\n",
              "                };\n",
              "                \n",
              "            </script>\n",
              "        </div>\n",
              "</body>\n",
              "</html>"
            ]
          },
          "metadata": {
            "tags": []
          }
        }
      ]
    },
    {
      "cell_type": "code",
      "metadata": {
        "id": "tjysgQK0V0Rv",
        "colab": {
          "base_uri": "https://localhost:8080/",
          "height": 542
        },
        "outputId": "23d1ce03-cc9a-4b05-b76f-01b026b07db6"
      },
      "source": [
        "optuna.visualization.plot_param_importances(\n",
        "    study, target=lambda t: t.duration.total_seconds(), target_name=\"duration\"\n",
        ")\n"
      ],
      "execution_count": null,
      "outputs": [
        {
          "output_type": "display_data",
          "data": {
            "text/html": [
              "<html>\n",
              "<head><meta charset=\"utf-8\" /></head>\n",
              "<body>\n",
              "    <div>\n",
              "            <script src=\"https://cdnjs.cloudflare.com/ajax/libs/mathjax/2.7.5/MathJax.js?config=TeX-AMS-MML_SVG\"></script><script type=\"text/javascript\">if (window.MathJax) {MathJax.Hub.Config({SVG: {font: \"STIX-Web\"}});}</script>\n",
              "                <script type=\"text/javascript\">window.PlotlyConfig = {MathJaxConfig: 'local'};</script>\n",
              "        <script src=\"https://cdn.plot.ly/plotly-latest.min.js\"></script>    \n",
              "            <div id=\"dae4a305-801d-40b8-9b9b-201d58429dc4\" class=\"plotly-graph-div\" style=\"height:525px; width:100%;\"></div>\n",
              "            <script type=\"text/javascript\">\n",
              "                \n",
              "                    window.PLOTLYENV=window.PLOTLYENV || {};\n",
              "                    \n",
              "                if (document.getElementById(\"dae4a305-801d-40b8-9b9b-201d58429dc4\")) {\n",
              "                    Plotly.newPlot(\n",
              "                        'dae4a305-801d-40b8-9b9b-201d58429dc4',\n",
              "                        [{\"cliponaxis\": false, \"hovertemplate\": [\"bagging_freq (IntUniformDistribution): 0.003334630063094981<extra></extra>\", \"min_child_samples (IntUniformDistribution): 0.16256104202469918<extra></extra>\", \"bagging_fraction (UniformDistribution): 0.8341043279122058<extra></extra>\"], \"marker\": {\"color\": \"rgb(66,146,198)\"}, \"orientation\": \"h\", \"text\": [\"0.003334630063094981\", \"0.16256104202469918\", \"0.8341043279122058\"], \"textposition\": \"outside\", \"texttemplate\": \"%{text:.2f}\", \"type\": \"bar\", \"x\": [0.003334630063094981, 0.16256104202469918, 0.8341043279122058], \"y\": [\"bagging_freq\", \"min_child_samples\", \"bagging_fraction\"]}],\n",
              "                        {\"showlegend\": false, \"template\": {\"data\": {\"bar\": [{\"error_x\": {\"color\": \"#2a3f5f\"}, \"error_y\": {\"color\": \"#2a3f5f\"}, \"marker\": {\"line\": {\"color\": \"#E5ECF6\", \"width\": 0.5}}, \"type\": \"bar\"}], \"barpolar\": [{\"marker\": {\"line\": {\"color\": \"#E5ECF6\", \"width\": 0.5}}, \"type\": \"barpolar\"}], \"carpet\": [{\"aaxis\": {\"endlinecolor\": \"#2a3f5f\", \"gridcolor\": \"white\", \"linecolor\": \"white\", \"minorgridcolor\": \"white\", \"startlinecolor\": \"#2a3f5f\"}, \"baxis\": {\"endlinecolor\": \"#2a3f5f\", \"gridcolor\": \"white\", \"linecolor\": \"white\", \"minorgridcolor\": \"white\", \"startlinecolor\": \"#2a3f5f\"}, \"type\": \"carpet\"}], \"choropleth\": [{\"colorbar\": {\"outlinewidth\": 0, \"ticks\": \"\"}, \"type\": \"choropleth\"}], \"contour\": [{\"colorbar\": {\"outlinewidth\": 0, \"ticks\": \"\"}, \"colorscale\": [[0.0, \"#0d0887\"], [0.1111111111111111, \"#46039f\"], [0.2222222222222222, \"#7201a8\"], [0.3333333333333333, \"#9c179e\"], [0.4444444444444444, \"#bd3786\"], [0.5555555555555556, \"#d8576b\"], [0.6666666666666666, \"#ed7953\"], [0.7777777777777778, \"#fb9f3a\"], [0.8888888888888888, \"#fdca26\"], [1.0, \"#f0f921\"]], \"type\": \"contour\"}], \"contourcarpet\": [{\"colorbar\": {\"outlinewidth\": 0, \"ticks\": \"\"}, \"type\": \"contourcarpet\"}], \"heatmap\": [{\"colorbar\": {\"outlinewidth\": 0, \"ticks\": \"\"}, \"colorscale\": [[0.0, \"#0d0887\"], [0.1111111111111111, \"#46039f\"], [0.2222222222222222, \"#7201a8\"], [0.3333333333333333, \"#9c179e\"], [0.4444444444444444, \"#bd3786\"], [0.5555555555555556, \"#d8576b\"], [0.6666666666666666, \"#ed7953\"], [0.7777777777777778, \"#fb9f3a\"], [0.8888888888888888, \"#fdca26\"], [1.0, \"#f0f921\"]], \"type\": \"heatmap\"}], \"heatmapgl\": [{\"colorbar\": {\"outlinewidth\": 0, \"ticks\": \"\"}, \"colorscale\": [[0.0, \"#0d0887\"], [0.1111111111111111, \"#46039f\"], [0.2222222222222222, \"#7201a8\"], [0.3333333333333333, \"#9c179e\"], [0.4444444444444444, \"#bd3786\"], [0.5555555555555556, \"#d8576b\"], [0.6666666666666666, \"#ed7953\"], [0.7777777777777778, \"#fb9f3a\"], [0.8888888888888888, \"#fdca26\"], [1.0, \"#f0f921\"]], \"type\": \"heatmapgl\"}], \"histogram\": [{\"marker\": {\"colorbar\": {\"outlinewidth\": 0, \"ticks\": \"\"}}, \"type\": \"histogram\"}], \"histogram2d\": [{\"colorbar\": {\"outlinewidth\": 0, \"ticks\": \"\"}, \"colorscale\": [[0.0, \"#0d0887\"], [0.1111111111111111, \"#46039f\"], [0.2222222222222222, \"#7201a8\"], [0.3333333333333333, \"#9c179e\"], [0.4444444444444444, \"#bd3786\"], [0.5555555555555556, \"#d8576b\"], [0.6666666666666666, \"#ed7953\"], [0.7777777777777778, \"#fb9f3a\"], [0.8888888888888888, \"#fdca26\"], [1.0, \"#f0f921\"]], \"type\": \"histogram2d\"}], \"histogram2dcontour\": [{\"colorbar\": {\"outlinewidth\": 0, \"ticks\": \"\"}, \"colorscale\": [[0.0, \"#0d0887\"], [0.1111111111111111, \"#46039f\"], [0.2222222222222222, \"#7201a8\"], [0.3333333333333333, \"#9c179e\"], [0.4444444444444444, \"#bd3786\"], [0.5555555555555556, \"#d8576b\"], [0.6666666666666666, \"#ed7953\"], [0.7777777777777778, \"#fb9f3a\"], [0.8888888888888888, \"#fdca26\"], [1.0, \"#f0f921\"]], \"type\": \"histogram2dcontour\"}], \"mesh3d\": [{\"colorbar\": {\"outlinewidth\": 0, \"ticks\": \"\"}, \"type\": \"mesh3d\"}], \"parcoords\": [{\"line\": {\"colorbar\": {\"outlinewidth\": 0, \"ticks\": \"\"}}, \"type\": \"parcoords\"}], \"pie\": [{\"automargin\": true, \"type\": \"pie\"}], \"scatter\": [{\"marker\": {\"colorbar\": {\"outlinewidth\": 0, \"ticks\": \"\"}}, \"type\": \"scatter\"}], \"scatter3d\": [{\"line\": {\"colorbar\": {\"outlinewidth\": 0, \"ticks\": \"\"}}, \"marker\": {\"colorbar\": {\"outlinewidth\": 0, \"ticks\": \"\"}}, \"type\": \"scatter3d\"}], \"scattercarpet\": [{\"marker\": {\"colorbar\": {\"outlinewidth\": 0, \"ticks\": \"\"}}, \"type\": \"scattercarpet\"}], \"scattergeo\": [{\"marker\": {\"colorbar\": {\"outlinewidth\": 0, \"ticks\": \"\"}}, \"type\": \"scattergeo\"}], \"scattergl\": [{\"marker\": {\"colorbar\": {\"outlinewidth\": 0, \"ticks\": \"\"}}, \"type\": \"scattergl\"}], \"scattermapbox\": [{\"marker\": {\"colorbar\": {\"outlinewidth\": 0, \"ticks\": \"\"}}, \"type\": \"scattermapbox\"}], \"scatterpolar\": [{\"marker\": {\"colorbar\": {\"outlinewidth\": 0, \"ticks\": \"\"}}, \"type\": \"scatterpolar\"}], \"scatterpolargl\": [{\"marker\": {\"colorbar\": {\"outlinewidth\": 0, \"ticks\": \"\"}}, \"type\": \"scatterpolargl\"}], \"scatterternary\": [{\"marker\": {\"colorbar\": {\"outlinewidth\": 0, \"ticks\": \"\"}}, \"type\": \"scatterternary\"}], \"surface\": [{\"colorbar\": {\"outlinewidth\": 0, \"ticks\": \"\"}, \"colorscale\": [[0.0, \"#0d0887\"], [0.1111111111111111, \"#46039f\"], [0.2222222222222222, \"#7201a8\"], [0.3333333333333333, \"#9c179e\"], [0.4444444444444444, \"#bd3786\"], [0.5555555555555556, \"#d8576b\"], [0.6666666666666666, \"#ed7953\"], [0.7777777777777778, \"#fb9f3a\"], [0.8888888888888888, \"#fdca26\"], [1.0, \"#f0f921\"]], \"type\": \"surface\"}], \"table\": [{\"cells\": {\"fill\": {\"color\": \"#EBF0F8\"}, \"line\": {\"color\": \"white\"}}, \"header\": {\"fill\": {\"color\": \"#C8D4E3\"}, \"line\": {\"color\": \"white\"}}, \"type\": \"table\"}]}, \"layout\": {\"annotationdefaults\": {\"arrowcolor\": \"#2a3f5f\", \"arrowhead\": 0, \"arrowwidth\": 1}, \"coloraxis\": {\"colorbar\": {\"outlinewidth\": 0, \"ticks\": \"\"}}, \"colorscale\": {\"diverging\": [[0, \"#8e0152\"], [0.1, \"#c51b7d\"], [0.2, \"#de77ae\"], [0.3, \"#f1b6da\"], [0.4, \"#fde0ef\"], [0.5, \"#f7f7f7\"], [0.6, \"#e6f5d0\"], [0.7, \"#b8e186\"], [0.8, \"#7fbc41\"], [0.9, \"#4d9221\"], [1, \"#276419\"]], \"sequential\": [[0.0, \"#0d0887\"], [0.1111111111111111, \"#46039f\"], [0.2222222222222222, \"#7201a8\"], [0.3333333333333333, \"#9c179e\"], [0.4444444444444444, \"#bd3786\"], [0.5555555555555556, \"#d8576b\"], [0.6666666666666666, \"#ed7953\"], [0.7777777777777778, \"#fb9f3a\"], [0.8888888888888888, \"#fdca26\"], [1.0, \"#f0f921\"]], \"sequentialminus\": [[0.0, \"#0d0887\"], [0.1111111111111111, \"#46039f\"], [0.2222222222222222, \"#7201a8\"], [0.3333333333333333, \"#9c179e\"], [0.4444444444444444, \"#bd3786\"], [0.5555555555555556, \"#d8576b\"], [0.6666666666666666, \"#ed7953\"], [0.7777777777777778, \"#fb9f3a\"], [0.8888888888888888, \"#fdca26\"], [1.0, \"#f0f921\"]]}, \"colorway\": [\"#636efa\", \"#EF553B\", \"#00cc96\", \"#ab63fa\", \"#FFA15A\", \"#19d3f3\", \"#FF6692\", \"#B6E880\", \"#FF97FF\", \"#FECB52\"], \"font\": {\"color\": \"#2a3f5f\"}, \"geo\": {\"bgcolor\": \"white\", \"lakecolor\": \"white\", \"landcolor\": \"#E5ECF6\", \"showlakes\": true, \"showland\": true, \"subunitcolor\": \"white\"}, \"hoverlabel\": {\"align\": \"left\"}, \"hovermode\": \"closest\", \"mapbox\": {\"style\": \"light\"}, \"paper_bgcolor\": \"white\", \"plot_bgcolor\": \"#E5ECF6\", \"polar\": {\"angularaxis\": {\"gridcolor\": \"white\", \"linecolor\": \"white\", \"ticks\": \"\"}, \"bgcolor\": \"#E5ECF6\", \"radialaxis\": {\"gridcolor\": \"white\", \"linecolor\": \"white\", \"ticks\": \"\"}}, \"scene\": {\"xaxis\": {\"backgroundcolor\": \"#E5ECF6\", \"gridcolor\": \"white\", \"gridwidth\": 2, \"linecolor\": \"white\", \"showbackground\": true, \"ticks\": \"\", \"zerolinecolor\": \"white\"}, \"yaxis\": {\"backgroundcolor\": \"#E5ECF6\", \"gridcolor\": \"white\", \"gridwidth\": 2, \"linecolor\": \"white\", \"showbackground\": true, \"ticks\": \"\", \"zerolinecolor\": \"white\"}, \"zaxis\": {\"backgroundcolor\": \"#E5ECF6\", \"gridcolor\": \"white\", \"gridwidth\": 2, \"linecolor\": \"white\", \"showbackground\": true, \"ticks\": \"\", \"zerolinecolor\": \"white\"}}, \"shapedefaults\": {\"line\": {\"color\": \"#2a3f5f\"}}, \"ternary\": {\"aaxis\": {\"gridcolor\": \"white\", \"linecolor\": \"white\", \"ticks\": \"\"}, \"baxis\": {\"gridcolor\": \"white\", \"linecolor\": \"white\", \"ticks\": \"\"}, \"bgcolor\": \"#E5ECF6\", \"caxis\": {\"gridcolor\": \"white\", \"linecolor\": \"white\", \"ticks\": \"\"}}, \"title\": {\"x\": 0.05}, \"xaxis\": {\"automargin\": true, \"gridcolor\": \"white\", \"linecolor\": \"white\", \"ticks\": \"\", \"title\": {\"standoff\": 15}, \"zerolinecolor\": \"white\", \"zerolinewidth\": 2}, \"yaxis\": {\"automargin\": true, \"gridcolor\": \"white\", \"linecolor\": \"white\", \"ticks\": \"\", \"title\": {\"standoff\": 15}, \"zerolinecolor\": \"white\", \"zerolinewidth\": 2}}}, \"title\": {\"text\": \"Hyperparameter Importances\"}, \"xaxis\": {\"title\": {\"text\": \"Importance for duration\"}}, \"yaxis\": {\"title\": {\"text\": \"Hyperparameter\"}}},\n",
              "                        {\"responsive\": true}\n",
              "                    ).then(function(){\n",
              "                            \n",
              "var gd = document.getElementById('dae4a305-801d-40b8-9b9b-201d58429dc4');\n",
              "var x = new MutationObserver(function (mutations, observer) {{\n",
              "        var display = window.getComputedStyle(gd).display;\n",
              "        if (!display || display === 'none') {{\n",
              "            console.log([gd, 'removed!']);\n",
              "            Plotly.purge(gd);\n",
              "            observer.disconnect();\n",
              "        }}\n",
              "}});\n",
              "\n",
              "// Listen for the removal of the full notebook cells\n",
              "var notebookContainer = gd.closest('#notebook-container');\n",
              "if (notebookContainer) {{\n",
              "    x.observe(notebookContainer, {childList: true});\n",
              "}}\n",
              "\n",
              "// Listen for the clearing of the current output cell\n",
              "var outputEl = gd.closest('.output');\n",
              "if (outputEl) {{\n",
              "    x.observe(outputEl, {childList: true});\n",
              "}}\n",
              "\n",
              "                        })\n",
              "                };\n",
              "                \n",
              "            </script>\n",
              "        </div>\n",
              "</body>\n",
              "</html>"
            ]
          },
          "metadata": {
            "tags": []
          }
        }
      ]
    },
    {
      "cell_type": "code",
      "metadata": {
        "id": "RHK1H3-GV0Rv",
        "colab": {
          "base_uri": "https://localhost:8080/",
          "height": 542
        },
        "outputId": "892f3ca0-2a36-4a38-bc41-5d49f96cfb75"
      },
      "source": [
        "plot_edf(study) \n"
      ],
      "execution_count": null,
      "outputs": [
        {
          "output_type": "display_data",
          "data": {
            "text/html": [
              "<html>\n",
              "<head><meta charset=\"utf-8\" /></head>\n",
              "<body>\n",
              "    <div>\n",
              "            <script src=\"https://cdnjs.cloudflare.com/ajax/libs/mathjax/2.7.5/MathJax.js?config=TeX-AMS-MML_SVG\"></script><script type=\"text/javascript\">if (window.MathJax) {MathJax.Hub.Config({SVG: {font: \"STIX-Web\"}});}</script>\n",
              "                <script type=\"text/javascript\">window.PlotlyConfig = {MathJaxConfig: 'local'};</script>\n",
              "        <script src=\"https://cdn.plot.ly/plotly-latest.min.js\"></script>    \n",
              "            <div id=\"f5aea7ca-ef53-41cb-91a8-51190a7562ff\" class=\"plotly-graph-div\" style=\"height:525px; width:100%;\"></div>\n",
              "            <script type=\"text/javascript\">\n",
              "                \n",
              "                    window.PLOTLYENV=window.PLOTLYENV || {};\n",
              "                    \n",
              "                if (document.getElementById(\"f5aea7ca-ef53-41cb-91a8-51190a7562ff\")) {\n",
              "                    Plotly.newPlot(\n",
              "                        'f5aea7ca-ef53-41cb-91a8-51190a7562ff',\n",
              "                        [{\"mode\": \"lines\", \"name\": \"no-name-b4805815-89c0-442e-87bc-9372dde87406\", \"type\": \"scatter\", \"x\": [0.93125, 0.9313409090909092, 0.9314318181818182, 0.9315227272727273, 0.9316136363636364, 0.9317045454545455, 0.9317954545454545, 0.9318863636363637, 0.9319772727272727, 0.9320681818181819, 0.9321590909090909, 0.93225, 0.9323409090909092, 0.9324318181818182, 0.9325227272727273, 0.9326136363636364, 0.9327045454545455, 0.9327954545454545, 0.9328863636363637, 0.9329772727272727, 0.9330681818181819, 0.9331590909090909, 0.93325, 0.9333409090909092, 0.9334318181818182, 0.9335227272727273, 0.9336136363636364, 0.9337045454545455, 0.9337954545454545, 0.9338863636363637, 0.9339772727272727, 0.9340681818181819, 0.9341590909090909, 0.93425, 0.9343409090909092, 0.9344318181818182, 0.9345227272727273, 0.9346136363636364, 0.9347045454545455, 0.9347954545454545, 0.9348863636363637, 0.9349772727272727, 0.9350681818181819, 0.9351590909090909, 0.93525, 0.9353409090909092, 0.9354318181818182, 0.9355227272727273, 0.9356136363636364, 0.9357045454545455, 0.9357954545454545, 0.9358863636363637, 0.9359772727272727, 0.9360681818181819, 0.9361590909090909, 0.93625, 0.9363409090909092, 0.9364318181818182, 0.9365227272727273, 0.9366136363636364, 0.9367045454545455, 0.9367954545454545, 0.9368863636363637, 0.9369772727272727, 0.9370681818181819, 0.9371590909090909, 0.93725, 0.9373409090909092, 0.9374318181818182, 0.9375227272727273, 0.9376136363636364, 0.9377045454545455, 0.9377954545454545, 0.9378863636363637, 0.9379772727272727, 0.9380681818181819, 0.9381590909090909, 0.93825, 0.9383409090909092, 0.9384318181818182, 0.9385227272727273, 0.9386136363636364, 0.9387045454545455, 0.9387954545454545, 0.9388863636363637, 0.9389772727272727, 0.9390681818181819, 0.9391590909090909, 0.93925, 0.9393409090909092, 0.9394318181818182, 0.9395227272727273, 0.9396136363636364, 0.9397045454545455, 0.9397954545454545, 0.9398863636363637, 0.9399772727272727, 0.9400681818181819, 0.9401590909090909, 0.94025], \"y\": [0.01, 0.01, 0.01, 0.01, 0.01, 0.01, 0.01, 0.01, 0.01, 0.01, 0.01, 0.02, 0.02, 0.02, 0.03, 0.03, 0.03, 0.03, 0.03, 0.03, 0.05, 0.05, 0.06, 0.06, 0.06, 0.07, 0.07, 0.07, 0.08, 0.08, 0.08, 0.09, 0.09, 0.09, 0.09, 0.09, 0.11, 0.11, 0.11, 0.14, 0.14, 0.14, 0.16, 0.16, 0.18, 0.18, 0.18, 0.23, 0.23, 0.23, 0.29, 0.29, 0.29, 0.29, 0.29, 0.34, 0.34, 0.34, 0.38, 0.38, 0.38, 0.4, 0.4, 0.4, 0.47, 0.47, 0.5, 0.5, 0.5, 0.54, 0.54, 0.54, 0.57, 0.57, 0.57, 0.61, 0.61, 0.63, 0.63, 0.63, 0.66, 0.66, 0.66, 0.75, 0.75, 0.75, 0.82, 0.82, 0.88, 0.88, 0.88, 0.93, 0.93, 0.93, 0.95, 0.95, 0.95, 0.99, 0.99, 1.0]}],\n",
              "                        {\"template\": {\"data\": {\"bar\": [{\"error_x\": {\"color\": \"#2a3f5f\"}, \"error_y\": {\"color\": \"#2a3f5f\"}, \"marker\": {\"line\": {\"color\": \"#E5ECF6\", \"width\": 0.5}}, \"type\": \"bar\"}], \"barpolar\": [{\"marker\": {\"line\": {\"color\": \"#E5ECF6\", \"width\": 0.5}}, \"type\": \"barpolar\"}], \"carpet\": [{\"aaxis\": {\"endlinecolor\": \"#2a3f5f\", \"gridcolor\": \"white\", \"linecolor\": \"white\", \"minorgridcolor\": \"white\", \"startlinecolor\": \"#2a3f5f\"}, \"baxis\": {\"endlinecolor\": \"#2a3f5f\", \"gridcolor\": \"white\", \"linecolor\": \"white\", \"minorgridcolor\": \"white\", \"startlinecolor\": \"#2a3f5f\"}, \"type\": \"carpet\"}], \"choropleth\": [{\"colorbar\": {\"outlinewidth\": 0, \"ticks\": \"\"}, \"type\": \"choropleth\"}], \"contour\": [{\"colorbar\": {\"outlinewidth\": 0, \"ticks\": \"\"}, \"colorscale\": [[0.0, \"#0d0887\"], [0.1111111111111111, \"#46039f\"], [0.2222222222222222, \"#7201a8\"], [0.3333333333333333, \"#9c179e\"], [0.4444444444444444, \"#bd3786\"], [0.5555555555555556, \"#d8576b\"], [0.6666666666666666, \"#ed7953\"], [0.7777777777777778, \"#fb9f3a\"], [0.8888888888888888, \"#fdca26\"], [1.0, \"#f0f921\"]], \"type\": \"contour\"}], \"contourcarpet\": [{\"colorbar\": {\"outlinewidth\": 0, \"ticks\": \"\"}, \"type\": \"contourcarpet\"}], \"heatmap\": [{\"colorbar\": {\"outlinewidth\": 0, \"ticks\": \"\"}, \"colorscale\": [[0.0, \"#0d0887\"], [0.1111111111111111, \"#46039f\"], [0.2222222222222222, \"#7201a8\"], [0.3333333333333333, \"#9c179e\"], [0.4444444444444444, \"#bd3786\"], [0.5555555555555556, \"#d8576b\"], [0.6666666666666666, \"#ed7953\"], [0.7777777777777778, \"#fb9f3a\"], [0.8888888888888888, \"#fdca26\"], [1.0, \"#f0f921\"]], \"type\": \"heatmap\"}], \"heatmapgl\": [{\"colorbar\": {\"outlinewidth\": 0, \"ticks\": \"\"}, \"colorscale\": [[0.0, \"#0d0887\"], [0.1111111111111111, \"#46039f\"], [0.2222222222222222, \"#7201a8\"], [0.3333333333333333, \"#9c179e\"], [0.4444444444444444, \"#bd3786\"], [0.5555555555555556, \"#d8576b\"], [0.6666666666666666, \"#ed7953\"], [0.7777777777777778, \"#fb9f3a\"], [0.8888888888888888, \"#fdca26\"], [1.0, \"#f0f921\"]], \"type\": \"heatmapgl\"}], \"histogram\": [{\"marker\": {\"colorbar\": {\"outlinewidth\": 0, \"ticks\": \"\"}}, \"type\": \"histogram\"}], \"histogram2d\": [{\"colorbar\": {\"outlinewidth\": 0, \"ticks\": \"\"}, \"colorscale\": [[0.0, \"#0d0887\"], [0.1111111111111111, \"#46039f\"], [0.2222222222222222, \"#7201a8\"], [0.3333333333333333, \"#9c179e\"], [0.4444444444444444, \"#bd3786\"], [0.5555555555555556, \"#d8576b\"], [0.6666666666666666, \"#ed7953\"], [0.7777777777777778, \"#fb9f3a\"], [0.8888888888888888, \"#fdca26\"], [1.0, \"#f0f921\"]], \"type\": \"histogram2d\"}], \"histogram2dcontour\": [{\"colorbar\": {\"outlinewidth\": 0, \"ticks\": \"\"}, \"colorscale\": [[0.0, \"#0d0887\"], [0.1111111111111111, \"#46039f\"], [0.2222222222222222, \"#7201a8\"], [0.3333333333333333, \"#9c179e\"], [0.4444444444444444, \"#bd3786\"], [0.5555555555555556, \"#d8576b\"], [0.6666666666666666, \"#ed7953\"], [0.7777777777777778, \"#fb9f3a\"], [0.8888888888888888, \"#fdca26\"], [1.0, \"#f0f921\"]], \"type\": \"histogram2dcontour\"}], \"mesh3d\": [{\"colorbar\": {\"outlinewidth\": 0, \"ticks\": \"\"}, \"type\": \"mesh3d\"}], \"parcoords\": [{\"line\": {\"colorbar\": {\"outlinewidth\": 0, \"ticks\": \"\"}}, \"type\": \"parcoords\"}], \"pie\": [{\"automargin\": true, \"type\": \"pie\"}], \"scatter\": [{\"marker\": {\"colorbar\": {\"outlinewidth\": 0, \"ticks\": \"\"}}, \"type\": \"scatter\"}], \"scatter3d\": [{\"line\": {\"colorbar\": {\"outlinewidth\": 0, \"ticks\": \"\"}}, \"marker\": {\"colorbar\": {\"outlinewidth\": 0, \"ticks\": \"\"}}, \"type\": \"scatter3d\"}], \"scattercarpet\": [{\"marker\": {\"colorbar\": {\"outlinewidth\": 0, \"ticks\": \"\"}}, \"type\": \"scattercarpet\"}], \"scattergeo\": [{\"marker\": {\"colorbar\": {\"outlinewidth\": 0, \"ticks\": \"\"}}, \"type\": \"scattergeo\"}], \"scattergl\": [{\"marker\": {\"colorbar\": {\"outlinewidth\": 0, \"ticks\": \"\"}}, \"type\": \"scattergl\"}], \"scattermapbox\": [{\"marker\": {\"colorbar\": {\"outlinewidth\": 0, \"ticks\": \"\"}}, \"type\": \"scattermapbox\"}], \"scatterpolar\": [{\"marker\": {\"colorbar\": {\"outlinewidth\": 0, \"ticks\": \"\"}}, \"type\": \"scatterpolar\"}], \"scatterpolargl\": [{\"marker\": {\"colorbar\": {\"outlinewidth\": 0, \"ticks\": \"\"}}, \"type\": \"scatterpolargl\"}], \"scatterternary\": [{\"marker\": {\"colorbar\": {\"outlinewidth\": 0, \"ticks\": \"\"}}, \"type\": \"scatterternary\"}], \"surface\": [{\"colorbar\": {\"outlinewidth\": 0, \"ticks\": \"\"}, \"colorscale\": [[0.0, \"#0d0887\"], [0.1111111111111111, \"#46039f\"], [0.2222222222222222, \"#7201a8\"], [0.3333333333333333, \"#9c179e\"], [0.4444444444444444, \"#bd3786\"], [0.5555555555555556, \"#d8576b\"], [0.6666666666666666, \"#ed7953\"], [0.7777777777777778, \"#fb9f3a\"], [0.8888888888888888, \"#fdca26\"], [1.0, \"#f0f921\"]], \"type\": \"surface\"}], \"table\": [{\"cells\": {\"fill\": {\"color\": \"#EBF0F8\"}, \"line\": {\"color\": \"white\"}}, \"header\": {\"fill\": {\"color\": \"#C8D4E3\"}, \"line\": {\"color\": \"white\"}}, \"type\": \"table\"}]}, \"layout\": {\"annotationdefaults\": {\"arrowcolor\": \"#2a3f5f\", \"arrowhead\": 0, \"arrowwidth\": 1}, \"coloraxis\": {\"colorbar\": {\"outlinewidth\": 0, \"ticks\": \"\"}}, \"colorscale\": {\"diverging\": [[0, \"#8e0152\"], [0.1, \"#c51b7d\"], [0.2, \"#de77ae\"], [0.3, \"#f1b6da\"], [0.4, \"#fde0ef\"], [0.5, \"#f7f7f7\"], [0.6, \"#e6f5d0\"], [0.7, \"#b8e186\"], [0.8, \"#7fbc41\"], [0.9, \"#4d9221\"], [1, \"#276419\"]], \"sequential\": [[0.0, \"#0d0887\"], [0.1111111111111111, \"#46039f\"], [0.2222222222222222, \"#7201a8\"], [0.3333333333333333, \"#9c179e\"], [0.4444444444444444, \"#bd3786\"], [0.5555555555555556, \"#d8576b\"], [0.6666666666666666, \"#ed7953\"], [0.7777777777777778, \"#fb9f3a\"], [0.8888888888888888, \"#fdca26\"], [1.0, \"#f0f921\"]], \"sequentialminus\": [[0.0, \"#0d0887\"], [0.1111111111111111, \"#46039f\"], [0.2222222222222222, \"#7201a8\"], [0.3333333333333333, \"#9c179e\"], [0.4444444444444444, \"#bd3786\"], [0.5555555555555556, \"#d8576b\"], [0.6666666666666666, \"#ed7953\"], [0.7777777777777778, \"#fb9f3a\"], [0.8888888888888888, \"#fdca26\"], [1.0, \"#f0f921\"]]}, \"colorway\": [\"#636efa\", \"#EF553B\", \"#00cc96\", \"#ab63fa\", \"#FFA15A\", \"#19d3f3\", \"#FF6692\", \"#B6E880\", \"#FF97FF\", \"#FECB52\"], \"font\": {\"color\": \"#2a3f5f\"}, \"geo\": {\"bgcolor\": \"white\", \"lakecolor\": \"white\", \"landcolor\": \"#E5ECF6\", \"showlakes\": true, \"showland\": true, \"subunitcolor\": \"white\"}, \"hoverlabel\": {\"align\": \"left\"}, \"hovermode\": \"closest\", \"mapbox\": {\"style\": \"light\"}, \"paper_bgcolor\": \"white\", \"plot_bgcolor\": \"#E5ECF6\", \"polar\": {\"angularaxis\": {\"gridcolor\": \"white\", \"linecolor\": \"white\", \"ticks\": \"\"}, \"bgcolor\": \"#E5ECF6\", \"radialaxis\": {\"gridcolor\": \"white\", \"linecolor\": \"white\", \"ticks\": \"\"}}, \"scene\": {\"xaxis\": {\"backgroundcolor\": \"#E5ECF6\", \"gridcolor\": \"white\", \"gridwidth\": 2, \"linecolor\": \"white\", \"showbackground\": true, \"ticks\": \"\", \"zerolinecolor\": \"white\"}, \"yaxis\": {\"backgroundcolor\": \"#E5ECF6\", \"gridcolor\": \"white\", \"gridwidth\": 2, \"linecolor\": \"white\", \"showbackground\": true, \"ticks\": \"\", \"zerolinecolor\": \"white\"}, \"zaxis\": {\"backgroundcolor\": \"#E5ECF6\", \"gridcolor\": \"white\", \"gridwidth\": 2, \"linecolor\": \"white\", \"showbackground\": true, \"ticks\": \"\", \"zerolinecolor\": \"white\"}}, \"shapedefaults\": {\"line\": {\"color\": \"#2a3f5f\"}}, \"ternary\": {\"aaxis\": {\"gridcolor\": \"white\", \"linecolor\": \"white\", \"ticks\": \"\"}, \"baxis\": {\"gridcolor\": \"white\", \"linecolor\": \"white\", \"ticks\": \"\"}, \"bgcolor\": \"#E5ECF6\", \"caxis\": {\"gridcolor\": \"white\", \"linecolor\": \"white\", \"ticks\": \"\"}}, \"title\": {\"x\": 0.05}, \"xaxis\": {\"automargin\": true, \"gridcolor\": \"white\", \"linecolor\": \"white\", \"ticks\": \"\", \"title\": {\"standoff\": 15}, \"zerolinecolor\": \"white\", \"zerolinewidth\": 2}, \"yaxis\": {\"automargin\": true, \"gridcolor\": \"white\", \"linecolor\": \"white\", \"ticks\": \"\", \"title\": {\"standoff\": 15}, \"zerolinecolor\": \"white\", \"zerolinewidth\": 2}}}, \"title\": {\"text\": \"Empirical Distribution Function Plot\"}, \"xaxis\": {\"title\": {\"text\": \"Objective Value\"}}, \"yaxis\": {\"range\": [0, 1], \"title\": {\"text\": \"Cumulative Probability\"}}},\n",
              "                        {\"responsive\": true}\n",
              "                    ).then(function(){\n",
              "                            \n",
              "var gd = document.getElementById('f5aea7ca-ef53-41cb-91a8-51190a7562ff');\n",
              "var x = new MutationObserver(function (mutations, observer) {{\n",
              "        var display = window.getComputedStyle(gd).display;\n",
              "        if (!display || display === 'none') {{\n",
              "            console.log([gd, 'removed!']);\n",
              "            Plotly.purge(gd);\n",
              "            observer.disconnect();\n",
              "        }}\n",
              "}});\n",
              "\n",
              "// Listen for the removal of the full notebook cells\n",
              "var notebookContainer = gd.closest('#notebook-container');\n",
              "if (notebookContainer) {{\n",
              "    x.observe(notebookContainer, {childList: true});\n",
              "}}\n",
              "\n",
              "// Listen for the clearing of the current output cell\n",
              "var outputEl = gd.closest('.output');\n",
              "if (outputEl) {{\n",
              "    x.observe(outputEl, {childList: true});\n",
              "}}\n",
              "\n",
              "                        })\n",
              "                };\n",
              "                \n",
              "            </script>\n",
              "        </div>\n",
              "</body>\n",
              "</html>"
            ]
          },
          "metadata": {
            "tags": []
          }
        }
      ]
    }
  ]
}